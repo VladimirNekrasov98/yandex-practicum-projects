{
 "cells": [
  {
   "cell_type": "markdown",
   "metadata": {
    "toc": true
   },
   "source": [
    "<h1>Содержание<span class=\"tocSkip\"></span></h1>\n",
    "<div class=\"toc\"><ul class=\"toc-item\"><li><span><a href=\"#Загрузка-данных\" data-toc-modified-id=\"Загрузка-данных-1\"><span class=\"toc-item-num\">1&nbsp;&nbsp;</span>Загрузка данных</a></span><ul class=\"toc-item\"><li><span><a href=\"#Вывод\" data-toc-modified-id=\"Вывод-1.1\"><span class=\"toc-item-num\">1.1&nbsp;&nbsp;</span><strong>Вывод</strong></a></span></li></ul></li><li><span><a href=\"#Умножение-матриц\" data-toc-modified-id=\"Умножение-матриц-2\"><span class=\"toc-item-num\">2&nbsp;&nbsp;</span>Умножение матриц</a></span><ul class=\"toc-item\"><li><span><a href=\"#Вывод\" data-toc-modified-id=\"Вывод-2.1\"><span class=\"toc-item-num\">2.1&nbsp;&nbsp;</span><strong>Вывод</strong></a></span></li></ul></li><li><span><a href=\"#Алгоритм-преобразования\" data-toc-modified-id=\"Алгоритм-преобразования-3\"><span class=\"toc-item-num\">3&nbsp;&nbsp;</span>Алгоритм преобразования</a></span><ul class=\"toc-item\"><li><span><a href=\"#Вывод\" data-toc-modified-id=\"Вывод-3.1\"><span class=\"toc-item-num\">3.1&nbsp;&nbsp;</span><strong>Вывод</strong></a></span></li></ul></li><li><span><a href=\"#Проверка-алгоритма\" data-toc-modified-id=\"Проверка-алгоритма-4\"><span class=\"toc-item-num\">4&nbsp;&nbsp;</span>Проверка алгоритма</a></span><ul class=\"toc-item\"><li><span><a href=\"#Вывод\" data-toc-modified-id=\"Вывод-4.1\"><span class=\"toc-item-num\">4.1&nbsp;&nbsp;</span><strong>Вывод</strong></a></span></li></ul></li><li><span><a href=\"#Вывод\" data-toc-modified-id=\"Вывод-5\"><span class=\"toc-item-num\">5&nbsp;&nbsp;</span><strong>Вывод</strong></a></span></li><li><span><a href=\"#Чек-лист-проверки\" data-toc-modified-id=\"Чек-лист-проверки-6\"><span class=\"toc-item-num\">6&nbsp;&nbsp;</span>Чек-лист проверки</a></span></li></ul></div>"
   ]
  },
  {
   "cell_type": "markdown",
   "metadata": {},
   "source": [
    "# Защита персональных данных клиентов"
   ]
  },
  {
   "cell_type": "markdown",
   "metadata": {},
   "source": [
    "Вам нужно защитить данные клиентов страховой компании «Хоть потоп». Разработайте такой метод преобразования данных, чтобы по ним было сложно восстановить персональную информацию. Обоснуйте корректность его работы.\n",
    "\n",
    "Нужно защитить данные, чтобы при преобразовании качество моделей машинного обучения не ухудшилось. Подбирать наилучшую модель не требуется."
   ]
  },
  {
   "cell_type": "markdown",
   "metadata": {},
   "source": [
    "## Загрузка данных"
   ]
  },
  {
   "cell_type": "markdown",
   "metadata": {},
   "source": [
    "Подключаем необходимые библиотеки:"
   ]
  },
  {
   "cell_type": "code",
   "execution_count": 1,
   "metadata": {},
   "outputs": [],
   "source": [
    "import warnings\n",
    "\n",
    "import pandas as pd\n",
    "import numpy as np\n",
    "from sklearn.linear_model import LinearRegression\n",
    "from sklearn.model_selection import train_test_split, cross_val_score\n",
    "from sklearn.preprocessing import StandardScaler\n",
    "from sklearn.pipeline import Pipeline"
   ]
  },
  {
   "cell_type": "code",
   "execution_count": 2,
   "metadata": {},
   "outputs": [],
   "source": [
    "warnings.filterwarnings('ignore') # игнорируем предупреждения"
   ]
  },
  {
   "cell_type": "markdown",
   "metadata": {},
   "source": [
    "Считываем данные из файла:"
   ]
  },
  {
   "cell_type": "code",
   "execution_count": 3,
   "metadata": {},
   "outputs": [],
   "source": [
    "df = pd.read_csv('https://code.s3.yandex.net/datasets/insurance.csv')"
   ]
  },
  {
   "cell_type": "markdown",
   "metadata": {},
   "source": [
    "Общая информация о датафрейме, статистические метрики и гистограммы распределений:"
   ]
  },
  {
   "cell_type": "code",
   "execution_count": 4,
   "metadata": {},
   "outputs": [
    {
     "name": "stdout",
     "output_type": "stream",
     "text": [
      "<class 'pandas.core.frame.DataFrame'>\n",
      "RangeIndex: 5000 entries, 0 to 4999\n",
      "Data columns (total 5 columns):\n",
      " #   Column             Non-Null Count  Dtype  \n",
      "---  ------             --------------  -----  \n",
      " 0   Пол                5000 non-null   int64  \n",
      " 1   Возраст            5000 non-null   float64\n",
      " 2   Зарплата           5000 non-null   float64\n",
      " 3   Члены семьи        5000 non-null   int64  \n",
      " 4   Страховые выплаты  5000 non-null   int64  \n",
      "dtypes: float64(2), int64(3)\n",
      "memory usage: 195.4 KB\n"
     ]
    }
   ],
   "source": [
    "df.info()"
   ]
  },
  {
   "cell_type": "code",
   "execution_count": 5,
   "metadata": {},
   "outputs": [
    {
     "data": {
      "text/html": [
       "<div>\n",
       "<style scoped>\n",
       "    .dataframe tbody tr th:only-of-type {\n",
       "        vertical-align: middle;\n",
       "    }\n",
       "\n",
       "    .dataframe tbody tr th {\n",
       "        vertical-align: top;\n",
       "    }\n",
       "\n",
       "    .dataframe thead th {\n",
       "        text-align: right;\n",
       "    }\n",
       "</style>\n",
       "<table border=\"1\" class=\"dataframe\">\n",
       "  <thead>\n",
       "    <tr style=\"text-align: right;\">\n",
       "      <th></th>\n",
       "      <th>Пол</th>\n",
       "      <th>Возраст</th>\n",
       "      <th>Зарплата</th>\n",
       "      <th>Члены семьи</th>\n",
       "      <th>Страховые выплаты</th>\n",
       "    </tr>\n",
       "  </thead>\n",
       "  <tbody>\n",
       "    <tr>\n",
       "      <th>count</th>\n",
       "      <td>5000.000000</td>\n",
       "      <td>5000.000000</td>\n",
       "      <td>5000.000000</td>\n",
       "      <td>5000.000000</td>\n",
       "      <td>5000.000000</td>\n",
       "    </tr>\n",
       "    <tr>\n",
       "      <th>mean</th>\n",
       "      <td>0.499000</td>\n",
       "      <td>30.952800</td>\n",
       "      <td>39916.360000</td>\n",
       "      <td>1.194200</td>\n",
       "      <td>0.148000</td>\n",
       "    </tr>\n",
       "    <tr>\n",
       "      <th>std</th>\n",
       "      <td>0.500049</td>\n",
       "      <td>8.440807</td>\n",
       "      <td>9900.083569</td>\n",
       "      <td>1.091387</td>\n",
       "      <td>0.463183</td>\n",
       "    </tr>\n",
       "    <tr>\n",
       "      <th>min</th>\n",
       "      <td>0.000000</td>\n",
       "      <td>18.000000</td>\n",
       "      <td>5300.000000</td>\n",
       "      <td>0.000000</td>\n",
       "      <td>0.000000</td>\n",
       "    </tr>\n",
       "    <tr>\n",
       "      <th>25%</th>\n",
       "      <td>0.000000</td>\n",
       "      <td>24.000000</td>\n",
       "      <td>33300.000000</td>\n",
       "      <td>0.000000</td>\n",
       "      <td>0.000000</td>\n",
       "    </tr>\n",
       "    <tr>\n",
       "      <th>50%</th>\n",
       "      <td>0.000000</td>\n",
       "      <td>30.000000</td>\n",
       "      <td>40200.000000</td>\n",
       "      <td>1.000000</td>\n",
       "      <td>0.000000</td>\n",
       "    </tr>\n",
       "    <tr>\n",
       "      <th>75%</th>\n",
       "      <td>1.000000</td>\n",
       "      <td>37.000000</td>\n",
       "      <td>46600.000000</td>\n",
       "      <td>2.000000</td>\n",
       "      <td>0.000000</td>\n",
       "    </tr>\n",
       "    <tr>\n",
       "      <th>max</th>\n",
       "      <td>1.000000</td>\n",
       "      <td>65.000000</td>\n",
       "      <td>79000.000000</td>\n",
       "      <td>6.000000</td>\n",
       "      <td>5.000000</td>\n",
       "    </tr>\n",
       "  </tbody>\n",
       "</table>\n",
       "</div>"
      ],
      "text/plain": [
       "               Пол      Возраст      Зарплата  Члены семьи  Страховые выплаты\n",
       "count  5000.000000  5000.000000   5000.000000  5000.000000        5000.000000\n",
       "mean      0.499000    30.952800  39916.360000     1.194200           0.148000\n",
       "std       0.500049     8.440807   9900.083569     1.091387           0.463183\n",
       "min       0.000000    18.000000   5300.000000     0.000000           0.000000\n",
       "25%       0.000000    24.000000  33300.000000     0.000000           0.000000\n",
       "50%       0.000000    30.000000  40200.000000     1.000000           0.000000\n",
       "75%       1.000000    37.000000  46600.000000     2.000000           0.000000\n",
       "max       1.000000    65.000000  79000.000000     6.000000           5.000000"
      ]
     },
     "execution_count": 5,
     "metadata": {},
     "output_type": "execute_result"
    }
   ],
   "source": [
    "df.describe()"
   ]
  },
  {
   "cell_type": "code",
   "execution_count": 6,
   "metadata": {},
   "outputs": [
    {
     "data": {
      "image/png": "[encoded data removed]",
      "text/plain": [
       "<Figure size 1080x720 with 6 Axes>"
      ]
     },
     "metadata": {
      "needs_background": "light"
     },
     "output_type": "display_data"
    }
   ],
   "source": [
    "df.hist(bins=100, figsize=(15,10));"
   ]
  },
  {
   "cell_type": "markdown",
   "metadata": {},
   "source": [
    "Поскольку пропусков в данных нет, следует проверить наличие в них полных дубликатов(параметр keep=False выводит оригиналы + дубликаты):"
   ]
  },
  {
   "cell_type": "code",
   "execution_count": 7,
   "metadata": {},
   "outputs": [
    {
     "data": {
      "text/html": [
       "<div>\n",
       "<style scoped>\n",
       "    .dataframe tbody tr th:only-of-type {\n",
       "        vertical-align: middle;\n",
       "    }\n",
       "\n",
       "    .dataframe tbody tr th {\n",
       "        vertical-align: top;\n",
       "    }\n",
       "\n",
       "    .dataframe thead th {\n",
       "        text-align: right;\n",
       "    }\n",
       "</style>\n",
       "<table border=\"1\" class=\"dataframe\">\n",
       "  <thead>\n",
       "    <tr style=\"text-align: right;\">\n",
       "      <th></th>\n",
       "      <th>Пол</th>\n",
       "      <th>Возраст</th>\n",
       "      <th>Зарплата</th>\n",
       "      <th>Члены семьи</th>\n",
       "      <th>Страховые выплаты</th>\n",
       "    </tr>\n",
       "  </thead>\n",
       "  <tbody>\n",
       "    <tr>\n",
       "      <th>1566</th>\n",
       "      <td>1</td>\n",
       "      <td>18.0</td>\n",
       "      <td>39800.0</td>\n",
       "      <td>2</td>\n",
       "      <td>0</td>\n",
       "    </tr>\n",
       "    <tr>\n",
       "      <th>2429</th>\n",
       "      <td>1</td>\n",
       "      <td>18.0</td>\n",
       "      <td>39800.0</td>\n",
       "      <td>2</td>\n",
       "      <td>0</td>\n",
       "    </tr>\n",
       "    <tr>\n",
       "      <th>4053</th>\n",
       "      <td>1</td>\n",
       "      <td>19.0</td>\n",
       "      <td>31700.0</td>\n",
       "      <td>1</td>\n",
       "      <td>0</td>\n",
       "    </tr>\n",
       "    <tr>\n",
       "      <th>4726</th>\n",
       "      <td>1</td>\n",
       "      <td>19.0</td>\n",
       "      <td>31700.0</td>\n",
       "      <td>1</td>\n",
       "      <td>0</td>\n",
       "    </tr>\n",
       "    <tr>\n",
       "      <th>1336</th>\n",
       "      <td>1</td>\n",
       "      <td>19.0</td>\n",
       "      <td>32700.0</td>\n",
       "      <td>0</td>\n",
       "      <td>0</td>\n",
       "    </tr>\n",
       "    <tr>\n",
       "      <th>...</th>\n",
       "      <td>...</td>\n",
       "      <td>...</td>\n",
       "      <td>...</td>\n",
       "      <td>...</td>\n",
       "      <td>...</td>\n",
       "    </tr>\n",
       "    <tr>\n",
       "      <th>3365</th>\n",
       "      <td>1</td>\n",
       "      <td>41.0</td>\n",
       "      <td>47100.0</td>\n",
       "      <td>1</td>\n",
       "      <td>0</td>\n",
       "    </tr>\n",
       "    <tr>\n",
       "      <th>176</th>\n",
       "      <td>1</td>\n",
       "      <td>41.0</td>\n",
       "      <td>48900.0</td>\n",
       "      <td>0</td>\n",
       "      <td>0</td>\n",
       "    </tr>\n",
       "    <tr>\n",
       "      <th>3923</th>\n",
       "      <td>1</td>\n",
       "      <td>41.0</td>\n",
       "      <td>48900.0</td>\n",
       "      <td>0</td>\n",
       "      <td>0</td>\n",
       "    </tr>\n",
       "    <tr>\n",
       "      <th>361</th>\n",
       "      <td>0</td>\n",
       "      <td>50.0</td>\n",
       "      <td>24700.0</td>\n",
       "      <td>1</td>\n",
       "      <td>2</td>\n",
       "    </tr>\n",
       "    <tr>\n",
       "      <th>2869</th>\n",
       "      <td>0</td>\n",
       "      <td>50.0</td>\n",
       "      <td>24700.0</td>\n",
       "      <td>1</td>\n",
       "      <td>2</td>\n",
       "    </tr>\n",
       "  </tbody>\n",
       "</table>\n",
       "<p>300 rows × 5 columns</p>\n",
       "</div>"
      ],
      "text/plain": [
       "      Пол  Возраст  Зарплата  Члены семьи  Страховые выплаты\n",
       "1566    1     18.0   39800.0            2                  0\n",
       "2429    1     18.0   39800.0            2                  0\n",
       "4053    1     19.0   31700.0            1                  0\n",
       "4726    1     19.0   31700.0            1                  0\n",
       "1336    1     19.0   32700.0            0                  0\n",
       "...   ...      ...       ...          ...                ...\n",
       "3365    1     41.0   47100.0            1                  0\n",
       "176     1     41.0   48900.0            0                  0\n",
       "3923    1     41.0   48900.0            0                  0\n",
       "361     0     50.0   24700.0            1                  2\n",
       "2869    0     50.0   24700.0            1                  2\n",
       "\n",
       "[300 rows x 5 columns]"
      ]
     },
     "execution_count": 7,
     "metadata": {},
     "output_type": "execute_result"
    }
   ],
   "source": [
    "df.loc[df.duplicated(keep=False),:].sort_values(by=['Возраст', 'Зарплата'])"
   ]
  },
  {
   "cell_type": "code",
   "execution_count": 8,
   "metadata": {},
   "outputs": [],
   "source": [
    "df = df.drop_duplicates().reset_index(drop=True)"
   ]
  },
  {
   "cell_type": "code",
   "execution_count": 9,
   "metadata": {
    "scrolled": true
   },
   "outputs": [
    {
     "data": {
      "text/html": [
       "<div>\n",
       "<style scoped>\n",
       "    .dataframe tbody tr th:only-of-type {\n",
       "        vertical-align: middle;\n",
       "    }\n",
       "\n",
       "    .dataframe tbody tr th {\n",
       "        vertical-align: top;\n",
       "    }\n",
       "\n",
       "    .dataframe thead th {\n",
       "        text-align: right;\n",
       "    }\n",
       "</style>\n",
       "<table border=\"1\" class=\"dataframe\">\n",
       "  <thead>\n",
       "    <tr style=\"text-align: right;\">\n",
       "      <th></th>\n",
       "      <th>Пол</th>\n",
       "      <th>Возраст</th>\n",
       "      <th>Зарплата</th>\n",
       "      <th>Члены семьи</th>\n",
       "      <th>Страховые выплаты</th>\n",
       "    </tr>\n",
       "  </thead>\n",
       "  <tbody>\n",
       "    <tr>\n",
       "      <th>Пол</th>\n",
       "      <td>1.000000</td>\n",
       "      <td>0.001953</td>\n",
       "      <td>0.015456</td>\n",
       "      <td>-0.007315</td>\n",
       "      <td>0.011565</td>\n",
       "    </tr>\n",
       "    <tr>\n",
       "      <th>Возраст</th>\n",
       "      <td>0.001953</td>\n",
       "      <td>1.000000</td>\n",
       "      <td>-0.017386</td>\n",
       "      <td>-0.009064</td>\n",
       "      <td>0.654964</td>\n",
       "    </tr>\n",
       "    <tr>\n",
       "      <th>Зарплата</th>\n",
       "      <td>0.015456</td>\n",
       "      <td>-0.017386</td>\n",
       "      <td>1.000000</td>\n",
       "      <td>-0.031687</td>\n",
       "      <td>-0.013123</td>\n",
       "    </tr>\n",
       "    <tr>\n",
       "      <th>Члены семьи</th>\n",
       "      <td>-0.007315</td>\n",
       "      <td>-0.009064</td>\n",
       "      <td>-0.031687</td>\n",
       "      <td>1.000000</td>\n",
       "      <td>-0.039303</td>\n",
       "    </tr>\n",
       "    <tr>\n",
       "      <th>Страховые выплаты</th>\n",
       "      <td>0.011565</td>\n",
       "      <td>0.654964</td>\n",
       "      <td>-0.013123</td>\n",
       "      <td>-0.039303</td>\n",
       "      <td>1.000000</td>\n",
       "    </tr>\n",
       "  </tbody>\n",
       "</table>\n",
       "</div>"
      ],
      "text/plain": [
       "                        Пол   Возраст  Зарплата  Члены семьи  \\\n",
       "Пол                1.000000  0.001953  0.015456    -0.007315   \n",
       "Возраст            0.001953  1.000000 -0.017386    -0.009064   \n",
       "Зарплата           0.015456 -0.017386  1.000000    -0.031687   \n",
       "Члены семьи       -0.007315 -0.009064 -0.031687     1.000000   \n",
       "Страховые выплаты  0.011565  0.654964 -0.013123    -0.039303   \n",
       "\n",
       "                   Страховые выплаты  \n",
       "Пол                         0.011565  \n",
       "Возраст                     0.654964  \n",
       "Зарплата                   -0.013123  \n",
       "Члены семьи                -0.039303  \n",
       "Страховые выплаты           1.000000  "
      ]
     },
     "execution_count": 9,
     "metadata": {},
     "output_type": "execute_result"
    }
   ],
   "source": [
    "df.corr()"
   ]
  },
  {
   "cell_type": "code",
   "execution_count": 10,
   "metadata": {},
   "outputs": [
    {
     "data": {
      "image/png": "[encoded data removed]",
      "text/plain": [
       "<Figure size 432x288 with 1 Axes>"
      ]
     },
     "metadata": {
      "needs_background": "light"
     },
     "output_type": "display_data"
    }
   ],
   "source": [
    "df.plot(x='Возраст', y='Страховые выплаты', kind='scatter');"
   ]
  },
  {
   "cell_type": "markdown",
   "metadata": {},
   "source": [
    "### **Вывод**\n",
    "- Данные успешно загружены, в них содержится 5000 строк и 5 столбцов;\n",
    "- Данные в колонках соответствуют указанному в них типу, дополнительные преобразования в данных не требуются;\n",
    "- 153 полных дубликата в данных удалены."
   ]
  },
  {
   "cell_type": "markdown",
   "metadata": {},
   "source": [
    "## Умножение матриц"
   ]
  },
  {
   "cell_type": "markdown",
   "metadata": {},
   "source": [
    "В этом задании вы можете записывать формулы в *Jupyter Notebook.*\n",
    "\n",
    "Чтобы записать формулу внутри текста, окружите её символами доллара \\\\$; если снаружи —  двойными символами \\\\$\\\\$. Эти формулы записываются на языке вёрстки *LaTeX.* \n",
    "\n",
    "Для примера мы записали формулы линейной регрессии. Можете их скопировать и отредактировать, чтобы решить задачу.\n",
    "\n",
    "Работать в *LaTeX* необязательно."
   ]
  },
  {
   "cell_type": "markdown",
   "metadata": {},
   "source": [
    "Обозначения:\n",
    "\n",
    "- $X$ — матрица признаков (нулевой столбец состоит из единиц)\n",
    "\n",
    "- $y$ — вектор целевого признака\n",
    "\n",
    "- $P$ — матрица, на которую умножаются признаки\n",
    "\n",
    "- $w$ — вектор весов линейной регрессии (нулевой элемент равен сдвигу)"
   ]
  },
  {
   "cell_type": "markdown",
   "metadata": {},
   "source": [
    "Предсказания:\n",
    "\n",
    "$$\n",
    "a = Xw\n",
    "$$\n",
    "\n",
    "Задача обучения:\n",
    "\n",
    "$$\n",
    "w = \\arg\\min_w MSE(Xw, y)\n",
    "$$\n",
    "\n",
    "Формула обучения:\n",
    "\n",
    "$$\n",
    "w = (X^T X)^{-1} X^T y\n",
    "$$"
   ]
  },
  {
   "cell_type": "markdown",
   "metadata": {},
   "source": [
    "**Вопрос:** Изменится ли качество линейной регрессии, если признаки умножить на обратимую матрицу?\n",
    "\n",
    "**Ответ:** Не изменится\n",
    "\n",
    "**Обоснование:**\n",
    "У уравнениях проведём замену X -> XP, где P - обратимая квадратная матрица со случайными числами, в которой количество строк и столбцов соответствует количеству столбцов матрицы X.\n",
    "Тогда необходимо убедиться, что при такой замене комплекс $X(X^T X)^{-1} X^T$ не изменится.\n",
    "Для обоснования используем следующие свойства матриц:\n",
    "\n",
    "$$\n",
    "(AB)^T=B^TA^T;\\newline\n",
    "(AB)^{-1}=B^{-1}A^{-1};\\newline\n",
    "AA^{-1}=A^{-1}A=E;\\newline\n",
    "AE=EA=A,\n",
    "$$\n",
    "где E - единичная матрица.\n",
    "\n",
    "С учётом подстановки перепишем:\n",
    "$$\n",
    "XP((XP)^T (XP))^{-1} (XP)^T\n",
    "$$\n",
    "Раскроем выражение в обратной матрице:\n",
    "$$\n",
    "XP(P^TX^TXP)^{-1} (XP)^T;\\newline\n",
    "XPP^{-1}(P^TX^TX)^{-1} P^TX^T;\\newline\n",
    "X E (X^TX)^{-1} (P^T)^{-1}P^T X^T;\\newline\n",
    "X (X^TX)^{-1} E X^T.\n",
    "$$\n",
    "Собирая множители посередине в произведение получаем:\n",
    "$$\n",
    "X(X^T X)^{-1} X^T.\n",
    "$$\n",
    "Что аналогично исходному выражению, содержащему X, значит формула обучения и предсказания не изменятся. ЧТД.\n",
    "\n",
    "Теперь установим связь между параметрами линейной регрессии в исходной задаче и в преобразованной:\n",
    "\n",
    "$$\n",
    "a = X\\omega=XP\\omega_p=a_1;\\newline\n",
    "X^{-1}X\\omega=X^{-1}XP\\omega_p;\\newline\n",
    "\\omega=P\\omega_p;\\newline\n",
    "P^{-1}\\omega=P^{-1}P\\omega_p;\\newline\n",
    "\\omega_p=P^{-1}\\omega.\n",
    "$$\n",
    "\n",
    "Параметры линейной регрессии в исходной задаче и в преобразованной остаются связанными, поскольку умножение на Матрицу Р можно интерпретировать как ряд линейных преобразований со строками и столбцами матрицы А, соответственно эта операция обратима."
   ]
  },
  {
   "cell_type": "markdown",
   "metadata": {},
   "source": [
    "### **Вывод**\n",
    "\n",
    "Доказано, что умножение признаков на обратимую матрицу не меняет качество линейной регрессии."
   ]
  },
  {
   "cell_type": "markdown",
   "metadata": {},
   "source": [
    "## Алгоритм преобразования"
   ]
  },
  {
   "cell_type": "markdown",
   "metadata": {},
   "source": [
    "**Алгоритм**\n",
    "\n",
    "В нашем случае преобразованная матрица должна быть такого же размера, что и исходная, поэтому n=k(матрица преобразования квадратная) с размерами 4x4.\n",
    "Матрицу преобразования создадим средствами **numpy**, она будет представлять из себя матрицу 4x4 со случайными числами из нормального распределения.\n",
    "\n",
    "Этапы алгоритма:\n",
    "\n",
    "1. Составление матрицы B.\n",
    "2. Проверка матрицы B на обратимость. Вычисление детерминанта матрицы .\n",
    "3. Получение матрицы преобразованных признаков Xt = XB."
   ]
  },
  {
   "cell_type": "markdown",
   "metadata": {},
   "source": [
    "**Обоснование**\n",
    "\n",
    "Правило для умножения матриц: \n",
    "$$\n",
    "\\underset{m\\:\\times\\:k}{A}\\cdot\\underset{k\\:\\times\\:n}{B}=\\underset{m\\:\\times\\:n}{C}, где\n",
    "$$\n",
    "\n",
    "m, k, n - размеры строк/столбцов соответствующих матриц.\n",
    "\n",
    "Чтобы сохранить исходные размеры матрицы A, размеры матрицы B должны быть равны количеству столбцов матрицы A(кол-ву признаков), то есть k x k. Для того чтобы была возможность обратно воссоздать исходную матрицу, необходимо, чтобы матрица B была обратимой, то есть **detB** не равно 0. "
   ]
  },
  {
   "cell_type": "markdown",
   "metadata": {},
   "source": [
    "### **Вывод**\n",
    "\n",
    "Сформулирован и обоснован алгоритм преобразования данных в зашифрованный вид."
   ]
  },
  {
   "cell_type": "markdown",
   "metadata": {},
   "source": [
    "## Проверка алгоритма"
   ]
  },
  {
   "cell_type": "markdown",
   "metadata": {},
   "source": [
    "Проверим алгоритм на практике. Сначала необходимо отделить целевой признак от остальных:"
   ]
  },
  {
   "cell_type": "code",
   "execution_count": 11,
   "metadata": {},
   "outputs": [],
   "source": [
    "y = df['Страховые выплаты']\n",
    "X = df.drop('Страховые выплаты', axis=1)"
   ]
  },
  {
   "cell_type": "markdown",
   "metadata": {},
   "source": [
    "Создаём обучающую и тестовую выборки, а также Pipeline, чтобы исключить утечку данных из тестовой выборки в обучающую."
   ]
  },
  {
   "cell_type": "code",
   "execution_count": 12,
   "metadata": {},
   "outputs": [],
   "source": [
    "X_train, X_test, y_train, y_test = train_test_split(X, y, test_size=.25, random_state=777)"
   ]
  },
  {
   "cell_type": "code",
   "execution_count": 13,
   "metadata": {},
   "outputs": [],
   "source": [
    "pipe = Pipeline([('scaler', StandardScaler()), ('LR', LinearRegression())])"
   ]
  },
  {
   "cell_type": "markdown",
   "metadata": {},
   "source": [
    "Без обработки результаты выглядят следующим образом:"
   ]
  },
  {
   "cell_type": "code",
   "execution_count": 14,
   "metadata": {},
   "outputs": [
    {
     "name": "stdout",
     "output_type": "stream",
     "text": [
      "R2 на обучающей выборке: 0.432138083680238 \n",
      "R2 на тестовой выборке: 0.4181486424656593\n"
     ]
    }
   ],
   "source": [
    "print(\n",
    "    'R2 на обучающей выборке:',\n",
    "    cross_val_score(pipe, X_train, y_train, cv=5, n_jobs=-1).mean(),\n",
    "    '\\nR2 на тестовой выборке:',\n",
    "    pipe.fit(X_train, y_train).score(X_test, y_test)\n",
    ")"
   ]
  },
  {
   "cell_type": "markdown",
   "metadata": {},
   "source": [
    "Теперь проверим данные с учётом шифрования. В соответствии с алгоритмом создадим невырожденную матрицу преобразования и проверим её на обратимость:"
   ]
  },
  {
   "cell_type": "code",
   "execution_count": 15,
   "metadata": {},
   "outputs": [],
   "source": [
    "det = 0\n",
    "while det == 0:\n",
    "    transform_matrix = np.random.normal(size=(X.shape[1], X.shape[1]))\n",
    "    det = np.linalg.det(transform_matrix)"
   ]
  },
  {
   "cell_type": "code",
   "execution_count": 16,
   "metadata": {},
   "outputs": [
    {
     "name": "stdout",
     "output_type": "stream",
     "text": [
      "0.2562705591557422\n"
     ]
    },
    {
     "data": {
      "text/plain": [
       "array([[-0.33868169,  1.45008523, -0.63649627, -0.20053504],\n",
       "       [-1.15571443,  1.12209982, -1.41387514, -0.92822764],\n",
       "       [ 0.59592329, -1.01870427,  0.42942239,  0.62923912],\n",
       "       [-0.13670901, -1.22912319, -1.91211611,  0.22272503]])"
      ]
     },
     "execution_count": 16,
     "metadata": {},
     "output_type": "execute_result"
    }
   ],
   "source": [
    "print(np.linalg.det(transform_matrix))\n",
    "transform_matrix"
   ]
  },
  {
   "cell_type": "code",
   "execution_count": 17,
   "metadata": {},
   "outputs": [
    {
     "data": {
      "text/html": [
       "<div>\n",
       "<style scoped>\n",
       "    .dataframe tbody tr th:only-of-type {\n",
       "        vertical-align: middle;\n",
       "    }\n",
       "\n",
       "    .dataframe tbody tr th {\n",
       "        vertical-align: top;\n",
       "    }\n",
       "\n",
       "    .dataframe thead th {\n",
       "        text-align: right;\n",
       "    }\n",
       "</style>\n",
       "<table border=\"1\" class=\"dataframe\">\n",
       "  <thead>\n",
       "    <tr style=\"text-align: right;\">\n",
       "      <th></th>\n",
       "      <th>Пол</th>\n",
       "      <th>Возраст</th>\n",
       "      <th>Зарплата</th>\n",
       "      <th>Члены семьи</th>\n",
       "    </tr>\n",
       "  </thead>\n",
       "  <tbody>\n",
       "    <tr>\n",
       "      <th>0</th>\n",
       "      <td>29509.935546</td>\n",
       "      <td>-50481.504917</td>\n",
       "      <td>21238.832909</td>\n",
       "      <td>31172.225076</td>\n",
       "    </tr>\n",
       "    <tr>\n",
       "      <th>1</th>\n",
       "      <td>22591.785481</td>\n",
       "      <td>-38660.374929</td>\n",
       "      <td>16251.100339</td>\n",
       "      <td>23868.610712</td>\n",
       "    </tr>\n",
       "    <tr>\n",
       "      <th>2</th>\n",
       "      <td>12480.873390</td>\n",
       "      <td>-21360.248851</td>\n",
       "      <td>8976.867751</td>\n",
       "      <td>13187.102862</td>\n",
       "    </tr>\n",
       "    <tr>\n",
       "      <th>3</th>\n",
       "      <td>24825.457809</td>\n",
       "      <td>-42458.862360</td>\n",
       "      <td>17873.397934</td>\n",
       "      <td>26220.223862</td>\n",
       "    </tr>\n",
       "    <tr>\n",
       "      <th>4</th>\n",
       "      <td>15520.899206</td>\n",
       "      <td>-26555.312662</td>\n",
       "      <td>11167.699304</td>\n",
       "      <td>16396.950053</td>\n",
       "    </tr>\n",
       "    <tr>\n",
       "      <th>...</th>\n",
       "      <td>...</td>\n",
       "      <td>...</td>\n",
       "      <td>...</td>\n",
       "      <td>...</td>\n",
       "    </tr>\n",
       "    <tr>\n",
       "      <th>4842</th>\n",
       "      <td>21241.828063</td>\n",
       "      <td>-36338.782020</td>\n",
       "      <td>15286.966485</td>\n",
       "      <td>22438.291565</td>\n",
       "    </tr>\n",
       "    <tr>\n",
       "      <th>4843</th>\n",
       "      <td>31186.949443</td>\n",
       "      <td>-53343.181667</td>\n",
       "      <td>22451.749216</td>\n",
       "      <td>32940.792733</td>\n",
       "    </tr>\n",
       "    <tr>\n",
       "      <th>4844</th>\n",
       "      <td>20178.411854</td>\n",
       "      <td>-34514.091126</td>\n",
       "      <td>14525.317189</td>\n",
       "      <td>21313.086974</td>\n",
       "    </tr>\n",
       "    <tr>\n",
       "      <th>4845</th>\n",
       "      <td>19460.517086</td>\n",
       "      <td>-33289.180836</td>\n",
       "      <td>14004.633962</td>\n",
       "      <td>20556.165768</td>\n",
       "    </tr>\n",
       "    <tr>\n",
       "      <th>4846</th>\n",
       "      <td>24161.650215</td>\n",
       "      <td>-41327.753752</td>\n",
       "      <td>17392.411802</td>\n",
       "      <td>25521.139979</td>\n",
       "    </tr>\n",
       "  </tbody>\n",
       "</table>\n",
       "<p>4847 rows × 4 columns</p>\n",
       "</div>"
      ],
      "text/plain": [
       "               Пол       Возраст      Зарплата   Члены семьи\n",
       "0     29509.935546 -50481.504917  21238.832909  31172.225076\n",
       "1     22591.785481 -38660.374929  16251.100339  23868.610712\n",
       "2     12480.873390 -21360.248851   8976.867751  13187.102862\n",
       "3     24825.457809 -42458.862360  17873.397934  26220.223862\n",
       "4     15520.899206 -26555.312662  11167.699304  16396.950053\n",
       "...            ...           ...           ...           ...\n",
       "4842  21241.828063 -36338.782020  15286.966485  22438.291565\n",
       "4843  31186.949443 -53343.181667  22451.749216  32940.792733\n",
       "4844  20178.411854 -34514.091126  14525.317189  21313.086974\n",
       "4845  19460.517086 -33289.180836  14004.633962  20556.165768\n",
       "4846  24161.650215 -41327.753752  17392.411802  25521.139979\n",
       "\n",
       "[4847 rows x 4 columns]"
      ]
     },
     "execution_count": 17,
     "metadata": {},
     "output_type": "execute_result"
    }
   ],
   "source": [
    "Xt = pd.DataFrame(\n",
    "    X.values @ transform_matrix,\n",
    "    index=X.index, columns=X.columns)\n",
    "Xt"
   ]
  },
  {
   "cell_type": "markdown",
   "metadata": {},
   "source": [
    "После того как мы убедились, что получили отличные от исходных данные аналогичным образом проверяем результаты:"
   ]
  },
  {
   "cell_type": "code",
   "execution_count": 18,
   "metadata": {},
   "outputs": [],
   "source": [
    "Xt_train, Xt_test, yt_train, yt_test = train_test_split(Xt, y, test_size=.25, random_state=777)"
   ]
  },
  {
   "cell_type": "code",
   "execution_count": 19,
   "metadata": {},
   "outputs": [],
   "source": [
    "pipe = Pipeline([('scaler', StandardScaler()), ('LR', LinearRegression())])"
   ]
  },
  {
   "cell_type": "code",
   "execution_count": 20,
   "metadata": {},
   "outputs": [
    {
     "name": "stdout",
     "output_type": "stream",
     "text": [
      "R2 на обучающей выборке c зашифрованными данными: 0.43213808368021 \n",
      "R2 на тестовой выборке c зашифрованными данными: 0.41814864246568473\n"
     ]
    }
   ],
   "source": [
    "print(\n",
    "    'R2 на обучающей выборке c зашифрованными данными:',\n",
    "    cross_val_score(pipe, Xt_train, yt_train, cv=5, n_jobs=-1).mean(),\n",
    "    '\\nR2 на тестовой выборке c зашифрованными данными:',\n",
    "    pipe.fit(Xt_train, yt_train).score(Xt_test, yt_test)\n",
    ")"
   ]
  },
  {
   "cell_type": "markdown",
   "metadata": {},
   "source": [
    "Как можно заметить, результаты для старых и новых данных различаются крайне незначительно, незначительная разница присутствует лишь за счёт трудностей обработки чисел с плавающей точкой."
   ]
  },
  {
   "cell_type": "markdown",
   "metadata": {},
   "source": [
    "### **Вывод**\n",
    "\n",
    "- Реализован алгоритм трансформации данных, проверена обратимость трансформирующей матрицы;\n",
    "- Метрика проверена на моделях с исходными и преобразованными данными, существенной разницы между ними нет, что подтверждается выкладками, изложенными ранее.\n",
    "- Различия имеют место быть, то есть разница не нулевая, а околонулевая в силу неточности обработки компьютера чисел с плавающей точкой."
   ]
  },
  {
   "cell_type": "markdown",
   "metadata": {},
   "source": [
    "## **Вывод**\n",
    "В данной работе формируется алгоритм преобразования исходных данных с целью защиты персональных данных и сохранении качества результатов, получаемых с помощью модели. Получены следующие результаты:\n",
    "\n",
    "- Исходные данные изучены, также выведены их метрики и распределения, удалены полные дубликаты;\n",
    "- Доказано,что при умножении данных в матричном виде на обратимую матрицу результаты линейной регрессии не изменяются.\n",
    "- Приведён и обоснован алгоритм для шифрования данных без изменения качества предсказаний;\n",
    "- Алгоритм реализован на данных, с помощью линейной регрессии проверена метрика R2 на исходных и преобразованных данных. Существенных различий нет, разница обусловлена спецификой обработки компьютером чисел с плавающей точкой."
   ]
  },
  {
   "cell_type": "markdown",
   "metadata": {},
   "source": [
    "## Чек-лист проверки"
   ]
  },
  {
   "cell_type": "markdown",
   "metadata": {},
   "source": [
    "Поставьте 'x' в выполненных пунктах. Далее нажмите Shift+Enter."
   ]
  },
  {
   "cell_type": "markdown",
   "metadata": {},
   "source": [
    "- [x]  Jupyter Notebook открыт\n",
    "- [x]  Весь код выполняется без ошибок\n",
    "- [x]  Ячейки с кодом расположены в порядке исполнения\n",
    "- [x]  Выполнен шаг 1: данные загружены\n",
    "- [x]  Выполнен шаг 2: получен ответ на вопрос об умножении матриц\n",
    "    - [x]  Указан правильный вариант ответа\n",
    "    - [x]  Вариант обоснован\n",
    "- [x]  Выполнен шаг 3: предложен алгоритм преобразования\n",
    "    - [x]  Алгоритм описан\n",
    "    - [x]  Алгоритм обоснован\n",
    "- [x]  Выполнен шаг 4: алгоритм проверен\n",
    "    - [x]  Алгоритм реализован\n",
    "    - [x]  Проведено сравнение качества моделей до и после преобразования"
   ]
  }
 ],
 "metadata": {
  "ExecuteTimeLog": [
   {
    "duration": 426,
    "start_time": "2022-12-27T04:33:57.017Z"
   },
   {
    "duration": 91,
    "start_time": "2022-12-27T04:33:57.445Z"
   },
   {
    "duration": 22,
    "start_time": "2022-12-27T04:34:00.786Z"
   },
   {
    "duration": 16,
    "start_time": "2022-12-27T04:34:09.356Z"
   },
   {
    "duration": 23,
    "start_time": "2022-12-27T04:34:43.649Z"
   },
   {
    "duration": 872,
    "start_time": "2022-12-27T04:34:52.369Z"
   },
   {
    "duration": 501,
    "start_time": "2022-12-27T04:34:56.519Z"
   },
   {
    "duration": 1032,
    "start_time": "2022-12-27T04:35:03.089Z"
   },
   {
    "duration": 1362,
    "start_time": "2022-12-27T04:35:15.461Z"
   },
   {
    "duration": 1254,
    "start_time": "2022-12-27T04:35:23.259Z"
   },
   {
    "duration": 9,
    "start_time": "2022-12-27T04:37:51.373Z"
   },
   {
    "duration": 7,
    "start_time": "2022-12-27T04:37:56.492Z"
   },
   {
    "duration": 7,
    "start_time": "2022-12-27T04:38:02.700Z"
   },
   {
    "duration": 7,
    "start_time": "2022-12-27T04:38:11.905Z"
   },
   {
    "duration": 17,
    "start_time": "2022-12-27T04:38:21.945Z"
   },
   {
    "duration": 353,
    "start_time": "2022-12-27T04:38:56.633Z"
   },
   {
    "duration": 14,
    "start_time": "2022-12-27T04:39:03.505Z"
   },
   {
    "duration": 7,
    "start_time": "2022-12-27T04:39:43.881Z"
   },
   {
    "duration": 10,
    "start_time": "2022-12-27T04:40:15.360Z"
   },
   {
    "duration": 21,
    "start_time": "2022-12-27T04:40:27.085Z"
   },
   {
    "duration": 16,
    "start_time": "2022-12-27T04:41:09.292Z"
   },
   {
    "duration": 16,
    "start_time": "2022-12-27T04:43:05.114Z"
   },
   {
    "duration": 18,
    "start_time": "2022-12-27T04:44:18.207Z"
   },
   {
    "duration": 18,
    "start_time": "2022-12-27T04:44:36.178Z"
   },
   {
    "duration": 23,
    "start_time": "2022-12-27T04:44:40.059Z"
   },
   {
    "duration": 14,
    "start_time": "2022-12-27T04:46:51.498Z"
   },
   {
    "duration": 6,
    "start_time": "2022-12-27T04:47:00.002Z"
   },
   {
    "duration": 14,
    "start_time": "2022-12-27T04:53:13.286Z"
   },
   {
    "duration": 433,
    "start_time": "2022-12-27T04:53:21.148Z"
   },
   {
    "duration": 2,
    "start_time": "2022-12-27T04:53:21.584Z"
   },
   {
    "duration": 57,
    "start_time": "2022-12-27T04:53:21.588Z"
   },
   {
    "duration": 12,
    "start_time": "2022-12-27T04:53:21.647Z"
   },
   {
    "duration": 33,
    "start_time": "2022-12-27T04:53:21.661Z"
   },
   {
    "duration": 1485,
    "start_time": "2022-12-27T04:53:21.696Z"
   },
   {
    "duration": 17,
    "start_time": "2022-12-27T04:53:23.183Z"
   },
   {
    "duration": 5,
    "start_time": "2022-12-27T04:53:23.201Z"
   },
   {
    "duration": 87,
    "start_time": "2022-12-27T06:11:13.532Z"
   },
   {
    "duration": 6,
    "start_time": "2022-12-27T06:11:36.617Z"
   },
   {
    "duration": 5,
    "start_time": "2022-12-27T06:13:18.155Z"
   },
   {
    "duration": 6,
    "start_time": "2022-12-27T06:13:21.969Z"
   },
   {
    "duration": 4,
    "start_time": "2022-12-27T06:13:37.814Z"
   },
   {
    "duration": 6,
    "start_time": "2022-12-27T06:14:38.027Z"
   },
   {
    "duration": 8,
    "start_time": "2022-12-27T06:15:59.272Z"
   },
   {
    "duration": 7,
    "start_time": "2022-12-27T06:15:59.759Z"
   },
   {
    "duration": 14,
    "start_time": "2022-12-27T06:16:00.176Z"
   },
   {
    "duration": 12,
    "start_time": "2022-12-27T06:16:00.481Z"
   },
   {
    "duration": 20,
    "start_time": "2022-12-27T06:16:00.675Z"
   },
   {
    "duration": 7,
    "start_time": "2022-12-27T06:16:00.852Z"
   },
   {
    "duration": 8,
    "start_time": "2022-12-27T06:16:01.051Z"
   },
   {
    "duration": 11,
    "start_time": "2022-12-27T06:16:01.252Z"
   },
   {
    "duration": 8,
    "start_time": "2022-12-27T06:16:01.359Z"
   },
   {
    "duration": 8,
    "start_time": "2022-12-27T06:16:01.610Z"
   },
   {
    "duration": 11,
    "start_time": "2022-12-27T06:16:01.817Z"
   },
   {
    "duration": 10,
    "start_time": "2022-12-27T06:16:02.024Z"
   },
   {
    "duration": 7,
    "start_time": "2022-12-27T06:16:02.202Z"
   },
   {
    "duration": 11,
    "start_time": "2022-12-27T06:16:02.380Z"
   },
   {
    "duration": 10,
    "start_time": "2022-12-27T06:16:02.560Z"
   },
   {
    "duration": 8,
    "start_time": "2022-12-27T06:16:02.751Z"
   },
   {
    "duration": 10,
    "start_time": "2022-12-27T06:16:02.951Z"
   },
   {
    "duration": 8,
    "start_time": "2022-12-27T06:16:03.274Z"
   },
   {
    "duration": 11,
    "start_time": "2022-12-27T06:16:03.463Z"
   },
   {
    "duration": 9,
    "start_time": "2022-12-27T06:16:03.657Z"
   },
   {
    "duration": 6,
    "start_time": "2022-12-27T06:16:03.852Z"
   },
   {
    "duration": 7,
    "start_time": "2022-12-27T06:16:04.052Z"
   },
   {
    "duration": 69,
    "start_time": "2022-12-27T06:16:04.188Z"
   },
   {
    "duration": 10,
    "start_time": "2022-12-27T06:16:04.351Z"
   },
   {
    "duration": 67,
    "start_time": "2022-12-27T06:16:04.488Z"
   },
   {
    "duration": 8,
    "start_time": "2022-12-27T06:16:04.770Z"
   },
   {
    "duration": 8,
    "start_time": "2022-12-27T06:16:05.159Z"
   },
   {
    "duration": 7,
    "start_time": "2022-12-27T06:16:05.596Z"
   },
   {
    "duration": 8,
    "start_time": "2022-12-27T06:16:06.064Z"
   },
   {
    "duration": 11,
    "start_time": "2022-12-27T06:16:06.555Z"
   },
   {
    "duration": 6,
    "start_time": "2022-12-27T06:16:06.997Z"
   },
   {
    "duration": 6,
    "start_time": "2022-12-27T06:16:07.416Z"
   },
   {
    "duration": 6,
    "start_time": "2022-12-27T06:16:07.839Z"
   },
   {
    "duration": 5,
    "start_time": "2022-12-27T06:16:08.289Z"
   },
   {
    "duration": 6,
    "start_time": "2022-12-27T06:16:08.478Z"
   },
   {
    "duration": 6,
    "start_time": "2022-12-27T06:16:08.659Z"
   },
   {
    "duration": 7,
    "start_time": "2022-12-27T06:16:08.851Z"
   },
   {
    "duration": 15,
    "start_time": "2022-12-27T06:16:09.051Z"
   },
   {
    "duration": 34,
    "start_time": "2022-12-27T06:16:09.222Z"
   },
   {
    "duration": 9,
    "start_time": "2022-12-27T06:16:09.639Z"
   },
   {
    "duration": 8,
    "start_time": "2022-12-27T06:16:09.902Z"
   },
   {
    "duration": 7,
    "start_time": "2022-12-27T06:16:10.096Z"
   },
   {
    "duration": 12,
    "start_time": "2022-12-27T06:16:10.272Z"
   },
   {
    "duration": 15,
    "start_time": "2022-12-27T06:16:10.467Z"
   },
   {
    "duration": 7,
    "start_time": "2022-12-27T06:16:11.005Z"
   },
   {
    "duration": 7,
    "start_time": "2022-12-27T06:16:11.421Z"
   },
   {
    "duration": 8,
    "start_time": "2022-12-27T06:16:11.868Z"
   },
   {
    "duration": 7,
    "start_time": "2022-12-27T06:16:12.328Z"
   },
   {
    "duration": 13,
    "start_time": "2022-12-27T06:16:43.505Z"
   },
   {
    "duration": 392,
    "start_time": "2022-12-27T06:17:55.486Z"
   },
   {
    "duration": 2,
    "start_time": "2022-12-27T06:17:55.881Z"
   },
   {
    "duration": 91,
    "start_time": "2022-12-27T06:17:55.885Z"
   },
   {
    "duration": 13,
    "start_time": "2022-12-27T06:17:55.978Z"
   },
   {
    "duration": 46,
    "start_time": "2022-12-27T06:17:55.993Z"
   },
   {
    "duration": 1616,
    "start_time": "2022-12-27T06:17:56.040Z"
   },
   {
    "duration": 18,
    "start_time": "2022-12-27T06:17:57.658Z"
   },
   {
    "duration": 5,
    "start_time": "2022-12-27T06:17:57.678Z"
   },
   {
    "duration": 7,
    "start_time": "2022-12-27T06:17:57.686Z"
   },
   {
    "duration": 13,
    "start_time": "2022-12-27T06:17:57.694Z"
   },
   {
    "duration": 18,
    "start_time": "2022-12-27T06:17:57.751Z"
   },
   {
    "duration": 3,
    "start_time": "2022-12-27T06:19:11.041Z"
   },
   {
    "duration": 15,
    "start_time": "2022-12-27T06:20:35.912Z"
   },
   {
    "duration": 23,
    "start_time": "2022-12-27T06:21:32.494Z"
   },
   {
    "duration": 1286,
    "start_time": "2022-12-27T06:23:51.943Z"
   },
   {
    "duration": 3,
    "start_time": "2022-12-27T06:23:53.231Z"
   },
   {
    "duration": 54,
    "start_time": "2022-12-27T06:23:53.236Z"
   },
   {
    "duration": 13,
    "start_time": "2022-12-27T06:23:53.292Z"
   },
   {
    "duration": 34,
    "start_time": "2022-12-27T06:23:53.307Z"
   },
   {
    "duration": 1513,
    "start_time": "2022-12-27T06:23:53.343Z"
   },
   {
    "duration": 20,
    "start_time": "2022-12-27T06:23:54.859Z"
   },
   {
    "duration": 7,
    "start_time": "2022-12-27T06:23:54.881Z"
   },
   {
    "duration": 6,
    "start_time": "2022-12-27T06:23:54.890Z"
   },
   {
    "duration": 52,
    "start_time": "2022-12-27T06:23:54.899Z"
   },
   {
    "duration": 101,
    "start_time": "2022-12-27T06:23:54.953Z"
   },
   {
    "duration": 14,
    "start_time": "2022-12-27T06:23:55.056Z"
   },
   {
    "duration": 188,
    "start_time": "2022-12-27T06:23:55.072Z"
   },
   {
    "duration": 12,
    "start_time": "2022-12-27T06:24:25.336Z"
   },
   {
    "duration": 13,
    "start_time": "2022-12-27T06:24:26.430Z"
   },
   {
    "duration": 86,
    "start_time": "2022-12-27T06:25:04.256Z"
   },
   {
    "duration": 22,
    "start_time": "2022-12-27T06:25:11.603Z"
   },
   {
    "duration": 19,
    "start_time": "2022-12-27T06:25:24.893Z"
   },
   {
    "duration": 11,
    "start_time": "2022-12-27T06:25:41.469Z"
   },
   {
    "duration": 13,
    "start_time": "2022-12-27T06:25:41.977Z"
   },
   {
    "duration": 11,
    "start_time": "2022-12-27T06:26:21.520Z"
   },
   {
    "duration": 11,
    "start_time": "2022-12-27T06:26:22.371Z"
   },
   {
    "duration": 13,
    "start_time": "2022-12-27T06:26:29.164Z"
   },
   {
    "duration": 11,
    "start_time": "2022-12-27T06:26:33.525Z"
   },
   {
    "duration": 12,
    "start_time": "2022-12-27T06:26:51.293Z"
   },
   {
    "duration": 12,
    "start_time": "2022-12-27T06:26:52.138Z"
   },
   {
    "duration": 5,
    "start_time": "2022-12-27T06:27:58.134Z"
   },
   {
    "duration": 10,
    "start_time": "2022-12-27T06:29:50.619Z"
   },
   {
    "duration": 81,
    "start_time": "2022-12-27T06:30:58.594Z"
   },
   {
    "duration": 6,
    "start_time": "2022-12-27T06:31:06.527Z"
   },
   {
    "duration": 1090,
    "start_time": "2022-12-27T06:31:21.266Z"
   },
   {
    "duration": 2,
    "start_time": "2022-12-27T06:31:22.358Z"
   },
   {
    "duration": 58,
    "start_time": "2022-12-27T06:31:22.362Z"
   },
   {
    "duration": 11,
    "start_time": "2022-12-27T06:31:22.422Z"
   },
   {
    "duration": 42,
    "start_time": "2022-12-27T06:31:22.436Z"
   },
   {
    "duration": 1426,
    "start_time": "2022-12-27T06:31:22.480Z"
   },
   {
    "duration": 16,
    "start_time": "2022-12-27T06:31:23.908Z"
   },
   {
    "duration": 6,
    "start_time": "2022-12-27T06:31:23.925Z"
   },
   {
    "duration": 4,
    "start_time": "2022-12-27T06:31:23.950Z"
   },
   {
    "duration": 11,
    "start_time": "2022-12-27T06:31:23.956Z"
   },
   {
    "duration": 89,
    "start_time": "2022-12-27T06:31:23.968Z"
   },
   {
    "duration": 100,
    "start_time": "2022-12-27T06:31:24.060Z"
   },
   {
    "duration": 10,
    "start_time": "2022-12-27T06:31:24.250Z"
   },
   {
    "duration": 93,
    "start_time": "2022-12-27T06:31:24.263Z"
   },
   {
    "duration": 100,
    "start_time": "2022-12-27T06:31:24.359Z"
   },
   {
    "duration": 11,
    "start_time": "2022-12-27T06:31:48.959Z"
   },
   {
    "duration": 6,
    "start_time": "2022-12-27T06:31:50.170Z"
   },
   {
    "duration": 72,
    "start_time": "2022-12-27T06:32:03.504Z"
   },
   {
    "duration": 81,
    "start_time": "2022-12-27T06:32:11.509Z"
   },
   {
    "duration": 73,
    "start_time": "2022-12-27T06:32:15.323Z"
   },
   {
    "duration": 70,
    "start_time": "2022-12-27T06:32:23.809Z"
   },
   {
    "duration": 6,
    "start_time": "2022-12-27T06:33:02.806Z"
   },
   {
    "duration": 6,
    "start_time": "2022-12-27T06:33:15.360Z"
   },
   {
    "duration": 1090,
    "start_time": "2022-12-27T06:50:04.584Z"
   },
   {
    "duration": 4,
    "start_time": "2022-12-27T06:50:05.676Z"
   },
   {
    "duration": 69,
    "start_time": "2022-12-27T06:50:05.681Z"
   },
   {
    "duration": 12,
    "start_time": "2022-12-27T06:50:05.752Z"
   },
   {
    "duration": 33,
    "start_time": "2022-12-27T06:50:05.767Z"
   },
   {
    "duration": 1484,
    "start_time": "2022-12-27T06:50:05.802Z"
   },
   {
    "duration": 18,
    "start_time": "2022-12-27T06:50:07.288Z"
   },
   {
    "duration": 6,
    "start_time": "2022-12-27T06:50:07.307Z"
   },
   {
    "duration": 9,
    "start_time": "2022-12-27T06:50:07.315Z"
   },
   {
    "duration": 28,
    "start_time": "2022-12-27T06:50:07.326Z"
   },
   {
    "duration": 96,
    "start_time": "2022-12-27T06:50:07.356Z"
   },
   {
    "duration": 12,
    "start_time": "2022-12-27T06:50:07.454Z"
   },
   {
    "duration": 112,
    "start_time": "2022-12-27T06:50:07.551Z"
   },
   {
    "duration": 185,
    "start_time": "2022-12-27T06:50:07.666Z"
   },
   {
    "duration": 10,
    "start_time": "2022-12-27T06:51:33.461Z"
   },
   {
    "duration": 1051,
    "start_time": "2022-12-27T06:52:47.701Z"
   },
   {
    "duration": 3,
    "start_time": "2022-12-27T06:52:48.754Z"
   },
   {
    "duration": 60,
    "start_time": "2022-12-27T06:52:48.759Z"
   },
   {
    "duration": 12,
    "start_time": "2022-12-27T06:52:48.820Z"
   },
   {
    "duration": 30,
    "start_time": "2022-12-27T06:52:48.834Z"
   },
   {
    "duration": 1632,
    "start_time": "2022-12-27T06:52:48.866Z"
   },
   {
    "duration": 18,
    "start_time": "2022-12-27T06:52:50.500Z"
   },
   {
    "duration": 17,
    "start_time": "2022-12-27T06:52:50.519Z"
   },
   {
    "duration": 28,
    "start_time": "2022-12-27T06:52:50.538Z"
   },
   {
    "duration": 18,
    "start_time": "2022-12-27T06:52:50.568Z"
   },
   {
    "duration": 79,
    "start_time": "2022-12-27T06:52:50.588Z"
   },
   {
    "duration": 95,
    "start_time": "2022-12-27T06:52:50.669Z"
   },
   {
    "duration": 107,
    "start_time": "2022-12-27T06:52:50.852Z"
   },
   {
    "duration": 203,
    "start_time": "2022-12-27T06:52:50.966Z"
   },
   {
    "duration": 1007,
    "start_time": "2022-12-27T07:18:14.667Z"
   },
   {
    "duration": 3,
    "start_time": "2022-12-27T07:18:15.676Z"
   },
   {
    "duration": 108,
    "start_time": "2022-12-27T07:18:15.681Z"
   },
   {
    "duration": 10,
    "start_time": "2022-12-27T07:18:15.792Z"
   },
   {
    "duration": 26,
    "start_time": "2022-12-27T07:18:15.804Z"
   },
   {
    "duration": 1268,
    "start_time": "2022-12-27T07:18:15.832Z"
   },
   {
    "duration": 20,
    "start_time": "2022-12-27T07:18:17.102Z"
   },
   {
    "duration": 5,
    "start_time": "2022-12-27T07:18:17.124Z"
   },
   {
    "duration": 5,
    "start_time": "2022-12-27T07:18:17.130Z"
   },
   {
    "duration": 12,
    "start_time": "2022-12-27T07:18:17.138Z"
   },
   {
    "duration": 79,
    "start_time": "2022-12-27T07:18:17.152Z"
   },
   {
    "duration": 93,
    "start_time": "2022-12-27T07:18:17.233Z"
   },
   {
    "duration": 99,
    "start_time": "2022-12-27T07:18:17.328Z"
   },
   {
    "duration": 105,
    "start_time": "2022-12-27T07:18:17.428Z"
   },
   {
    "duration": 1263,
    "start_time": "2022-12-27T07:48:35.853Z"
   },
   {
    "duration": 3,
    "start_time": "2022-12-27T07:48:37.119Z"
   },
   {
    "duration": 148,
    "start_time": "2022-12-27T07:48:37.124Z"
   },
   {
    "duration": 17,
    "start_time": "2022-12-27T07:48:37.275Z"
   },
   {
    "duration": 32,
    "start_time": "2022-12-27T07:48:37.293Z"
   },
   {
    "duration": 1676,
    "start_time": "2022-12-27T07:48:37.327Z"
   },
   {
    "duration": 26,
    "start_time": "2022-12-27T07:48:39.006Z"
   },
   {
    "duration": 21,
    "start_time": "2022-12-27T07:48:39.034Z"
   },
   {
    "duration": 22,
    "start_time": "2022-12-27T07:48:39.057Z"
   },
   {
    "duration": 6,
    "start_time": "2022-12-27T07:48:39.083Z"
   },
   {
    "duration": 61,
    "start_time": "2022-12-27T07:48:39.091Z"
   },
   {
    "duration": 115,
    "start_time": "2022-12-27T07:48:39.154Z"
   },
   {
    "duration": 80,
    "start_time": "2022-12-27T07:48:39.271Z"
   },
   {
    "duration": 155,
    "start_time": "2022-12-27T07:48:39.353Z"
   },
   {
    "duration": 19,
    "start_time": "2022-12-27T07:48:39.551Z"
   },
   {
    "duration": 1277,
    "start_time": "2022-12-27T09:38:09.743Z"
   },
   {
    "duration": 3,
    "start_time": "2022-12-27T09:38:11.022Z"
   },
   {
    "duration": 214,
    "start_time": "2022-12-27T09:38:11.027Z"
   },
   {
    "duration": 16,
    "start_time": "2022-12-27T09:38:11.244Z"
   },
   {
    "duration": 40,
    "start_time": "2022-12-27T09:38:11.262Z"
   },
   {
    "duration": 1672,
    "start_time": "2022-12-27T09:38:11.304Z"
   },
   {
    "duration": 18,
    "start_time": "2022-12-27T09:38:12.978Z"
   },
   {
    "duration": 9,
    "start_time": "2022-12-27T09:38:12.998Z"
   },
   {
    "duration": 33,
    "start_time": "2022-12-27T09:38:13.009Z"
   },
   {
    "duration": 11,
    "start_time": "2022-12-27T09:38:13.050Z"
   },
   {
    "duration": 265,
    "start_time": "2022-12-27T09:38:13.063Z"
   },
   {
    "duration": 0,
    "start_time": "2022-12-27T09:38:13.331Z"
   },
   {
    "duration": 4,
    "start_time": "2022-12-27T09:38:28.546Z"
   },
   {
    "duration": 5,
    "start_time": "2022-12-27T09:38:35.959Z"
   },
   {
    "duration": 4,
    "start_time": "2022-12-27T09:39:04.195Z"
   },
   {
    "duration": 6,
    "start_time": "2022-12-27T09:39:04.987Z"
   },
   {
    "duration": 6,
    "start_time": "2022-12-27T09:39:13.947Z"
   },
   {
    "duration": 5,
    "start_time": "2022-12-27T09:39:17.050Z"
   },
   {
    "duration": 6,
    "start_time": "2022-12-27T09:39:17.396Z"
   },
   {
    "duration": 7,
    "start_time": "2022-12-27T09:39:17.646Z"
   },
   {
    "duration": 12,
    "start_time": "2022-12-27T09:40:47.583Z"
   },
   {
    "duration": 3,
    "start_time": "2022-12-27T09:41:00.386Z"
   },
   {
    "duration": 11,
    "start_time": "2022-12-27T09:41:54.407Z"
   },
   {
    "duration": 10,
    "start_time": "2022-12-27T09:42:05.535Z"
   },
   {
    "duration": 14,
    "start_time": "2022-12-27T09:42:09.832Z"
   },
   {
    "duration": 102,
    "start_time": "2022-12-27T09:42:13.448Z"
   },
   {
    "duration": 15,
    "start_time": "2022-12-27T09:43:11.184Z"
   },
   {
    "duration": 53,
    "start_time": "2022-12-27T09:43:29.482Z"
   },
   {
    "duration": 6,
    "start_time": "2022-12-27T09:44:46.029Z"
   },
   {
    "duration": 5,
    "start_time": "2022-12-27T09:49:58.285Z"
   },
   {
    "duration": 11,
    "start_time": "2022-12-27T09:49:59.018Z"
   },
   {
    "duration": 8,
    "start_time": "2022-12-27T09:50:04.308Z"
   },
   {
    "duration": 5,
    "start_time": "2022-12-27T09:50:11.942Z"
   },
   {
    "duration": 5,
    "start_time": "2022-12-27T09:50:12.313Z"
   },
   {
    "duration": 4,
    "start_time": "2022-12-27T09:50:13.166Z"
   },
   {
    "duration": 55,
    "start_time": "2022-12-27T09:50:14.929Z"
   },
   {
    "duration": 50,
    "start_time": "2022-12-27T09:51:00.554Z"
   },
   {
    "duration": 46,
    "start_time": "2022-12-27T09:54:20.346Z"
   },
   {
    "duration": 32,
    "start_time": "2022-12-27T09:55:27.513Z"
   },
   {
    "duration": 13,
    "start_time": "2022-12-27T09:55:42.797Z"
   },
   {
    "duration": 20,
    "start_time": "2022-12-27T09:55:58.378Z"
   },
   {
    "duration": 13,
    "start_time": "2022-12-27T09:56:03.518Z"
   },
   {
    "duration": 9,
    "start_time": "2022-12-27T09:56:52.492Z"
   },
   {
    "duration": 51,
    "start_time": "2022-12-27T09:58:11.583Z"
   },
   {
    "duration": 58,
    "start_time": "2022-12-27T10:05:34.950Z"
   },
   {
    "duration": 52,
    "start_time": "2022-12-27T10:05:51.317Z"
   },
   {
    "duration": 54,
    "start_time": "2022-12-27T10:06:13.167Z"
   },
   {
    "duration": 6,
    "start_time": "2022-12-27T10:08:59.721Z"
   },
   {
    "duration": 8,
    "start_time": "2022-12-27T10:08:59.908Z"
   },
   {
    "duration": 3,
    "start_time": "2022-12-27T10:09:00.068Z"
   },
   {
    "duration": 58,
    "start_time": "2022-12-27T10:09:00.274Z"
   },
   {
    "duration": 4,
    "start_time": "2022-12-27T10:09:00.956Z"
   },
   {
    "duration": 6,
    "start_time": "2022-12-27T10:09:01.411Z"
   },
   {
    "duration": 16,
    "start_time": "2022-12-27T10:09:03.422Z"
   },
   {
    "duration": 7,
    "start_time": "2022-12-27T10:09:06.441Z"
   },
   {
    "duration": 14,
    "start_time": "2022-12-27T10:09:10.318Z"
   },
   {
    "duration": 8,
    "start_time": "2022-12-27T10:09:19.221Z"
   },
   {
    "duration": 16,
    "start_time": "2022-12-27T10:09:27.020Z"
   },
   {
    "duration": 14,
    "start_time": "2022-12-27T10:09:32.578Z"
   },
   {
    "duration": 7,
    "start_time": "2022-12-27T10:09:38.499Z"
   },
   {
    "duration": 16,
    "start_time": "2022-12-27T10:09:43.688Z"
   },
   {
    "duration": 5,
    "start_time": "2022-12-27T10:10:12.824Z"
   },
   {
    "duration": 3,
    "start_time": "2022-12-27T10:10:13.231Z"
   },
   {
    "duration": 59,
    "start_time": "2022-12-27T10:10:13.620Z"
   },
   {
    "duration": 55,
    "start_time": "2022-12-27T10:10:24.981Z"
   },
   {
    "duration": 1170,
    "start_time": "2022-12-27T10:20:04.809Z"
   },
   {
    "duration": 3,
    "start_time": "2022-12-27T10:20:05.982Z"
   },
   {
    "duration": 56,
    "start_time": "2022-12-27T10:20:05.987Z"
   },
   {
    "duration": 13,
    "start_time": "2022-12-27T10:20:06.046Z"
   },
   {
    "duration": 43,
    "start_time": "2022-12-27T10:20:06.061Z"
   },
   {
    "duration": 1634,
    "start_time": "2022-12-27T10:20:06.106Z"
   },
   {
    "duration": 22,
    "start_time": "2022-12-27T10:20:07.743Z"
   },
   {
    "duration": 7,
    "start_time": "2022-12-27T10:20:07.766Z"
   },
   {
    "duration": 27,
    "start_time": "2022-12-27T10:20:07.775Z"
   },
   {
    "duration": 10,
    "start_time": "2022-12-27T10:20:07.804Z"
   },
   {
    "duration": 23,
    "start_time": "2022-12-27T10:20:07.816Z"
   },
   {
    "duration": 18,
    "start_time": "2022-12-27T10:20:07.841Z"
   },
   {
    "duration": 138,
    "start_time": "2022-12-27T10:20:07.861Z"
   },
   {
    "duration": 0,
    "start_time": "2022-12-27T10:20:08.001Z"
   },
   {
    "duration": 0,
    "start_time": "2022-12-27T10:20:08.002Z"
   },
   {
    "duration": 0,
    "start_time": "2022-12-27T10:20:08.003Z"
   },
   {
    "duration": 0,
    "start_time": "2022-12-27T10:20:08.005Z"
   },
   {
    "duration": 0,
    "start_time": "2022-12-27T10:20:08.006Z"
   },
   {
    "duration": 0,
    "start_time": "2022-12-27T10:20:08.007Z"
   },
   {
    "duration": 4,
    "start_time": "2022-12-27T10:20:37.569Z"
   },
   {
    "duration": 1244,
    "start_time": "2022-12-27T10:20:42.839Z"
   },
   {
    "duration": 4,
    "start_time": "2022-12-27T10:20:44.085Z"
   },
   {
    "duration": 86,
    "start_time": "2022-12-27T10:20:44.091Z"
   },
   {
    "duration": 16,
    "start_time": "2022-12-27T10:20:44.180Z"
   },
   {
    "duration": 52,
    "start_time": "2022-12-27T10:20:44.198Z"
   },
   {
    "duration": 1619,
    "start_time": "2022-12-27T10:20:44.252Z"
   },
   {
    "duration": 18,
    "start_time": "2022-12-27T10:20:45.873Z"
   },
   {
    "duration": 5,
    "start_time": "2022-12-27T10:20:45.893Z"
   },
   {
    "duration": 14,
    "start_time": "2022-12-27T10:20:45.900Z"
   },
   {
    "duration": 4,
    "start_time": "2022-12-27T10:20:45.917Z"
   },
   {
    "duration": 30,
    "start_time": "2022-12-27T10:20:45.922Z"
   },
   {
    "duration": 3,
    "start_time": "2022-12-27T10:20:45.954Z"
   },
   {
    "duration": 60,
    "start_time": "2022-12-27T10:20:45.959Z"
   },
   {
    "duration": 4,
    "start_time": "2022-12-27T10:20:46.021Z"
   },
   {
    "duration": 29,
    "start_time": "2022-12-27T10:20:46.026Z"
   },
   {
    "duration": 15,
    "start_time": "2022-12-27T10:20:46.057Z"
   },
   {
    "duration": 7,
    "start_time": "2022-12-27T10:20:46.073Z"
   },
   {
    "duration": 5,
    "start_time": "2022-12-27T10:20:46.082Z"
   },
   {
    "duration": 91,
    "start_time": "2022-12-27T10:20:46.088Z"
   },
   {
    "duration": 146,
    "start_time": "2022-12-27T10:33:38.729Z"
   },
   {
    "duration": 1180,
    "start_time": "2022-12-27T10:34:07.745Z"
   },
   {
    "duration": 3,
    "start_time": "2022-12-27T10:34:08.927Z"
   },
   {
    "duration": 87,
    "start_time": "2022-12-27T10:34:08.931Z"
   },
   {
    "duration": 12,
    "start_time": "2022-12-27T10:34:09.021Z"
   },
   {
    "duration": 39,
    "start_time": "2022-12-27T10:34:09.035Z"
   },
   {
    "duration": 1822,
    "start_time": "2022-12-27T10:34:09.076Z"
   },
   {
    "duration": 20,
    "start_time": "2022-12-27T10:34:10.899Z"
   },
   {
    "duration": 6,
    "start_time": "2022-12-27T10:34:10.920Z"
   },
   {
    "duration": 33,
    "start_time": "2022-12-27T10:34:10.928Z"
   },
   {
    "duration": 164,
    "start_time": "2022-12-27T10:34:10.963Z"
   },
   {
    "duration": 5,
    "start_time": "2022-12-27T10:34:11.129Z"
   },
   {
    "duration": 16,
    "start_time": "2022-12-27T10:34:11.136Z"
   },
   {
    "duration": 3,
    "start_time": "2022-12-27T10:34:11.154Z"
   },
   {
    "duration": 58,
    "start_time": "2022-12-27T10:34:11.159Z"
   },
   {
    "duration": 3,
    "start_time": "2022-12-27T10:34:11.219Z"
   },
   {
    "duration": 28,
    "start_time": "2022-12-27T10:34:11.224Z"
   },
   {
    "duration": 14,
    "start_time": "2022-12-27T10:34:11.254Z"
   },
   {
    "duration": 5,
    "start_time": "2022-12-27T10:34:11.270Z"
   },
   {
    "duration": 7,
    "start_time": "2022-12-27T10:34:11.277Z"
   },
   {
    "duration": 74,
    "start_time": "2022-12-27T10:34:11.286Z"
   },
   {
    "duration": 153,
    "start_time": "2022-12-27T10:34:50.128Z"
   },
   {
    "duration": 1303,
    "start_time": "2022-12-27T10:49:36.757Z"
   },
   {
    "duration": 4,
    "start_time": "2022-12-27T10:49:38.063Z"
   },
   {
    "duration": 167,
    "start_time": "2022-12-27T10:49:38.069Z"
   },
   {
    "duration": 13,
    "start_time": "2022-12-27T10:49:38.238Z"
   },
   {
    "duration": 72,
    "start_time": "2022-12-27T10:49:38.253Z"
   },
   {
    "duration": 1666,
    "start_time": "2022-12-27T10:49:38.327Z"
   },
   {
    "duration": 21,
    "start_time": "2022-12-27T10:49:39.996Z"
   },
   {
    "duration": 24,
    "start_time": "2022-12-27T10:49:40.019Z"
   },
   {
    "duration": 28,
    "start_time": "2022-12-27T10:49:40.050Z"
   },
   {
    "duration": 159,
    "start_time": "2022-12-27T10:49:40.082Z"
   },
   {
    "duration": 10,
    "start_time": "2022-12-27T10:49:40.242Z"
   },
   {
    "duration": 8,
    "start_time": "2022-12-27T10:49:40.254Z"
   },
   {
    "duration": 4,
    "start_time": "2022-12-27T10:49:40.265Z"
   },
   {
    "duration": 56,
    "start_time": "2022-12-27T10:49:40.271Z"
   },
   {
    "duration": 22,
    "start_time": "2022-12-27T10:49:40.329Z"
   },
   {
    "duration": 6,
    "start_time": "2022-12-27T10:49:40.353Z"
   },
   {
    "duration": 16,
    "start_time": "2022-12-27T10:49:40.361Z"
   },
   {
    "duration": 8,
    "start_time": "2022-12-27T10:49:40.379Z"
   },
   {
    "duration": 4,
    "start_time": "2022-12-27T10:49:40.389Z"
   },
   {
    "duration": 99,
    "start_time": "2022-12-27T10:49:40.395Z"
   }
  ],
  "kernelspec": {
   "display_name": "Python 3 (ipykernel)",
   "language": "python",
   "name": "python3"
  },
  "language_info": {
   "codemirror_mode": {
    "name": "ipython",
    "version": 3
   },
   "file_extension": ".py",
   "mimetype": "text/x-python",
   "name": "python",
   "nbconvert_exporter": "python",
   "pygments_lexer": "ipython3",
   "version": "3.10.9"
  },
  "toc": {
   "base_numbering": 1,
   "nav_menu": {},
   "number_sections": true,
   "sideBar": true,
   "skip_h1_title": true,
   "title_cell": "Содержание",
   "title_sidebar": "Contents",
   "toc_cell": true,
   "toc_position": {},
   "toc_section_display": true,
   "toc_window_display": true
  }
 },
 "nbformat": 4,
 "nbformat_minor": 4
}
