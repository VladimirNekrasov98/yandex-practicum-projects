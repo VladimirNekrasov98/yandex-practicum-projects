{
 "cells": [
  {
   "cell_type": "markdown",
   "metadata": {
    "toc": true
   },
   "source": [
    "<h1>Содержание<span class=\"tocSkip\"></span></h1>\n",
    "<div class=\"toc\"><ul class=\"toc-item\"><li><ul class=\"toc-item\"><li><span><a href=\"#-Комментарий-ревьюера-v2\" data-toc-modified-id=\"-Комментарий-ревьюера-v2-0.1\"><span class=\"toc-item-num\">0.1&nbsp;&nbsp;</span> Комментарий ревьюера v2</a></span></li></ul></li><li><span><a href=\"#Подготовка-данных\" data-toc-modified-id=\"Подготовка-данных-1\"><span class=\"toc-item-num\">1&nbsp;&nbsp;</span>Подготовка данных</a></span><ul class=\"toc-item\"><li><span><a href=\"#Полные-данные\" data-toc-modified-id=\"Полные-данные-1.1\"><span class=\"toc-item-num\">1.1&nbsp;&nbsp;</span>Полные данные</a></span></li><li><span><a href=\"#Обучающие-данные\" data-toc-modified-id=\"Обучающие-данные-1.2\"><span class=\"toc-item-num\">1.2&nbsp;&nbsp;</span>Обучающие данные</a></span></li><li><span><a href=\"#Тестовые-данные\" data-toc-modified-id=\"Тестовые-данные-1.3\"><span class=\"toc-item-num\">1.3&nbsp;&nbsp;</span>Тестовые данные</a></span></li><li><span><a href=\"#-Комментарий-ревьюера-v1\" data-toc-modified-id=\"-Комментарий-ревьюера-v1-1.4\"><span class=\"toc-item-num\">1.4&nbsp;&nbsp;</span> Комментарий ревьюера v1</a></span></li><li><span><a href=\"#Проверка-правильности-расчётов-эффективности-обогащения\" data-toc-modified-id=\"Проверка-правильности-расчётов-эффективности-обогащения-1.5\"><span class=\"toc-item-num\">1.5&nbsp;&nbsp;</span>Проверка правильности расчётов эффективности обогащения</a></span></li><li><span><a href=\"#-Комментарий-ревьюера-v1\" data-toc-modified-id=\"-Комментарий-ревьюера-v1-1.6\"><span class=\"toc-item-num\">1.6&nbsp;&nbsp;</span> Комментарий ревьюера v1</a></span></li><li><span><a href=\"#Заполнение-пропусков\" data-toc-modified-id=\"Заполнение-пропусков-1.7\"><span class=\"toc-item-num\">1.7&nbsp;&nbsp;</span>Заполнение пропусков</a></span></li><li><span><a href=\"#-Комментарий-ревьюера-v1\" data-toc-modified-id=\"-Комментарий-ревьюера-v1-1.8\"><span class=\"toc-item-num\">1.8&nbsp;&nbsp;</span> Комментарий ревьюера v1</a></span></li><li><span><a href=\"#Вывод\" data-toc-modified-id=\"Вывод-1.9\"><span class=\"toc-item-num\">1.9&nbsp;&nbsp;</span><strong>Вывод</strong></a></span></li></ul></li><li><span><a href=\"#Анализ-данных\" data-toc-modified-id=\"Анализ-данных-2\"><span class=\"toc-item-num\">2&nbsp;&nbsp;</span>Анализ данных</a></span><ul class=\"toc-item\"><li><span><a href=\"#Анализ-изменения-концентрации-металлов-на-различных-этапах-очистки\" data-toc-modified-id=\"Анализ-изменения-концентрации-металлов-на-различных-этапах-очистки-2.1\"><span class=\"toc-item-num\">2.1&nbsp;&nbsp;</span>Анализ изменения концентрации металлов на различных этапах очистки</a></span></li><li><span><a href=\"#-Комментарий-ревьюера-v2\" data-toc-modified-id=\"-Комментарий-ревьюера-v2-2.2\"><span class=\"toc-item-num\">2.2&nbsp;&nbsp;</span> Комментарий ревьюера v2</a></span></li><li><span><a href=\"#Сравнение-распределений-размеров-гранул-сырья\" data-toc-modified-id=\"Сравнение-распределений-размеров-гранул-сырья-2.3\"><span class=\"toc-item-num\">2.3&nbsp;&nbsp;</span>Сравнение распределений размеров гранул сырья</a></span></li><li><span><a href=\"#-Комментарий-ревьюера-v2\" data-toc-modified-id=\"-Комментарий-ревьюера-v2-2.4\"><span class=\"toc-item-num\">2.4&nbsp;&nbsp;</span> Комментарий ревьюера v2</a></span></li><li><span><a href=\"#Анализ-изменения-суммарной-концентрации-всех-веществ-на-разных-этапах-очистки\" data-toc-modified-id=\"Анализ-изменения-суммарной-концентрации-всех-веществ-на-разных-этапах-очистки-2.5\"><span class=\"toc-item-num\">2.5&nbsp;&nbsp;</span>Анализ изменения суммарной концентрации всех веществ на разных этапах очистки</a></span></li><li><span><a href=\"#-Комментарий-ревьюера-v1\" data-toc-modified-id=\"-Комментарий-ревьюера-v1-2.6\"><span class=\"toc-item-num\">2.6&nbsp;&nbsp;</span> Комментарий ревьюера v1</a></span></li><li><span><a href=\"#-Комментарий-ревьюера-v3\" data-toc-modified-id=\"-Комментарий-ревьюера-v3-2.7\"><span class=\"toc-item-num\">2.7&nbsp;&nbsp;</span> Комментарий ревьюера v3</a></span></li><li><span><a href=\"#-Комментарий-ревьюера-v2\" data-toc-modified-id=\"-Комментарий-ревьюера-v2-2.8\"><span class=\"toc-item-num\">2.8&nbsp;&nbsp;</span> Комментарий ревьюера v2</a></span></li><li><span><a href=\"#Вывод\" data-toc-modified-id=\"Вывод-2.9\"><span class=\"toc-item-num\">2.9&nbsp;&nbsp;</span><strong>Вывод</strong></a></span></li><li><span><a href=\"#-Комментарий-ревьюера-v2\" data-toc-modified-id=\"-Комментарий-ревьюера-v2-2.10\"><span class=\"toc-item-num\">2.10&nbsp;&nbsp;</span> Комментарий ревьюера v2</a></span></li></ul></li><li><span><a href=\"#Модель\" data-toc-modified-id=\"Модель-3\"><span class=\"toc-item-num\">3&nbsp;&nbsp;</span>Модель</a></span><ul class=\"toc-item\"><li><span><a href=\"#Функция-для-вычисления-итоговой-sMAPE\" data-toc-modified-id=\"Функция-для-вычисления-итоговой-sMAPE-3.1\"><span class=\"toc-item-num\">3.1&nbsp;&nbsp;</span>Функция для вычисления итоговой sMAPE</a></span></li><li><span><a href=\"#-Комментарий-ревьюера-v2\" data-toc-modified-id=\"-Комментарий-ревьюера-v2-3.2\"><span class=\"toc-item-num\">3.2&nbsp;&nbsp;</span> Комментарий ревьюера v2</a></span></li><li><span><a href=\"#Выбор-модели-и-гиперпараметров\" data-toc-modified-id=\"Выбор-модели-и-гиперпараметров-3.3\"><span class=\"toc-item-num\">3.3&nbsp;&nbsp;</span>Выбор модели и гиперпараметров</a></span></li><li><span><a href=\"#-Комментарий-ревьюера-v2\" data-toc-modified-id=\"-Комментарий-ревьюера-v2-3.4\"><span class=\"toc-item-num\">3.4&nbsp;&nbsp;</span> Комментарий ревьюера v2</a></span></li><li><span><a href=\"#-Комментарий-ревьюера-v2\" data-toc-modified-id=\"-Комментарий-ревьюера-v2-3.5\"><span class=\"toc-item-num\">3.5&nbsp;&nbsp;</span> Комментарий ревьюера v2</a></span></li><li><span><a href=\"#Проверка-данных-на-тестовой-выборке\" data-toc-modified-id=\"Проверка-данных-на-тестовой-выборке-3.6\"><span class=\"toc-item-num\">3.6&nbsp;&nbsp;</span>Проверка данных на тестовой выборке</a></span></li><li><span><a href=\"#-Комментарий-ревьюера-v2\" data-toc-modified-id=\"-Комментарий-ревьюера-v2-3.7\"><span class=\"toc-item-num\">3.7&nbsp;&nbsp;</span> Комментарий ревьюера v2</a></span></li><li><span><a href=\"#Вывод\" data-toc-modified-id=\"Вывод-3.8\"><span class=\"toc-item-num\">3.8&nbsp;&nbsp;</span><strong>Вывод</strong></a></span></li></ul></li><li><span><a href=\"#Вывод\" data-toc-modified-id=\"Вывод-4\"><span class=\"toc-item-num\">4&nbsp;&nbsp;</span><strong>Вывод</strong></a></span></li><li><span><a href=\"#Чек-лист-готовности-проекта\" data-toc-modified-id=\"Чек-лист-готовности-проекта-5\"><span class=\"toc-item-num\">5&nbsp;&nbsp;</span>Чек-лист готовности проекта</a></span><ul class=\"toc-item\"><li><span><a href=\"#-Итоговый-комментарий\" data-toc-modified-id=\"-Итоговый-комментарий-5.1\"><span class=\"toc-item-num\">5.1&nbsp;&nbsp;</span> Итоговый комментарий</a></span></li><li><span><a href=\"#-Комментарий-ревьюера-v3\" data-toc-modified-id=\"-Комментарий-ревьюера-v3-5.2\"><span class=\"toc-item-num\">5.2&nbsp;&nbsp;</span> Комментарий ревьюера v3</a></span></li></ul></li></ul></div>\n"
   ]
  },
  {
   "cell_type": "markdown",
   "metadata": {},
   "source": [
    "# Восстановление золота из руды\n"
   ]
  },
  {
   "cell_type": "markdown",
   "metadata": {},
   "source": [
    "Подготовьте прототип модели машинного обучения для «Цифры». Компания разрабатывает решения для эффективной работы промышленных предприятий.\n",
    "\n",
    "Модель должна предсказать коэффициент восстановления золота из золотосодержащей руды. Используйте данные с параметрами добычи и очистки.\n",
    "\n",
    "Модель поможет оптимизировать производство, чтобы не запускать предприятие с убыточными характеристиками.\n",
    "\n",
    "Вам нужно:\n",
    "\n",
    "1. Подготовить данные;\n",
    "2. Провести исследовательский анализ данных;\n",
    "3. Построить и обучить модель.\n",
    "\n",
    "Чтобы выполнить проект, обращайтесь к библиотекам _pandas_, _matplotlib_ и _sklearn._ Вам поможет их документация.\n"
   ]
  },
  {
   "cell_type": "markdown",
   "metadata": {},
   "source": [
    "## Подготовка данных\n"
   ]
  },
  {
   "cell_type": "markdown",
   "metadata": {},
   "source": [
    "Подключим необходимые библиотеки и проведём предварительные настройки:\n"
   ]
  },
  {
   "cell_type": "code",
   "execution_count": 1,
   "metadata": {},
   "outputs": [
    {
     "name": "stdout",
     "output_type": "stream",
     "text": [
      "Requirement already satisfied: phik in /opt/conda/lib/python3.9/site-packages (0.12.3)\n",
      "Requirement already satisfied: scipy>=1.5.2 in /opt/conda/lib/python3.9/site-packages (from phik) (1.9.1)\n",
      "Requirement already satisfied: numpy>=1.18.0 in /opt/conda/lib/python3.9/site-packages (from phik) (1.21.1)\n",
      "Requirement already satisfied: matplotlib>=2.2.3 in /opt/conda/lib/python3.9/site-packages (from phik) (3.3.4)\n",
      "Requirement already satisfied: joblib>=0.14.1 in /opt/conda/lib/python3.9/site-packages (from phik) (1.1.0)\n",
      "Requirement already satisfied: pandas>=0.25.1 in /opt/conda/lib/python3.9/site-packages (from phik) (1.2.4)\n",
      "Requirement already satisfied: cycler>=0.10 in /opt/conda/lib/python3.9/site-packages (from matplotlib>=2.2.3->phik) (0.11.0)\n",
      "Requirement already satisfied: pillow>=6.2.0 in /opt/conda/lib/python3.9/site-packages (from matplotlib>=2.2.3->phik) (8.4.0)\n",
      "Requirement already satisfied: pyparsing!=2.0.4,!=2.1.2,!=2.1.6,>=2.0.3 in /opt/conda/lib/python3.9/site-packages (from matplotlib>=2.2.3->phik) (2.4.7)\n",
      "Requirement already satisfied: python-dateutil>=2.1 in /opt/conda/lib/python3.9/site-packages (from matplotlib>=2.2.3->phik) (2.8.1)\n",
      "Requirement already satisfied: kiwisolver>=1.0.1 in /opt/conda/lib/python3.9/site-packages (from matplotlib>=2.2.3->phik) (1.4.4)\n",
      "Requirement already satisfied: pytz>=2017.3 in /opt/conda/lib/python3.9/site-packages (from pandas>=0.25.1->phik) (2021.1)\n",
      "Requirement already satisfied: six>=1.5 in /opt/conda/lib/python3.9/site-packages (from python-dateutil>=2.1->matplotlib>=2.2.3->phik) (1.16.0)\n"
     ]
    }
   ],
   "source": [
    "!pip install phik"
   ]
  },
  {
   "cell_type": "code",
   "execution_count": 2,
   "metadata": {},
   "outputs": [],
   "source": [
    "import warnings\n",
    "\n",
    "from sklearn.model_selection import (\n",
    "    train_test_split,\n",
    "    cross_val_score,\n",
    "    RandomizedSearchCV,\n",
    ")\n",
    "from sklearn.impute import KNNImputer\n",
    "from sklearn.metrics import mean_absolute_error, make_scorer\n",
    "from sklearn.linear_model import LinearRegression\n",
    "from sklearn.preprocessing import StandardScaler\n",
    "from sklearn.tree import DecisionTreeRegressor\n",
    "from sklearn.ensemble import RandomForestRegressor\n",
    "\n",
    "import pandas as pd\n",
    "import numpy as np\n",
    "import seaborn as sns\n",
    "import matplotlib.pyplot as plt\n",
    "\n",
    "import phik\n",
    "from phik.report import plot_correlation_matrix\n",
    "from phik import report"
   ]
  },
  {
   "cell_type": "code",
   "execution_count": 3,
   "metadata": {},
   "outputs": [],
   "source": [
    "warnings.filterwarnings(\"ignore\")  # игнорируем предупреждения\n",
    "plt.rc(\"font\", size=18)  # устанавливаем размер шрифта на графиках\n",
    "pd.set_option(\"display.max_columns\", 100)"
   ]
  },
  {
   "cell_type": "markdown",
   "metadata": {},
   "source": [
    "Определяем константы:\n"
   ]
  },
  {
   "cell_type": "code",
   "execution_count": 4,
   "metadata": {},
   "outputs": [],
   "source": [
    "SEED = 777"
   ]
  },
  {
   "cell_type": "markdown",
   "metadata": {},
   "source": [
    "Считаем 3 набора данных и рассмотрим каждый из них по отдельности:\n"
   ]
  },
  {
   "cell_type": "code",
   "execution_count": 5,
   "metadata": {},
   "outputs": [],
   "source": [
    "data_train = pd.read_csv(\n",
    "    \"https://code.s3.yandex.net/datasets/gold_recovery_train_new.csv\"\n",
    ")\n",
    "data_test = pd.read_csv(\n",
    "    \"https://code.s3.yandex.net/datasets/gold_recovery_test_new.csv\"\n",
    ")\n",
    "data_full = pd.read_csv(\n",
    "    \"https://code.s3.yandex.net/datasets/gold_recovery_full_new.csv\"\n",
    ")"
   ]
  },
  {
   "cell_type": "markdown",
   "metadata": {},
   "source": [
    "В каждом датафрейме интерес представляют общая информация о нём, типы данных, наличие в данных пропусков, дубликатов и коррелляций между параметрами.\n"
   ]
  },
  {
   "cell_type": "markdown",
   "metadata": {},
   "source": [
    "### Полные данные\n"
   ]
  },
  {
   "cell_type": "markdown",
   "metadata": {},
   "source": [
    "Общая информация:\n"
   ]
  },
  {
   "cell_type": "code",
   "execution_count": 6,
   "metadata": {},
   "outputs": [
    {
     "name": "stdout",
     "output_type": "stream",
     "text": [
      "<class 'pandas.core.frame.DataFrame'>\n",
      "RangeIndex: 19439 entries, 0 to 19438\n",
      "Data columns (total 87 columns):\n",
      " #   Column                                              Non-Null Count  Dtype  \n",
      "---  ------                                              --------------  -----  \n",
      " 0   date                                                19439 non-null  object \n",
      " 1   final.output.concentrate_ag                         19438 non-null  float64\n",
      " 2   final.output.concentrate_pb                         19438 non-null  float64\n",
      " 3   final.output.concentrate_sol                        19228 non-null  float64\n",
      " 4   final.output.concentrate_au                         19439 non-null  float64\n",
      " 5   final.output.recovery                               19439 non-null  float64\n",
      " 6   final.output.tail_ag                                19438 non-null  float64\n",
      " 7   final.output.tail_pb                                19338 non-null  float64\n",
      " 8   final.output.tail_sol                               19433 non-null  float64\n",
      " 9   final.output.tail_au                                19439 non-null  float64\n",
      " 10  primary_cleaner.input.sulfate                       19415 non-null  float64\n",
      " 11  primary_cleaner.input.depressant                    19402 non-null  float64\n",
      " 12  primary_cleaner.input.feed_size                     19439 non-null  float64\n",
      " 13  primary_cleaner.input.xanthate                      19335 non-null  float64\n",
      " 14  primary_cleaner.output.concentrate_ag               19439 non-null  float64\n",
      " 15  primary_cleaner.output.concentrate_pb               19323 non-null  float64\n",
      " 16  primary_cleaner.output.concentrate_sol              19069 non-null  float64\n",
      " 17  primary_cleaner.output.concentrate_au               19439 non-null  float64\n",
      " 18  primary_cleaner.output.tail_ag                      19435 non-null  float64\n",
      " 19  primary_cleaner.output.tail_pb                      19418 non-null  float64\n",
      " 20  primary_cleaner.output.tail_sol                     19377 non-null  float64\n",
      " 21  primary_cleaner.output.tail_au                      19439 non-null  float64\n",
      " 22  primary_cleaner.state.floatbank8_a_air              19435 non-null  float64\n",
      " 23  primary_cleaner.state.floatbank8_a_level            19438 non-null  float64\n",
      " 24  primary_cleaner.state.floatbank8_b_air              19435 non-null  float64\n",
      " 25  primary_cleaner.state.floatbank8_b_level            19438 non-null  float64\n",
      " 26  primary_cleaner.state.floatbank8_c_air              19437 non-null  float64\n",
      " 27  primary_cleaner.state.floatbank8_c_level            19438 non-null  float64\n",
      " 28  primary_cleaner.state.floatbank8_d_air              19436 non-null  float64\n",
      " 29  primary_cleaner.state.floatbank8_d_level            19438 non-null  float64\n",
      " 30  rougher.calculation.sulfate_to_au_concentrate       19437 non-null  float64\n",
      " 31  rougher.calculation.floatbank10_sulfate_to_au_feed  19437 non-null  float64\n",
      " 32  rougher.calculation.floatbank11_sulfate_to_au_feed  19437 non-null  float64\n",
      " 33  rougher.calculation.au_pb_ratio                     19439 non-null  float64\n",
      " 34  rougher.input.feed_ag                               19439 non-null  float64\n",
      " 35  rougher.input.feed_pb                               19339 non-null  float64\n",
      " 36  rougher.input.feed_rate                             19428 non-null  float64\n",
      " 37  rougher.input.feed_size                             19294 non-null  float64\n",
      " 38  rougher.input.feed_sol                              19340 non-null  float64\n",
      " 39  rougher.input.feed_au                               19439 non-null  float64\n",
      " 40  rougher.input.floatbank10_sulfate                   19405 non-null  float64\n",
      " 41  rougher.input.floatbank10_xanthate                  19431 non-null  float64\n",
      " 42  rougher.input.floatbank11_sulfate                   19395 non-null  float64\n",
      " 43  rougher.input.floatbank11_xanthate                  18986 non-null  float64\n",
      " 44  rougher.output.concentrate_ag                       19439 non-null  float64\n",
      " 45  rougher.output.concentrate_pb                       19439 non-null  float64\n",
      " 46  rougher.output.concentrate_sol                      19416 non-null  float64\n",
      " 47  rougher.output.concentrate_au                       19439 non-null  float64\n",
      " 48  rougher.output.recovery                             19439 non-null  float64\n",
      " 49  rougher.output.tail_ag                              19438 non-null  float64\n",
      " 50  rougher.output.tail_pb                              19439 non-null  float64\n",
      " 51  rougher.output.tail_sol                             19439 non-null  float64\n",
      " 52  rougher.output.tail_au                              19439 non-null  float64\n",
      " 53  rougher.state.floatbank10_a_air                     19438 non-null  float64\n",
      " 54  rougher.state.floatbank10_a_level                   19438 non-null  float64\n",
      " 55  rougher.state.floatbank10_b_air                     19438 non-null  float64\n",
      " 56  rougher.state.floatbank10_b_level                   19438 non-null  float64\n",
      " 57  rougher.state.floatbank10_c_air                     19438 non-null  float64\n",
      " 58  rougher.state.floatbank10_c_level                   19438 non-null  float64\n",
      " 59  rougher.state.floatbank10_d_air                     19439 non-null  float64\n",
      " 60  rougher.state.floatbank10_d_level                   19439 non-null  float64\n",
      " 61  rougher.state.floatbank10_e_air                     19003 non-null  float64\n",
      " 62  rougher.state.floatbank10_e_level                   19439 non-null  float64\n",
      " 63  rougher.state.floatbank10_f_air                     19439 non-null  float64\n",
      " 64  rougher.state.floatbank10_f_level                   19439 non-null  float64\n",
      " 65  secondary_cleaner.output.tail_ag                    19437 non-null  float64\n",
      " 66  secondary_cleaner.output.tail_pb                    19427 non-null  float64\n",
      " 67  secondary_cleaner.output.tail_sol                   17691 non-null  float64\n",
      " 68  secondary_cleaner.output.tail_au                    19439 non-null  float64\n",
      " 69  secondary_cleaner.state.floatbank2_a_air            19219 non-null  float64\n",
      " 70  secondary_cleaner.state.floatbank2_a_level          19438 non-null  float64\n",
      " 71  secondary_cleaner.state.floatbank2_b_air            19416 non-null  float64\n",
      " 72  secondary_cleaner.state.floatbank2_b_level          19438 non-null  float64\n",
      " 73  secondary_cleaner.state.floatbank3_a_air            19426 non-null  float64\n",
      " 74  secondary_cleaner.state.floatbank3_a_level          19438 non-null  float64\n",
      " 75  secondary_cleaner.state.floatbank3_b_air            19438 non-null  float64\n",
      " 76  secondary_cleaner.state.floatbank3_b_level          19438 non-null  float64\n",
      " 77  secondary_cleaner.state.floatbank4_a_air            19433 non-null  float64\n",
      " 78  secondary_cleaner.state.floatbank4_a_level          19438 non-null  float64\n",
      " 79  secondary_cleaner.state.floatbank4_b_air            19438 non-null  float64\n",
      " 80  secondary_cleaner.state.floatbank4_b_level          19438 non-null  float64\n",
      " 81  secondary_cleaner.state.floatbank5_a_air            19438 non-null  float64\n",
      " 82  secondary_cleaner.state.floatbank5_a_level          19438 non-null  float64\n",
      " 83  secondary_cleaner.state.floatbank5_b_air            19438 non-null  float64\n",
      " 84  secondary_cleaner.state.floatbank5_b_level          19438 non-null  float64\n",
      " 85  secondary_cleaner.state.floatbank6_a_air            19437 non-null  float64\n",
      " 86  secondary_cleaner.state.floatbank6_a_level          19438 non-null  float64\n",
      "dtypes: float64(86), object(1)\n",
      "memory usage: 12.9+ MB\n"
     ]
    }
   ],
   "source": [
    "data_full.info()"
   ]
  },
  {
   "cell_type": "markdown",
   "metadata": {},
   "source": [
    "Как видим, столбец _date_ - единственный имеет тип _object_, поэтому его следует преревести в тип datetime. Также стоит отметить, что его можно преобразовать в числовой тип данных для дальнейшего использования в моделях, поскольку не исключено, что этот параметр может иметь значительную корелляцию с таргетом. Для этого переведём его в систему отсчёта unix.\n"
   ]
  },
  {
   "cell_type": "code",
   "execution_count": 7,
   "metadata": {},
   "outputs": [],
   "source": [
    "data_full[\"date\"] = pd.to_datetime(data_full[\"date\"], format=\"%Y-%m-%d %H:%M:%S\")\n",
    "data_full[\"date\"] = (data_full[\"date\"] - pd.Timestamp(\"1970-01-01\")) // pd.Timedelta(\n",
    "    \"1s\"\n",
    ")"
   ]
  },
  {
   "cell_type": "markdown",
   "metadata": {},
   "source": [
    "Корелляции между данными будем искать с помощью библиотеки **phik**. В отличии от df.corr() она также может уловить наличие в данных нелинейных связей и позволит лучше сориентироваться в выборе данных для дальнейшего изучения и использования.\n"
   ]
  },
  {
   "cell_type": "code",
   "execution_count": 8,
   "metadata": {},
   "outputs": [
    {
     "name": "stdout",
     "output_type": "stream",
     "text": [
      "CPU times: user 29.8 s, sys: 82.1 ms, total: 29.9 s\n",
      "Wall time: 29.9 s\n"
     ]
    }
   ],
   "source": [
    "%%time\n",
    "phik_overview = data_full.phik_matrix(interval_cols=data_full.columns);"
   ]
  },
  {
   "cell_type": "markdown",
   "metadata": {},
   "source": [
    "Согласно заданию, таргетными переменными являются эффективность обогащения чернового и финального концентратов:\n"
   ]
  },
  {
   "cell_type": "code",
   "execution_count": 9,
   "metadata": {},
   "outputs": [],
   "source": [
    "target = [\"final.output.recovery\", \"rougher.output.recovery\"]\n",
    "features = [x for x in data_full.columns if x not in target]"
   ]
  },
  {
   "cell_type": "code",
   "execution_count": 10,
   "metadata": {},
   "outputs": [
    {
     "data": {
      "text/html": [
       "<div>\n",
       "<style scoped>\n",
       "    .dataframe tbody tr th:only-of-type {\n",
       "        vertical-align: middle;\n",
       "    }\n",
       "\n",
       "    .dataframe tbody tr th {\n",
       "        vertical-align: top;\n",
       "    }\n",
       "\n",
       "    .dataframe thead th {\n",
       "        text-align: right;\n",
       "    }\n",
       "</style>\n",
       "<table border=\"1\" class=\"dataframe\">\n",
       "  <thead>\n",
       "    <tr style=\"text-align: right;\">\n",
       "      <th></th>\n",
       "      <th>final.output.recovery</th>\n",
       "      <th>rougher.output.recovery</th>\n",
       "    </tr>\n",
       "  </thead>\n",
       "  <tbody>\n",
       "    <tr>\n",
       "      <th>final.output.recovery</th>\n",
       "      <td>1.000000</td>\n",
       "      <td>0.644514</td>\n",
       "    </tr>\n",
       "    <tr>\n",
       "      <th>final.output.tail_ag</th>\n",
       "      <td>0.752307</td>\n",
       "      <td>0.494114</td>\n",
       "    </tr>\n",
       "    <tr>\n",
       "      <th>final.output.tail_au</th>\n",
       "      <td>0.750784</td>\n",
       "      <td>0.273760</td>\n",
       "    </tr>\n",
       "    <tr>\n",
       "      <th>final.output.concentrate_au</th>\n",
       "      <td>0.750466</td>\n",
       "      <td>0.361075</td>\n",
       "    </tr>\n",
       "    <tr>\n",
       "      <th>final.output.concentrate_pb</th>\n",
       "      <td>0.728693</td>\n",
       "      <td>0.275695</td>\n",
       "    </tr>\n",
       "    <tr>\n",
       "      <th>final.output.tail_sol</th>\n",
       "      <td>0.709751</td>\n",
       "      <td>0.325568</td>\n",
       "    </tr>\n",
       "    <tr>\n",
       "      <th>final.output.concentrate_ag</th>\n",
       "      <td>0.672376</td>\n",
       "      <td>0.296502</td>\n",
       "    </tr>\n",
       "    <tr>\n",
       "      <th>rougher.output.recovery</th>\n",
       "      <td>0.644514</td>\n",
       "      <td>1.000000</td>\n",
       "    </tr>\n",
       "    <tr>\n",
       "      <th>final.output.tail_pb</th>\n",
       "      <td>0.640999</td>\n",
       "      <td>0.351335</td>\n",
       "    </tr>\n",
       "    <tr>\n",
       "      <th>final.output.concentrate_sol</th>\n",
       "      <td>0.639677</td>\n",
       "      <td>0.335848</td>\n",
       "    </tr>\n",
       "  </tbody>\n",
       "</table>\n",
       "</div>"
      ],
      "text/plain": [
       "                              final.output.recovery  rougher.output.recovery\n",
       "final.output.recovery                      1.000000                 0.644514\n",
       "final.output.tail_ag                       0.752307                 0.494114\n",
       "final.output.tail_au                       0.750784                 0.273760\n",
       "final.output.concentrate_au                0.750466                 0.361075\n",
       "final.output.concentrate_pb                0.728693                 0.275695\n",
       "final.output.tail_sol                      0.709751                 0.325568\n",
       "final.output.concentrate_ag                0.672376                 0.296502\n",
       "rougher.output.recovery                    0.644514                 1.000000\n",
       "final.output.tail_pb                       0.640999                 0.351335\n",
       "final.output.concentrate_sol               0.639677                 0.335848"
      ]
     },
     "execution_count": 10,
     "metadata": {},
     "output_type": "execute_result"
    }
   ],
   "source": [
    "phik_overview[target].sort_values(by=target[0], ascending=False).head(10)"
   ]
  },
  {
   "cell_type": "code",
   "execution_count": 11,
   "metadata": {},
   "outputs": [
    {
     "data": {
      "text/html": [
       "<div>\n",
       "<style scoped>\n",
       "    .dataframe tbody tr th:only-of-type {\n",
       "        vertical-align: middle;\n",
       "    }\n",
       "\n",
       "    .dataframe tbody tr th {\n",
       "        vertical-align: top;\n",
       "    }\n",
       "\n",
       "    .dataframe thead th {\n",
       "        text-align: right;\n",
       "    }\n",
       "</style>\n",
       "<table border=\"1\" class=\"dataframe\">\n",
       "  <thead>\n",
       "    <tr style=\"text-align: right;\">\n",
       "      <th></th>\n",
       "      <th>final.output.recovery</th>\n",
       "      <th>rougher.output.recovery</th>\n",
       "    </tr>\n",
       "  </thead>\n",
       "  <tbody>\n",
       "    <tr>\n",
       "      <th>rougher.output.recovery</th>\n",
       "      <td>0.644514</td>\n",
       "      <td>1.000000</td>\n",
       "    </tr>\n",
       "    <tr>\n",
       "      <th>rougher.output.concentrate_ag</th>\n",
       "      <td>0.401239</td>\n",
       "      <td>0.794095</td>\n",
       "    </tr>\n",
       "    <tr>\n",
       "      <th>rougher.output.concentrate_au</th>\n",
       "      <td>0.285668</td>\n",
       "      <td>0.789293</td>\n",
       "    </tr>\n",
       "    <tr>\n",
       "      <th>rougher.output.concentrate_sol</th>\n",
       "      <td>0.294749</td>\n",
       "      <td>0.771791</td>\n",
       "    </tr>\n",
       "    <tr>\n",
       "      <th>rougher.output.concentrate_pb</th>\n",
       "      <td>0.267302</td>\n",
       "      <td>0.769021</td>\n",
       "    </tr>\n",
       "    <tr>\n",
       "      <th>rougher.output.tail_au</th>\n",
       "      <td>0.438859</td>\n",
       "      <td>0.692790</td>\n",
       "    </tr>\n",
       "    <tr>\n",
       "      <th>final.output.recovery</th>\n",
       "      <td>1.000000</td>\n",
       "      <td>0.644514</td>\n",
       "    </tr>\n",
       "    <tr>\n",
       "      <th>date</th>\n",
       "      <td>0.459138</td>\n",
       "      <td>0.614202</td>\n",
       "    </tr>\n",
       "    <tr>\n",
       "      <th>rougher.input.feed_ag</th>\n",
       "      <td>0.440835</td>\n",
       "      <td>0.586462</td>\n",
       "    </tr>\n",
       "    <tr>\n",
       "      <th>rougher.output.tail_ag</th>\n",
       "      <td>0.247730</td>\n",
       "      <td>0.526451</td>\n",
       "    </tr>\n",
       "  </tbody>\n",
       "</table>\n",
       "</div>"
      ],
      "text/plain": [
       "                                final.output.recovery  rougher.output.recovery\n",
       "rougher.output.recovery                      0.644514                 1.000000\n",
       "rougher.output.concentrate_ag                0.401239                 0.794095\n",
       "rougher.output.concentrate_au                0.285668                 0.789293\n",
       "rougher.output.concentrate_sol               0.294749                 0.771791\n",
       "rougher.output.concentrate_pb                0.267302                 0.769021\n",
       "rougher.output.tail_au                       0.438859                 0.692790\n",
       "final.output.recovery                        1.000000                 0.644514\n",
       "date                                         0.459138                 0.614202\n",
       "rougher.input.feed_ag                        0.440835                 0.586462\n",
       "rougher.output.tail_ag                       0.247730                 0.526451"
      ]
     },
     "execution_count": 11,
     "metadata": {},
     "output_type": "execute_result"
    }
   ],
   "source": [
    "phik_overview[target].sort_values(by=target[1], ascending=False).head(10)"
   ]
  },
  {
   "cell_type": "markdown",
   "metadata": {},
   "source": [
    "Найдём долю пропусков в стоблцах датафрейма:\n"
   ]
  },
  {
   "cell_type": "code",
   "execution_count": 12,
   "metadata": {},
   "outputs": [
    {
     "data": {
      "text/plain": [
       "final.output.concentrate_ag                 0.000051\n",
       "rougher.state.floatbank10_a_air             0.000051\n",
       "rougher.state.floatbank10_a_level           0.000051\n",
       "rougher.state.floatbank10_b_air             0.000051\n",
       "rougher.state.floatbank10_b_level           0.000051\n",
       "                                              ...   \n",
       "secondary_cleaner.state.floatbank2_a_air    0.011317\n",
       "primary_cleaner.output.concentrate_sol      0.019034\n",
       "rougher.state.floatbank10_e_air             0.022429\n",
       "rougher.input.floatbank11_xanthate          0.023304\n",
       "secondary_cleaner.output.tail_sol           0.089922\n",
       "Length: 63, dtype: float64"
      ]
     },
     "execution_count": 12,
     "metadata": {},
     "output_type": "execute_result"
    }
   ],
   "source": [
    "data_full.isna().mean()[data_full.isna().mean() > 0].sort_values()"
   ]
  },
  {
   "cell_type": "markdown",
   "metadata": {},
   "source": [
    "Проверка на полные дубликаты:\n"
   ]
  },
  {
   "cell_type": "code",
   "execution_count": 13,
   "metadata": {},
   "outputs": [
    {
     "data": {
      "text/plain": [
       "0"
      ]
     },
     "execution_count": 13,
     "metadata": {},
     "output_type": "execute_result"
    }
   ],
   "source": [
    "data_full.duplicated().sum()"
   ]
  },
  {
   "cell_type": "markdown",
   "metadata": {},
   "source": [
    "### Обучающие данные\n"
   ]
  },
  {
   "cell_type": "markdown",
   "metadata": {},
   "source": [
    "Аналогичные данные рассмотрим и в обучающем датасете:\n"
   ]
  },
  {
   "cell_type": "code",
   "execution_count": 14,
   "metadata": {},
   "outputs": [
    {
     "name": "stdout",
     "output_type": "stream",
     "text": [
      "<class 'pandas.core.frame.DataFrame'>\n",
      "RangeIndex: 14149 entries, 0 to 14148\n",
      "Data columns (total 87 columns):\n",
      " #   Column                                              Non-Null Count  Dtype  \n",
      "---  ------                                              --------------  -----  \n",
      " 0   date                                                14149 non-null  object \n",
      " 1   final.output.concentrate_ag                         14148 non-null  float64\n",
      " 2   final.output.concentrate_pb                         14148 non-null  float64\n",
      " 3   final.output.concentrate_sol                        13938 non-null  float64\n",
      " 4   final.output.concentrate_au                         14149 non-null  float64\n",
      " 5   final.output.recovery                               14149 non-null  float64\n",
      " 6   final.output.tail_ag                                14149 non-null  float64\n",
      " 7   final.output.tail_pb                                14049 non-null  float64\n",
      " 8   final.output.tail_sol                               14144 non-null  float64\n",
      " 9   final.output.tail_au                                14149 non-null  float64\n",
      " 10  primary_cleaner.input.sulfate                       14129 non-null  float64\n",
      " 11  primary_cleaner.input.depressant                    14117 non-null  float64\n",
      " 12  primary_cleaner.input.feed_size                     14149 non-null  float64\n",
      " 13  primary_cleaner.input.xanthate                      14049 non-null  float64\n",
      " 14  primary_cleaner.output.concentrate_ag               14149 non-null  float64\n",
      " 15  primary_cleaner.output.concentrate_pb               14063 non-null  float64\n",
      " 16  primary_cleaner.output.concentrate_sol              13863 non-null  float64\n",
      " 17  primary_cleaner.output.concentrate_au               14149 non-null  float64\n",
      " 18  primary_cleaner.output.tail_ag                      14148 non-null  float64\n",
      " 19  primary_cleaner.output.tail_pb                      14134 non-null  float64\n",
      " 20  primary_cleaner.output.tail_sol                     14103 non-null  float64\n",
      " 21  primary_cleaner.output.tail_au                      14149 non-null  float64\n",
      " 22  primary_cleaner.state.floatbank8_a_air              14145 non-null  float64\n",
      " 23  primary_cleaner.state.floatbank8_a_level            14148 non-null  float64\n",
      " 24  primary_cleaner.state.floatbank8_b_air              14145 non-null  float64\n",
      " 25  primary_cleaner.state.floatbank8_b_level            14148 non-null  float64\n",
      " 26  primary_cleaner.state.floatbank8_c_air              14147 non-null  float64\n",
      " 27  primary_cleaner.state.floatbank8_c_level            14148 non-null  float64\n",
      " 28  primary_cleaner.state.floatbank8_d_air              14146 non-null  float64\n",
      " 29  primary_cleaner.state.floatbank8_d_level            14148 non-null  float64\n",
      " 30  rougher.calculation.sulfate_to_au_concentrate       14148 non-null  float64\n",
      " 31  rougher.calculation.floatbank10_sulfate_to_au_feed  14148 non-null  float64\n",
      " 32  rougher.calculation.floatbank11_sulfate_to_au_feed  14148 non-null  float64\n",
      " 33  rougher.calculation.au_pb_ratio                     14149 non-null  float64\n",
      " 34  rougher.input.feed_ag                               14149 non-null  float64\n",
      " 35  rougher.input.feed_pb                               14049 non-null  float64\n",
      " 36  rougher.input.feed_rate                             14141 non-null  float64\n",
      " 37  rougher.input.feed_size                             14005 non-null  float64\n",
      " 38  rougher.input.feed_sol                              14071 non-null  float64\n",
      " 39  rougher.input.feed_au                               14149 non-null  float64\n",
      " 40  rougher.input.floatbank10_sulfate                   14120 non-null  float64\n",
      " 41  rougher.input.floatbank10_xanthate                  14141 non-null  float64\n",
      " 42  rougher.input.floatbank11_sulfate                   14113 non-null  float64\n",
      " 43  rougher.input.floatbank11_xanthate                  13721 non-null  float64\n",
      " 44  rougher.output.concentrate_ag                       14149 non-null  float64\n",
      " 45  rougher.output.concentrate_pb                       14149 non-null  float64\n",
      " 46  rougher.output.concentrate_sol                      14127 non-null  float64\n",
      " 47  rougher.output.concentrate_au                       14149 non-null  float64\n",
      " 48  rougher.output.recovery                             14149 non-null  float64\n",
      " 49  rougher.output.tail_ag                              14148 non-null  float64\n",
      " 50  rougher.output.tail_pb                              14149 non-null  float64\n",
      " 51  rougher.output.tail_sol                             14149 non-null  float64\n",
      " 52  rougher.output.tail_au                              14149 non-null  float64\n",
      " 53  rougher.state.floatbank10_a_air                     14148 non-null  float64\n",
      " 54  rougher.state.floatbank10_a_level                   14148 non-null  float64\n",
      " 55  rougher.state.floatbank10_b_air                     14148 non-null  float64\n",
      " 56  rougher.state.floatbank10_b_level                   14148 non-null  float64\n",
      " 57  rougher.state.floatbank10_c_air                     14148 non-null  float64\n",
      " 58  rougher.state.floatbank10_c_level                   14148 non-null  float64\n",
      " 59  rougher.state.floatbank10_d_air                     14149 non-null  float64\n",
      " 60  rougher.state.floatbank10_d_level                   14149 non-null  float64\n",
      " 61  rougher.state.floatbank10_e_air                     13713 non-null  float64\n",
      " 62  rougher.state.floatbank10_e_level                   14149 non-null  float64\n",
      " 63  rougher.state.floatbank10_f_air                     14149 non-null  float64\n",
      " 64  rougher.state.floatbank10_f_level                   14149 non-null  float64\n",
      " 65  secondary_cleaner.output.tail_ag                    14147 non-null  float64\n",
      " 66  secondary_cleaner.output.tail_pb                    14139 non-null  float64\n",
      " 67  secondary_cleaner.output.tail_sol                   12544 non-null  float64\n",
      " 68  secondary_cleaner.output.tail_au                    14149 non-null  float64\n",
      " 69  secondary_cleaner.state.floatbank2_a_air            13932 non-null  float64\n",
      " 70  secondary_cleaner.state.floatbank2_a_level          14148 non-null  float64\n",
      " 71  secondary_cleaner.state.floatbank2_b_air            14128 non-null  float64\n",
      " 72  secondary_cleaner.state.floatbank2_b_level          14148 non-null  float64\n",
      " 73  secondary_cleaner.state.floatbank3_a_air            14145 non-null  float64\n",
      " 74  secondary_cleaner.state.floatbank3_a_level          14148 non-null  float64\n",
      " 75  secondary_cleaner.state.floatbank3_b_air            14148 non-null  float64\n",
      " 76  secondary_cleaner.state.floatbank3_b_level          14148 non-null  float64\n",
      " 77  secondary_cleaner.state.floatbank4_a_air            14143 non-null  float64\n",
      " 78  secondary_cleaner.state.floatbank4_a_level          14148 non-null  float64\n",
      " 79  secondary_cleaner.state.floatbank4_b_air            14148 non-null  float64\n",
      " 80  secondary_cleaner.state.floatbank4_b_level          14148 non-null  float64\n",
      " 81  secondary_cleaner.state.floatbank5_a_air            14148 non-null  float64\n",
      " 82  secondary_cleaner.state.floatbank5_a_level          14148 non-null  float64\n",
      " 83  secondary_cleaner.state.floatbank5_b_air            14148 non-null  float64\n",
      " 84  secondary_cleaner.state.floatbank5_b_level          14148 non-null  float64\n",
      " 85  secondary_cleaner.state.floatbank6_a_air            14147 non-null  float64\n",
      " 86  secondary_cleaner.state.floatbank6_a_level          14148 non-null  float64\n",
      "dtypes: float64(86), object(1)\n",
      "memory usage: 9.4+ MB\n"
     ]
    }
   ],
   "source": [
    "data_train.info()"
   ]
  },
  {
   "cell_type": "code",
   "execution_count": 15,
   "metadata": {},
   "outputs": [],
   "source": [
    "data_train[\"date\"] = pd.to_datetime(data_train[\"date\"], format=\"%Y-%m-%d %H:%M:%S\")\n",
    "data_train[\"date\"] = (data_train[\"date\"] - pd.Timestamp(\"1970-01-01\")) // pd.Timedelta(\n",
    "    \"1s\"\n",
    ")"
   ]
  },
  {
   "cell_type": "code",
   "execution_count": 16,
   "metadata": {},
   "outputs": [
    {
     "data": {
      "text/plain": [
       "final.output.concentrate_ag                 0.000071\n",
       "rougher.output.tail_ag                      0.000071\n",
       "rougher.state.floatbank10_a_air             0.000071\n",
       "rougher.state.floatbank10_a_level           0.000071\n",
       "rougher.state.floatbank10_b_air             0.000071\n",
       "                                              ...   \n",
       "secondary_cleaner.state.floatbank2_a_air    0.015337\n",
       "primary_cleaner.output.concentrate_sol      0.020213\n",
       "rougher.input.floatbank11_xanthate          0.030249\n",
       "rougher.state.floatbank10_e_air             0.030815\n",
       "secondary_cleaner.output.tail_sol           0.113436\n",
       "Length: 62, dtype: float64"
      ]
     },
     "execution_count": 16,
     "metadata": {},
     "output_type": "execute_result"
    }
   ],
   "source": [
    "data_train.isna().mean()[data_train.isna().mean() > 0].sort_values()"
   ]
  },
  {
   "cell_type": "code",
   "execution_count": 17,
   "metadata": {},
   "outputs": [
    {
     "data": {
      "text/plain": [
       "0"
      ]
     },
     "execution_count": 17,
     "metadata": {},
     "output_type": "execute_result"
    }
   ],
   "source": [
    "data_train.duplicated().sum()"
   ]
  },
  {
   "cell_type": "markdown",
   "metadata": {},
   "source": [
    "### Тестовые данные\n"
   ]
  },
  {
   "cell_type": "code",
   "execution_count": 18,
   "metadata": {},
   "outputs": [
    {
     "name": "stdout",
     "output_type": "stream",
     "text": [
      "<class 'pandas.core.frame.DataFrame'>\n",
      "RangeIndex: 5290 entries, 0 to 5289\n",
      "Data columns (total 53 columns):\n",
      " #   Column                                      Non-Null Count  Dtype  \n",
      "---  ------                                      --------------  -----  \n",
      " 0   date                                        5290 non-null   object \n",
      " 1   primary_cleaner.input.sulfate               5286 non-null   float64\n",
      " 2   primary_cleaner.input.depressant            5285 non-null   float64\n",
      " 3   primary_cleaner.input.feed_size             5290 non-null   float64\n",
      " 4   primary_cleaner.input.xanthate              5286 non-null   float64\n",
      " 5   primary_cleaner.state.floatbank8_a_air      5290 non-null   float64\n",
      " 6   primary_cleaner.state.floatbank8_a_level    5290 non-null   float64\n",
      " 7   primary_cleaner.state.floatbank8_b_air      5290 non-null   float64\n",
      " 8   primary_cleaner.state.floatbank8_b_level    5290 non-null   float64\n",
      " 9   primary_cleaner.state.floatbank8_c_air      5290 non-null   float64\n",
      " 10  primary_cleaner.state.floatbank8_c_level    5290 non-null   float64\n",
      " 11  primary_cleaner.state.floatbank8_d_air      5290 non-null   float64\n",
      " 12  primary_cleaner.state.floatbank8_d_level    5290 non-null   float64\n",
      " 13  rougher.input.feed_ag                       5290 non-null   float64\n",
      " 14  rougher.input.feed_pb                       5290 non-null   float64\n",
      " 15  rougher.input.feed_rate                     5287 non-null   float64\n",
      " 16  rougher.input.feed_size                     5289 non-null   float64\n",
      " 17  rougher.input.feed_sol                      5269 non-null   float64\n",
      " 18  rougher.input.feed_au                       5290 non-null   float64\n",
      " 19  rougher.input.floatbank10_sulfate           5285 non-null   float64\n",
      " 20  rougher.input.floatbank10_xanthate          5290 non-null   float64\n",
      " 21  rougher.input.floatbank11_sulfate           5282 non-null   float64\n",
      " 22  rougher.input.floatbank11_xanthate          5265 non-null   float64\n",
      " 23  rougher.state.floatbank10_a_air             5290 non-null   float64\n",
      " 24  rougher.state.floatbank10_a_level           5290 non-null   float64\n",
      " 25  rougher.state.floatbank10_b_air             5290 non-null   float64\n",
      " 26  rougher.state.floatbank10_b_level           5290 non-null   float64\n",
      " 27  rougher.state.floatbank10_c_air             5290 non-null   float64\n",
      " 28  rougher.state.floatbank10_c_level           5290 non-null   float64\n",
      " 29  rougher.state.floatbank10_d_air             5290 non-null   float64\n",
      " 30  rougher.state.floatbank10_d_level           5290 non-null   float64\n",
      " 31  rougher.state.floatbank10_e_air             5290 non-null   float64\n",
      " 32  rougher.state.floatbank10_e_level           5290 non-null   float64\n",
      " 33  rougher.state.floatbank10_f_air             5290 non-null   float64\n",
      " 34  rougher.state.floatbank10_f_level           5290 non-null   float64\n",
      " 35  secondary_cleaner.state.floatbank2_a_air    5287 non-null   float64\n",
      " 36  secondary_cleaner.state.floatbank2_a_level  5290 non-null   float64\n",
      " 37  secondary_cleaner.state.floatbank2_b_air    5288 non-null   float64\n",
      " 38  secondary_cleaner.state.floatbank2_b_level  5290 non-null   float64\n",
      " 39  secondary_cleaner.state.floatbank3_a_air    5281 non-null   float64\n",
      " 40  secondary_cleaner.state.floatbank3_a_level  5290 non-null   float64\n",
      " 41  secondary_cleaner.state.floatbank3_b_air    5290 non-null   float64\n",
      " 42  secondary_cleaner.state.floatbank3_b_level  5290 non-null   float64\n",
      " 43  secondary_cleaner.state.floatbank4_a_air    5290 non-null   float64\n",
      " 44  secondary_cleaner.state.floatbank4_a_level  5290 non-null   float64\n",
      " 45  secondary_cleaner.state.floatbank4_b_air    5290 non-null   float64\n",
      " 46  secondary_cleaner.state.floatbank4_b_level  5290 non-null   float64\n",
      " 47  secondary_cleaner.state.floatbank5_a_air    5290 non-null   float64\n",
      " 48  secondary_cleaner.state.floatbank5_a_level  5290 non-null   float64\n",
      " 49  secondary_cleaner.state.floatbank5_b_air    5290 non-null   float64\n",
      " 50  secondary_cleaner.state.floatbank5_b_level  5290 non-null   float64\n",
      " 51  secondary_cleaner.state.floatbank6_a_air    5290 non-null   float64\n",
      " 52  secondary_cleaner.state.floatbank6_a_level  5290 non-null   float64\n",
      "dtypes: float64(52), object(1)\n",
      "memory usage: 2.1+ MB\n"
     ]
    }
   ],
   "source": [
    "data_test.info()"
   ]
  },
  {
   "cell_type": "code",
   "execution_count": 19,
   "metadata": {},
   "outputs": [],
   "source": [
    "data_test[\"date\"] = pd.to_datetime(data_test[\"date\"], format=\"%Y-%m-%d %H:%M:%S\")\n",
    "data_test[\"date\"] = (data_test[\"date\"] - pd.Timestamp(\"1970-01-01\")) // pd.Timedelta(\n",
    "    \"1s\"\n",
    ")"
   ]
  },
  {
   "cell_type": "code",
   "execution_count": 20,
   "metadata": {},
   "outputs": [
    {
     "data": {
      "text/plain": [
       "rougher.input.feed_size                     0.000189\n",
       "secondary_cleaner.state.floatbank2_b_air    0.000378\n",
       "rougher.input.feed_rate                     0.000567\n",
       "secondary_cleaner.state.floatbank2_a_air    0.000567\n",
       "primary_cleaner.input.sulfate               0.000756\n",
       "primary_cleaner.input.xanthate              0.000756\n",
       "primary_cleaner.input.depressant            0.000945\n",
       "rougher.input.floatbank10_sulfate           0.000945\n",
       "rougher.input.floatbank11_sulfate           0.001512\n",
       "secondary_cleaner.state.floatbank3_a_air    0.001701\n",
       "rougher.input.feed_sol                      0.003970\n",
       "rougher.input.floatbank11_xanthate          0.004726\n",
       "dtype: float64"
      ]
     },
     "execution_count": 20,
     "metadata": {},
     "output_type": "execute_result"
    }
   ],
   "source": [
    "data_test.isna().mean()[data_test.isna().mean() > 0].sort_values()"
   ]
  },
  {
   "cell_type": "markdown",
   "metadata": {},
   "source": [
    "Проверим, какие признаки отсутствуют в тестовом наборе по сравнению с полным датасетом:\n"
   ]
  },
  {
   "cell_type": "code",
   "execution_count": 21,
   "metadata": {},
   "outputs": [
    {
     "data": {
      "text/plain": [
       "['final.output.concentrate_ag',\n",
       " 'final.output.concentrate_pb',\n",
       " 'final.output.concentrate_sol',\n",
       " 'final.output.concentrate_au',\n",
       " 'final.output.recovery',\n",
       " 'final.output.tail_ag',\n",
       " 'final.output.tail_pb',\n",
       " 'final.output.tail_sol',\n",
       " 'final.output.tail_au',\n",
       " 'primary_cleaner.output.concentrate_ag',\n",
       " 'primary_cleaner.output.concentrate_pb',\n",
       " 'primary_cleaner.output.concentrate_sol',\n",
       " 'primary_cleaner.output.concentrate_au',\n",
       " 'primary_cleaner.output.tail_ag',\n",
       " 'primary_cleaner.output.tail_pb',\n",
       " 'primary_cleaner.output.tail_sol',\n",
       " 'primary_cleaner.output.tail_au',\n",
       " 'rougher.calculation.sulfate_to_au_concentrate',\n",
       " 'rougher.calculation.floatbank10_sulfate_to_au_feed',\n",
       " 'rougher.calculation.floatbank11_sulfate_to_au_feed',\n",
       " 'rougher.calculation.au_pb_ratio',\n",
       " 'rougher.output.concentrate_ag',\n",
       " 'rougher.output.concentrate_pb',\n",
       " 'rougher.output.concentrate_sol',\n",
       " 'rougher.output.concentrate_au',\n",
       " 'rougher.output.recovery',\n",
       " 'rougher.output.tail_ag',\n",
       " 'rougher.output.tail_pb',\n",
       " 'rougher.output.tail_sol',\n",
       " 'rougher.output.tail_au',\n",
       " 'secondary_cleaner.output.tail_ag',\n",
       " 'secondary_cleaner.output.tail_pb',\n",
       " 'secondary_cleaner.output.tail_sol',\n",
       " 'secondary_cleaner.output.tail_au']"
      ]
     },
     "execution_count": 21,
     "metadata": {},
     "output_type": "execute_result"
    }
   ],
   "source": [
    "[x for x in data_full.columns if x not in data_test.columns]"
   ]
  },
  {
   "cell_type": "markdown",
   "metadata": {},
   "source": [
    "В основном отсутствуют данные по финальному этапу обработки, выходные и некоторые расчётные данные по компонентам. Согласно условию, это в порядке вещей, поскольку часть из них рассчитывается гораздо позже.\n"
   ]
  },
  {
   "cell_type": "markdown",
   "metadata": {},
   "source": [
    "### Проверка правильности расчётов эффективности обогащения\n"
   ]
  },
  {
   "cell_type": "markdown",
   "metadata": {},
   "source": [
    "Для признака _rougher.output.recovery_ на обучающих данных необходимо проверить правильность расчёта, для этого необходимо посчитать MAE между имеющимися данными и рассчитанными вручную. Расчёты проводятся по формуле:\n",
    "\n",
    "$$\n",
    "Recovery = \\frac{C\\cdot{(F - T)}}{F\\cdot{(C - T)}} \\cdot 100\\%,\n",
    "$$\n",
    "\n",
    "где:\n",
    "\n",
    "- C — доля золота в концентрате после флотации/очистки;\n",
    "- F — доля золота в сырье/концентрате до флотации/очистки;\n",
    "- T — доля золота в отвальных хвостах после флотации/очистки.\n"
   ]
  },
  {
   "cell_type": "code",
   "execution_count": 22,
   "metadata": {},
   "outputs": [],
   "source": [
    "C_frac = data_train[\"rougher.output.concentrate_au\"]\n",
    "F_frac = data_train[\"rougher.input.feed_au\"]\n",
    "T_frac = data_train[\"rougher.output.tail_au\"]"
   ]
  },
  {
   "cell_type": "code",
   "execution_count": 23,
   "metadata": {},
   "outputs": [],
   "source": [
    "data_train[\"rougher.output.recovery_pred\"] = (\n",
    "    100 * (C_frac * (F_frac - T_frac)) / (F_frac * (C_frac - T_frac))\n",
    ")"
   ]
  },
  {
   "cell_type": "code",
   "execution_count": 24,
   "metadata": {},
   "outputs": [
    {
     "name": "stdout",
     "output_type": "stream",
     "text": [
      "MAE: 1.1131451184435918e-14\n"
     ]
    }
   ],
   "source": [
    "mae = mean_absolute_error(\n",
    "    data_train[\"rougher.output.recovery\"], data_train[\"rougher.output.recovery_pred\"]\n",
    ")\n",
    "print(\"MAE:\", mae)"
   ]
  },
  {
   "cell_type": "markdown",
   "metadata": {},
   "source": [
    "Полученный MAE оказался ничтожно малым, поэтому можно с уверенностью считать, что исходные рассчёты верны.\n"
   ]
  },
  {
   "cell_type": "markdown",
   "metadata": {},
   "source": [
    "### Заполнение пропусков\n"
   ]
  },
  {
   "cell_type": "markdown",
   "metadata": {},
   "source": [
    "В задании указано, что значения в соседних колонках слабо отличаются между собой, поэтому их можно заполнить методом К-ближайших соседей. Обучим его на полных данных, а затем применим к трейну, тестовые данные будут вызывать проблемы, поскольку в них меньше признаков, чем в остальных датасетах. В таком случае заполним его значениями из полного датасета по соответствующим меткам даты.\n"
   ]
  },
  {
   "cell_type": "code",
   "execution_count": 25,
   "metadata": {},
   "outputs": [
    {
     "name": "stdout",
     "output_type": "stream",
     "text": [
      "CPU times: user 44.4 s, sys: 4.71 s, total: 49.1 s\n",
      "Wall time: 49.1 s\n"
     ]
    }
   ],
   "source": [
    "%%time\n",
    "imputer = KNNImputer(n_neighbors=2)\n",
    "imputer.fit(data_full)\n",
    "data_full_filled = pd.DataFrame(\n",
    "    imputer.transform(data_full),\n",
    "    index=data_full.index,\n",
    "    columns=data_full.columns)\n",
    "data_train_filled = pd.DataFrame(\n",
    "    imputer.transform(data_train.iloc[:, :-1]),\n",
    "    index=data_train.iloc[:, :-1].index,\n",
    "    columns=data_train.iloc[:, :-1].columns)\n",
    "data_test_filled = (\n",
    "    data_full_filled\n",
    "    .loc[data_full_filled['date'].isin(data_test['date']), data_test.columns]\n",
    "    .reset_index(drop=True).copy())"
   ]
  },
  {
   "cell_type": "markdown",
   "metadata": {},
   "source": [
    "Проверим, остались ли в каких нибудь столбцах пропуски:\n"
   ]
  },
  {
   "cell_type": "code",
   "execution_count": 26,
   "metadata": {},
   "outputs": [
    {
     "data": {
      "text/plain": [
       "(0, 0, 0)"
      ]
     },
     "execution_count": 26,
     "metadata": {},
     "output_type": "execute_result"
    }
   ],
   "source": [
    "data_full_filled.isna().sum().sum(), data_train_filled.isna().sum().sum(), data_test_filled.isna().sum().sum()"
   ]
  },
  {
   "cell_type": "markdown",
   "metadata": {},
   "source": [
    "### **Вывод**\n",
    "\n",
    "- Полная выборка достаточно обширна 87 колонок и 19439 строк, пропусков немного, но они есть в подавляющем количестве столбцов, Корреляционная матрица показала, что для целевого параметра **_final.output.recovery_**, важными показателями являются значения столбцов в префиксом _final.output_ и _rougher.output.recovery_, а для **_rougher.output.recovery_** - _rougher.output, date_ и _rougher.input.feed_ag_;\n",
    "- Обучающие данные содержат столько же колонок, сколько и полные, в них также есть большое количество колонок с пропускими, но самих пропусков там незначительное количество;\n",
    "- В тестовых данных также есть пропуски(в 12 столцах), в них на 34 столбца меньше и большая часть из них связана с параметрами на выходе на различных этапах обработки;\n",
    "- Полных дубликатов нет ни в одном из наборов данных, также в каждом из них значение столбца _date_ преобразовано в количество секунд(unix), для использования их как числовых данных в моделях;\n",
    "- Рассчёты эффективности обогащения проведены правильно, о чём говорит близкое к 0 значение средней абсолютной ошибки, проведённое через сравнение со значениями по формуле;\n",
    "- Пропуски в данных заполнены методом K-ближайших соседей, посколько данные между соседними временными шагами схожи.\n"
   ]
  },
  {
   "cell_type": "markdown",
   "metadata": {},
   "source": [
    "## Анализ данных\n"
   ]
  },
  {
   "cell_type": "markdown",
   "metadata": {},
   "source": [
    "### Анализ изменения концентрации металлов на различных этапах очистки\n"
   ]
  },
  {
   "cell_type": "markdown",
   "metadata": {},
   "source": [
    "Каждый элемент выделим в отдельную категорию, а также соберём все названия в одну переменную _metals_:\n"
   ]
  },
  {
   "cell_type": "code",
   "execution_count": 27,
   "metadata": {},
   "outputs": [],
   "source": [
    "ag = [\n",
    "    \"rougher.output.concentrate_ag\",\n",
    "    \"primary_cleaner.output.concentrate_ag\",\n",
    "    \"final.output.concentrate_ag\",\n",
    "]\n",
    "pb = [\n",
    "    \"rougher.output.concentrate_pb\",\n",
    "    \"primary_cleaner.output.concentrate_pb\",\n",
    "    \"final.output.concentrate_pb\",\n",
    "]\n",
    "au = [\n",
    "    \"rougher.output.concentrate_au\",\n",
    "    \"primary_cleaner.output.concentrate_au\",\n",
    "    \"final.output.concentrate_au\",\n",
    "]\n",
    "sol = [\n",
    "    \"rougher.output.concentrate_sol\",\n",
    "    \"primary_cleaner.output.concentrate_sol\",\n",
    "    \"final.output.concentrate_sol\",\n",
    "]\n",
    "elements = np.array([ag, pb, au, sol])"
   ]
  },
  {
   "cell_type": "markdown",
   "metadata": {},
   "source": [
    "Визуализируем изменение содержания этих металлов на разнах этапах обработки руды, приняв за ключевой параметр медианной значение по набору данных:\n"
   ]
  },
  {
   "cell_type": "code",
   "execution_count": 28,
   "metadata": {},
   "outputs": [
    {
     "data": {
      "image/png": "[encoded data removed]",
      "text/plain": [
       "<Figure size 1440x720 with 3 Axes>"
      ]
     },
     "metadata": {
      "needs_background": "light"
     },
     "output_type": "display_data"
    }
   ],
   "source": [
    "stage_names = [\"rougher\", \"primary\", \"final\"]\n",
    "fig, axis = plt.subplots(1, 3, figsize=(20, 10), sharey=True)\n",
    "\n",
    "sns.barplot(y=stage_names, x=data_full_filled[ag].median().values, ax=axis[0])\n",
    "sns.barplot(y=stage_names, x=data_full_filled[pb].median().values, ax=axis[1])\n",
    "sns.barplot(y=stage_names, x=data_full_filled[au].median().values, ax=axis[2])\n",
    "\n",
    "axis[0].set_title(\"Ag\")\n",
    "axis[0].grid(0)\n",
    "\n",
    "axis[1].set_title(\"Pb\")\n",
    "axis[1].grid(0)\n",
    "\n",
    "axis[2].set_title(\"Au\")\n",
    "axis[2].grid(0)\n",
    "plt.setp(axis, xlabel=\"Средняя концентрация\")\n",
    "\n",
    "plt.suptitle(\"Средняя концентрация элемента в руде на разных этапах обработки\")\n",
    "plt.tight_layout()\n",
    "plt.show()"
   ]
  },
  {
   "cell_type": "markdown",
   "metadata": {},
   "source": [
    "Ожидаемо, что с ходом обработки концентрация золота растёт, а серебра - уменьшается. Концентрация свинца однако после превого этапа расти перестаёт. Важно также иметь в виду, что на каждом этапе масса обрабатываемого сырья также уменьшается, поэтому с каждым этапом фактическое содержание каждого элемента уменьшается.\n"
   ]
  },
  {
   "cell_type": "markdown",
   "metadata": {},
   "source": [
    "### Сравнение распределений размеров гранул сырья\n"
   ]
  },
  {
   "cell_type": "markdown",
   "metadata": {},
   "source": [
    "Для сравнения размеров гранул сырья в тестовой и обучающей выборке, построим их распределения в рамках одного графика, для большей наглядности применив нормализацию с помощью параметра _density_:\n"
   ]
  },
  {
   "cell_type": "code",
   "execution_count": 29,
   "metadata": {},
   "outputs": [
    {
     "data": {
      "image/png": "[encoded data removed]",
      "text/plain": [
       "<Figure size 1440x720 with 1 Axes>"
      ]
     },
     "metadata": {
      "needs_background": "light"
     },
     "output_type": "display_data"
    }
   ],
   "source": [
    "plt.figure(figsize=(20, 10))\n",
    "sns.histplot(data_train_filled[\"rougher.input.feed_size\"], stat=\"density\")\n",
    "sns.histplot(\n",
    "    data_test_filled[\"rougher.input.feed_size\"], color=\"orange\", stat=\"density\"\n",
    ")\n",
    "plt.legend([\"train\", \"test\"])\n",
    "plt.title(\"Сравнение размеров гранул на этапе флотации\")"
   ]
  },
  {
   "cell_type": "code",
   "execution_count": 30,
   "metadata": {},
   "outputs": [
    {
     "data": {
      "image/png": "[encoded data removed]",
      "text/plain": [
       "<Figure size 1440x720 with 1 Axes>"
      ]
     },
     "metadata": {
      "needs_background": "light"
     },
     "output_type": "display_data"
    }
   ],
   "source": [
    "plt.figure(figsize=(20, 10))\n",
    "sns.histplot(data_train_filled[\"primary_cleaner.input.feed_size\"], stat=\"density\")\n",
    "sns.histplot(\n",
    "    data_test_filled[\"primary_cleaner.input.feed_size\"], stat=\"density\", color=\"orange\"\n",
    ")\n",
    "plt.legend([\"train\", \"test\"])\n",
    "plt.title(\"Сравнение размеров гранул на этапе первичной очистки\")"
   ]
  },
  {
   "cell_type": "markdown",
   "metadata": {},
   "source": [
    "Не смотря на то, что на этапе флотации данные визуально имеют значительные различия вначале, но также и имеют схожую тенденцию к уменьшению значений до 100 ед, так что их можно считать с достаточной уверенностью подобными. В случае первичной очисти явным образом понятно, что распределения схожи. Таким образом, оценку модели можно считать адекватной с определённой долей уверенности. Визуальная оценка имеет место быть, поскольку данных достаточно много.\n"
   ]
  },
  {
   "cell_type": "markdown",
   "metadata": {},
   "source": [
    "### Анализ изменения суммарной концентрации всех веществ на разных этапах очистки\n"
   ]
  },
  {
   "cell_type": "markdown",
   "metadata": {},
   "source": [
    "Посмотрим на распределения суммарной концентраций с помощью гистограмм, предварительно подготовив для них дефолтные параметры:\n"
   ]
  },
  {
   "cell_type": "code",
   "execution_count": 31,
   "metadata": {},
   "outputs": [],
   "source": [
    "histparams = dict(bins=100, figsize=(20, 10), histtype=\"step\", lw=3)"
   ]
  },
  {
   "cell_type": "code",
   "execution_count": 32,
   "metadata": {},
   "outputs": [],
   "source": [
    "stage_sum = {\n",
    "    \"raw\": [\n",
    "        \"rougher.input.feed_ag\",\n",
    "        \"rougher.input.feed_pb\",\n",
    "        \"rougher.input.feed_sol\",\n",
    "        \"rougher.input.feed_au\",\n",
    "    ],\n",
    "    \"rough\": [\n",
    "        \"rougher.output.concentrate_ag\",\n",
    "        \"rougher.output.concentrate_pb\",\n",
    "        \"rougher.output.concentrate_sol\",\n",
    "        \"rougher.output.concentrate_au\",\n",
    "    ],\n",
    "    \"final\": [\n",
    "        \"final.output.concentrate_ag\",\n",
    "        \"final.output.concentrate_pb\",\n",
    "        \"final.output.concentrate_sol\",\n",
    "        \"final.output.concentrate_au\",\n",
    "    ],\n",
    "}"
   ]
  },
  {
   "cell_type": "code",
   "execution_count": 33,
   "metadata": {},
   "outputs": [
    {
     "data": {
      "image/png": "[encoded data removed]",
      "text/plain": [
       "<Figure size 1440x720 with 1 Axes>"
      ]
     },
     "metadata": {
      "needs_background": "light"
     },
     "output_type": "display_data"
    }
   ],
   "source": [
    "[\n",
    "    data_full_filled[stage_sum[key]].sum(axis=1).hist(**histparams, label=key)\n",
    "    for key in stage_sum\n",
    "]\n",
    "plt.title(\"Распределение суммарной концентрации на разных этапах очистки\")\n",
    "plt.xlabel(\"Диапазон изменения величины\")\n",
    "plt.ylabel(\"Количество наблюдений\")\n",
    "plt.legend(loc=\"upper left\")"
   ]
  },
  {
   "cell_type": "markdown",
   "metadata": {},
   "source": [
    "Основная масса значений собралась в районе 50-85, но также присутствуют и околонулевые значения. Рассмотрим их подробнее с помощью boxplot.\n"
   ]
  },
  {
   "cell_type": "code",
   "execution_count": 34,
   "metadata": {},
   "outputs": [
    {
     "data": {
      "image/png": "[encoded data removed]",
      "text/plain": [
       "<Figure size 1440x720 with 1 Axes>"
      ]
     },
     "metadata": {
      "needs_background": "light"
     },
     "output_type": "display_data"
    }
   ],
   "source": [
    "plt.figure(figsize=(20, 10))\n",
    "sns.boxplot(\n",
    "    data=[data_full_filled[stage_sum[key]].sum(axis=1) for key in stage_sum],\n",
    "    orient=\"h\",\n",
    ")\n",
    "plt.xlabel(\"Диапазон изменения величины\")\n",
    "plt.xticks(range(0, 100, 10))\n",
    "plt.yticks(ticks=range(3), labels=stage_sum)\n",
    "plt.grid(which=\"major\")\n",
    "plt.show()"
   ]
  },
  {
   "cell_type": "markdown",
   "metadata": {},
   "source": [
    "Большая часть малых значений сосредоточена на этапе первичной очистки. Проверим полученный датасет на наличие аномалий\n"
   ]
  },
  {
   "cell_type": "code",
   "execution_count": 35,
   "metadata": {},
   "outputs": [
    {
     "data": {
      "text/html": [
       "<div>\n",
       "<style scoped>\n",
       "    .dataframe tbody tr th:only-of-type {\n",
       "        vertical-align: middle;\n",
       "    }\n",
       "\n",
       "    .dataframe tbody tr th {\n",
       "        vertical-align: top;\n",
       "    }\n",
       "\n",
       "    .dataframe thead th {\n",
       "        text-align: right;\n",
       "    }\n",
       "</style>\n",
       "<table border=\"1\" class=\"dataframe\">\n",
       "  <thead>\n",
       "    <tr style=\"text-align: right;\">\n",
       "      <th></th>\n",
       "      <th>raw</th>\n",
       "      <th>rough</th>\n",
       "      <th>final</th>\n",
       "    </tr>\n",
       "  </thead>\n",
       "  <tbody>\n",
       "    <tr>\n",
       "      <th>45</th>\n",
       "      <td>58.602038</td>\n",
       "      <td>0.000000</td>\n",
       "      <td>66.175996</td>\n",
       "    </tr>\n",
       "    <tr>\n",
       "      <th>46</th>\n",
       "      <td>59.921613</td>\n",
       "      <td>0.000000</td>\n",
       "      <td>66.794250</td>\n",
       "    </tr>\n",
       "    <tr>\n",
       "      <th>47</th>\n",
       "      <td>42.185871</td>\n",
       "      <td>0.000000</td>\n",
       "      <td>67.572604</td>\n",
       "    </tr>\n",
       "    <tr>\n",
       "      <th>48</th>\n",
       "      <td>25.352358</td>\n",
       "      <td>0.000000</td>\n",
       "      <td>65.391509</td>\n",
       "    </tr>\n",
       "    <tr>\n",
       "      <th>49</th>\n",
       "      <td>40.721375</td>\n",
       "      <td>0.000000</td>\n",
       "      <td>62.392354</td>\n",
       "    </tr>\n",
       "    <tr>\n",
       "      <th>...</th>\n",
       "      <td>...</td>\n",
       "      <td>...</td>\n",
       "      <td>...</td>\n",
       "    </tr>\n",
       "    <tr>\n",
       "      <th>16227</th>\n",
       "      <td>0.040000</td>\n",
       "      <td>0.040000</td>\n",
       "      <td>68.805134</td>\n",
       "    </tr>\n",
       "    <tr>\n",
       "      <th>16228</th>\n",
       "      <td>0.040000</td>\n",
       "      <td>0.040000</td>\n",
       "      <td>68.805134</td>\n",
       "    </tr>\n",
       "    <tr>\n",
       "      <th>16229</th>\n",
       "      <td>0.040000</td>\n",
       "      <td>0.040000</td>\n",
       "      <td>68.805134</td>\n",
       "    </tr>\n",
       "    <tr>\n",
       "      <th>16230</th>\n",
       "      <td>0.040000</td>\n",
       "      <td>0.040000</td>\n",
       "      <td>53.845297</td>\n",
       "    </tr>\n",
       "    <tr>\n",
       "      <th>17567</th>\n",
       "      <td>9.514401</td>\n",
       "      <td>12.490444</td>\n",
       "      <td>0.040000</td>\n",
       "    </tr>\n",
       "  </tbody>\n",
       "</table>\n",
       "<p>496 rows × 3 columns</p>\n",
       "</div>"
      ],
      "text/plain": [
       "             raw      rough      final\n",
       "45     58.602038   0.000000  66.175996\n",
       "46     59.921613   0.000000  66.794250\n",
       "47     42.185871   0.000000  67.572604\n",
       "48     25.352358   0.000000  65.391509\n",
       "49     40.721375   0.000000  62.392354\n",
       "...          ...        ...        ...\n",
       "16227   0.040000   0.040000  68.805134\n",
       "16228   0.040000   0.040000  68.805134\n",
       "16229   0.040000   0.040000  68.805134\n",
       "16230   0.040000   0.040000  53.845297\n",
       "17567   9.514401  12.490444   0.040000\n",
       "\n",
       "[496 rows x 3 columns]"
      ]
     },
     "execution_count": 35,
     "metadata": {},
     "output_type": "execute_result"
    }
   ],
   "source": [
    "el_sum_concentration = pd.DataFrame(\n",
    "    [data_full_filled[stage_sum[key]].sum(axis=1) for key in stage_sum], index=stage_sum\n",
    ").T\n",
    "el_sum_concentration[(el_sum_concentration <= 1).any(axis=1)]"
   ]
  },
  {
   "cell_type": "markdown",
   "metadata": {},
   "source": [
    "Как видим, почти 3% данных содержат околонулевые значения, однако невозможно сказать наверняка, насколько это допустимо, поскольку информации об этом в самом задании нет. Однако, случай в котором суммарные концентрации на всех этапах равны нулю явно лишний.\n"
   ]
  },
  {
   "cell_type": "code",
   "execution_count": 36,
   "metadata": {},
   "outputs": [
    {
     "data": {
      "text/html": [
       "<div>\n",
       "<style scoped>\n",
       "    .dataframe tbody tr th:only-of-type {\n",
       "        vertical-align: middle;\n",
       "    }\n",
       "\n",
       "    .dataframe tbody tr th {\n",
       "        vertical-align: top;\n",
       "    }\n",
       "\n",
       "    .dataframe thead th {\n",
       "        text-align: right;\n",
       "    }\n",
       "</style>\n",
       "<table border=\"1\" class=\"dataframe\">\n",
       "  <thead>\n",
       "    <tr style=\"text-align: right;\">\n",
       "      <th></th>\n",
       "      <th>raw</th>\n",
       "      <th>rough</th>\n",
       "      <th>final</th>\n",
       "    </tr>\n",
       "  </thead>\n",
       "  <tbody>\n",
       "  </tbody>\n",
       "</table>\n",
       "</div>"
      ],
      "text/plain": [
       "Empty DataFrame\n",
       "Columns: [raw, rough, final]\n",
       "Index: []"
      ]
     },
     "execution_count": 36,
     "metadata": {},
     "output_type": "execute_result"
    }
   ],
   "source": [
    "el_sum_concentration[(el_sum_concentration <= 1).all(axis=1)]"
   ]
  },
  {
   "cell_type": "markdown",
   "metadata": {},
   "source": [
    "### **Вывод**\n",
    "\n",
    "Анализ данных показал, что:\n",
    "\n",
    "- В процессе золотодобычи концентрация золота постепенно растёт, а серебра уменьшается, у свинца увеличивается только после первого этапа и дальше не растёт. Фактическое же содержание металлов уменьшается всегда, поскольку сырьё проходит очистку и масса уходит вместе со шлаком;\n",
    "- Распределения размеров гранул в обучающей и тестовой выборке посредством визуальной оценки можно назвать похожими и имеющими одинаковые тенденции. Такой анализ оправдан большим количеством наблюдений;\n",
    "- Среднее значение суммарной концентрации сначала растёт, а потом несильно изменяется. Достаточное количество наблюдений в суммарных концентрациях на одном из этапов содержат нулевые значения, однако насколько это аномально установить проблематично.\n"
   ]
  },
  {
   "cell_type": "markdown",
   "metadata": {},
   "source": [
    "## Модель\n"
   ]
  },
  {
   "cell_type": "markdown",
   "metadata": {},
   "source": [
    "### Функция для вычисления итоговой sMAPE\n"
   ]
  },
  {
   "cell_type": "markdown",
   "metadata": {},
   "source": [
    "Создадим функцию, вычисляющую итоговую sMAPE и используем make_scorer, чтобы корректно применять её на кросс валидации и в поиске гиперпараметров\n"
   ]
  },
  {
   "cell_type": "markdown",
   "metadata": {},
   "source": [
    "$$\\huge sMAPE = \\frac{100\\%}{N} \\cdot \\sum_{n=1}^{N} \\frac{2\\cdot|y_{i} - \\hat{y_{i}}|}{|y_{i}| + |\\hat{y_{i}}|}$$\n"
   ]
  },
  {
   "cell_type": "markdown",
   "metadata": {},
   "source": [
    "$$\\Large Итоговое \\quad sMAPE = 0.25\\cdot sMAPE(rough) + 0.75\\cdot sMAPE(final)$$\n"
   ]
  },
  {
   "cell_type": "code",
   "execution_count": 37,
   "metadata": {},
   "outputs": [],
   "source": [
    "koeff = np.array([0.75, 0.25])\n",
    "\n",
    "\n",
    "def smape_score(y_true, y_pred, **kwargs):\n",
    "    smape_fr = np.sum(\n",
    "        2 * np.abs(y_true - y_pred) / (np.abs(y_true) + np.abs(y_pred)), axis=0\n",
    "    )\n",
    "    return np.sum(smape_fr * 100 / len(y_true) * koeff)"
   ]
  },
  {
   "cell_type": "code",
   "execution_count": 38,
   "metadata": {},
   "outputs": [],
   "source": [
    "smape = make_scorer(smape_score, greater_is_better=False)"
   ]
  },
  {
   "cell_type": "markdown",
   "metadata": {},
   "source": [
    "### Выбор модели и гиперпараметров\n"
   ]
  },
  {
   "cell_type": "markdown",
   "metadata": {},
   "source": [
    "Для корректной обработке дальнийших вычислений нужно присоеденить из полного датасета значения таргетов по дате:\n"
   ]
  },
  {
   "cell_type": "code",
   "execution_count": 39,
   "metadata": {},
   "outputs": [],
   "source": [
    "data_test_filled = data_test_filled.merge(\n",
    "    data_full_filled[[\"date\", \"final.output.recovery\", \"rougher.output.recovery\"]],\n",
    "    how=\"left\",\n",
    "    on=\"date\",\n",
    ")"
   ]
  },
  {
   "cell_type": "markdown",
   "metadata": {},
   "source": [
    "Гиперпараметры для моделей будем подбирать с помощью рандомизированного поиска, поэтому заранее подготовим распределение параметров решателя и параметры, передаваемые в функцию:\n"
   ]
  },
  {
   "cell_type": "code",
   "execution_count": 40,
   "metadata": {},
   "outputs": [],
   "source": [
    "param_grid = {\n",
    "    \"max_depth\": [None, *range(5, 25, 5)],\n",
    "    \"max_features\": [\"auto\", \"sqrt\", \"log2\"],\n",
    "    \"max_leaf_nodes\": [None, 10, 25, 50, 100],\n",
    "    \"min_samples_split\": [2, 5, 10],\n",
    "}\n",
    "RSCV_params = {\n",
    "    \"param_distributions\": param_grid,\n",
    "    \"random_state\": SEED,\n",
    "    \"verbose\": 1,\n",
    "    \"cv\": 5,\n",
    "    \"scoring\": smape,\n",
    "}"
   ]
  },
  {
   "cell_type": "markdown",
   "metadata": {},
   "source": [
    "После того, как необходимые параметры подготовлены, можно приступать к обучению моделей. С помощью цикла попробуем найти модели и её параметры с наименьшим sMAPE. Алгоритм выполняется в следующем порядке:\n",
    "\n",
    "1. **_Отбор значимых признаков_**: задаёмся пороовым значением и выкидываем все столбцы в обучающей выборке, для которых значения о phik меньше, оставшиеся собираем в одно множество;\n",
    "2. **_Подготовка обучающей выборки_**: создаём features и target, а также масштабируем признаки, чтобы использовать их в линейных моделях;\n",
    "3. **_Обучение моделей_**: линейную - на кроссвалидации на 5 фолдах, остальные - аналогично, но с поиском лучшей модели на кроссвалидации;\n",
    "4. **_Сбор результатов_**: собираем всё в список, чтобы потом построить таблицу и графики.\n"
   ]
  },
  {
   "cell_type": "code",
   "execution_count": 41,
   "metadata": {},
   "outputs": [
    {
     "name": "stdout",
     "output_type": "stream",
     "text": [
      "Таргеты с корреляцией >= 0.1\n",
      "Fitting 5 folds for each of 10 candidates, totalling 50 fits\n",
      "Fitting 5 folds for each of 10 candidates, totalling 50 fits\n",
      "LR_score -11.306220921108157 DT_score -10.411803713466947 RF_score -9.90962949103324 \n",
      "\n",
      "Таргеты с корреляцией >= 0.2\n",
      "Fitting 5 folds for each of 10 candidates, totalling 50 fits\n",
      "Fitting 5 folds for each of 10 candidates, totalling 50 fits\n",
      "LR_score -10.991815097524043 DT_score -10.660509807823566 RF_score -9.83012128200637 \n",
      "\n",
      "Таргеты с корреляцией >= 0.30000000000000004\n",
      "Fitting 5 folds for each of 10 candidates, totalling 50 fits\n",
      "Fitting 5 folds for each of 10 candidates, totalling 50 fits\n",
      "LR_score -10.411989721221115 DT_score -10.27747212468077 RF_score -9.839452861046995 \n",
      "\n",
      "Таргеты с корреляцией >= 0.4\n",
      "Fitting 5 folds for each of 10 candidates, totalling 50 fits\n",
      "Fitting 5 folds for each of 10 candidates, totalling 50 fits\n",
      "LR_score -10.289044136139632 DT_score -10.578231999548374 RF_score -9.720924115854263 \n",
      "\n",
      "Таргеты с корреляцией >= 0.5\n",
      "Fitting 5 folds for each of 10 candidates, totalling 50 fits\n",
      "Fitting 5 folds for each of 10 candidates, totalling 50 fits\n",
      "LR_score -10.341419399165806 DT_score -9.886498039308723 RF_score -9.544186651585052 \n",
      "\n",
      "Таргеты с корреляцией >= 0.6\n",
      "Fitting 5 folds for each of 10 candidates, totalling 50 fits\n",
      "Fitting 5 folds for each of 10 candidates, totalling 50 fits\n",
      "LR_score -11.09106774714266 DT_score -10.809000215226687 RF_score -10.833836252281078 \n",
      "\n",
      "CPU times: user 17min 17s, sys: 3.73 s, total: 17min 21s\n",
      "Wall time: 17min 23s\n"
     ]
    }
   ],
   "source": [
    "%%time\n",
    "results = []\n",
    "for i in np.arange(.1, 0.7, .1):\n",
    "    print('Таргеты с корреляцией >=', i)\n",
    "    # Отбираем значимые признаки\n",
    "    s1 = phik_overview[target][phik_overview[target[0]] >= i].index\n",
    "    s2 = phik_overview[target][phik_overview[target[1]] >= i].index\n",
    "    significant_features = np.array(\n",
    "        [i for i in (set(s1.values) | set(s2.values)) if i in data_test_filled.columns])\n",
    "    \n",
    "    # Подготавливаем выборку для обучения\n",
    "    X_train = data_train_filled[significant_features].drop(target, axis=1)\n",
    "    y_train = data_train_filled[target]\n",
    "    Xt_train = StandardScaler().fit_transform(X_train)\n",
    "    \n",
    "    # Обучаем модель\n",
    "    dt_reg = RandomizedSearchCV(\n",
    "        DecisionTreeRegressor(random_state=SEED), **RSCV_params)\\\n",
    "        .fit(Xt_train, y_train)\n",
    "    rf_reg = RandomizedSearchCV(\n",
    "        RandomForestRegressor(random_state=SEED, n_jobs=-1), **RSCV_params)\\\n",
    "        .fit(Xt_train, y_train)\n",
    "    lr_reg_best_score = cross_val_score(\n",
    "            LinearRegression(n_jobs=-1),\n",
    "            Xt_train,\n",
    "            y_train,\n",
    "            cv=5,\n",
    "            n_jobs=-1,\n",
    "            scoring=smape).mean()\n",
    "    \n",
    "    # Собираем результаты\n",
    "    results.append([\n",
    "        lr_reg_best_score,\n",
    "        dt_reg.best_score_,\n",
    "        rf_reg.best_score_,\n",
    "        dt_reg,\n",
    "        rf_reg,\n",
    "        significant_features,\n",
    "        len(significant_features) - 2 \n",
    "    ])\n",
    "    print('LR_score', lr_reg_best_score,\n",
    "          'DT_score', dt_reg.best_score_,\n",
    "          'RF_score', rf_reg.best_score_, '\\n')"
   ]
  },
  {
   "cell_type": "markdown",
   "metadata": {},
   "source": [
    "Для корректного результата также необходимо взять значения по модулю, поскольку make_scorer делает их отрицательными.\n"
   ]
  },
  {
   "cell_type": "code",
   "execution_count": 42,
   "metadata": {},
   "outputs": [],
   "source": [
    "res = pd.DataFrame(\n",
    "    results,\n",
    "    columns=[\n",
    "        \"LR_score\",\n",
    "        \"DT_score\",\n",
    "        \"RF_score\",\n",
    "        \"DT_best_estimator\",\n",
    "        \"RF_best_estimator\",\n",
    "        \"sign_columns\",\n",
    "        \"sign_len\",\n",
    "    ],\n",
    "    index=np.arange(0.1, 0.7, 0.1),\n",
    ")\n",
    "res.iloc[:, 0:3] = res.iloc[:, 0:3].abs()"
   ]
  },
  {
   "cell_type": "code",
   "execution_count": 43,
   "metadata": {},
   "outputs": [
    {
     "data": {
      "text/html": [
       "<div>\n",
       "<style scoped>\n",
       "    .dataframe tbody tr th:only-of-type {\n",
       "        vertical-align: middle;\n",
       "    }\n",
       "\n",
       "    .dataframe tbody tr th {\n",
       "        vertical-align: top;\n",
       "    }\n",
       "\n",
       "    .dataframe thead th {\n",
       "        text-align: right;\n",
       "    }\n",
       "</style>\n",
       "<table border=\"1\" class=\"dataframe\">\n",
       "  <thead>\n",
       "    <tr style=\"text-align: right;\">\n",
       "      <th></th>\n",
       "      <th>LR_score</th>\n",
       "      <th>DT_score</th>\n",
       "      <th>RF_score</th>\n",
       "      <th>DT_best_estimator</th>\n",
       "      <th>RF_best_estimator</th>\n",
       "      <th>sign_columns</th>\n",
       "      <th>sign_len</th>\n",
       "    </tr>\n",
       "  </thead>\n",
       "  <tbody>\n",
       "    <tr>\n",
       "      <th>0.1</th>\n",
       "      <td>11.306221</td>\n",
       "      <td>10.411804</td>\n",
       "      <td>9.909629</td>\n",
       "      <td>RandomizedSearchCV(cv=5, estimator=DecisionTre...</td>\n",
       "      <td>RandomizedSearchCV(cv=5,\\n                   e...</td>\n",
       "      <td>[secondary_cleaner.state.floatbank5_b_air, sec...</td>\n",
       "      <td>53</td>\n",
       "    </tr>\n",
       "    <tr>\n",
       "      <th>0.2</th>\n",
       "      <td>10.991815</td>\n",
       "      <td>10.660510</td>\n",
       "      <td>9.830121</td>\n",
       "      <td>RandomizedSearchCV(cv=5, estimator=DecisionTre...</td>\n",
       "      <td>RandomizedSearchCV(cv=5,\\n                   e...</td>\n",
       "      <td>[secondary_cleaner.state.floatbank4_a_air, sec...</td>\n",
       "      <td>43</td>\n",
       "    </tr>\n",
       "    <tr>\n",
       "      <th>0.3</th>\n",
       "      <td>10.411990</td>\n",
       "      <td>10.277472</td>\n",
       "      <td>9.839453</td>\n",
       "      <td>RandomizedSearchCV(cv=5, estimator=DecisionTre...</td>\n",
       "      <td>RandomizedSearchCV(cv=5,\\n                   e...</td>\n",
       "      <td>[secondary_cleaner.state.floatbank4_a_air, sec...</td>\n",
       "      <td>31</td>\n",
       "    </tr>\n",
       "    <tr>\n",
       "      <th>0.4</th>\n",
       "      <td>10.289044</td>\n",
       "      <td>10.578232</td>\n",
       "      <td>9.720924</td>\n",
       "      <td>RandomizedSearchCV(cv=5, estimator=DecisionTre...</td>\n",
       "      <td>RandomizedSearchCV(cv=5,\\n                   e...</td>\n",
       "      <td>[secondary_cleaner.state.floatbank4_a_air, rou...</td>\n",
       "      <td>13</td>\n",
       "    </tr>\n",
       "    <tr>\n",
       "      <th>0.5</th>\n",
       "      <td>10.341419</td>\n",
       "      <td>9.886498</td>\n",
       "      <td>9.544187</td>\n",
       "      <td>RandomizedSearchCV(cv=5, estimator=DecisionTre...</td>\n",
       "      <td>RandomizedSearchCV(cv=5,\\n                   e...</td>\n",
       "      <td>[rougher.input.feed_ag, primary_cleaner.input....</td>\n",
       "      <td>3</td>\n",
       "    </tr>\n",
       "    <tr>\n",
       "      <th>0.6</th>\n",
       "      <td>11.091068</td>\n",
       "      <td>10.809000</td>\n",
       "      <td>10.833836</td>\n",
       "      <td>RandomizedSearchCV(cv=5, estimator=DecisionTre...</td>\n",
       "      <td>RandomizedSearchCV(cv=5,\\n                   e...</td>\n",
       "      <td>[date, rougher.output.recovery, final.output.r...</td>\n",
       "      <td>1</td>\n",
       "    </tr>\n",
       "  </tbody>\n",
       "</table>\n",
       "</div>"
      ],
      "text/plain": [
       "      LR_score   DT_score   RF_score  \\\n",
       "0.1  11.306221  10.411804   9.909629   \n",
       "0.2  10.991815  10.660510   9.830121   \n",
       "0.3  10.411990  10.277472   9.839453   \n",
       "0.4  10.289044  10.578232   9.720924   \n",
       "0.5  10.341419   9.886498   9.544187   \n",
       "0.6  11.091068  10.809000  10.833836   \n",
       "\n",
       "                                     DT_best_estimator  \\\n",
       "0.1  RandomizedSearchCV(cv=5, estimator=DecisionTre...   \n",
       "0.2  RandomizedSearchCV(cv=5, estimator=DecisionTre...   \n",
       "0.3  RandomizedSearchCV(cv=5, estimator=DecisionTre...   \n",
       "0.4  RandomizedSearchCV(cv=5, estimator=DecisionTre...   \n",
       "0.5  RandomizedSearchCV(cv=5, estimator=DecisionTre...   \n",
       "0.6  RandomizedSearchCV(cv=5, estimator=DecisionTre...   \n",
       "\n",
       "                                     RF_best_estimator  \\\n",
       "0.1  RandomizedSearchCV(cv=5,\\n                   e...   \n",
       "0.2  RandomizedSearchCV(cv=5,\\n                   e...   \n",
       "0.3  RandomizedSearchCV(cv=5,\\n                   e...   \n",
       "0.4  RandomizedSearchCV(cv=5,\\n                   e...   \n",
       "0.5  RandomizedSearchCV(cv=5,\\n                   e...   \n",
       "0.6  RandomizedSearchCV(cv=5,\\n                   e...   \n",
       "\n",
       "                                          sign_columns  sign_len  \n",
       "0.1  [secondary_cleaner.state.floatbank5_b_air, sec...        53  \n",
       "0.2  [secondary_cleaner.state.floatbank4_a_air, sec...        43  \n",
       "0.3  [secondary_cleaner.state.floatbank4_a_air, sec...        31  \n",
       "0.4  [secondary_cleaner.state.floatbank4_a_air, rou...        13  \n",
       "0.5  [rougher.input.feed_ag, primary_cleaner.input....         3  \n",
       "0.6  [date, rougher.output.recovery, final.output.r...         1  "
      ]
     },
     "execution_count": 43,
     "metadata": {},
     "output_type": "execute_result"
    }
   ],
   "source": [
    "res"
   ]
  },
  {
   "cell_type": "markdown",
   "metadata": {},
   "source": [
    "По этим значениям также построим график для большей наглядности изменений скоров. Также стоит отметить, что по мере повышения уровня значимости уменьшается и количество значимых колонок.\n"
   ]
  },
  {
   "cell_type": "code",
   "execution_count": 44,
   "metadata": {},
   "outputs": [
    {
     "data": {
      "image/png": "[encoded data removed]",
      "text/plain": [
       "<Figure size 1440x720 with 1 Axes>"
      ]
     },
     "metadata": {
      "needs_background": "light"
     },
     "output_type": "display_data"
    }
   ],
   "source": [
    "res.iloc[:, 0:3].plot(\n",
    "    markersize=20,\n",
    "    grid=True,\n",
    "    marker=\"o\",\n",
    "    figsize=(20, 10),\n",
    "    xlabel=\"Уровень значимости $\\phi_k$\",\n",
    "    ylabel=\"Значение sMAPE\",\n",
    "    title=\"Зависимость sMAPE от уровня значимости\",\n",
    ")"
   ]
  },
  {
   "cell_type": "markdown",
   "metadata": {},
   "source": [
    "Лучшей моделью оказался случайный лес, где значимыми были только столбцы 'rougher.input.feed_ag', 'primary_cleaner.input.sulfate', 'date'. Для дальнейшего использования присвоим им названия.\n"
   ]
  },
  {
   "cell_type": "code",
   "execution_count": 45,
   "metadata": {},
   "outputs": [
    {
     "data": {
      "text/html": [
       "<div>\n",
       "<style scoped>\n",
       "    .dataframe tbody tr th:only-of-type {\n",
       "        vertical-align: middle;\n",
       "    }\n",
       "\n",
       "    .dataframe tbody tr th {\n",
       "        vertical-align: top;\n",
       "    }\n",
       "\n",
       "    .dataframe thead th {\n",
       "        text-align: right;\n",
       "    }\n",
       "</style>\n",
       "<table border=\"1\" class=\"dataframe\">\n",
       "  <thead>\n",
       "    <tr style=\"text-align: right;\">\n",
       "      <th></th>\n",
       "      <th>LR_score</th>\n",
       "      <th>DT_score</th>\n",
       "      <th>RF_score</th>\n",
       "      <th>DT_best_estimator</th>\n",
       "      <th>RF_best_estimator</th>\n",
       "      <th>sign_columns</th>\n",
       "      <th>sign_len</th>\n",
       "    </tr>\n",
       "  </thead>\n",
       "  <tbody>\n",
       "    <tr>\n",
       "      <th>0.5</th>\n",
       "      <td>10.341419</td>\n",
       "      <td>9.886498</td>\n",
       "      <td>9.544187</td>\n",
       "      <td>RandomizedSearchCV(cv=5, estimator=DecisionTre...</td>\n",
       "      <td>RandomizedSearchCV(cv=5,\\n                   e...</td>\n",
       "      <td>[rougher.input.feed_ag, primary_cleaner.input....</td>\n",
       "      <td>3</td>\n",
       "    </tr>\n",
       "  </tbody>\n",
       "</table>\n",
       "</div>"
      ],
      "text/plain": [
       "      LR_score  DT_score  RF_score  \\\n",
       "0.5  10.341419  9.886498  9.544187   \n",
       "\n",
       "                                     DT_best_estimator  \\\n",
       "0.5  RandomizedSearchCV(cv=5, estimator=DecisionTre...   \n",
       "\n",
       "                                     RF_best_estimator  \\\n",
       "0.5  RandomizedSearchCV(cv=5,\\n                   e...   \n",
       "\n",
       "                                          sign_columns  sign_len  \n",
       "0.5  [rougher.input.feed_ag, primary_cleaner.input....         3  "
      ]
     },
     "execution_count": 45,
     "metadata": {},
     "output_type": "execute_result"
    }
   ],
   "source": [
    "res[(res.iloc[:, 0:3].values.min() == res.iloc[:, 0:3]).any(axis=1)]"
   ]
  },
  {
   "cell_type": "code",
   "execution_count": 46,
   "metadata": {},
   "outputs": [],
   "source": [
    "best_estimator = results[4][4]\n",
    "best_features = results[4][5]"
   ]
  },
  {
   "cell_type": "markdown",
   "metadata": {},
   "source": [
    "### Проверка данных на тестовой выборке\n"
   ]
  },
  {
   "cell_type": "markdown",
   "metadata": {},
   "source": [
    "Зная лучшую модель и набор значимых признаков, подготовим тестовые данные и оценим sMAPE на тестовой выборке:\n"
   ]
  },
  {
   "cell_type": "code",
   "execution_count": 47,
   "metadata": {},
   "outputs": [],
   "source": [
    "X_test = data_test_filled[best_features].drop(target, axis=1)\n",
    "Xt_test = StandardScaler().fit_transform(X_test)\n",
    "y_test = data_test_filled[target]"
   ]
  },
  {
   "cell_type": "code",
   "execution_count": 48,
   "metadata": {},
   "outputs": [
    {
     "data": {
      "text/plain": [
       "10.207017260141077"
      ]
     },
     "execution_count": 48,
     "metadata": {},
     "output_type": "execute_result"
    }
   ],
   "source": [
    "pred = best_estimator.predict(Xt_test)\n",
    "smape_score(y_test, pred)"
   ]
  },
  {
   "cell_type": "markdown",
   "metadata": {},
   "source": [
    "В качестве константного предсказания для сравнения примем среднюю величину по у_train и по этим данным найдём sMAPE:\n"
   ]
  },
  {
   "cell_type": "code",
   "execution_count": 49,
   "metadata": {},
   "outputs": [],
   "source": [
    "const_pred = np.array(\n",
    "    [\n",
    "        [y_train[\"final.output.recovery\"].mean()] * len(y_test),\n",
    "        [y_train[\"rougher.output.recovery\"].mean()] * len(y_test),\n",
    "    ]\n",
    ").T"
   ]
  },
  {
   "cell_type": "code",
   "execution_count": 50,
   "metadata": {},
   "outputs": [
    {
     "data": {
      "text/plain": [
       "10.289630376021035"
      ]
     },
     "execution_count": 50,
     "metadata": {},
     "output_type": "execute_result"
    }
   ],
   "source": [
    "smape_score(y_test, const_pred)"
   ]
  },
  {
   "cell_type": "markdown",
   "metadata": {},
   "source": [
    "Модель можно считать адекватной, поскольку она прошла проверку base line моделью на тестовой выборке.\n"
   ]
  },
  {
   "cell_type": "markdown",
   "metadata": {},
   "source": [
    "### **Вывод**\n",
    "\n",
    "- Написана функция для оценки моделей по критерию SMAPE;\n",
    "- Данные были изучены на моделях линейной регрессии, дерева решений и случайного леса с подбором гиперпараметров на последних 2-х вариантах.\n",
    "- Минимальное значение на кроссвалидации на 5 фолдах = 9.5 было достигнуто моделью случайного леса с параметрами: max_depth=10, max_features='log2', max_leaf_nodes=25.\n",
    "- Модель получила сопоставимый результат на тестовый выборке и обогнала константную модель на ~0.34 пункта, что говорит о её адекватности.\n"
   ]
  },
  {
   "cell_type": "markdown",
   "metadata": {},
   "source": [
    "## **Вывод**\n",
    "\n",
    "В данной работе решалась задача регрессиии с целью определения коэффициента восстановления золотой руды. В результате работы были получены следующие результаты:\n",
    "\n",
    "- Входные данные иследованы и предобработаны: установлен коэффициент корелляции между параметрами и их влияние на таргеты, проверена правильность расчётов одного из параметров, методом K-ближайших соседей заполнены пропуски;\n",
    "- Проведён исследовательский анализ данных, изучено изменение концентрации элементов в сырье на каждом этапе обработки, подтверждена схожесть распределений размеров гранул на обучающей и тестовой выборках, выявлены и удалены из обучающей выборки данные, где суммарная концентрация элементов на всех этапах равна 0;\n",
    "- Написана функция для расчёта критерия sMAPE, исследованы модели линейной регрессии, случайного леса и дерева решения на кросвалидации для разного количества весомых признаков. Лучшей моделью оказался случайный лес со sMAPE < 10;\n",
    "- Лучшая модель прошла проверку на тестовой выборке и сравнение с base line моделью.\n"
   ]
  },
  {
   "cell_type": "markdown",
   "metadata": {},
   "source": [
    "## Чек-лист готовности проекта\n"
   ]
  },
  {
   "cell_type": "markdown",
   "metadata": {},
   "source": [
    "- [x] Jupyter Notebook открыт\n",
    "- [x] Весь код выполняется без ошибок\n",
    "- [x] Ячейки с кодом расположены в порядке выполнения\n",
    "- [x] Выполнен шаг 1: данные подготовлены\n",
    "  - [x] Проверена формула вычисления эффективности обогащения\n",
    "  - [x] Проанализированы признаки, недоступные в тестовой выборке\n",
    "  - [x] Проведена предобработка данных\n",
    "- [x] Выполнен шаг 2: данные проанализированы\n",
    "  - [x] Исследовано изменение концентрации элементов на каждом этапе\n",
    "  - [x] Проанализированы распределения размеров гранул на обучающей и тестовой выборках\n",
    "  - [x] Исследованы суммарные концентрации\n",
    "- [x] Выполнен шаг 3: построена модель прогнозирования\n",
    "  - [x] Написана функция для вычисления итогового _sMAPE_\n",
    "  - [x] Обучено и проверено несколько моделей\n",
    "  - [x] Выбрана лучшая модель, её качество проверено на тестовой выборке\n"
   ]
  },
  {
   "cell_type": "code",
   "execution_count": null,
   "metadata": {},
   "outputs": [],
   "source": []
  }
 ],
 "metadata": {
  "ExecuteTimeLog": [
   {
    "duration": 613,
    "start_time": "2022-12-13T06:25:55.794Z"
   },
   {
    "duration": 1324,
    "start_time": "2022-12-13T06:30:35.105Z"
   },
   {
    "duration": 19,
    "start_time": "2022-12-13T06:31:26.099Z"
   },
   {
    "duration": 13,
    "start_time": "2022-12-13T06:31:36.003Z"
   },
   {
    "duration": 18,
    "start_time": "2022-12-13T06:31:38.937Z"
   },
   {
    "duration": 11,
    "start_time": "2022-12-13T06:32:31.034Z"
   },
   {
    "duration": 7,
    "start_time": "2022-12-13T06:32:36.246Z"
   },
   {
    "duration": 10,
    "start_time": "2022-12-13T06:32:42.680Z"
   },
   {
    "duration": 17,
    "start_time": "2022-12-13T06:33:11.955Z"
   },
   {
    "duration": 14,
    "start_time": "2022-12-13T06:33:20.841Z"
   },
   {
    "duration": 9,
    "start_time": "2022-12-13T06:33:42.259Z"
   },
   {
    "duration": 15,
    "start_time": "2022-12-13T06:34:08.083Z"
   },
   {
    "duration": 44,
    "start_time": "2022-12-13T06:47:16.336Z"
   },
   {
    "duration": 1342,
    "start_time": "2022-12-13T06:48:46.921Z"
   },
   {
    "duration": 1879,
    "start_time": "2022-12-13T06:48:48.265Z"
   },
   {
    "duration": 18,
    "start_time": "2022-12-13T06:48:50.146Z"
   },
   {
    "duration": 32,
    "start_time": "2022-12-13T06:48:50.166Z"
   },
   {
    "duration": 22,
    "start_time": "2022-12-13T06:48:50.200Z"
   },
   {
    "duration": 20,
    "start_time": "2022-12-13T06:48:50.225Z"
   },
   {
    "duration": 13,
    "start_time": "2022-12-13T06:48:50.246Z"
   },
   {
    "duration": 9,
    "start_time": "2022-12-13T06:48:50.260Z"
   },
   {
    "duration": 22,
    "start_time": "2022-12-13T06:50:55.877Z"
   },
   {
    "duration": 5,
    "start_time": "2022-12-13T06:59:50.515Z"
   },
   {
    "duration": 4,
    "start_time": "2022-12-13T07:05:30.670Z"
   },
   {
    "duration": 111,
    "start_time": "2022-12-13T07:08:42.198Z"
   },
   {
    "duration": 5,
    "start_time": "2022-12-13T07:11:08.565Z"
   },
   {
    "duration": 10,
    "start_time": "2022-12-13T07:11:38.457Z"
   },
   {
    "duration": 6,
    "start_time": "2022-12-13T07:12:26.733Z"
   },
   {
    "duration": 20,
    "start_time": "2022-12-13T07:12:34.859Z"
   },
   {
    "duration": 20,
    "start_time": "2022-12-13T07:14:22.239Z"
   },
   {
    "duration": 13,
    "start_time": "2022-12-13T07:14:38.994Z"
   },
   {
    "duration": 565,
    "start_time": "2022-12-13T07:14:52.589Z"
   },
   {
    "duration": 547,
    "start_time": "2022-12-13T07:15:52.077Z"
   },
   {
    "duration": 200,
    "start_time": "2022-12-13T07:16:08.386Z"
   },
   {
    "duration": 820,
    "start_time": "2022-12-13T07:16:16.537Z"
   },
   {
    "duration": 760,
    "start_time": "2022-12-13T07:16:48.827Z"
   },
   {
    "duration": 547,
    "start_time": "2022-12-13T07:17:01.499Z"
   },
   {
    "duration": 10,
    "start_time": "2022-12-13T07:17:11.909Z"
   },
   {
    "duration": 146,
    "start_time": "2022-12-13T07:17:18.162Z"
   },
   {
    "duration": 229,
    "start_time": "2022-12-13T07:17:25.509Z"
   },
   {
    "duration": 166,
    "start_time": "2022-12-13T07:18:29.201Z"
   },
   {
    "duration": 179,
    "start_time": "2022-12-13T07:18:44.330Z"
   },
   {
    "duration": 174,
    "start_time": "2022-12-13T07:18:59.382Z"
   },
   {
    "duration": 321,
    "start_time": "2022-12-13T07:19:08.336Z"
   },
   {
    "duration": 291,
    "start_time": "2022-12-13T07:19:37.822Z"
   },
   {
    "duration": 326,
    "start_time": "2022-12-13T07:19:44.773Z"
   },
   {
    "duration": 383,
    "start_time": "2022-12-13T07:19:59.200Z"
   },
   {
    "duration": 792,
    "start_time": "2022-12-13T07:21:02.035Z"
   },
   {
    "duration": 40,
    "start_time": "2022-12-13T07:21:21.055Z"
   },
   {
    "duration": 48,
    "start_time": "2022-12-13T07:21:26.829Z"
   },
   {
    "duration": 679,
    "start_time": "2022-12-13T07:21:31.784Z"
   },
   {
    "duration": 379,
    "start_time": "2022-12-13T07:21:41.341Z"
   },
   {
    "duration": 310,
    "start_time": "2022-12-13T07:23:22.718Z"
   },
   {
    "duration": 582,
    "start_time": "2022-12-13T07:23:47.221Z"
   },
   {
    "duration": 756,
    "start_time": "2022-12-13T07:24:02.084Z"
   },
   {
    "duration": 848,
    "start_time": "2022-12-13T07:24:36.243Z"
   },
   {
    "duration": 1180,
    "start_time": "2022-12-13T07:25:16.358Z"
   },
   {
    "duration": 3,
    "start_time": "2022-12-13T07:25:41.739Z"
   },
   {
    "duration": 3,
    "start_time": "2022-12-13T07:27:25.189Z"
   },
   {
    "duration": 3,
    "start_time": "2022-12-13T07:27:25.517Z"
   },
   {
    "duration": 935,
    "start_time": "2022-12-13T07:27:29.976Z"
   },
   {
    "duration": 984,
    "start_time": "2022-12-13T07:28:15.319Z"
   },
   {
    "duration": 529,
    "start_time": "2022-12-13T07:30:08.655Z"
   },
   {
    "duration": 592,
    "start_time": "2022-12-13T07:30:34.134Z"
   },
   {
    "duration": 1161,
    "start_time": "2022-12-13T07:34:26.454Z"
   },
   {
    "duration": 1348,
    "start_time": "2022-12-13T07:35:27.979Z"
   },
   {
    "duration": 880,
    "start_time": "2022-12-13T07:35:42.026Z"
   },
   {
    "duration": 886,
    "start_time": "2022-12-13T07:35:48.288Z"
   },
   {
    "duration": 920,
    "start_time": "2022-12-13T07:35:58.554Z"
   },
   {
    "duration": 1378,
    "start_time": "2022-12-13T07:36:50.207Z"
   },
   {
    "duration": 874,
    "start_time": "2022-12-13T07:38:12.754Z"
   },
   {
    "duration": 835,
    "start_time": "2022-12-13T07:38:18.285Z"
   },
   {
    "duration": 964,
    "start_time": "2022-12-13T07:38:59.682Z"
   },
   {
    "duration": 881,
    "start_time": "2022-12-13T07:39:28.919Z"
   },
   {
    "duration": 137,
    "start_time": "2022-12-13T08:36:46.610Z"
   },
   {
    "duration": 108,
    "start_time": "2022-12-13T08:37:01.161Z"
   },
   {
    "duration": 23,
    "start_time": "2022-12-13T08:37:19.531Z"
   },
   {
    "duration": 154,
    "start_time": "2022-12-13T08:37:51.039Z"
   },
   {
    "duration": 18,
    "start_time": "2022-12-13T08:38:29.888Z"
   },
   {
    "duration": 347,
    "start_time": "2022-12-13T08:39:04.944Z"
   },
   {
    "duration": 34466,
    "start_time": "2022-12-13T08:39:33.144Z"
   },
   {
    "duration": 10,
    "start_time": "2022-12-13T08:41:10.097Z"
   },
   {
    "duration": 7,
    "start_time": "2022-12-13T08:41:31.575Z"
   },
   {
    "duration": 6,
    "start_time": "2022-12-13T08:41:53.463Z"
   },
   {
    "duration": 16,
    "start_time": "2022-12-13T08:46:15.315Z"
   },
   {
    "duration": 14,
    "start_time": "2022-12-13T08:46:24.238Z"
   },
   {
    "duration": 3,
    "start_time": "2022-12-13T08:47:02.075Z"
   },
   {
    "duration": 12,
    "start_time": "2022-12-13T08:48:34.559Z"
   },
   {
    "duration": 1330,
    "start_time": "2022-12-13T08:48:42.185Z"
   },
   {
    "duration": 3,
    "start_time": "2022-12-13T08:48:43.518Z"
   },
   {
    "duration": 1721,
    "start_time": "2022-12-13T08:48:43.523Z"
   },
   {
    "duration": 18,
    "start_time": "2022-12-13T08:48:45.246Z"
   },
   {
    "duration": 37,
    "start_time": "2022-12-13T08:48:45.266Z"
   },
   {
    "duration": 50,
    "start_time": "2022-12-13T08:48:45.304Z"
   },
   {
    "duration": 7,
    "start_time": "2022-12-13T08:48:45.355Z"
   },
   {
    "duration": 34,
    "start_time": "2022-12-13T08:48:45.364Z"
   },
   {
    "duration": 7,
    "start_time": "2022-12-13T08:48:45.400Z"
   },
   {
    "duration": 34,
    "start_time": "2022-12-13T08:48:45.409Z"
   },
   {
    "duration": 118,
    "start_time": "2022-12-13T08:48:45.446Z"
   },
   {
    "duration": 11,
    "start_time": "2022-12-13T08:48:45.566Z"
   },
   {
    "duration": 19,
    "start_time": "2022-12-13T08:48:45.579Z"
   },
   {
    "duration": 35,
    "start_time": "2022-12-13T08:48:45.599Z"
   },
   {
    "duration": 27,
    "start_time": "2022-12-13T08:48:45.635Z"
   },
   {
    "duration": 205,
    "start_time": "2022-12-13T08:48:45.663Z"
   },
   {
    "duration": 16450,
    "start_time": "2022-12-13T08:49:28.735Z"
   },
   {
    "duration": 16,
    "start_time": "2022-12-13T08:53:38.484Z"
   },
   {
    "duration": 11,
    "start_time": "2022-12-13T08:53:44.572Z"
   },
   {
    "duration": 7,
    "start_time": "2022-12-13T08:54:05.828Z"
   },
   {
    "duration": 130,
    "start_time": "2022-12-13T08:54:10.040Z"
   },
   {
    "duration": 78,
    "start_time": "2022-12-13T08:54:28.908Z"
   },
   {
    "duration": 77,
    "start_time": "2022-12-13T08:54:37.465Z"
   },
   {
    "duration": 15169,
    "start_time": "2022-12-13T08:58:28.164Z"
   },
   {
    "duration": 16742,
    "start_time": "2022-12-13T08:59:06.167Z"
   },
   {
    "duration": 10,
    "start_time": "2022-12-13T09:00:01.600Z"
   },
   {
    "duration": 8,
    "start_time": "2022-12-13T09:00:09.014Z"
   },
   {
    "duration": 1442,
    "start_time": "2022-12-13T09:06:31.470Z"
   },
   {
    "duration": 3,
    "start_time": "2022-12-13T09:06:32.914Z"
   },
   {
    "duration": 1473,
    "start_time": "2022-12-13T09:06:32.919Z"
   },
   {
    "duration": 21,
    "start_time": "2022-12-13T09:06:34.394Z"
   },
   {
    "duration": 19,
    "start_time": "2022-12-13T09:06:34.417Z"
   },
   {
    "duration": 71,
    "start_time": "2022-12-13T09:06:34.437Z"
   },
   {
    "duration": 7,
    "start_time": "2022-12-13T09:06:34.510Z"
   },
   {
    "duration": 36,
    "start_time": "2022-12-13T09:06:34.518Z"
   },
   {
    "duration": 7,
    "start_time": "2022-12-13T09:06:34.556Z"
   },
   {
    "duration": 33,
    "start_time": "2022-12-13T09:06:34.568Z"
   },
   {
    "duration": 145,
    "start_time": "2022-12-13T09:06:34.603Z"
   },
   {
    "duration": 15,
    "start_time": "2022-12-13T09:06:34.750Z"
   },
   {
    "duration": 13,
    "start_time": "2022-12-13T09:06:34.767Z"
   },
   {
    "duration": 20,
    "start_time": "2022-12-13T09:06:34.782Z"
   },
   {
    "duration": 5,
    "start_time": "2022-12-13T09:06:34.803Z"
   },
   {
    "duration": 11,
    "start_time": "2022-12-13T09:06:34.809Z"
   },
   {
    "duration": 17958,
    "start_time": "2022-12-13T09:06:48.548Z"
   },
   {
    "duration": 21069,
    "start_time": "2022-12-13T09:08:17.400Z"
   },
   {
    "duration": 17,
    "start_time": "2022-12-13T09:09:08.334Z"
   },
   {
    "duration": 16870,
    "start_time": "2022-12-13T09:09:44.922Z"
   },
   {
    "duration": 17,
    "start_time": "2022-12-13T09:10:01.797Z"
   },
   {
    "duration": 1429,
    "start_time": "2022-12-13T09:20:12.667Z"
   },
   {
    "duration": 4,
    "start_time": "2022-12-13T09:20:14.100Z"
   },
   {
    "duration": 1743,
    "start_time": "2022-12-13T09:20:14.106Z"
   },
   {
    "duration": 18,
    "start_time": "2022-12-13T09:20:15.850Z"
   },
   {
    "duration": 35,
    "start_time": "2022-12-13T09:20:15.870Z"
   },
   {
    "duration": 56,
    "start_time": "2022-12-13T09:20:15.907Z"
   },
   {
    "duration": 12,
    "start_time": "2022-12-13T09:20:15.965Z"
   },
   {
    "duration": 38,
    "start_time": "2022-12-13T09:20:15.978Z"
   },
   {
    "duration": 7,
    "start_time": "2022-12-13T09:20:16.017Z"
   },
   {
    "duration": 14,
    "start_time": "2022-12-13T09:20:16.025Z"
   },
   {
    "duration": 133,
    "start_time": "2022-12-13T09:20:16.041Z"
   },
   {
    "duration": 24,
    "start_time": "2022-12-13T09:20:16.176Z"
   },
   {
    "duration": 6,
    "start_time": "2022-12-13T09:20:16.201Z"
   },
   {
    "duration": 21,
    "start_time": "2022-12-13T09:20:16.210Z"
   },
   {
    "duration": 4,
    "start_time": "2022-12-13T09:20:16.232Z"
   },
   {
    "duration": 51,
    "start_time": "2022-12-13T09:20:16.237Z"
   },
   {
    "duration": 0,
    "start_time": "2022-12-13T09:20:16.290Z"
   },
   {
    "duration": 0,
    "start_time": "2022-12-13T09:20:16.291Z"
   },
   {
    "duration": 4,
    "start_time": "2022-12-13T09:21:00.786Z"
   },
   {
    "duration": 24705,
    "start_time": "2022-12-13T09:21:02.426Z"
   },
   {
    "duration": 0,
    "start_time": "2022-12-13T09:21:27.132Z"
   },
   {
    "duration": 19210,
    "start_time": "2022-12-13T09:22:14.752Z"
   },
   {
    "duration": 5,
    "start_time": "2022-12-13T09:22:47.193Z"
   },
   {
    "duration": 35851,
    "start_time": "2022-12-13T09:22:47.666Z"
   },
   {
    "duration": 79,
    "start_time": "2022-12-13T09:28:17.943Z"
   },
   {
    "duration": 8,
    "start_time": "2022-12-13T09:28:24.985Z"
   },
   {
    "duration": 9,
    "start_time": "2022-12-13T09:28:30.878Z"
   },
   {
    "duration": 13,
    "start_time": "2022-12-13T09:28:57.683Z"
   },
   {
    "duration": 6,
    "start_time": "2022-12-13T09:30:50.652Z"
   },
   {
    "duration": 10,
    "start_time": "2022-12-13T09:37:45.834Z"
   },
   {
    "duration": 3,
    "start_time": "2022-12-13T09:37:55.782Z"
   },
   {
    "duration": 9,
    "start_time": "2022-12-13T09:37:56.741Z"
   },
   {
    "duration": 3,
    "start_time": "2022-12-13T09:38:08.534Z"
   },
   {
    "duration": 5,
    "start_time": "2022-12-13T09:38:08.811Z"
   },
   {
    "duration": 6,
    "start_time": "2022-12-13T09:38:09.382Z"
   },
   {
    "duration": 3,
    "start_time": "2022-12-13T09:38:50.147Z"
   },
   {
    "duration": 6,
    "start_time": "2022-12-13T09:39:45.903Z"
   },
   {
    "duration": 11177,
    "start_time": "2022-12-13T09:44:34.568Z"
   },
   {
    "duration": 0,
    "start_time": "2022-12-13T09:44:45.746Z"
   },
   {
    "duration": 15,
    "start_time": "2022-12-13T09:45:20.936Z"
   },
   {
    "duration": 98615,
    "start_time": "2022-12-13T09:45:25.855Z"
   },
   {
    "duration": 12,
    "start_time": "2022-12-13T09:47:34.692Z"
   },
   {
    "duration": 4,
    "start_time": "2022-12-13T09:48:58.411Z"
   },
   {
    "duration": 118,
    "start_time": "2022-12-13T09:54:50.532Z"
   },
   {
    "duration": 151,
    "start_time": "2022-12-13T09:54:58.648Z"
   },
   {
    "duration": 374,
    "start_time": "2022-12-13T09:55:05.636Z"
   },
   {
    "duration": 222,
    "start_time": "2022-12-13T09:55:17.777Z"
   },
   {
    "duration": 208,
    "start_time": "2022-12-13T09:55:36.761Z"
   },
   {
    "duration": 208,
    "start_time": "2022-12-13T09:55:55.206Z"
   },
   {
    "duration": 24,
    "start_time": "2022-12-13T10:02:03.093Z"
   },
   {
    "duration": 13,
    "start_time": "2022-12-13T10:02:21.693Z"
   },
   {
    "duration": 306,
    "start_time": "2022-12-13T10:03:41.832Z"
   },
   {
    "duration": 641,
    "start_time": "2022-12-13T10:04:05.130Z"
   },
   {
    "duration": 579,
    "start_time": "2022-12-13T10:04:54.481Z"
   },
   {
    "duration": 467,
    "start_time": "2022-12-13T10:05:18.464Z"
   },
   {
    "duration": 662,
    "start_time": "2022-12-13T10:05:26.809Z"
   },
   {
    "duration": 327,
    "start_time": "2022-12-13T10:05:47.029Z"
   },
   {
    "duration": 678,
    "start_time": "2022-12-13T10:05:56.187Z"
   },
   {
    "duration": 972,
    "start_time": "2022-12-13T10:06:10.500Z"
   },
   {
    "duration": 476,
    "start_time": "2022-12-13T10:06:28.468Z"
   },
   {
    "duration": 12,
    "start_time": "2022-12-13T10:17:18.877Z"
   },
   {
    "duration": 12,
    "start_time": "2022-12-13T10:17:30.908Z"
   },
   {
    "duration": 490,
    "start_time": "2022-12-13T10:17:36.738Z"
   },
   {
    "duration": 504,
    "start_time": "2022-12-13T10:17:44.128Z"
   },
   {
    "duration": 490,
    "start_time": "2022-12-13T10:22:25.767Z"
   },
   {
    "duration": 786,
    "start_time": "2022-12-13T10:22:41.822Z"
   },
   {
    "duration": 11,
    "start_time": "2022-12-13T10:23:48.564Z"
   },
   {
    "duration": 532,
    "start_time": "2022-12-13T10:23:54.009Z"
   },
   {
    "duration": 550,
    "start_time": "2022-12-13T10:23:59.512Z"
   },
   {
    "duration": 540,
    "start_time": "2022-12-13T10:24:03.624Z"
   },
   {
    "duration": 17,
    "start_time": "2022-12-13T10:24:07.833Z"
   },
   {
    "duration": 520,
    "start_time": "2022-12-13T10:24:41.739Z"
   },
   {
    "duration": 40,
    "start_time": "2022-12-13T10:24:47.710Z"
   },
   {
    "duration": 915,
    "start_time": "2022-12-13T10:24:56.618Z"
   },
   {
    "duration": 549,
    "start_time": "2022-12-13T10:25:05.509Z"
   },
   {
    "duration": 521,
    "start_time": "2022-12-13T10:25:11.348Z"
   },
   {
    "duration": 33,
    "start_time": "2022-12-13T10:25:29.147Z"
   },
   {
    "duration": 37,
    "start_time": "2022-12-13T10:26:21.830Z"
   },
   {
    "duration": 34,
    "start_time": "2022-12-13T10:26:29.222Z"
   },
   {
    "duration": 36,
    "start_time": "2022-12-13T10:26:35.947Z"
   },
   {
    "duration": 1404,
    "start_time": "2022-12-13T10:26:55.566Z"
   },
   {
    "duration": 2,
    "start_time": "2022-12-13T10:26:56.972Z"
   },
   {
    "duration": 2408,
    "start_time": "2022-12-13T10:26:56.976Z"
   },
   {
    "duration": 30,
    "start_time": "2022-12-13T10:26:59.386Z"
   },
   {
    "duration": 19,
    "start_time": "2022-12-13T10:26:59.417Z"
   },
   {
    "duration": 67,
    "start_time": "2022-12-13T10:26:59.437Z"
   },
   {
    "duration": 10,
    "start_time": "2022-12-13T10:26:59.506Z"
   },
   {
    "duration": 18,
    "start_time": "2022-12-13T10:26:59.518Z"
   },
   {
    "duration": 5,
    "start_time": "2022-12-13T10:26:59.537Z"
   },
   {
    "duration": 17,
    "start_time": "2022-12-13T10:26:59.544Z"
   },
   {
    "duration": 152,
    "start_time": "2022-12-13T10:26:59.563Z"
   },
   {
    "duration": 13,
    "start_time": "2022-12-13T10:26:59.717Z"
   },
   {
    "duration": 5,
    "start_time": "2022-12-13T10:26:59.731Z"
   },
   {
    "duration": 11,
    "start_time": "2022-12-13T10:26:59.737Z"
   },
   {
    "duration": 4,
    "start_time": "2022-12-13T10:26:59.750Z"
   },
   {
    "duration": 5,
    "start_time": "2022-12-13T10:26:59.755Z"
   },
   {
    "duration": 27355,
    "start_time": "2022-12-13T10:26:59.761Z"
   },
   {
    "duration": 14,
    "start_time": "2022-12-13T10:27:27.118Z"
   },
   {
    "duration": 3,
    "start_time": "2022-12-13T10:27:27.133Z"
   },
   {
    "duration": 7,
    "start_time": "2022-12-13T10:27:27.138Z"
   },
   {
    "duration": 7,
    "start_time": "2022-12-13T10:27:27.146Z"
   },
   {
    "duration": 574,
    "start_time": "2022-12-13T10:27:27.154Z"
   },
   {
    "duration": 333,
    "start_time": "2022-12-13T10:27:27.730Z"
   },
   {
    "duration": 242,
    "start_time": "2022-12-13T10:27:28.065Z"
   },
   {
    "duration": 242,
    "start_time": "2022-12-13T10:27:28.310Z"
   },
   {
    "duration": 230,
    "start_time": "2022-12-13T10:27:28.553Z"
   },
   {
    "duration": 114,
    "start_time": "2022-12-13T10:29:30.278Z"
   },
   {
    "duration": 210,
    "start_time": "2022-12-13T10:29:46.409Z"
   },
   {
    "duration": 292,
    "start_time": "2022-12-13T10:30:45.943Z"
   },
   {
    "duration": 310,
    "start_time": "2022-12-13T10:31:17.536Z"
   },
   {
    "duration": 219,
    "start_time": "2022-12-13T10:32:08.102Z"
   },
   {
    "duration": 317,
    "start_time": "2022-12-13T10:32:28.914Z"
   },
   {
    "duration": 1439,
    "start_time": "2022-12-13T10:33:33.950Z"
   },
   {
    "duration": 3,
    "start_time": "2022-12-13T10:33:35.391Z"
   },
   {
    "duration": 1310,
    "start_time": "2022-12-13T10:33:35.395Z"
   },
   {
    "duration": 19,
    "start_time": "2022-12-13T10:33:36.710Z"
   },
   {
    "duration": 56,
    "start_time": "2022-12-13T10:33:36.731Z"
   },
   {
    "duration": 72,
    "start_time": "2022-12-13T10:33:36.789Z"
   },
   {
    "duration": 7,
    "start_time": "2022-12-13T10:33:36.862Z"
   },
   {
    "duration": 39,
    "start_time": "2022-12-13T10:33:36.871Z"
   },
   {
    "duration": 6,
    "start_time": "2022-12-13T10:33:36.913Z"
   },
   {
    "duration": 33,
    "start_time": "2022-12-13T10:33:36.922Z"
   },
   {
    "duration": 123,
    "start_time": "2022-12-13T10:33:36.956Z"
   },
   {
    "duration": 18,
    "start_time": "2022-12-13T10:33:37.080Z"
   },
   {
    "duration": 8,
    "start_time": "2022-12-13T10:33:37.100Z"
   },
   {
    "duration": 18,
    "start_time": "2022-12-13T10:33:37.110Z"
   },
   {
    "duration": 5,
    "start_time": "2022-12-13T10:33:37.130Z"
   },
   {
    "duration": 5,
    "start_time": "2022-12-13T10:33:37.136Z"
   },
   {
    "duration": 31278,
    "start_time": "2022-12-13T10:33:37.142Z"
   },
   {
    "duration": 13,
    "start_time": "2022-12-13T10:34:08.422Z"
   },
   {
    "duration": 19,
    "start_time": "2022-12-13T10:34:08.436Z"
   },
   {
    "duration": 18,
    "start_time": "2022-12-13T10:34:08.457Z"
   },
   {
    "duration": 44,
    "start_time": "2022-12-13T10:34:08.477Z"
   },
   {
    "duration": 546,
    "start_time": "2022-12-13T10:34:08.523Z"
   },
   {
    "duration": 626,
    "start_time": "2022-12-13T10:34:09.071Z"
   },
   {
    "duration": 258,
    "start_time": "2022-12-13T10:34:09.700Z"
   },
   {
    "duration": 254,
    "start_time": "2022-12-13T10:34:09.960Z"
   },
   {
    "duration": 246,
    "start_time": "2022-12-13T10:34:10.216Z"
   },
   {
    "duration": 333,
    "start_time": "2022-12-13T10:34:10.464Z"
   },
   {
    "duration": 975,
    "start_time": "2022-12-13T10:35:44.142Z"
   },
   {
    "duration": 858,
    "start_time": "2022-12-13T10:36:31.716Z"
   },
   {
    "duration": 842,
    "start_time": "2022-12-13T10:36:55.724Z"
   },
   {
    "duration": 1002,
    "start_time": "2022-12-13T10:37:16.524Z"
   },
   {
    "duration": 1389,
    "start_time": "2022-12-13T10:37:27.760Z"
   },
   {
    "duration": 530,
    "start_time": "2022-12-13T10:38:26.394Z"
   },
   {
    "duration": 363,
    "start_time": "2022-12-13T10:40:02.771Z"
   },
   {
    "duration": 200,
    "start_time": "2022-12-13T10:40:24.472Z"
   },
   {
    "duration": 166,
    "start_time": "2022-12-13T10:40:38.173Z"
   },
   {
    "duration": 158,
    "start_time": "2022-12-13T10:40:46.855Z"
   },
   {
    "duration": 458,
    "start_time": "2022-12-13T10:41:28.975Z"
   },
   {
    "duration": 850,
    "start_time": "2022-12-13T10:41:51.962Z"
   },
   {
    "duration": 899,
    "start_time": "2022-12-13T10:42:08.091Z"
   },
   {
    "duration": 754,
    "start_time": "2022-12-13T10:42:11.001Z"
   },
   {
    "duration": 1156,
    "start_time": "2022-12-13T10:43:04.354Z"
   },
   {
    "duration": 720,
    "start_time": "2022-12-13T10:43:25.678Z"
   },
   {
    "duration": 534,
    "start_time": "2022-12-13T10:45:22.421Z"
   },
   {
    "duration": 615,
    "start_time": "2022-12-13T10:45:36.158Z"
   },
   {
    "duration": 1093,
    "start_time": "2022-12-13T10:46:23.167Z"
   },
   {
    "duration": 1478,
    "start_time": "2022-12-13T10:46:34.670Z"
   },
   {
    "duration": 1056,
    "start_time": "2022-12-13T10:47:30.387Z"
   },
   {
    "duration": 738,
    "start_time": "2022-12-13T10:47:43.410Z"
   },
   {
    "duration": 1341,
    "start_time": "2022-12-13T10:48:01.438Z"
   },
   {
    "duration": 762,
    "start_time": "2022-12-13T10:48:09.675Z"
   },
   {
    "duration": 746,
    "start_time": "2022-12-13T10:48:51.740Z"
   },
   {
    "duration": 810,
    "start_time": "2022-12-13T10:49:03.871Z"
   },
   {
    "duration": 1385,
    "start_time": "2022-12-13T10:49:50.769Z"
   },
   {
    "duration": 512,
    "start_time": "2022-12-13T10:50:02.653Z"
   },
   {
    "duration": 5,
    "start_time": "2022-12-13T10:56:03.049Z"
   },
   {
    "duration": 15,
    "start_time": "2022-12-13T10:56:15.531Z"
   },
   {
    "duration": 45,
    "start_time": "2022-12-14T03:49:57.382Z"
   },
   {
    "duration": 1448,
    "start_time": "2022-12-14T03:50:08.066Z"
   },
   {
    "duration": 3,
    "start_time": "2022-12-14T03:50:09.516Z"
   },
   {
    "duration": 1331,
    "start_time": "2022-12-14T03:50:10.283Z"
   },
   {
    "duration": 20,
    "start_time": "2022-12-14T03:50:12.264Z"
   },
   {
    "duration": 109,
    "start_time": "2022-12-14T03:50:12.586Z"
   },
   {
    "duration": 7,
    "start_time": "2022-12-14T03:50:27.369Z"
   },
   {
    "duration": 9,
    "start_time": "2022-12-14T03:50:33.198Z"
   },
   {
    "duration": 317,
    "start_time": "2022-12-14T03:51:18.229Z"
   },
   {
    "duration": 304,
    "start_time": "2022-12-14T03:51:27.430Z"
   },
   {
    "duration": 405,
    "start_time": "2022-12-14T03:51:37.539Z"
   },
   {
    "duration": 311,
    "start_time": "2022-12-14T03:51:54.791Z"
   },
   {
    "duration": 315,
    "start_time": "2022-12-14T03:52:02.236Z"
   },
   {
    "duration": 313,
    "start_time": "2022-12-14T03:52:15.735Z"
   },
   {
    "duration": 311,
    "start_time": "2022-12-14T03:52:25.787Z"
   },
   {
    "duration": 312,
    "start_time": "2022-12-14T03:53:02.909Z"
   },
   {
    "duration": 304,
    "start_time": "2022-12-14T03:53:17.456Z"
   },
   {
    "duration": 3016,
    "start_time": "2022-12-14T03:53:49.853Z"
   },
   {
    "duration": 17,
    "start_time": "2022-12-14T03:55:17.183Z"
   },
   {
    "duration": 25668,
    "start_time": "2022-12-14T03:59:06.621Z"
   },
   {
    "duration": 75,
    "start_time": "2022-12-14T03:59:50.136Z"
   },
   {
    "duration": 5,
    "start_time": "2022-12-14T04:00:30.930Z"
   },
   {
    "duration": 6,
    "start_time": "2022-12-14T04:00:47.414Z"
   },
   {
    "duration": 5,
    "start_time": "2022-12-14T04:01:04.294Z"
   },
   {
    "duration": 6,
    "start_time": "2022-12-14T04:01:27.649Z"
   },
   {
    "duration": 16,
    "start_time": "2022-12-14T04:02:48.775Z"
   },
   {
    "duration": 414,
    "start_time": "2022-12-14T04:13:25.904Z"
   },
   {
    "duration": 333,
    "start_time": "2022-12-14T04:13:56.877Z"
   },
   {
    "duration": 11,
    "start_time": "2022-12-14T04:14:20.206Z"
   },
   {
    "duration": 9,
    "start_time": "2022-12-14T04:14:47.900Z"
   },
   {
    "duration": 4,
    "start_time": "2022-12-14T04:14:53.930Z"
   },
   {
    "duration": 5,
    "start_time": "2022-12-14T04:15:02.850Z"
   },
   {
    "duration": 5,
    "start_time": "2022-12-14T04:18:34.481Z"
   },
   {
    "duration": 4,
    "start_time": "2022-12-14T04:18:57.340Z"
   },
   {
    "duration": 16,
    "start_time": "2022-12-14T04:21:25.290Z"
   },
   {
    "duration": 218,
    "start_time": "2022-12-14T04:23:36.527Z"
   },
   {
    "duration": 13,
    "start_time": "2022-12-14T04:23:56.501Z"
   },
   {
    "duration": 11,
    "start_time": "2022-12-14T04:24:38.707Z"
   },
   {
    "duration": 5,
    "start_time": "2022-12-14T04:24:45.760Z"
   },
   {
    "duration": 224,
    "start_time": "2022-12-14T04:29:01.190Z"
   },
   {
    "duration": 263,
    "start_time": "2022-12-14T04:29:08.561Z"
   },
   {
    "duration": 8,
    "start_time": "2022-12-14T04:30:12.245Z"
   },
   {
    "duration": 5,
    "start_time": "2022-12-14T04:30:19.719Z"
   },
   {
    "duration": 1961,
    "start_time": "2022-12-14T04:30:39.198Z"
   },
   {
    "duration": 1304,
    "start_time": "2022-12-14T04:30:41.162Z"
   },
   {
    "duration": 3,
    "start_time": "2022-12-14T04:30:42.468Z"
   },
   {
    "duration": 1737,
    "start_time": "2022-12-14T04:30:42.472Z"
   },
   {
    "duration": 24,
    "start_time": "2022-12-14T04:30:44.211Z"
   },
   {
    "duration": 195053,
    "start_time": "2022-12-14T04:30:44.236Z"
   },
   {
    "duration": 6,
    "start_time": "2022-12-14T04:33:59.291Z"
   },
   {
    "duration": 13,
    "start_time": "2022-12-14T04:33:59.299Z"
   },
   {
    "duration": 21,
    "start_time": "2022-12-14T04:33:59.313Z"
   },
   {
    "duration": 47,
    "start_time": "2022-12-14T04:33:59.336Z"
   },
   {
    "duration": 9,
    "start_time": "2022-12-14T04:33:59.384Z"
   },
   {
    "duration": 10,
    "start_time": "2022-12-14T04:33:59.394Z"
   },
   {
    "duration": 15,
    "start_time": "2022-12-14T04:33:59.421Z"
   },
   {
    "duration": 6,
    "start_time": "2022-12-14T04:33:59.438Z"
   },
   {
    "duration": 17,
    "start_time": "2022-12-14T04:33:59.445Z"
   },
   {
    "duration": 123,
    "start_time": "2022-12-14T04:33:59.464Z"
   },
   {
    "duration": 12,
    "start_time": "2022-12-14T04:33:59.589Z"
   },
   {
    "duration": 19,
    "start_time": "2022-12-14T04:33:59.602Z"
   },
   {
    "duration": 18,
    "start_time": "2022-12-14T04:33:59.623Z"
   },
   {
    "duration": 6,
    "start_time": "2022-12-14T04:33:59.643Z"
   },
   {
    "duration": 13,
    "start_time": "2022-12-14T04:33:59.650Z"
   },
   {
    "duration": 25475,
    "start_time": "2022-12-14T04:33:59.664Z"
   },
   {
    "duration": 15,
    "start_time": "2022-12-14T04:34:25.141Z"
   },
   {
    "duration": 4,
    "start_time": "2022-12-14T04:34:25.158Z"
   },
   {
    "duration": 12,
    "start_time": "2022-12-14T04:34:25.164Z"
   },
   {
    "duration": 5,
    "start_time": "2022-12-14T04:34:25.178Z"
   },
   {
    "duration": 599,
    "start_time": "2022-12-14T04:34:25.185Z"
   },
   {
    "duration": 717,
    "start_time": "2022-12-14T04:34:25.785Z"
   },
   {
    "duration": 198,
    "start_time": "2022-12-14T04:36:09.097Z"
   },
   {
    "duration": 254,
    "start_time": "2022-12-14T04:36:24.761Z"
   },
   {
    "duration": 238,
    "start_time": "2022-12-14T04:36:43.094Z"
   },
   {
    "duration": 266,
    "start_time": "2022-12-14T04:36:47.364Z"
   },
   {
    "duration": 262,
    "start_time": "2022-12-14T04:36:52.491Z"
   },
   {
    "duration": 424,
    "start_time": "2022-12-14T04:37:40.587Z"
   },
   {
    "duration": 249,
    "start_time": "2022-12-14T04:37:52.199Z"
   },
   {
    "duration": 335,
    "start_time": "2022-12-14T04:37:59.370Z"
   },
   {
    "duration": 293,
    "start_time": "2022-12-14T04:38:02.899Z"
   },
   {
    "duration": 126,
    "start_time": "2022-12-14T04:38:15.310Z"
   },
   {
    "duration": 286,
    "start_time": "2022-12-14T04:38:24.238Z"
   },
   {
    "duration": 3,
    "start_time": "2022-12-14T04:39:03.561Z"
   },
   {
    "duration": 9,
    "start_time": "2022-12-14T04:53:29.106Z"
   },
   {
    "duration": 2,
    "start_time": "2022-12-14T04:53:31.719Z"
   },
   {
    "duration": 9,
    "start_time": "2022-12-14T04:53:32.080Z"
   },
   {
    "duration": 10,
    "start_time": "2022-12-14T04:54:04.784Z"
   },
   {
    "duration": 11,
    "start_time": "2022-12-14T04:54:28.674Z"
   },
   {
    "duration": 14,
    "start_time": "2022-12-14T04:55:35.347Z"
   },
   {
    "duration": 9,
    "start_time": "2022-12-14T04:56:04.136Z"
   },
   {
    "duration": 9,
    "start_time": "2022-12-14T04:56:08.025Z"
   },
   {
    "duration": 11,
    "start_time": "2022-12-14T04:56:12.867Z"
   },
   {
    "duration": 16255,
    "start_time": "2022-12-14T05:03:34.090Z"
   },
   {
    "duration": 489462,
    "start_time": "2022-12-14T05:04:13.845Z"
   },
   {
    "duration": 2047,
    "start_time": "2022-12-14T05:18:29.138Z"
   },
   {
    "duration": 1398,
    "start_time": "2022-12-14T05:18:32.397Z"
   },
   {
    "duration": 4,
    "start_time": "2022-12-14T05:18:34.920Z"
   },
   {
    "duration": 1797,
    "start_time": "2022-12-14T05:18:36.163Z"
   },
   {
    "duration": 18,
    "start_time": "2022-12-14T05:18:39.778Z"
   },
   {
    "duration": 9,
    "start_time": "2022-12-14T05:18:46.270Z"
   },
   {
    "duration": 27478,
    "start_time": "2022-12-14T05:18:48.486Z"
   },
   {
    "duration": 3,
    "start_time": "2022-12-14T05:21:26.905Z"
   },
   {
    "duration": 6,
    "start_time": "2022-12-14T05:21:36.438Z"
   },
   {
    "duration": 99,
    "start_time": "2022-12-14T05:21:46.219Z"
   },
   {
    "duration": 3,
    "start_time": "2022-12-14T05:21:51.375Z"
   },
   {
    "duration": 11,
    "start_time": "2022-12-14T05:22:26.128Z"
   },
   {
    "duration": 9,
    "start_time": "2022-12-14T05:22:27.068Z"
   },
   {
    "duration": 3,
    "start_time": "2022-12-14T05:22:30.184Z"
   },
   {
    "duration": 14,
    "start_time": "2022-12-14T05:22:32.965Z"
   },
   {
    "duration": 4,
    "start_time": "2022-12-14T05:26:15.700Z"
   },
   {
    "duration": 309,
    "start_time": "2022-12-14T05:29:13.303Z"
   },
   {
    "duration": 20,
    "start_time": "2022-12-14T05:30:25.244Z"
   },
   {
    "duration": 1252,
    "start_time": "2022-12-14T05:30:33.878Z"
   },
   {
    "duration": 10,
    "start_time": "2022-12-14T05:31:04.433Z"
   },
   {
    "duration": 92640,
    "start_time": "2022-12-14T05:31:22.188Z"
   },
   {
    "duration": 1338,
    "start_time": "2022-12-14T05:33:01.861Z"
   },
   {
    "duration": 1293,
    "start_time": "2022-12-14T05:33:35.152Z"
   },
   {
    "duration": 174873,
    "start_time": "2022-12-14T05:34:10.714Z"
   },
   {
    "duration": 26533,
    "start_time": "2022-12-14T05:37:16.601Z"
   },
   {
    "duration": 70502,
    "start_time": "2022-12-14T05:38:03.798Z"
   },
   {
    "duration": 2357,
    "start_time": "2022-12-14T05:39:46.544Z"
   },
   {
    "duration": 1193,
    "start_time": "2022-12-14T05:40:21.661Z"
   },
   {
    "duration": 119,
    "start_time": "2022-12-14T05:40:35.822Z"
   },
   {
    "duration": 106,
    "start_time": "2022-12-14T05:40:43.433Z"
   },
   {
    "duration": 163,
    "start_time": "2022-12-14T05:40:49.673Z"
   },
   {
    "duration": 157,
    "start_time": "2022-12-14T05:41:11.028Z"
   },
   {
    "duration": 219,
    "start_time": "2022-12-14T05:42:21.987Z"
   },
   {
    "duration": 244,
    "start_time": "2022-12-14T05:42:27.740Z"
   },
   {
    "duration": 15,
    "start_time": "2022-12-14T05:44:36.160Z"
   },
   {
    "duration": 12,
    "start_time": "2022-12-14T05:44:43.118Z"
   },
   {
    "duration": 16,
    "start_time": "2022-12-14T05:44:44.817Z"
   },
   {
    "duration": 125,
    "start_time": "2022-12-14T05:44:47.511Z"
   },
   {
    "duration": 108,
    "start_time": "2022-12-14T05:45:17.995Z"
   },
   {
    "duration": 13,
    "start_time": "2022-12-14T05:45:26.971Z"
   },
   {
    "duration": 7,
    "start_time": "2022-12-14T05:46:21.396Z"
   },
   {
    "duration": 9,
    "start_time": "2022-12-14T05:46:23.153Z"
   },
   {
    "duration": 4,
    "start_time": "2022-12-14T05:47:33.872Z"
   },
   {
    "duration": 9,
    "start_time": "2022-12-14T05:50:36.142Z"
   },
   {
    "duration": 3,
    "start_time": "2022-12-14T05:50:47.153Z"
   },
   {
    "duration": 10,
    "start_time": "2022-12-14T05:50:48.511Z"
   },
   {
    "duration": 4,
    "start_time": "2022-12-14T05:50:55.563Z"
   },
   {
    "duration": 10,
    "start_time": "2022-12-14T05:50:58.403Z"
   },
   {
    "duration": 6,
    "start_time": "2022-12-14T05:51:06.324Z"
   },
   {
    "duration": 56,
    "start_time": "2022-12-14T05:53:45.019Z"
   },
   {
    "duration": 52,
    "start_time": "2022-12-14T05:53:55.811Z"
   },
   {
    "duration": 58,
    "start_time": "2022-12-14T05:54:00.312Z"
   },
   {
    "duration": 3,
    "start_time": "2022-12-14T05:54:05.056Z"
   },
   {
    "duration": 22,
    "start_time": "2022-12-14T05:54:16.811Z"
   },
   {
    "duration": 25,
    "start_time": "2022-12-14T05:54:22.173Z"
   },
   {
    "duration": 31,
    "start_time": "2022-12-14T05:55:07.606Z"
   },
   {
    "duration": 4,
    "start_time": "2022-12-14T05:55:11.658Z"
   },
   {
    "duration": 60,
    "start_time": "2022-12-14T05:55:17.372Z"
   },
   {
    "duration": 24,
    "start_time": "2022-12-14T05:55:20.257Z"
   },
   {
    "duration": 46,
    "start_time": "2022-12-14T05:55:30.545Z"
   },
   {
    "duration": 45,
    "start_time": "2022-12-14T05:55:36.222Z"
   },
   {
    "duration": 41,
    "start_time": "2022-12-14T05:55:40.016Z"
   },
   {
    "duration": 4,
    "start_time": "2022-12-14T06:06:19.564Z"
   },
   {
    "duration": 4,
    "start_time": "2022-12-14T06:06:22.438Z"
   },
   {
    "duration": 5,
    "start_time": "2022-12-14T06:06:33.948Z"
   },
   {
    "duration": 4,
    "start_time": "2022-12-14T06:14:03.436Z"
   },
   {
    "duration": 27448,
    "start_time": "2022-12-14T06:14:05.994Z"
   },
   {
    "duration": 14,
    "start_time": "2022-12-14T06:14:33.444Z"
   },
   {
    "duration": 5,
    "start_time": "2022-12-14T06:23:15.122Z"
   },
   {
    "duration": 5,
    "start_time": "2022-12-14T06:23:19.760Z"
   },
   {
    "duration": 4,
    "start_time": "2022-12-14T06:32:57.868Z"
   },
   {
    "duration": 2019,
    "start_time": "2022-12-14T06:39:13.444Z"
   },
   {
    "duration": 1278,
    "start_time": "2022-12-14T06:39:15.465Z"
   },
   {
    "duration": 3,
    "start_time": "2022-12-14T06:39:16.744Z"
   },
   {
    "duration": 1953,
    "start_time": "2022-12-14T06:39:16.748Z"
   },
   {
    "duration": 26,
    "start_time": "2022-12-14T06:39:18.703Z"
   },
   {
    "duration": 9,
    "start_time": "2022-12-14T06:39:18.731Z"
   },
   {
    "duration": 28940,
    "start_time": "2022-12-14T06:39:18.741Z"
   },
   {
    "duration": 3,
    "start_time": "2022-12-14T06:39:47.683Z"
   },
   {
    "duration": 21,
    "start_time": "2022-12-14T06:39:47.687Z"
   },
   {
    "duration": 20,
    "start_time": "2022-12-14T06:39:47.709Z"
   },
   {
    "duration": 311,
    "start_time": "2022-12-14T06:39:47.730Z"
   },
   {
    "duration": 15,
    "start_time": "2022-12-14T06:39:48.043Z"
   },
   {
    "duration": 180,
    "start_time": "2022-12-14T06:39:48.059Z"
   },
   {
    "duration": 13,
    "start_time": "2022-12-14T06:39:48.241Z"
   },
   {
    "duration": 8,
    "start_time": "2022-12-14T06:39:48.255Z"
   },
   {
    "duration": 16,
    "start_time": "2022-12-14T06:39:48.264Z"
   },
   {
    "duration": 133,
    "start_time": "2022-12-14T06:39:48.282Z"
   },
   {
    "duration": 14,
    "start_time": "2022-12-14T06:39:48.416Z"
   },
   {
    "duration": 12,
    "start_time": "2022-12-14T06:39:48.432Z"
   },
   {
    "duration": 11,
    "start_time": "2022-12-14T06:39:48.445Z"
   },
   {
    "duration": 5,
    "start_time": "2022-12-14T06:39:48.458Z"
   },
   {
    "duration": 10,
    "start_time": "2022-12-14T06:39:48.464Z"
   },
   {
    "duration": 19,
    "start_time": "2022-12-14T06:39:48.476Z"
   },
   {
    "duration": 11,
    "start_time": "2022-12-14T06:39:48.497Z"
   },
   {
    "duration": 6,
    "start_time": "2022-12-14T06:39:48.510Z"
   },
   {
    "duration": 30222,
    "start_time": "2022-12-14T06:39:48.517Z"
   },
   {
    "duration": 13,
    "start_time": "2022-12-14T06:40:18.741Z"
   },
   {
    "duration": 29,
    "start_time": "2022-12-14T06:40:18.755Z"
   },
   {
    "duration": 544,
    "start_time": "2022-12-14T06:40:18.785Z"
   },
   {
    "duration": 799,
    "start_time": "2022-12-14T06:40:19.330Z"
   },
   {
    "duration": 327,
    "start_time": "2022-12-14T06:40:20.132Z"
   },
   {
    "duration": 341,
    "start_time": "2022-12-14T06:40:51.042Z"
   },
   {
    "duration": 5,
    "start_time": "2022-12-14T08:00:36.996Z"
   },
   {
    "duration": 5,
    "start_time": "2022-12-14T08:01:21.245Z"
   },
   {
    "duration": 116,
    "start_time": "2022-12-14T08:02:40.545Z"
   },
   {
    "duration": 13,
    "start_time": "2022-12-14T08:03:17.260Z"
   },
   {
    "duration": 4,
    "start_time": "2022-12-14T08:03:24.701Z"
   },
   {
    "duration": 4,
    "start_time": "2022-12-14T08:03:37.878Z"
   },
   {
    "duration": 4,
    "start_time": "2022-12-14T08:04:42.735Z"
   },
   {
    "duration": 4,
    "start_time": "2022-12-14T08:05:48.793Z"
   },
   {
    "duration": 872,
    "start_time": "2022-12-14T08:09:38.243Z"
   },
   {
    "duration": 490,
    "start_time": "2022-12-14T08:10:17.508Z"
   },
   {
    "duration": 474,
    "start_time": "2022-12-14T08:11:14.337Z"
   },
   {
    "duration": 208,
    "start_time": "2022-12-14T08:11:29.460Z"
   },
   {
    "duration": 568,
    "start_time": "2022-12-14T08:12:00.222Z"
   },
   {
    "duration": 564,
    "start_time": "2022-12-14T08:12:09.947Z"
   },
   {
    "duration": 559,
    "start_time": "2022-12-14T08:12:31.094Z"
   },
   {
    "duration": 504,
    "start_time": "2022-12-14T08:12:40.558Z"
   },
   {
    "duration": 692,
    "start_time": "2022-12-14T08:20:55.534Z"
   },
   {
    "duration": 527,
    "start_time": "2022-12-14T08:21:07.990Z"
   },
   {
    "duration": 461,
    "start_time": "2022-12-14T08:21:14.045Z"
   },
   {
    "duration": 439,
    "start_time": "2022-12-14T08:21:17.947Z"
   },
   {
    "duration": 630,
    "start_time": "2022-12-14T08:21:21.693Z"
   },
   {
    "duration": 486,
    "start_time": "2022-12-14T08:21:25.906Z"
   },
   {
    "duration": 11,
    "start_time": "2022-12-14T08:24:45.192Z"
   },
   {
    "duration": 180,
    "start_time": "2022-12-14T08:24:57.566Z"
   },
   {
    "duration": 10,
    "start_time": "2022-12-14T08:25:46.974Z"
   },
   {
    "duration": 5,
    "start_time": "2022-12-14T08:25:52.319Z"
   },
   {
    "duration": 20,
    "start_time": "2022-12-14T08:25:55.961Z"
   },
   {
    "duration": 127,
    "start_time": "2022-12-14T08:27:35.170Z"
   },
   {
    "duration": 17607,
    "start_time": "2022-12-14T08:27:40.574Z"
   },
   {
    "duration": 1112,
    "start_time": "2022-12-14T08:28:13.117Z"
   },
   {
    "duration": 741,
    "start_time": "2022-12-14T08:28:18.702Z"
   },
   {
    "duration": 7281,
    "start_time": "2022-12-14T08:28:23.141Z"
   },
   {
    "duration": 102,
    "start_time": "2022-12-14T08:28:46.043Z"
   },
   {
    "duration": 195,
    "start_time": "2022-12-14T08:28:53.398Z"
   },
   {
    "duration": 236,
    "start_time": "2022-12-14T08:29:55.240Z"
   },
   {
    "duration": 186,
    "start_time": "2022-12-14T08:30:14.201Z"
   },
   {
    "duration": 318,
    "start_time": "2022-12-14T08:30:27.157Z"
   },
   {
    "duration": 3,
    "start_time": "2022-12-14T08:31:38.503Z"
   },
   {
    "duration": 341,
    "start_time": "2022-12-14T08:32:01.436Z"
   },
   {
    "duration": 315,
    "start_time": "2022-12-14T08:32:10.925Z"
   },
   {
    "duration": 383,
    "start_time": "2022-12-14T08:32:44.151Z"
   },
   {
    "duration": 360,
    "start_time": "2022-12-14T08:33:11.726Z"
   },
   {
    "duration": 421,
    "start_time": "2022-12-14T08:33:17.566Z"
   },
   {
    "duration": 430,
    "start_time": "2022-12-14T08:33:26.028Z"
   },
   {
    "duration": 443,
    "start_time": "2022-12-14T08:41:05.633Z"
   },
   {
    "duration": 500,
    "start_time": "2022-12-14T08:41:44.366Z"
   },
   {
    "duration": 455,
    "start_time": "2022-12-14T08:44:06.710Z"
   },
   {
    "duration": 490,
    "start_time": "2022-12-14T08:44:24.257Z"
   },
   {
    "duration": 516,
    "start_time": "2022-12-14T08:44:39.275Z"
   },
   {
    "duration": 480,
    "start_time": "2022-12-14T08:44:47.006Z"
   },
   {
    "duration": 506,
    "start_time": "2022-12-14T08:44:55.486Z"
   },
   {
    "duration": 595,
    "start_time": "2022-12-14T08:51:00.159Z"
   },
   {
    "duration": 610,
    "start_time": "2022-12-14T08:51:13.214Z"
   },
   {
    "duration": 2011,
    "start_time": "2022-12-14T08:51:27.275Z"
   },
   {
    "duration": 1395,
    "start_time": "2022-12-14T08:51:29.288Z"
   },
   {
    "duration": 3,
    "start_time": "2022-12-14T08:51:30.685Z"
   },
   {
    "duration": 1744,
    "start_time": "2022-12-14T08:51:30.690Z"
   },
   {
    "duration": 20,
    "start_time": "2022-12-14T08:51:32.436Z"
   },
   {
    "duration": 10,
    "start_time": "2022-12-14T08:51:32.458Z"
   },
   {
    "duration": 27814,
    "start_time": "2022-12-14T08:51:32.469Z"
   },
   {
    "duration": 3,
    "start_time": "2022-12-14T08:52:00.286Z"
   },
   {
    "duration": 37,
    "start_time": "2022-12-14T08:52:00.290Z"
   },
   {
    "duration": 25,
    "start_time": "2022-12-14T08:52:00.330Z"
   },
   {
    "duration": 300,
    "start_time": "2022-12-14T08:52:00.356Z"
   },
   {
    "duration": 15,
    "start_time": "2022-12-14T08:52:00.658Z"
   },
   {
    "duration": 194,
    "start_time": "2022-12-14T08:52:00.674Z"
   },
   {
    "duration": 13,
    "start_time": "2022-12-14T08:52:00.870Z"
   },
   {
    "duration": 17,
    "start_time": "2022-12-14T08:52:00.885Z"
   },
   {
    "duration": 32,
    "start_time": "2022-12-14T08:52:00.904Z"
   },
   {
    "duration": 139,
    "start_time": "2022-12-14T08:52:00.938Z"
   },
   {
    "duration": 14,
    "start_time": "2022-12-14T08:52:01.078Z"
   },
   {
    "duration": 30,
    "start_time": "2022-12-14T08:52:01.093Z"
   },
   {
    "duration": 31,
    "start_time": "2022-12-14T08:52:01.124Z"
   },
   {
    "duration": 36,
    "start_time": "2022-12-14T08:52:01.156Z"
   },
   {
    "duration": 39,
    "start_time": "2022-12-14T08:52:01.193Z"
   },
   {
    "duration": 24,
    "start_time": "2022-12-14T08:52:01.234Z"
   },
   {
    "duration": 20,
    "start_time": "2022-12-14T08:52:01.260Z"
   },
   {
    "duration": 15,
    "start_time": "2022-12-14T08:52:01.282Z"
   },
   {
    "duration": 29241,
    "start_time": "2022-12-14T08:52:01.299Z"
   },
   {
    "duration": 13,
    "start_time": "2022-12-14T08:52:30.541Z"
   },
   {
    "duration": 20,
    "start_time": "2022-12-14T08:52:30.557Z"
   },
   {
    "duration": 34,
    "start_time": "2022-12-14T08:52:30.579Z"
   },
   {
    "duration": 13,
    "start_time": "2022-12-14T08:52:30.614Z"
   },
   {
    "duration": 715,
    "start_time": "2022-12-14T08:52:30.628Z"
   },
   {
    "duration": 0,
    "start_time": "2022-12-14T08:52:31.344Z"
   },
   {
    "duration": 0,
    "start_time": "2022-12-14T08:52:31.346Z"
   },
   {
    "duration": 0,
    "start_time": "2022-12-14T08:52:31.347Z"
   },
   {
    "duration": 0,
    "start_time": "2022-12-14T08:52:31.349Z"
   },
   {
    "duration": 569,
    "start_time": "2022-12-14T08:52:49.671Z"
   },
   {
    "duration": 66,
    "start_time": "2022-12-14T08:52:57.960Z"
   },
   {
    "duration": 64,
    "start_time": "2022-12-14T08:53:06.209Z"
   },
   {
    "duration": 104,
    "start_time": "2022-12-14T08:53:11.939Z"
   },
   {
    "duration": 604,
    "start_time": "2022-12-14T08:53:17.927Z"
   },
   {
    "duration": 30,
    "start_time": "2022-12-14T08:54:06.110Z"
   },
   {
    "duration": 23,
    "start_time": "2022-12-14T08:54:22.707Z"
   },
   {
    "duration": 72,
    "start_time": "2022-12-14T08:54:28.709Z"
   },
   {
    "duration": 21,
    "start_time": "2022-12-14T08:55:43.958Z"
   },
   {
    "duration": 21,
    "start_time": "2022-12-14T08:56:00.006Z"
   },
   {
    "duration": 72,
    "start_time": "2022-12-14T08:56:04.959Z"
   },
   {
    "duration": 74,
    "start_time": "2022-12-14T08:56:07.921Z"
   },
   {
    "duration": 79,
    "start_time": "2022-12-14T08:56:11.527Z"
   },
   {
    "duration": 14,
    "start_time": "2022-12-14T08:57:44.529Z"
   },
   {
    "duration": 15,
    "start_time": "2022-12-14T08:58:01.408Z"
   },
   {
    "duration": 14,
    "start_time": "2022-12-14T08:58:04.408Z"
   },
   {
    "duration": 15,
    "start_time": "2022-12-14T08:58:19.390Z"
   },
   {
    "duration": 165,
    "start_time": "2022-12-14T08:59:37.814Z"
   },
   {
    "duration": 92,
    "start_time": "2022-12-14T09:00:03.253Z"
   },
   {
    "duration": 100,
    "start_time": "2022-12-14T09:00:14.346Z"
   },
   {
    "duration": 187,
    "start_time": "2022-12-14T09:00:32.012Z"
   },
   {
    "duration": 318,
    "start_time": "2022-12-14T09:00:40.467Z"
   },
   {
    "duration": 592,
    "start_time": "2022-12-14T09:01:38.669Z"
   },
   {
    "duration": 437,
    "start_time": "2022-12-14T09:01:51.271Z"
   },
   {
    "duration": 548,
    "start_time": "2022-12-14T09:01:57.444Z"
   },
   {
    "duration": 172,
    "start_time": "2022-12-14T09:04:12.970Z"
   },
   {
    "duration": 757,
    "start_time": "2022-12-14T09:04:33.978Z"
   },
   {
    "duration": 650,
    "start_time": "2022-12-14T09:04:40.879Z"
   },
   {
    "duration": 657,
    "start_time": "2022-12-14T09:05:47.836Z"
   },
   {
    "duration": 588,
    "start_time": "2022-12-14T09:06:08.602Z"
   },
   {
    "duration": 362,
    "start_time": "2022-12-14T09:06:19.716Z"
   },
   {
    "duration": 3105,
    "start_time": "2022-12-14T09:06:33.802Z"
   },
   {
    "duration": 401,
    "start_time": "2022-12-14T09:06:56.205Z"
   },
   {
    "duration": 356,
    "start_time": "2022-12-14T09:07:00.332Z"
   },
   {
    "duration": 572,
    "start_time": "2022-12-14T09:07:16.113Z"
   },
   {
    "duration": 1590,
    "start_time": "2022-12-14T09:08:06.795Z"
   },
   {
    "duration": 482,
    "start_time": "2022-12-14T09:12:25.982Z"
   },
   {
    "duration": 471,
    "start_time": "2022-12-14T09:12:29.402Z"
   },
   {
    "duration": 478,
    "start_time": "2022-12-14T09:12:54.507Z"
   },
   {
    "duration": 2026,
    "start_time": "2022-12-14T09:13:21.459Z"
   },
   {
    "duration": 1263,
    "start_time": "2022-12-14T09:13:23.487Z"
   },
   {
    "duration": 3,
    "start_time": "2022-12-14T09:13:24.751Z"
   },
   {
    "duration": 1567,
    "start_time": "2022-12-14T09:13:24.756Z"
   },
   {
    "duration": 18,
    "start_time": "2022-12-14T09:13:26.324Z"
   },
   {
    "duration": 9,
    "start_time": "2022-12-14T09:13:26.343Z"
   },
   {
    "duration": 27480,
    "start_time": "2022-12-14T09:13:26.354Z"
   },
   {
    "duration": 3,
    "start_time": "2022-12-14T09:13:53.835Z"
   },
   {
    "duration": 21,
    "start_time": "2022-12-14T09:13:53.840Z"
   },
   {
    "duration": 9,
    "start_time": "2022-12-14T09:13:53.864Z"
   },
   {
    "duration": 297,
    "start_time": "2022-12-14T09:13:53.875Z"
   },
   {
    "duration": 14,
    "start_time": "2022-12-14T09:13:54.174Z"
   },
   {
    "duration": 181,
    "start_time": "2022-12-14T09:13:54.190Z"
   },
   {
    "duration": 14,
    "start_time": "2022-12-14T09:13:54.373Z"
   },
   {
    "duration": 16,
    "start_time": "2022-12-14T09:13:54.388Z"
   },
   {
    "duration": 22,
    "start_time": "2022-12-14T09:13:54.406Z"
   },
   {
    "duration": 118,
    "start_time": "2022-12-14T09:13:54.429Z"
   },
   {
    "duration": 12,
    "start_time": "2022-12-14T09:13:54.548Z"
   },
   {
    "duration": 12,
    "start_time": "2022-12-14T09:13:54.561Z"
   },
   {
    "duration": 12,
    "start_time": "2022-12-14T09:13:54.574Z"
   },
   {
    "duration": 7,
    "start_time": "2022-12-14T09:13:54.587Z"
   },
   {
    "duration": 6,
    "start_time": "2022-12-14T09:13:54.595Z"
   },
   {
    "duration": 21,
    "start_time": "2022-12-14T09:13:54.602Z"
   },
   {
    "duration": 5,
    "start_time": "2022-12-14T09:13:54.625Z"
   },
   {
    "duration": 6,
    "start_time": "2022-12-14T09:13:54.632Z"
   },
   {
    "duration": 27204,
    "start_time": "2022-12-14T09:13:54.639Z"
   },
   {
    "duration": 13,
    "start_time": "2022-12-14T09:14:21.845Z"
   },
   {
    "duration": 10,
    "start_time": "2022-12-14T09:14:21.861Z"
   },
   {
    "duration": 13,
    "start_time": "2022-12-14T09:14:21.872Z"
   },
   {
    "duration": 9,
    "start_time": "2022-12-14T09:14:21.887Z"
   },
   {
    "duration": 467,
    "start_time": "2022-12-14T09:14:27.124Z"
   },
   {
    "duration": 447,
    "start_time": "2022-12-14T09:15:56.537Z"
   },
   {
    "duration": 484,
    "start_time": "2022-12-14T09:16:08.728Z"
   },
   {
    "duration": 510,
    "start_time": "2022-12-14T09:16:56.411Z"
   },
   {
    "duration": 400,
    "start_time": "2022-12-14T09:17:09.860Z"
   },
   {
    "duration": 425,
    "start_time": "2022-12-14T09:17:16.415Z"
   },
   {
    "duration": 463,
    "start_time": "2022-12-14T09:17:24.134Z"
   },
   {
    "duration": 505,
    "start_time": "2022-12-14T09:23:09.253Z"
   },
   {
    "duration": 403,
    "start_time": "2022-12-14T09:23:24.706Z"
   },
   {
    "duration": 1118,
    "start_time": "2022-12-14T09:23:41.975Z"
   },
   {
    "duration": 1191,
    "start_time": "2022-12-14T09:23:47.008Z"
   },
   {
    "duration": 581,
    "start_time": "2022-12-14T09:24:07.672Z"
   },
   {
    "duration": 2,
    "start_time": "2022-12-14T09:24:11.523Z"
   },
   {
    "duration": 1214,
    "start_time": "2022-12-14T09:24:14.066Z"
   },
   {
    "duration": 1165,
    "start_time": "2022-12-14T09:24:30.469Z"
   },
   {
    "duration": 16823,
    "start_time": "2022-12-14T09:24:42.945Z"
   },
   {
    "duration": 93832,
    "start_time": "2022-12-14T09:25:06.773Z"
   },
   {
    "duration": 8,
    "start_time": "2022-12-14T09:26:55.721Z"
   },
   {
    "duration": 455,
    "start_time": "2022-12-14T09:26:58.757Z"
   },
   {
    "duration": 79,
    "start_time": "2022-12-14T09:29:15.959Z"
   },
   {
    "duration": 14,
    "start_time": "2022-12-14T09:30:33.417Z"
   },
   {
    "duration": 9,
    "start_time": "2022-12-14T09:30:48.592Z"
   },
   {
    "duration": 14,
    "start_time": "2022-12-14T09:31:25.033Z"
   },
   {
    "duration": 16,
    "start_time": "2022-12-14T09:31:31.691Z"
   },
   {
    "duration": 15,
    "start_time": "2022-12-14T09:31:46.566Z"
   },
   {
    "duration": 129,
    "start_time": "2022-12-14T09:31:50.601Z"
   },
   {
    "duration": 13,
    "start_time": "2022-12-14T09:32:38.966Z"
   },
   {
    "duration": 12,
    "start_time": "2022-12-14T09:33:18.819Z"
   },
   {
    "duration": 114,
    "start_time": "2022-12-14T09:33:23.838Z"
   },
   {
    "duration": 795,
    "start_time": "2022-12-14T09:33:36.913Z"
   },
   {
    "duration": 835,
    "start_time": "2022-12-14T09:33:40.594Z"
   },
   {
    "duration": 120,
    "start_time": "2022-12-14T09:33:51.305Z"
   },
   {
    "duration": 123,
    "start_time": "2022-12-14T09:33:56.324Z"
   },
   {
    "duration": 168,
    "start_time": "2022-12-14T09:35:23.396Z"
   },
   {
    "duration": 671,
    "start_time": "2022-12-14T09:36:41.071Z"
   },
   {
    "duration": 646,
    "start_time": "2022-12-14T09:36:50.530Z"
   },
   {
    "duration": 11,
    "start_time": "2022-12-14T09:37:52.305Z"
   },
   {
    "duration": 11,
    "start_time": "2022-12-14T09:38:01.216Z"
   },
   {
    "duration": 9,
    "start_time": "2022-12-14T09:38:10.011Z"
   },
   {
    "duration": 418,
    "start_time": "2022-12-14T09:38:20.296Z"
   },
   {
    "duration": 3,
    "start_time": "2022-12-14T09:39:06.047Z"
   },
   {
    "duration": 8,
    "start_time": "2022-12-14T09:39:13.910Z"
   },
   {
    "duration": 17,
    "start_time": "2022-12-14T09:39:17.973Z"
   },
   {
    "duration": 22,
    "start_time": "2022-12-14T09:41:26.071Z"
   },
   {
    "duration": 16,
    "start_time": "2022-12-14T09:41:34.121Z"
   },
   {
    "duration": 21,
    "start_time": "2022-12-14T09:44:07.754Z"
   },
   {
    "duration": 23,
    "start_time": "2022-12-14T09:44:11.596Z"
   },
   {
    "duration": 122,
    "start_time": "2022-12-14T09:44:23.729Z"
   },
   {
    "duration": 545,
    "start_time": "2022-12-14T09:46:44.588Z"
   },
   {
    "duration": 7,
    "start_time": "2022-12-14T09:47:51.139Z"
   },
   {
    "duration": 188,
    "start_time": "2022-12-14T09:48:43.459Z"
   },
   {
    "duration": 309,
    "start_time": "2022-12-14T09:48:52.345Z"
   },
   {
    "duration": 311,
    "start_time": "2022-12-14T09:49:02.303Z"
   },
   {
    "duration": 394,
    "start_time": "2022-12-14T09:49:28.288Z"
   },
   {
    "duration": 507,
    "start_time": "2022-12-14T09:49:35.072Z"
   },
   {
    "duration": 415,
    "start_time": "2022-12-14T09:50:16.861Z"
   },
   {
    "duration": 391,
    "start_time": "2022-12-14T09:50:53.251Z"
   },
   {
    "duration": 388,
    "start_time": "2022-12-14T09:51:58.311Z"
   },
   {
    "duration": 277,
    "start_time": "2022-12-14T09:52:39.204Z"
   },
   {
    "duration": 281,
    "start_time": "2022-12-14T09:52:58.992Z"
   },
   {
    "duration": 258,
    "start_time": "2022-12-14T09:53:37.663Z"
   },
   {
    "duration": 424,
    "start_time": "2022-12-14T09:53:56.139Z"
   },
   {
    "duration": 397,
    "start_time": "2022-12-14T09:54:01.325Z"
   },
   {
    "duration": 399,
    "start_time": "2022-12-14T09:54:15.727Z"
   },
   {
    "duration": 394,
    "start_time": "2022-12-14T09:54:24.874Z"
   },
   {
    "duration": 424,
    "start_time": "2022-12-14T09:54:44.912Z"
   },
   {
    "duration": 830,
    "start_time": "2022-12-14T09:54:49.322Z"
   },
   {
    "duration": 2046,
    "start_time": "2022-12-14T09:54:58.149Z"
   },
   {
    "duration": 1431,
    "start_time": "2022-12-14T09:55:00.198Z"
   },
   {
    "duration": 3,
    "start_time": "2022-12-14T09:55:01.630Z"
   },
   {
    "duration": 1693,
    "start_time": "2022-12-14T09:55:01.635Z"
   },
   {
    "duration": 20,
    "start_time": "2022-12-14T09:55:03.329Z"
   },
   {
    "duration": 12,
    "start_time": "2022-12-14T09:55:03.351Z"
   },
   {
    "duration": 28496,
    "start_time": "2022-12-14T09:55:03.365Z"
   },
   {
    "duration": 2,
    "start_time": "2022-12-14T09:55:31.863Z"
   },
   {
    "duration": 36,
    "start_time": "2022-12-14T09:55:31.867Z"
   },
   {
    "duration": 26,
    "start_time": "2022-12-14T09:55:31.906Z"
   },
   {
    "duration": 298,
    "start_time": "2022-12-14T09:55:31.934Z"
   },
   {
    "duration": 15,
    "start_time": "2022-12-14T09:55:32.234Z"
   },
   {
    "duration": 178,
    "start_time": "2022-12-14T09:55:32.251Z"
   },
   {
    "duration": 12,
    "start_time": "2022-12-14T09:55:32.431Z"
   },
   {
    "duration": 7,
    "start_time": "2022-12-14T09:55:32.445Z"
   },
   {
    "duration": 22,
    "start_time": "2022-12-14T09:55:32.453Z"
   },
   {
    "duration": 128,
    "start_time": "2022-12-14T09:55:32.476Z"
   },
   {
    "duration": 18,
    "start_time": "2022-12-14T09:55:32.605Z"
   },
   {
    "duration": 10,
    "start_time": "2022-12-14T09:55:32.624Z"
   },
   {
    "duration": 12,
    "start_time": "2022-12-14T09:55:32.635Z"
   },
   {
    "duration": 6,
    "start_time": "2022-12-14T09:55:32.648Z"
   },
   {
    "duration": 13,
    "start_time": "2022-12-14T09:55:32.655Z"
   },
   {
    "duration": 9,
    "start_time": "2022-12-14T09:55:32.669Z"
   },
   {
    "duration": 24,
    "start_time": "2022-12-14T09:55:32.680Z"
   },
   {
    "duration": 7,
    "start_time": "2022-12-14T09:55:32.705Z"
   },
   {
    "duration": 25426,
    "start_time": "2022-12-14T09:55:32.714Z"
   },
   {
    "duration": 13,
    "start_time": "2022-12-14T09:55:58.143Z"
   },
   {
    "duration": 5,
    "start_time": "2022-12-14T09:55:58.160Z"
   },
   {
    "duration": 14,
    "start_time": "2022-12-14T09:55:58.166Z"
   },
   {
    "duration": 21,
    "start_time": "2022-12-14T09:55:58.182Z"
   },
   {
    "duration": 409,
    "start_time": "2022-12-14T09:55:58.204Z"
   },
   {
    "duration": 501,
    "start_time": "2022-12-14T09:55:58.620Z"
   },
   {
    "duration": 846,
    "start_time": "2022-12-14T09:55:59.123Z"
   },
   {
    "duration": 422,
    "start_time": "2022-12-14T09:56:23.256Z"
   },
   {
    "duration": 390,
    "start_time": "2022-12-14T09:59:31.799Z"
   },
   {
    "duration": 485,
    "start_time": "2022-12-14T09:59:50.839Z"
   },
   {
    "duration": 484,
    "start_time": "2022-12-14T10:00:46.439Z"
   },
   {
    "duration": 459,
    "start_time": "2022-12-14T10:02:33.365Z"
   },
   {
    "duration": 287,
    "start_time": "2022-12-14T10:02:38.766Z"
   },
   {
    "duration": 451,
    "start_time": "2022-12-14T10:02:43.185Z"
   },
   {
    "duration": 681,
    "start_time": "2022-12-14T10:03:54.235Z"
   },
   {
    "duration": 436,
    "start_time": "2022-12-14T10:04:43.887Z"
   },
   {
    "duration": 452,
    "start_time": "2022-12-14T10:05:07.721Z"
   },
   {
    "duration": 455,
    "start_time": "2022-12-14T10:05:14.320Z"
   },
   {
    "duration": 473,
    "start_time": "2022-12-14T10:05:31.550Z"
   },
   {
    "duration": 750,
    "start_time": "2022-12-14T10:07:39.754Z"
   },
   {
    "duration": 424,
    "start_time": "2022-12-14T10:07:54.706Z"
   },
   {
    "duration": 445,
    "start_time": "2022-12-14T10:08:26.368Z"
   },
   {
    "duration": 17,
    "start_time": "2022-12-14T10:15:09.571Z"
   },
   {
    "duration": 16,
    "start_time": "2022-12-14T10:15:23.557Z"
   },
   {
    "duration": 94,
    "start_time": "2022-12-14T10:15:29.610Z"
   },
   {
    "duration": 105,
    "start_time": "2022-12-14T10:15:41.445Z"
   },
   {
    "duration": 99,
    "start_time": "2022-12-14T10:15:46.345Z"
   },
   {
    "duration": 107,
    "start_time": "2022-12-14T10:15:50.230Z"
   },
   {
    "duration": 4,
    "start_time": "2022-12-14T10:15:57.070Z"
   },
   {
    "duration": 280,
    "start_time": "2022-12-14T10:17:23.186Z"
   },
   {
    "duration": 278,
    "start_time": "2022-12-14T10:17:57.323Z"
   },
   {
    "duration": 302,
    "start_time": "2022-12-14T10:18:24.995Z"
   },
   {
    "duration": 293,
    "start_time": "2022-12-14T10:20:32.419Z"
   },
   {
    "duration": 1993,
    "start_time": "2022-12-14T10:20:43.420Z"
   },
   {
    "duration": 1406,
    "start_time": "2022-12-14T10:20:45.415Z"
   },
   {
    "duration": 4,
    "start_time": "2022-12-14T10:20:46.823Z"
   },
   {
    "duration": 1777,
    "start_time": "2022-12-14T10:20:46.829Z"
   },
   {
    "duration": 24,
    "start_time": "2022-12-14T10:20:48.608Z"
   },
   {
    "duration": 9,
    "start_time": "2022-12-14T10:20:48.634Z"
   },
   {
    "duration": 27601,
    "start_time": "2022-12-14T10:20:48.644Z"
   },
   {
    "duration": 3,
    "start_time": "2022-12-14T10:21:16.246Z"
   },
   {
    "duration": 34,
    "start_time": "2022-12-14T10:21:16.250Z"
   },
   {
    "duration": 12,
    "start_time": "2022-12-14T10:21:16.286Z"
   },
   {
    "duration": 305,
    "start_time": "2022-12-14T10:21:16.299Z"
   },
   {
    "duration": 16,
    "start_time": "2022-12-14T10:21:16.606Z"
   },
   {
    "duration": 180,
    "start_time": "2022-12-14T10:21:16.624Z"
   },
   {
    "duration": 24,
    "start_time": "2022-12-14T10:21:16.806Z"
   },
   {
    "duration": 7,
    "start_time": "2022-12-14T10:21:16.832Z"
   },
   {
    "duration": 16,
    "start_time": "2022-12-14T10:21:16.840Z"
   },
   {
    "duration": 121,
    "start_time": "2022-12-14T10:21:16.857Z"
   },
   {
    "duration": 11,
    "start_time": "2022-12-14T10:21:16.980Z"
   },
   {
    "duration": 6,
    "start_time": "2022-12-14T10:21:16.992Z"
   },
   {
    "duration": 26,
    "start_time": "2022-12-14T10:21:16.999Z"
   },
   {
    "duration": 4,
    "start_time": "2022-12-14T10:21:17.027Z"
   },
   {
    "duration": 6,
    "start_time": "2022-12-14T10:21:17.032Z"
   },
   {
    "duration": 9,
    "start_time": "2022-12-14T10:21:17.040Z"
   },
   {
    "duration": 10,
    "start_time": "2022-12-14T10:21:17.051Z"
   },
   {
    "duration": 5,
    "start_time": "2022-12-14T10:21:17.062Z"
   },
   {
    "duration": 26269,
    "start_time": "2022-12-14T10:21:17.068Z"
   },
   {
    "duration": 12,
    "start_time": "2022-12-14T10:21:43.339Z"
   },
   {
    "duration": 4,
    "start_time": "2022-12-14T10:21:43.353Z"
   },
   {
    "duration": 8,
    "start_time": "2022-12-14T10:21:43.358Z"
   },
   {
    "duration": 11,
    "start_time": "2022-12-14T10:21:43.368Z"
   },
   {
    "duration": 392,
    "start_time": "2022-12-14T10:21:43.380Z"
   },
   {
    "duration": 0,
    "start_time": "2022-12-14T10:21:43.774Z"
   },
   {
    "duration": 0,
    "start_time": "2022-12-14T10:21:43.775Z"
   },
   {
    "duration": 0,
    "start_time": "2022-12-14T10:21:43.776Z"
   },
   {
    "duration": 0,
    "start_time": "2022-12-14T10:21:43.777Z"
   },
   {
    "duration": 294,
    "start_time": "2022-12-14T10:22:14.722Z"
   },
   {
    "duration": 314,
    "start_time": "2022-12-14T10:23:17.566Z"
   },
   {
    "duration": 469,
    "start_time": "2022-12-14T10:23:23.131Z"
   },
   {
    "duration": 4,
    "start_time": "2022-12-14T10:23:33.903Z"
   },
   {
    "duration": 288,
    "start_time": "2022-12-14T10:26:04.573Z"
   },
   {
    "duration": 5,
    "start_time": "2022-12-14T10:26:27.219Z"
   },
   {
    "duration": 287,
    "start_time": "2022-12-14T10:28:40.820Z"
   },
   {
    "duration": 963,
    "start_time": "2022-12-14T10:29:01.813Z"
   },
   {
    "duration": 493,
    "start_time": "2022-12-14T10:30:20.154Z"
   },
   {
    "duration": 2043,
    "start_time": "2022-12-14T10:30:32.834Z"
   },
   {
    "duration": 1351,
    "start_time": "2022-12-14T10:30:34.879Z"
   },
   {
    "duration": 2,
    "start_time": "2022-12-14T10:30:36.232Z"
   },
   {
    "duration": 1773,
    "start_time": "2022-12-14T10:30:36.236Z"
   },
   {
    "duration": 22,
    "start_time": "2022-12-14T10:30:38.011Z"
   },
   {
    "duration": 8,
    "start_time": "2022-12-14T10:30:38.035Z"
   },
   {
    "duration": 28135,
    "start_time": "2022-12-14T10:30:38.045Z"
   },
   {
    "duration": 3,
    "start_time": "2022-12-14T10:31:06.181Z"
   },
   {
    "duration": 21,
    "start_time": "2022-12-14T10:31:06.186Z"
   },
   {
    "duration": 16,
    "start_time": "2022-12-14T10:31:06.209Z"
   },
   {
    "duration": 289,
    "start_time": "2022-12-14T10:31:06.227Z"
   },
   {
    "duration": 19,
    "start_time": "2022-12-14T10:31:06.518Z"
   },
   {
    "duration": 194,
    "start_time": "2022-12-14T10:31:06.539Z"
   },
   {
    "duration": 13,
    "start_time": "2022-12-14T10:31:06.734Z"
   },
   {
    "duration": 7,
    "start_time": "2022-12-14T10:31:06.749Z"
   },
   {
    "duration": 14,
    "start_time": "2022-12-14T10:31:06.757Z"
   },
   {
    "duration": 131,
    "start_time": "2022-12-14T10:31:06.773Z"
   },
   {
    "duration": 22,
    "start_time": "2022-12-14T10:31:06.905Z"
   },
   {
    "duration": 6,
    "start_time": "2022-12-14T10:31:06.929Z"
   },
   {
    "duration": 15,
    "start_time": "2022-12-14T10:31:06.936Z"
   },
   {
    "duration": 5,
    "start_time": "2022-12-14T10:31:06.952Z"
   },
   {
    "duration": 10,
    "start_time": "2022-12-14T10:31:06.958Z"
   },
   {
    "duration": 13,
    "start_time": "2022-12-14T10:31:06.970Z"
   },
   {
    "duration": 11,
    "start_time": "2022-12-14T10:31:06.985Z"
   },
   {
    "duration": 6,
    "start_time": "2022-12-14T10:31:06.998Z"
   },
   {
    "duration": 25737,
    "start_time": "2022-12-14T10:31:07.005Z"
   },
   {
    "duration": 15,
    "start_time": "2022-12-14T10:31:32.744Z"
   },
   {
    "duration": 11,
    "start_time": "2022-12-14T10:31:32.763Z"
   },
   {
    "duration": 22,
    "start_time": "2022-12-14T10:31:32.776Z"
   },
   {
    "duration": 25,
    "start_time": "2022-12-14T10:31:32.800Z"
   },
   {
    "duration": 485,
    "start_time": "2022-12-14T10:31:32.827Z"
   },
   {
    "duration": 510,
    "start_time": "2022-12-14T10:31:33.314Z"
   },
   {
    "duration": 885,
    "start_time": "2022-12-14T10:31:33.826Z"
   },
   {
    "duration": 479,
    "start_time": "2022-12-14T10:34:41.953Z"
   },
   {
    "duration": 368,
    "start_time": "2022-12-14T10:38:35.769Z"
   },
   {
    "duration": 659,
    "start_time": "2022-12-14T10:38:43.756Z"
   },
   {
    "duration": 446,
    "start_time": "2022-12-14T10:38:50.494Z"
   },
   {
    "duration": 453,
    "start_time": "2022-12-14T10:40:28.973Z"
   },
   {
    "duration": 451,
    "start_time": "2022-12-14T10:40:43.292Z"
   },
   {
    "duration": 435,
    "start_time": "2022-12-14T10:41:29.981Z"
   },
   {
    "duration": 472,
    "start_time": "2022-12-14T10:41:47.551Z"
   },
   {
    "duration": 467,
    "start_time": "2022-12-14T10:41:56.973Z"
   },
   {
    "duration": 15,
    "start_time": "2022-12-14T10:42:31.539Z"
   },
   {
    "duration": 3,
    "start_time": "2022-12-14T10:43:17.533Z"
   },
   {
    "duration": 3,
    "start_time": "2022-12-14T10:44:25.022Z"
   },
   {
    "duration": 4,
    "start_time": "2022-12-14T10:44:33.621Z"
   },
   {
    "duration": 3,
    "start_time": "2022-12-14T10:44:51.505Z"
   },
   {
    "duration": 13,
    "start_time": "2022-12-14T10:44:59.515Z"
   },
   {
    "duration": 7,
    "start_time": "2022-12-14T10:45:18.090Z"
   },
   {
    "duration": 123,
    "start_time": "2022-12-14T10:46:08.322Z"
   },
   {
    "duration": 209,
    "start_time": "2022-12-14T10:46:13.900Z"
   },
   {
    "duration": 232,
    "start_time": "2022-12-14T10:46:32.139Z"
   },
   {
    "duration": 234,
    "start_time": "2022-12-14T10:46:35.744Z"
   },
   {
    "duration": 4,
    "start_time": "2022-12-14T10:47:12.742Z"
   },
   {
    "duration": 240,
    "start_time": "2022-12-14T10:47:32.256Z"
   },
   {
    "duration": 296,
    "start_time": "2022-12-14T10:47:35.315Z"
   },
   {
    "duration": 631,
    "start_time": "2022-12-14T10:47:36.775Z"
   },
   {
    "duration": 376,
    "start_time": "2022-12-14T10:47:47.319Z"
   },
   {
    "duration": 45,
    "start_time": "2022-12-14T10:48:08.446Z"
   },
   {
    "duration": 269,
    "start_time": "2022-12-14T10:48:14.336Z"
   },
   {
    "duration": 489,
    "start_time": "2022-12-14T10:50:16.156Z"
   },
   {
    "duration": 101,
    "start_time": "2022-12-14T10:50:41.929Z"
   },
   {
    "duration": 74,
    "start_time": "2022-12-14T10:50:54.354Z"
   },
   {
    "duration": 109,
    "start_time": "2022-12-14T10:50:57.522Z"
   },
   {
    "duration": 25,
    "start_time": "2022-12-14T10:53:14.647Z"
   },
   {
    "duration": 24,
    "start_time": "2022-12-14T10:53:28.399Z"
   },
   {
    "duration": 26,
    "start_time": "2022-12-14T10:54:10.557Z"
   },
   {
    "duration": 5,
    "start_time": "2022-12-14T10:55:24.677Z"
   },
   {
    "duration": 14,
    "start_time": "2022-12-14T10:55:54.191Z"
   },
   {
    "duration": 26,
    "start_time": "2022-12-14T10:56:00.745Z"
   },
   {
    "duration": 119,
    "start_time": "2022-12-14T10:56:07.521Z"
   },
   {
    "duration": 106,
    "start_time": "2022-12-14T10:57:08.947Z"
   },
   {
    "duration": 330,
    "start_time": "2022-12-14T10:57:14.803Z"
   },
   {
    "duration": 4,
    "start_time": "2022-12-14T10:57:37.466Z"
   },
   {
    "duration": 114,
    "start_time": "2022-12-14T10:58:17.418Z"
   },
   {
    "duration": 605,
    "start_time": "2022-12-14T10:58:21.590Z"
   },
   {
    "duration": 96,
    "start_time": "2022-12-14T10:58:25.940Z"
   },
   {
    "duration": 99,
    "start_time": "2022-12-14T10:59:16.986Z"
   },
   {
    "duration": 113,
    "start_time": "2022-12-14T10:59:32.593Z"
   },
   {
    "duration": 496,
    "start_time": "2022-12-14T10:59:49.536Z"
   },
   {
    "duration": 350,
    "start_time": "2022-12-14T11:00:06.608Z"
   },
   {
    "duration": 361,
    "start_time": "2022-12-14T11:00:57.692Z"
   },
   {
    "duration": 353,
    "start_time": "2022-12-14T11:01:08.676Z"
   },
   {
    "duration": 244,
    "start_time": "2022-12-14T11:01:16.571Z"
   },
   {
    "duration": 128,
    "start_time": "2022-12-14T11:01:26.913Z"
   },
   {
    "duration": 143,
    "start_time": "2022-12-14T11:02:48.524Z"
   },
   {
    "duration": 136,
    "start_time": "2022-12-14T11:02:59.493Z"
   },
   {
    "duration": 139,
    "start_time": "2022-12-14T11:03:08.673Z"
   },
   {
    "duration": 168,
    "start_time": "2022-12-14T11:03:14.255Z"
   },
   {
    "duration": 166,
    "start_time": "2022-12-14T11:03:23.044Z"
   },
   {
    "duration": 188,
    "start_time": "2022-12-14T11:03:28.769Z"
   },
   {
    "duration": 144,
    "start_time": "2022-12-14T11:03:40.949Z"
   },
   {
    "duration": 166,
    "start_time": "2022-12-14T11:03:52.522Z"
   },
   {
    "duration": 154,
    "start_time": "2022-12-14T11:03:56.232Z"
   },
   {
    "duration": 1974,
    "start_time": "2022-12-14T11:04:30.905Z"
   },
   {
    "duration": 1427,
    "start_time": "2022-12-14T11:04:32.881Z"
   },
   {
    "duration": 3,
    "start_time": "2022-12-14T11:04:34.310Z"
   },
   {
    "duration": 1633,
    "start_time": "2022-12-14T11:04:34.314Z"
   },
   {
    "duration": 19,
    "start_time": "2022-12-14T11:04:35.949Z"
   },
   {
    "duration": 9,
    "start_time": "2022-12-14T11:04:35.969Z"
   },
   {
    "duration": 28320,
    "start_time": "2022-12-14T11:04:35.980Z"
   },
   {
    "duration": 3,
    "start_time": "2022-12-14T11:05:04.301Z"
   },
   {
    "duration": 19,
    "start_time": "2022-12-14T11:05:04.306Z"
   },
   {
    "duration": 9,
    "start_time": "2022-12-14T11:05:04.327Z"
   },
   {
    "duration": 330,
    "start_time": "2022-12-14T11:05:04.338Z"
   },
   {
    "duration": 15,
    "start_time": "2022-12-14T11:05:04.670Z"
   },
   {
    "duration": 182,
    "start_time": "2022-12-14T11:05:04.687Z"
   },
   {
    "duration": 14,
    "start_time": "2022-12-14T11:05:04.871Z"
   },
   {
    "duration": 7,
    "start_time": "2022-12-14T11:05:04.887Z"
   },
   {
    "duration": 33,
    "start_time": "2022-12-14T11:05:04.895Z"
   },
   {
    "duration": 120,
    "start_time": "2022-12-14T11:05:04.929Z"
   },
   {
    "duration": 12,
    "start_time": "2022-12-14T11:05:05.050Z"
   },
   {
    "duration": 14,
    "start_time": "2022-12-14T11:05:05.063Z"
   },
   {
    "duration": 18,
    "start_time": "2022-12-14T11:05:05.078Z"
   },
   {
    "duration": 18,
    "start_time": "2022-12-14T11:05:05.097Z"
   },
   {
    "duration": 7,
    "start_time": "2022-12-14T11:05:05.117Z"
   },
   {
    "duration": 10,
    "start_time": "2022-12-14T11:05:05.125Z"
   },
   {
    "duration": 5,
    "start_time": "2022-12-14T11:05:05.137Z"
   },
   {
    "duration": 5,
    "start_time": "2022-12-14T11:05:05.143Z"
   },
   {
    "duration": 26302,
    "start_time": "2022-12-14T11:05:05.149Z"
   },
   {
    "duration": 12,
    "start_time": "2022-12-14T11:05:31.453Z"
   },
   {
    "duration": 25,
    "start_time": "2022-12-14T11:05:31.466Z"
   },
   {
    "duration": 37,
    "start_time": "2022-12-14T11:05:31.492Z"
   },
   {
    "duration": 49,
    "start_time": "2022-12-14T11:05:31.532Z"
   },
   {
    "duration": 433,
    "start_time": "2022-12-14T11:05:31.583Z"
   },
   {
    "duration": 498,
    "start_time": "2022-12-14T11:05:32.018Z"
   },
   {
    "duration": 887,
    "start_time": "2022-12-14T11:05:32.520Z"
   },
   {
    "duration": 169,
    "start_time": "2022-12-14T11:05:33.408Z"
   },
   {
    "duration": 46,
    "start_time": "2022-12-14T16:47:22.032Z"
   },
   {
    "duration": 3053,
    "start_time": "2022-12-14T16:47:28.732Z"
   },
   {
    "duration": 1590,
    "start_time": "2022-12-14T16:47:31.787Z"
   },
   {
    "duration": 3,
    "start_time": "2022-12-14T16:47:33.379Z"
   },
   {
    "duration": 1808,
    "start_time": "2022-12-14T16:47:33.383Z"
   },
   {
    "duration": 22,
    "start_time": "2022-12-14T16:47:35.193Z"
   },
   {
    "duration": 9,
    "start_time": "2022-12-14T16:47:35.217Z"
   },
   {
    "duration": 30422,
    "start_time": "2022-12-14T16:47:35.228Z"
   },
   {
    "duration": 3,
    "start_time": "2022-12-14T16:48:05.651Z"
   },
   {
    "duration": 24,
    "start_time": "2022-12-14T16:48:05.656Z"
   },
   {
    "duration": 9,
    "start_time": "2022-12-14T16:48:05.683Z"
   },
   {
    "duration": 313,
    "start_time": "2022-12-14T16:48:05.704Z"
   },
   {
    "duration": 17,
    "start_time": "2022-12-14T16:48:06.020Z"
   },
   {
    "duration": 194,
    "start_time": "2022-12-14T16:48:06.038Z"
   },
   {
    "duration": 13,
    "start_time": "2022-12-14T16:48:06.234Z"
   },
   {
    "duration": 8,
    "start_time": "2022-12-14T16:48:06.248Z"
   },
   {
    "duration": 25,
    "start_time": "2022-12-14T16:48:06.257Z"
   },
   {
    "duration": 132,
    "start_time": "2022-12-14T16:48:06.284Z"
   },
   {
    "duration": 13,
    "start_time": "2022-12-14T16:48:06.417Z"
   },
   {
    "duration": 7,
    "start_time": "2022-12-14T16:48:06.432Z"
   },
   {
    "duration": 11,
    "start_time": "2022-12-14T16:48:06.441Z"
   },
   {
    "duration": 4,
    "start_time": "2022-12-14T16:48:06.454Z"
   },
   {
    "duration": 7,
    "start_time": "2022-12-14T16:48:06.460Z"
   },
   {
    "duration": 6,
    "start_time": "2022-12-14T16:48:06.469Z"
   },
   {
    "duration": 29,
    "start_time": "2022-12-14T16:48:06.477Z"
   },
   {
    "duration": 3,
    "start_time": "2022-12-14T16:48:06.508Z"
   },
   {
    "duration": 39611,
    "start_time": "2022-12-14T16:48:06.513Z"
   },
   {
    "duration": 16,
    "start_time": "2022-12-14T16:48:46.125Z"
   },
   {
    "duration": 4,
    "start_time": "2022-12-14T16:48:46.144Z"
   },
   {
    "duration": 10,
    "start_time": "2022-12-14T16:48:46.150Z"
   },
   {
    "duration": 14,
    "start_time": "2022-12-14T16:48:46.162Z"
   },
   {
    "duration": 526,
    "start_time": "2022-12-14T16:48:46.178Z"
   },
   {
    "duration": 535,
    "start_time": "2022-12-14T16:48:46.707Z"
   },
   {
    "duration": 1039,
    "start_time": "2022-12-14T16:48:47.244Z"
   },
   {
    "duration": 200,
    "start_time": "2022-12-14T16:48:48.285Z"
   },
   {
    "duration": 6,
    "start_time": "2022-12-14T16:57:30.488Z"
   },
   {
    "duration": 7,
    "start_time": "2022-12-14T16:57:59.038Z"
   },
   {
    "duration": 6,
    "start_time": "2022-12-14T16:58:04.653Z"
   },
   {
    "duration": 7,
    "start_time": "2022-12-14T16:58:25.226Z"
   },
   {
    "duration": 6,
    "start_time": "2022-12-14T16:58:36.037Z"
   },
   {
    "duration": 7,
    "start_time": "2022-12-14T17:00:46.537Z"
   },
   {
    "duration": 7,
    "start_time": "2022-12-14T17:01:31.303Z"
   },
   {
    "duration": 7,
    "start_time": "2022-12-14T17:01:36.265Z"
   },
   {
    "duration": 10,
    "start_time": "2022-12-14T17:03:34.938Z"
   },
   {
    "duration": 8,
    "start_time": "2022-12-14T17:03:35.494Z"
   },
   {
    "duration": 6,
    "start_time": "2022-12-14T17:03:50.415Z"
   },
   {
    "duration": 6,
    "start_time": "2022-12-14T17:04:05.070Z"
   },
   {
    "duration": 7,
    "start_time": "2022-12-14T17:04:05.385Z"
   },
   {
    "duration": 6,
    "start_time": "2022-12-14T17:04:05.892Z"
   },
   {
    "duration": 6,
    "start_time": "2022-12-14T17:04:06.409Z"
   },
   {
    "duration": 14,
    "start_time": "2022-12-14T17:09:44.922Z"
   },
   {
    "duration": 133,
    "start_time": "2022-12-14T17:09:51.700Z"
   },
   {
    "duration": 317,
    "start_time": "2022-12-14T17:10:17.465Z"
   },
   {
    "duration": 10,
    "start_time": "2022-12-14T17:10:26.959Z"
   },
   {
    "duration": 1324,
    "start_time": "2022-12-14T17:11:00.266Z"
   },
   {
    "duration": 11,
    "start_time": "2022-12-14T17:11:14.825Z"
   },
   {
    "duration": 6,
    "start_time": "2022-12-14T17:11:59.393Z"
   },
   {
    "duration": 16,
    "start_time": "2022-12-14T17:12:02.918Z"
   },
   {
    "duration": 22,
    "start_time": "2022-12-14T17:12:49.850Z"
   },
   {
    "duration": 8,
    "start_time": "2022-12-14T17:13:01.321Z"
   },
   {
    "duration": 21,
    "start_time": "2022-12-14T17:13:11.269Z"
   },
   {
    "duration": 14,
    "start_time": "2022-12-14T17:13:41.782Z"
   },
   {
    "duration": 106,
    "start_time": "2022-12-14T17:13:52.982Z"
   },
   {
    "duration": 249,
    "start_time": "2022-12-14T17:13:58.396Z"
   },
   {
    "duration": 9,
    "start_time": "2022-12-14T17:15:05.785Z"
   },
   {
    "duration": 7,
    "start_time": "2022-12-14T17:15:09.168Z"
   },
   {
    "duration": 8,
    "start_time": "2022-12-14T17:15:10.109Z"
   },
   {
    "duration": 7,
    "start_time": "2022-12-14T17:15:10.769Z"
   },
   {
    "duration": 8,
    "start_time": "2022-12-14T17:15:11.302Z"
   },
   {
    "duration": 7,
    "start_time": "2022-12-14T17:15:11.861Z"
   },
   {
    "duration": 9,
    "start_time": "2022-12-14T17:15:12.394Z"
   },
   {
    "duration": 9,
    "start_time": "2022-12-14T17:15:12.921Z"
   },
   {
    "duration": 8,
    "start_time": "2022-12-14T17:15:13.385Z"
   },
   {
    "duration": 7,
    "start_time": "2022-12-14T17:15:22.774Z"
   },
   {
    "duration": 8,
    "start_time": "2022-12-14T17:15:23.313Z"
   },
   {
    "duration": 8,
    "start_time": "2022-12-14T17:15:23.842Z"
   },
   {
    "duration": 8,
    "start_time": "2022-12-14T17:15:24.292Z"
   },
   {
    "duration": 7,
    "start_time": "2022-12-14T17:15:24.730Z"
   },
   {
    "duration": 7,
    "start_time": "2022-12-14T17:15:25.172Z"
   },
   {
    "duration": 7,
    "start_time": "2022-12-14T17:15:25.600Z"
   },
   {
    "duration": 8,
    "start_time": "2022-12-14T17:15:26.030Z"
   },
   {
    "duration": 8,
    "start_time": "2022-12-14T17:15:26.439Z"
   },
   {
    "duration": 6,
    "start_time": "2022-12-14T17:15:26.881Z"
   },
   {
    "duration": 7,
    "start_time": "2022-12-14T17:15:27.293Z"
   },
   {
    "duration": 10,
    "start_time": "2022-12-14T17:15:27.723Z"
   },
   {
    "duration": 8,
    "start_time": "2022-12-14T17:22:50.359Z"
   },
   {
    "duration": 7,
    "start_time": "2022-12-14T17:22:50.963Z"
   },
   {
    "duration": 7,
    "start_time": "2022-12-14T17:22:51.399Z"
   },
   {
    "duration": 9,
    "start_time": "2022-12-14T17:22:51.752Z"
   },
   {
    "duration": 8,
    "start_time": "2022-12-14T17:22:52.531Z"
   },
   {
    "duration": 7,
    "start_time": "2022-12-14T17:22:53.394Z"
   },
   {
    "duration": 7,
    "start_time": "2022-12-14T17:28:49.607Z"
   },
   {
    "duration": 7,
    "start_time": "2022-12-14T17:28:50.087Z"
   },
   {
    "duration": 9,
    "start_time": "2022-12-14T17:33:51.367Z"
   },
   {
    "duration": 9,
    "start_time": "2022-12-14T17:33:58.940Z"
   },
   {
    "duration": 523,
    "start_time": "2022-12-14T17:34:14.943Z"
   },
   {
    "duration": 78,
    "start_time": "2022-12-14T17:37:20.297Z"
   },
   {
    "duration": 73,
    "start_time": "2022-12-14T17:38:18.411Z"
   },
   {
    "duration": 4,
    "start_time": "2022-12-14T17:38:53.805Z"
   },
   {
    "duration": 12,
    "start_time": "2022-12-14T17:39:18.376Z"
   },
   {
    "duration": 2412,
    "start_time": "2022-12-14T17:41:48.024Z"
   },
   {
    "duration": 1442,
    "start_time": "2022-12-14T17:41:50.438Z"
   },
   {
    "duration": 3,
    "start_time": "2022-12-14T17:41:51.881Z"
   },
   {
    "duration": 1754,
    "start_time": "2022-12-14T17:41:51.886Z"
   },
   {
    "duration": 19,
    "start_time": "2022-12-14T17:41:53.642Z"
   },
   {
    "duration": 10,
    "start_time": "2022-12-14T17:41:53.662Z"
   },
   {
    "duration": 9,
    "start_time": "2022-12-14T17:43:32.082Z"
   },
   {
    "duration": 123,
    "start_time": "2022-12-14T17:43:35.430Z"
   },
   {
    "duration": 30370,
    "start_time": "2022-12-14T17:43:54.680Z"
   },
   {
    "duration": 3,
    "start_time": "2022-12-14T17:44:25.052Z"
   },
   {
    "duration": 16,
    "start_time": "2022-12-14T17:44:25.057Z"
   },
   {
    "duration": 12,
    "start_time": "2022-12-14T17:44:25.076Z"
   },
   {
    "duration": 286,
    "start_time": "2022-12-14T17:44:25.090Z"
   },
   {
    "duration": 27,
    "start_time": "2022-12-14T17:44:25.378Z"
   },
   {
    "duration": 163,
    "start_time": "2022-12-14T17:44:25.408Z"
   },
   {
    "duration": 77,
    "start_time": "2022-12-14T17:46:01.102Z"
   },
   {
    "duration": 16,
    "start_time": "2022-12-14T17:47:18.887Z"
   },
   {
    "duration": 111,
    "start_time": "2022-12-14T17:47:18.905Z"
   },
   {
    "duration": 22,
    "start_time": "2022-12-14T17:47:19.018Z"
   },
   {
    "duration": 9,
    "start_time": "2022-12-14T17:47:19.043Z"
   },
   {
    "duration": 19,
    "start_time": "2022-12-14T17:47:19.053Z"
   },
   {
    "duration": 152,
    "start_time": "2022-12-14T17:47:19.074Z"
   },
   {
    "duration": 14,
    "start_time": "2022-12-14T17:47:19.227Z"
   },
   {
    "duration": 7,
    "start_time": "2022-12-14T17:47:19.242Z"
   },
   {
    "duration": 9,
    "start_time": "2022-12-14T17:47:19.251Z"
   },
   {
    "duration": 4,
    "start_time": "2022-12-14T17:47:19.263Z"
   },
   {
    "duration": 37,
    "start_time": "2022-12-14T17:47:19.268Z"
   },
   {
    "duration": 5,
    "start_time": "2022-12-14T17:47:19.311Z"
   },
   {
    "duration": 8,
    "start_time": "2022-12-14T17:47:19.321Z"
   },
   {
    "duration": 5,
    "start_time": "2022-12-14T17:47:19.330Z"
   },
   {
    "duration": 46684,
    "start_time": "2022-12-14T17:47:19.337Z"
   },
   {
    "duration": 14,
    "start_time": "2022-12-14T17:48:06.025Z"
   },
   {
    "duration": 5,
    "start_time": "2022-12-14T17:48:06.042Z"
   },
   {
    "duration": 5,
    "start_time": "2022-12-14T17:48:06.049Z"
   },
   {
    "duration": 33,
    "start_time": "2022-12-14T17:48:06.056Z"
   },
   {
    "duration": 549,
    "start_time": "2022-12-14T17:48:06.091Z"
   },
   {
    "duration": 532,
    "start_time": "2022-12-14T17:48:06.642Z"
   },
   {
    "duration": 7,
    "start_time": "2022-12-14T17:48:07.176Z"
   },
   {
    "duration": 8,
    "start_time": "2022-12-14T17:48:07.184Z"
   },
   {
    "duration": 24,
    "start_time": "2022-12-14T17:48:07.204Z"
   },
   {
    "duration": 7,
    "start_time": "2022-12-14T17:48:07.229Z"
   },
   {
    "duration": 10,
    "start_time": "2022-12-14T17:48:07.237Z"
   },
   {
    "duration": 1133,
    "start_time": "2022-12-14T17:48:07.248Z"
   },
   {
    "duration": 210,
    "start_time": "2022-12-14T17:48:08.385Z"
   },
   {
    "duration": 17,
    "start_time": "2022-12-14T17:48:08.607Z"
   },
   {
    "duration": 3,
    "start_time": "2022-12-14T17:49:07.895Z"
   },
   {
    "duration": 1728,
    "start_time": "2022-12-14T17:49:11.871Z"
   },
   {
    "duration": 14,
    "start_time": "2022-12-14T17:49:40.128Z"
   },
   {
    "duration": 121,
    "start_time": "2022-12-14T17:49:43.117Z"
   },
   {
    "duration": 7,
    "start_time": "2022-12-14T17:50:11.964Z"
   },
   {
    "duration": 6,
    "start_time": "2022-12-14T17:50:32.924Z"
   },
   {
    "duration": 7,
    "start_time": "2022-12-14T17:50:35.915Z"
   },
   {
    "duration": 3083,
    "start_time": "2022-12-15T04:36:24.878Z"
   },
   {
    "duration": 1548,
    "start_time": "2022-12-15T04:36:27.964Z"
   },
   {
    "duration": 3,
    "start_time": "2022-12-15T04:36:29.514Z"
   },
   {
    "duration": 1784,
    "start_time": "2022-12-15T04:36:29.519Z"
   },
   {
    "duration": 19,
    "start_time": "2022-12-15T04:36:31.304Z"
   },
   {
    "duration": 18,
    "start_time": "2022-12-15T04:36:31.335Z"
   },
   {
    "duration": 32032,
    "start_time": "2022-12-15T04:36:31.355Z"
   },
   {
    "duration": 3,
    "start_time": "2022-12-15T04:37:03.389Z"
   },
   {
    "duration": 26,
    "start_time": "2022-12-15T04:37:03.394Z"
   },
   {
    "duration": 20,
    "start_time": "2022-12-15T04:37:03.435Z"
   },
   {
    "duration": 333,
    "start_time": "2022-12-15T04:37:03.456Z"
   },
   {
    "duration": 17,
    "start_time": "2022-12-15T04:37:03.791Z"
   },
   {
    "duration": 162,
    "start_time": "2022-12-15T04:37:03.810Z"
   },
   {
    "duration": 19,
    "start_time": "2022-12-15T04:37:03.974Z"
   },
   {
    "duration": 37,
    "start_time": "2022-12-15T04:37:03.995Z"
   },
   {
    "duration": 31,
    "start_time": "2022-12-15T04:37:04.035Z"
   },
   {
    "duration": 138,
    "start_time": "2022-12-15T04:37:04.068Z"
   },
   {
    "duration": 14,
    "start_time": "2022-12-15T04:37:04.207Z"
   },
   {
    "duration": 18,
    "start_time": "2022-12-15T04:37:04.223Z"
   },
   {
    "duration": 26,
    "start_time": "2022-12-15T04:37:04.244Z"
   },
   {
    "duration": 8,
    "start_time": "2022-12-15T04:37:04.272Z"
   },
   {
    "duration": 20,
    "start_time": "2022-12-15T04:37:04.282Z"
   },
   {
    "duration": 13,
    "start_time": "2022-12-15T04:37:04.304Z"
   },
   {
    "duration": 14,
    "start_time": "2022-12-15T04:37:04.318Z"
   },
   {
    "duration": 20,
    "start_time": "2022-12-15T04:37:04.333Z"
   },
   {
    "duration": 33401,
    "start_time": "2022-12-15T04:37:04.355Z"
   },
   {
    "duration": 14,
    "start_time": "2022-12-15T04:37:37.759Z"
   },
   {
    "duration": 4,
    "start_time": "2022-12-15T04:37:37.777Z"
   },
   {
    "duration": 7,
    "start_time": "2022-12-15T04:37:37.782Z"
   },
   {
    "duration": 14,
    "start_time": "2022-12-15T04:37:37.791Z"
   },
   {
    "duration": 530,
    "start_time": "2022-12-15T04:37:37.807Z"
   },
   {
    "duration": 539,
    "start_time": "2022-12-15T04:37:38.339Z"
   },
   {
    "duration": 7,
    "start_time": "2022-12-15T04:37:38.880Z"
   },
   {
    "duration": 26,
    "start_time": "2022-12-15T04:37:38.889Z"
   },
   {
    "duration": 10,
    "start_time": "2022-12-15T04:37:38.916Z"
   },
   {
    "duration": 13,
    "start_time": "2022-12-15T04:37:38.927Z"
   },
   {
    "duration": 12,
    "start_time": "2022-12-15T04:37:38.942Z"
   },
   {
    "duration": 1709,
    "start_time": "2022-12-15T04:37:38.956Z"
   },
   {
    "duration": 5,
    "start_time": "2022-12-15T04:37:40.667Z"
   },
   {
    "duration": 925,
    "start_time": "2022-12-15T04:37:40.673Z"
   },
   {
    "duration": 178,
    "start_time": "2022-12-15T04:37:41.600Z"
   },
   {
    "duration": 11,
    "start_time": "2022-12-15T04:37:41.780Z"
   },
   {
    "duration": 58,
    "start_time": "2022-12-15T04:41:14.115Z"
   },
   {
    "duration": 253,
    "start_time": "2022-12-15T04:41:18.328Z"
   },
   {
    "duration": 552,
    "start_time": "2022-12-15T04:41:29.414Z"
   },
   {
    "duration": 1118,
    "start_time": "2022-12-15T04:42:26.177Z"
   },
   {
    "duration": 52,
    "start_time": "2022-12-15T04:44:19.921Z"
   },
   {
    "duration": 92,
    "start_time": "2022-12-15T04:45:42.603Z"
   },
   {
    "duration": 65,
    "start_time": "2022-12-15T04:45:48.206Z"
   },
   {
    "duration": 78,
    "start_time": "2022-12-15T04:46:02.712Z"
   },
   {
    "duration": 63,
    "start_time": "2022-12-15T04:46:07.508Z"
   },
   {
    "duration": 47,
    "start_time": "2022-12-15T04:46:15.097Z"
   },
   {
    "duration": 41,
    "start_time": "2022-12-15T04:46:20.587Z"
   },
   {
    "duration": 54,
    "start_time": "2022-12-15T04:47:21.950Z"
   },
   {
    "duration": 51,
    "start_time": "2022-12-15T04:47:22.333Z"
   },
   {
    "duration": 34,
    "start_time": "2022-12-15T04:47:22.926Z"
   },
   {
    "duration": 2347,
    "start_time": "2022-12-15T04:49:14.823Z"
   },
   {
    "duration": 1401,
    "start_time": "2022-12-15T04:49:17.173Z"
   },
   {
    "duration": 4,
    "start_time": "2022-12-15T04:49:18.575Z"
   },
   {
    "duration": 1844,
    "start_time": "2022-12-15T04:49:18.580Z"
   },
   {
    "duration": 23,
    "start_time": "2022-12-15T04:49:20.426Z"
   },
   {
    "duration": 10,
    "start_time": "2022-12-15T04:49:20.451Z"
   },
   {
    "duration": 31060,
    "start_time": "2022-12-15T04:49:20.463Z"
   },
   {
    "duration": 10,
    "start_time": "2022-12-15T04:49:51.525Z"
   },
   {
    "duration": 21,
    "start_time": "2022-12-15T04:49:51.537Z"
   },
   {
    "duration": 23,
    "start_time": "2022-12-15T04:49:51.560Z"
   },
   {
    "duration": 328,
    "start_time": "2022-12-15T04:49:51.585Z"
   },
   {
    "duration": 16,
    "start_time": "2022-12-15T04:49:51.915Z"
   },
   {
    "duration": 192,
    "start_time": "2022-12-15T04:49:51.933Z"
   },
   {
    "duration": 21,
    "start_time": "2022-12-15T04:49:52.128Z"
   },
   {
    "duration": 10,
    "start_time": "2022-12-15T04:49:52.151Z"
   },
   {
    "duration": 36,
    "start_time": "2022-12-15T04:49:52.162Z"
   },
   {
    "duration": 152,
    "start_time": "2022-12-15T04:49:52.200Z"
   },
   {
    "duration": 15,
    "start_time": "2022-12-15T04:49:52.354Z"
   },
   {
    "duration": 21,
    "start_time": "2022-12-15T04:49:52.371Z"
   },
   {
    "duration": 29,
    "start_time": "2022-12-15T04:49:52.394Z"
   },
   {
    "duration": 37,
    "start_time": "2022-12-15T04:49:52.425Z"
   },
   {
    "duration": 25,
    "start_time": "2022-12-15T04:49:52.464Z"
   },
   {
    "duration": 20,
    "start_time": "2022-12-15T04:49:52.491Z"
   },
   {
    "duration": 44,
    "start_time": "2022-12-15T04:49:52.514Z"
   },
   {
    "duration": 99,
    "start_time": "2022-12-15T04:49:52.560Z"
   },
   {
    "duration": 52,
    "start_time": "2022-12-15T04:49:52.661Z"
   },
   {
    "duration": 48,
    "start_time": "2022-12-15T04:49:52.714Z"
   },
   {
    "duration": 40,
    "start_time": "2022-12-15T04:49:52.763Z"
   },
   {
    "duration": 40454,
    "start_time": "2022-12-15T04:49:52.805Z"
   },
   {
    "duration": 13,
    "start_time": "2022-12-15T04:50:33.261Z"
   },
   {
    "duration": 76,
    "start_time": "2022-12-15T04:50:33.276Z"
   },
   {
    "duration": 52,
    "start_time": "2022-12-15T04:50:33.354Z"
   },
   {
    "duration": 51,
    "start_time": "2022-12-15T04:50:33.408Z"
   },
   {
    "duration": 18,
    "start_time": "2022-12-15T04:50:33.460Z"
   },
   {
    "duration": 11,
    "start_time": "2022-12-15T04:50:33.480Z"
   },
   {
    "duration": 32,
    "start_time": "2022-12-15T04:50:33.493Z"
   },
   {
    "duration": 520,
    "start_time": "2022-12-15T04:50:33.527Z"
   },
   {
    "duration": 524,
    "start_time": "2022-12-15T04:50:34.049Z"
   },
   {
    "duration": 5,
    "start_time": "2022-12-15T04:50:34.574Z"
   },
   {
    "duration": 14,
    "start_time": "2022-12-15T04:50:34.580Z"
   },
   {
    "duration": 8,
    "start_time": "2022-12-15T04:50:34.598Z"
   },
   {
    "duration": 18,
    "start_time": "2022-12-15T04:50:34.608Z"
   },
   {
    "duration": 35,
    "start_time": "2022-12-15T04:50:34.628Z"
   },
   {
    "duration": 1711,
    "start_time": "2022-12-15T04:50:34.665Z"
   },
   {
    "duration": 6,
    "start_time": "2022-12-15T04:50:36.377Z"
   },
   {
    "duration": 952,
    "start_time": "2022-12-15T04:50:36.384Z"
   },
   {
    "duration": 188,
    "start_time": "2022-12-15T04:50:37.338Z"
   },
   {
    "duration": 56,
    "start_time": "2022-12-15T04:50:37.528Z"
   },
   {
    "duration": 917,
    "start_time": "2022-12-15T04:52:01.966Z"
   },
   {
    "duration": 116,
    "start_time": "2022-12-15T05:05:36.904Z"
   },
   {
    "duration": 2311,
    "start_time": "2022-12-15T05:05:44.818Z"
   },
   {
    "duration": 1386,
    "start_time": "2022-12-15T05:05:47.131Z"
   },
   {
    "duration": 3,
    "start_time": "2022-12-15T05:05:48.519Z"
   },
   {
    "duration": 1717,
    "start_time": "2022-12-15T05:05:48.524Z"
   },
   {
    "duration": 19,
    "start_time": "2022-12-15T05:05:50.243Z"
   },
   {
    "duration": 9,
    "start_time": "2022-12-15T05:05:50.264Z"
   },
   {
    "duration": 30037,
    "start_time": "2022-12-15T05:05:50.274Z"
   },
   {
    "duration": 3,
    "start_time": "2022-12-15T05:06:20.313Z"
   },
   {
    "duration": 25,
    "start_time": "2022-12-15T05:06:20.318Z"
   },
   {
    "duration": 13,
    "start_time": "2022-12-15T05:06:20.346Z"
   },
   {
    "duration": 325,
    "start_time": "2022-12-15T05:06:20.360Z"
   },
   {
    "duration": 20,
    "start_time": "2022-12-15T05:06:20.688Z"
   },
   {
    "duration": 165,
    "start_time": "2022-12-15T05:06:20.710Z"
   },
   {
    "duration": 17,
    "start_time": "2022-12-15T05:06:20.877Z"
   },
   {
    "duration": 8,
    "start_time": "2022-12-15T05:06:20.895Z"
   },
   {
    "duration": 34,
    "start_time": "2022-12-15T05:06:20.905Z"
   },
   {
    "duration": 134,
    "start_time": "2022-12-15T05:06:20.940Z"
   },
   {
    "duration": 15,
    "start_time": "2022-12-15T05:06:21.076Z"
   },
   {
    "duration": 18,
    "start_time": "2022-12-15T05:06:21.093Z"
   },
   {
    "duration": 30,
    "start_time": "2022-12-15T05:06:21.113Z"
   },
   {
    "duration": 16,
    "start_time": "2022-12-15T05:06:21.145Z"
   },
   {
    "duration": 14,
    "start_time": "2022-12-15T05:06:21.163Z"
   },
   {
    "duration": 19,
    "start_time": "2022-12-15T05:06:21.179Z"
   },
   {
    "duration": 43,
    "start_time": "2022-12-15T05:06:21.200Z"
   },
   {
    "duration": 25,
    "start_time": "2022-12-15T05:06:21.245Z"
   },
   {
    "duration": 40188,
    "start_time": "2022-12-15T05:06:21.271Z"
   },
   {
    "duration": 12,
    "start_time": "2022-12-15T05:07:01.461Z"
   },
   {
    "duration": 21,
    "start_time": "2022-12-15T05:07:01.477Z"
   },
   {
    "duration": 28,
    "start_time": "2022-12-15T05:07:01.499Z"
   },
   {
    "duration": 476,
    "start_time": "2022-12-15T05:07:01.529Z"
   },
   {
    "duration": 591,
    "start_time": "2022-12-15T05:07:02.007Z"
   },
   {
    "duration": 895,
    "start_time": "2022-12-15T05:07:02.600Z"
   },
   {
    "duration": 168,
    "start_time": "2022-12-15T05:07:03.497Z"
   },
   {
    "duration": 7,
    "start_time": "2022-12-15T05:07:03.666Z"
   },
   {
    "duration": 13,
    "start_time": "2022-12-15T05:53:35.559Z"
   },
   {
    "duration": 6,
    "start_time": "2022-12-15T05:53:49.777Z"
   },
   {
    "duration": 15,
    "start_time": "2022-12-15T05:53:57.082Z"
   },
   {
    "duration": 6,
    "start_time": "2022-12-15T05:54:03.721Z"
   },
   {
    "duration": 6,
    "start_time": "2022-12-15T05:54:07.922Z"
   },
   {
    "duration": 6,
    "start_time": "2022-12-15T05:54:13.866Z"
   },
   {
    "duration": 7,
    "start_time": "2022-12-15T05:54:21.173Z"
   },
   {
    "duration": 7,
    "start_time": "2022-12-15T05:54:28.267Z"
   },
   {
    "duration": 5,
    "start_time": "2022-12-15T05:54:35.611Z"
   },
   {
    "duration": 6,
    "start_time": "2022-12-15T05:54:40.733Z"
   },
   {
    "duration": 6,
    "start_time": "2022-12-15T05:54:49.235Z"
   },
   {
    "duration": 6,
    "start_time": "2022-12-15T05:54:53.150Z"
   },
   {
    "duration": 120,
    "start_time": "2022-12-15T05:55:04.033Z"
   },
   {
    "duration": 14,
    "start_time": "2022-12-15T05:55:09.106Z"
   },
   {
    "duration": 13,
    "start_time": "2022-12-15T05:55:28.895Z"
   },
   {
    "duration": 18,
    "start_time": "2022-12-15T05:55:44.051Z"
   },
   {
    "duration": 19,
    "start_time": "2022-12-15T05:55:48.235Z"
   },
   {
    "duration": 5,
    "start_time": "2022-12-15T05:55:52.218Z"
   },
   {
    "duration": 16,
    "start_time": "2022-12-15T05:56:12.173Z"
   },
   {
    "duration": 46,
    "start_time": "2022-12-15T05:56:46.968Z"
   },
   {
    "duration": 4,
    "start_time": "2022-12-15T05:56:49.980Z"
   },
   {
    "duration": 20,
    "start_time": "2022-12-15T05:56:53.440Z"
   },
   {
    "duration": 13,
    "start_time": "2022-12-15T05:57:45.942Z"
   },
   {
    "duration": 10,
    "start_time": "2022-12-15T05:58:27.436Z"
   },
   {
    "duration": 11,
    "start_time": "2022-12-15T05:58:47.187Z"
   },
   {
    "duration": 19,
    "start_time": "2022-12-15T05:59:04.124Z"
   },
   {
    "duration": 7,
    "start_time": "2022-12-15T05:59:09.060Z"
   },
   {
    "duration": 10,
    "start_time": "2022-12-15T05:59:13.856Z"
   },
   {
    "duration": 9,
    "start_time": "2022-12-15T05:59:18.050Z"
   },
   {
    "duration": 8,
    "start_time": "2022-12-15T05:59:24.252Z"
   },
   {
    "duration": 7,
    "start_time": "2022-12-15T05:59:27.485Z"
   },
   {
    "duration": 16,
    "start_time": "2022-12-15T05:59:30.734Z"
   },
   {
    "duration": 9,
    "start_time": "2022-12-15T05:59:34.453Z"
   },
   {
    "duration": 13,
    "start_time": "2022-12-15T05:59:48.319Z"
   },
   {
    "duration": 14,
    "start_time": "2022-12-15T06:00:41.418Z"
   },
   {
    "duration": 12,
    "start_time": "2022-12-15T06:01:05.597Z"
   },
   {
    "duration": 103,
    "start_time": "2022-12-15T06:01:08.966Z"
   },
   {
    "duration": 97,
    "start_time": "2022-12-15T06:01:47.666Z"
   },
   {
    "duration": 107,
    "start_time": "2022-12-15T06:02:55.837Z"
   },
   {
    "duration": 108,
    "start_time": "2022-12-15T06:07:40.010Z"
   },
   {
    "duration": 219,
    "start_time": "2022-12-15T06:08:06.449Z"
   },
   {
    "duration": 102,
    "start_time": "2022-12-15T06:10:32.837Z"
   },
   {
    "duration": 91,
    "start_time": "2022-12-15T06:12:12.835Z"
   },
   {
    "duration": 140,
    "start_time": "2022-12-15T06:12:16.264Z"
   },
   {
    "duration": 134,
    "start_time": "2022-12-15T06:12:19.651Z"
   },
   {
    "duration": 128,
    "start_time": "2022-12-15T06:12:46.329Z"
   },
   {
    "duration": 92,
    "start_time": "2022-12-15T06:13:18.468Z"
   },
   {
    "duration": 91,
    "start_time": "2022-12-15T06:13:21.301Z"
   },
   {
    "duration": 944,
    "start_time": "2022-12-15T06:14:09.943Z"
   },
   {
    "duration": 248,
    "start_time": "2022-12-15T06:15:28.955Z"
   },
   {
    "duration": 12,
    "start_time": "2022-12-15T06:15:57.076Z"
   },
   {
    "duration": 12,
    "start_time": "2022-12-15T06:16:21.560Z"
   },
   {
    "duration": 23,
    "start_time": "2022-12-15T06:16:24.462Z"
   },
   {
    "duration": 5,
    "start_time": "2022-12-15T06:16:54.977Z"
   },
   {
    "duration": 13,
    "start_time": "2022-12-15T06:17:03.315Z"
   },
   {
    "duration": 13,
    "start_time": "2022-12-15T06:17:07.317Z"
   },
   {
    "duration": 116,
    "start_time": "2022-12-15T06:17:44.954Z"
   },
   {
    "duration": 377,
    "start_time": "2022-12-15T06:18:15.452Z"
   },
   {
    "duration": 64,
    "start_time": "2022-12-15T06:18:28.101Z"
   },
   {
    "duration": 96,
    "start_time": "2022-12-15T06:18:54.631Z"
   },
   {
    "duration": 124,
    "start_time": "2022-12-15T06:20:16.255Z"
   },
   {
    "duration": 175,
    "start_time": "2022-12-15T06:20:53.588Z"
   },
   {
    "duration": 142,
    "start_time": "2022-12-15T06:21:28.379Z"
   },
   {
    "duration": 148,
    "start_time": "2022-12-15T06:21:34.676Z"
   },
   {
    "duration": 12,
    "start_time": "2022-12-15T06:25:51.639Z"
   },
   {
    "duration": 87,
    "start_time": "2022-12-15T06:25:54.329Z"
   },
   {
    "duration": 16,
    "start_time": "2022-12-15T06:26:36.349Z"
   },
   {
    "duration": 16,
    "start_time": "2022-12-15T06:26:53.849Z"
   },
   {
    "duration": 15,
    "start_time": "2022-12-15T06:30:05.473Z"
   },
   {
    "duration": 32,
    "start_time": "2022-12-15T06:30:11.213Z"
   },
   {
    "duration": 31,
    "start_time": "2022-12-15T06:30:23.567Z"
   },
   {
    "duration": 26,
    "start_time": "2022-12-15T06:30:32.944Z"
   },
   {
    "duration": 22,
    "start_time": "2022-12-15T06:31:00.441Z"
   },
   {
    "duration": 21,
    "start_time": "2022-12-15T06:31:26.852Z"
   },
   {
    "duration": 19,
    "start_time": "2022-12-15T06:31:36.004Z"
   },
   {
    "duration": 15,
    "start_time": "2022-12-15T06:31:52.031Z"
   },
   {
    "duration": 476,
    "start_time": "2022-12-15T06:35:55.487Z"
   },
   {
    "duration": 62,
    "start_time": "2022-12-15T06:36:10.555Z"
   },
   {
    "duration": 604,
    "start_time": "2022-12-15T06:36:22.686Z"
   },
   {
    "duration": 135,
    "start_time": "2022-12-15T06:36:36.051Z"
   },
   {
    "duration": 18,
    "start_time": "2022-12-15T06:36:45.204Z"
   },
   {
    "duration": 7,
    "start_time": "2022-12-15T06:36:52.558Z"
   },
   {
    "duration": 17,
    "start_time": "2022-12-15T06:37:02.350Z"
   },
   {
    "duration": 81,
    "start_time": "2022-12-15T06:37:31.361Z"
   },
   {
    "duration": 7,
    "start_time": "2022-12-15T06:38:14.305Z"
   },
   {
    "duration": 8,
    "start_time": "2022-12-15T06:39:39.844Z"
   },
   {
    "duration": 6,
    "start_time": "2022-12-15T06:39:59.979Z"
   },
   {
    "duration": 8,
    "start_time": "2022-12-15T06:40:07.382Z"
   },
   {
    "duration": 10,
    "start_time": "2022-12-15T06:40:25.271Z"
   },
   {
    "duration": 19,
    "start_time": "2022-12-15T06:41:34.591Z"
   },
   {
    "duration": 14,
    "start_time": "2022-12-15T06:42:51.398Z"
   },
   {
    "duration": 16,
    "start_time": "2022-12-15T06:42:55.850Z"
   },
   {
    "duration": 5,
    "start_time": "2022-12-15T06:45:08.251Z"
   },
   {
    "duration": 56,
    "start_time": "2022-12-15T06:46:05.449Z"
   },
   {
    "duration": 79,
    "start_time": "2022-12-15T06:46:52.551Z"
   },
   {
    "duration": 16,
    "start_time": "2022-12-15T06:47:43.507Z"
   },
   {
    "duration": 5,
    "start_time": "2022-12-15T06:48:20.354Z"
   },
   {
    "duration": 3,
    "start_time": "2022-12-15T06:48:21.221Z"
   },
   {
    "duration": 17,
    "start_time": "2022-12-15T06:48:25.051Z"
   },
   {
    "duration": 1755,
    "start_time": "2022-12-15T06:49:20.580Z"
   },
   {
    "duration": 6,
    "start_time": "2022-12-15T06:49:26.502Z"
   },
   {
    "duration": 13,
    "start_time": "2022-12-15T06:49:50.116Z"
   },
   {
    "duration": 4,
    "start_time": "2022-12-15T06:50:28.374Z"
   },
   {
    "duration": 3,
    "start_time": "2022-12-15T06:50:28.755Z"
   },
   {
    "duration": 1872,
    "start_time": "2022-12-15T06:50:33.476Z"
   },
   {
    "duration": 97,
    "start_time": "2022-12-15T06:50:35.437Z"
   },
   {
    "duration": 6,
    "start_time": "2022-12-15T06:51:21.116Z"
   },
   {
    "duration": 16,
    "start_time": "2022-12-15T06:51:21.124Z"
   },
   {
    "duration": 48,
    "start_time": "2022-12-15T06:51:21.142Z"
   },
   {
    "duration": 22,
    "start_time": "2022-12-15T06:51:21.193Z"
   },
   {
    "duration": 0,
    "start_time": "2022-12-15T06:51:21.217Z"
   },
   {
    "duration": 0,
    "start_time": "2022-12-15T06:51:21.218Z"
   },
   {
    "duration": 0,
    "start_time": "2022-12-15T06:51:21.219Z"
   },
   {
    "duration": 2373,
    "start_time": "2022-12-15T06:51:43.089Z"
   },
   {
    "duration": 1493,
    "start_time": "2022-12-15T06:51:45.464Z"
   },
   {
    "duration": 3,
    "start_time": "2022-12-15T06:51:46.959Z"
   },
   {
    "duration": 1957,
    "start_time": "2022-12-15T06:51:46.965Z"
   },
   {
    "duration": 23,
    "start_time": "2022-12-15T06:51:48.925Z"
   },
   {
    "duration": 11,
    "start_time": "2022-12-15T06:51:48.949Z"
   },
   {
    "duration": 33822,
    "start_time": "2022-12-15T06:51:48.961Z"
   },
   {
    "duration": 3,
    "start_time": "2022-12-15T06:52:22.785Z"
   },
   {
    "duration": 39,
    "start_time": "2022-12-15T06:52:22.790Z"
   },
   {
    "duration": 21,
    "start_time": "2022-12-15T06:52:22.831Z"
   },
   {
    "duration": 315,
    "start_time": "2022-12-15T06:52:22.854Z"
   },
   {
    "duration": 16,
    "start_time": "2022-12-15T06:52:23.171Z"
   },
   {
    "duration": 167,
    "start_time": "2022-12-15T06:52:23.189Z"
   },
   {
    "duration": 16,
    "start_time": "2022-12-15T06:52:23.360Z"
   },
   {
    "duration": 11,
    "start_time": "2022-12-15T06:52:23.377Z"
   },
   {
    "duration": 27,
    "start_time": "2022-12-15T06:52:23.390Z"
   },
   {
    "duration": 140,
    "start_time": "2022-12-15T06:52:23.419Z"
   },
   {
    "duration": 18,
    "start_time": "2022-12-15T06:52:23.562Z"
   },
   {
    "duration": 21,
    "start_time": "2022-12-15T06:52:23.582Z"
   },
   {
    "duration": 38,
    "start_time": "2022-12-15T06:52:23.605Z"
   },
   {
    "duration": 37,
    "start_time": "2022-12-15T06:52:23.645Z"
   },
   {
    "duration": 29,
    "start_time": "2022-12-15T06:52:23.684Z"
   },
   {
    "duration": 42,
    "start_time": "2022-12-15T06:52:23.715Z"
   },
   {
    "duration": 21,
    "start_time": "2022-12-15T06:52:23.759Z"
   },
   {
    "duration": 20,
    "start_time": "2022-12-15T06:52:23.782Z"
   },
   {
    "duration": 45055,
    "start_time": "2022-12-15T06:52:23.804Z"
   },
   {
    "duration": 26,
    "start_time": "2022-12-15T06:53:08.862Z"
   },
   {
    "duration": 8,
    "start_time": "2022-12-15T06:53:08.890Z"
   },
   {
    "duration": 14,
    "start_time": "2022-12-15T06:53:08.899Z"
   },
   {
    "duration": 531,
    "start_time": "2022-12-15T06:53:08.914Z"
   },
   {
    "duration": 572,
    "start_time": "2022-12-15T06:53:09.447Z"
   },
   {
    "duration": 938,
    "start_time": "2022-12-15T06:53:10.021Z"
   },
   {
    "duration": 186,
    "start_time": "2022-12-15T06:53:10.960Z"
   },
   {
    "duration": 160,
    "start_time": "2022-12-15T06:53:11.148Z"
   },
   {
    "duration": 5,
    "start_time": "2022-12-15T06:53:11.310Z"
   },
   {
    "duration": 34,
    "start_time": "2022-12-15T06:53:11.317Z"
   },
   {
    "duration": 31,
    "start_time": "2022-12-15T06:53:11.354Z"
   },
   {
    "duration": 23,
    "start_time": "2022-12-15T06:53:11.388Z"
   },
   {
    "duration": 1828,
    "start_time": "2022-12-15T06:53:11.413Z"
   },
   {
    "duration": 12,
    "start_time": "2022-12-15T06:53:13.244Z"
   },
   {
    "duration": 21,
    "start_time": "2022-12-15T06:53:13.338Z"
   },
   {
    "duration": 151,
    "start_time": "2022-12-15T06:58:22.399Z"
   },
   {
    "duration": 13,
    "start_time": "2022-12-15T06:58:38.845Z"
   },
   {
    "duration": 13,
    "start_time": "2022-12-15T06:58:50.805Z"
   },
   {
    "duration": 5,
    "start_time": "2022-12-15T06:58:57.292Z"
   },
   {
    "duration": 1477,
    "start_time": "2022-12-15T07:00:27.660Z"
   },
   {
    "duration": 1717,
    "start_time": "2022-12-15T07:00:57.223Z"
   },
   {
    "duration": 16,
    "start_time": "2022-12-15T07:05:27.794Z"
   },
   {
    "duration": 14,
    "start_time": "2022-12-15T07:06:46.481Z"
   },
   {
    "duration": 10,
    "start_time": "2022-12-15T07:06:56.563Z"
   },
   {
    "duration": 7,
    "start_time": "2022-12-15T07:06:59.776Z"
   },
   {
    "duration": 9,
    "start_time": "2022-12-15T07:07:00.131Z"
   },
   {
    "duration": 223,
    "start_time": "2022-12-15T07:07:47.922Z"
   },
   {
    "duration": 281,
    "start_time": "2022-12-15T07:08:31.973Z"
   },
   {
    "duration": 428,
    "start_time": "2022-12-15T07:08:36.712Z"
   },
   {
    "duration": 10,
    "start_time": "2022-12-15T07:08:41.332Z"
   },
   {
    "duration": 156,
    "start_time": "2022-12-15T07:09:37.892Z"
   },
   {
    "duration": 15,
    "start_time": "2022-12-15T07:09:38.314Z"
   },
   {
    "duration": 259,
    "start_time": "2022-12-15T07:09:47.890Z"
   },
   {
    "duration": 395,
    "start_time": "2022-12-15T07:09:50.343Z"
   },
   {
    "duration": 97,
    "start_time": "2022-12-15T07:09:50.743Z"
   },
   {
    "duration": 9,
    "start_time": "2022-12-15T07:11:46.231Z"
   },
   {
    "duration": 4,
    "start_time": "2022-12-15T07:11:50.194Z"
   },
   {
    "duration": 6,
    "start_time": "2022-12-15T07:12:05.333Z"
   },
   {
    "duration": 11,
    "start_time": "2022-12-15T07:12:19.735Z"
   },
   {
    "duration": 134,
    "start_time": "2022-12-15T07:12:20.205Z"
   },
   {
    "duration": 11,
    "start_time": "2022-12-15T07:12:20.886Z"
   },
   {
    "duration": 4,
    "start_time": "2022-12-15T07:12:26.503Z"
   },
   {
    "duration": 16,
    "start_time": "2022-12-15T07:12:44.934Z"
   },
   {
    "duration": 4,
    "start_time": "2022-12-15T07:13:25.179Z"
   },
   {
    "duration": 8,
    "start_time": "2022-12-15T07:18:02.542Z"
   },
   {
    "duration": 16,
    "start_time": "2022-12-15T07:18:05.941Z"
   },
   {
    "duration": 6,
    "start_time": "2022-12-15T07:19:50.461Z"
   },
   {
    "duration": 7,
    "start_time": "2022-12-15T07:20:01.353Z"
   },
   {
    "duration": 9,
    "start_time": "2022-12-15T07:20:19.362Z"
   },
   {
    "duration": 2324,
    "start_time": "2022-12-15T07:23:03.534Z"
   },
   {
    "duration": 1559,
    "start_time": "2022-12-15T07:23:05.860Z"
   },
   {
    "duration": 4,
    "start_time": "2022-12-15T07:23:07.421Z"
   },
   {
    "duration": 2058,
    "start_time": "2022-12-15T07:23:07.427Z"
   },
   {
    "duration": 21,
    "start_time": "2022-12-15T07:23:09.487Z"
   },
   {
    "duration": 29,
    "start_time": "2022-12-15T07:23:09.510Z"
   },
   {
    "duration": 32028,
    "start_time": "2022-12-15T07:23:09.541Z"
   },
   {
    "duration": 3,
    "start_time": "2022-12-15T07:23:41.571Z"
   },
   {
    "duration": 16,
    "start_time": "2022-12-15T07:23:41.576Z"
   },
   {
    "duration": 9,
    "start_time": "2022-12-15T07:23:41.595Z"
   },
   {
    "duration": 332,
    "start_time": "2022-12-15T07:23:41.605Z"
   },
   {
    "duration": 17,
    "start_time": "2022-12-15T07:23:41.940Z"
   },
   {
    "duration": 199,
    "start_time": "2022-12-15T07:23:41.959Z"
   },
   {
    "duration": 18,
    "start_time": "2022-12-15T07:23:42.160Z"
   },
   {
    "duration": 10,
    "start_time": "2022-12-15T07:23:42.180Z"
   },
   {
    "duration": 30,
    "start_time": "2022-12-15T07:23:42.192Z"
   },
   {
    "duration": 132,
    "start_time": "2022-12-15T07:23:42.224Z"
   },
   {
    "duration": 13,
    "start_time": "2022-12-15T07:23:42.357Z"
   },
   {
    "duration": 7,
    "start_time": "2022-12-15T07:23:42.372Z"
   },
   {
    "duration": 16,
    "start_time": "2022-12-15T07:23:42.380Z"
   },
   {
    "duration": 14,
    "start_time": "2022-12-15T07:23:42.398Z"
   },
   {
    "duration": 7,
    "start_time": "2022-12-15T07:23:42.437Z"
   },
   {
    "duration": 20,
    "start_time": "2022-12-15T07:23:42.446Z"
   },
   {
    "duration": 10,
    "start_time": "2022-12-15T07:23:42.468Z"
   },
   {
    "duration": 10,
    "start_time": "2022-12-15T07:23:42.480Z"
   },
   {
    "duration": 38069,
    "start_time": "2022-12-15T07:23:42.492Z"
   },
   {
    "duration": 13,
    "start_time": "2022-12-15T07:24:20.563Z"
   },
   {
    "duration": 4,
    "start_time": "2022-12-15T07:24:20.580Z"
   },
   {
    "duration": 21,
    "start_time": "2022-12-15T07:24:20.585Z"
   },
   {
    "duration": 530,
    "start_time": "2022-12-15T07:24:20.608Z"
   },
   {
    "duration": 592,
    "start_time": "2022-12-15T07:24:21.140Z"
   },
   {
    "duration": 1024,
    "start_time": "2022-12-15T07:24:21.735Z"
   },
   {
    "duration": 177,
    "start_time": "2022-12-15T07:24:22.760Z"
   },
   {
    "duration": 150,
    "start_time": "2022-12-15T07:24:22.938Z"
   },
   {
    "duration": 5,
    "start_time": "2022-12-15T07:24:23.089Z"
   },
   {
    "duration": 18,
    "start_time": "2022-12-15T07:24:23.095Z"
   },
   {
    "duration": 23,
    "start_time": "2022-12-15T07:24:23.115Z"
   },
   {
    "duration": 15,
    "start_time": "2022-12-15T07:24:23.140Z"
   },
   {
    "duration": 1583,
    "start_time": "2022-12-15T07:24:23.156Z"
   },
   {
    "duration": 9,
    "start_time": "2022-12-15T07:24:24.741Z"
   },
   {
    "duration": 209,
    "start_time": "2022-12-15T07:24:24.752Z"
   },
   {
    "duration": 0,
    "start_time": "2022-12-15T07:24:24.963Z"
   },
   {
    "duration": 0,
    "start_time": "2022-12-15T07:24:24.964Z"
   },
   {
    "duration": 0,
    "start_time": "2022-12-15T07:24:24.966Z"
   },
   {
    "duration": 0,
    "start_time": "2022-12-15T07:24:24.967Z"
   },
   {
    "duration": 1,
    "start_time": "2022-12-15T07:24:24.968Z"
   },
   {
    "duration": 0,
    "start_time": "2022-12-15T07:24:24.970Z"
   },
   {
    "duration": 0,
    "start_time": "2022-12-15T07:24:24.971Z"
   },
   {
    "duration": 7,
    "start_time": "2022-12-15T07:24:41.194Z"
   },
   {
    "duration": 11,
    "start_time": "2022-12-15T07:24:43.684Z"
   },
   {
    "duration": 150,
    "start_time": "2022-12-15T07:24:45.989Z"
   },
   {
    "duration": 12,
    "start_time": "2022-12-15T07:24:46.616Z"
   },
   {
    "duration": 8,
    "start_time": "2022-12-15T07:26:32.525Z"
   },
   {
    "duration": 13,
    "start_time": "2022-12-15T07:26:35.108Z"
   },
   {
    "duration": 4,
    "start_time": "2022-12-15T07:26:54.491Z"
   },
   {
    "duration": 5,
    "start_time": "2022-12-15T07:27:03.784Z"
   },
   {
    "duration": 5,
    "start_time": "2022-12-15T07:28:08.460Z"
   },
   {
    "duration": 5,
    "start_time": "2022-12-15T07:28:08.775Z"
   },
   {
    "duration": 5,
    "start_time": "2022-12-15T07:28:46.330Z"
   },
   {
    "duration": 10,
    "start_time": "2022-12-15T08:41:30.716Z"
   },
   {
    "duration": 259,
    "start_time": "2022-12-15T08:41:31.376Z"
   },
   {
    "duration": 13,
    "start_time": "2022-12-15T08:41:31.843Z"
   },
   {
    "duration": 6,
    "start_time": "2022-12-15T08:41:39.078Z"
   },
   {
    "duration": 5,
    "start_time": "2022-12-15T08:41:39.431Z"
   },
   {
    "duration": 7,
    "start_time": "2022-12-15T08:41:40.399Z"
   },
   {
    "duration": 4,
    "start_time": "2022-12-15T08:41:40.939Z"
   },
   {
    "duration": 6,
    "start_time": "2022-12-15T08:41:41.609Z"
   },
   {
    "duration": 5,
    "start_time": "2022-12-15T08:49:46.414Z"
   },
   {
    "duration": 2,
    "start_time": "2022-12-15T08:49:46.693Z"
   },
   {
    "duration": 7,
    "start_time": "2022-12-15T08:49:53.797Z"
   },
   {
    "duration": 10,
    "start_time": "2022-12-15T08:49:54.145Z"
   },
   {
    "duration": 134,
    "start_time": "2022-12-15T08:49:57.505Z"
   },
   {
    "duration": 13,
    "start_time": "2022-12-15T08:50:20.174Z"
   },
   {
    "duration": 815,
    "start_time": "2022-12-15T08:51:09.163Z"
   },
   {
    "duration": 793,
    "start_time": "2022-12-15T08:51:50.817Z"
   },
   {
    "duration": 799,
    "start_time": "2022-12-15T08:52:26.320Z"
   },
   {
    "duration": 765,
    "start_time": "2022-12-15T08:52:46.900Z"
   },
   {
    "duration": 13,
    "start_time": "2022-12-15T08:52:53.895Z"
   },
   {
    "duration": 454,
    "start_time": "2022-12-15T08:53:12.384Z"
   },
   {
    "duration": 8,
    "start_time": "2022-12-15T08:53:46.895Z"
   },
   {
    "duration": 12,
    "start_time": "2022-12-15T08:54:07.701Z"
   },
   {
    "duration": 4,
    "start_time": "2022-12-15T08:54:21.807Z"
   },
   {
    "duration": 3,
    "start_time": "2022-12-15T08:54:22.098Z"
   },
   {
    "duration": 11,
    "start_time": "2022-12-15T08:54:24.064Z"
   },
   {
    "duration": 10,
    "start_time": "2022-12-15T08:54:45.901Z"
   },
   {
    "duration": 5,
    "start_time": "2022-12-15T08:55:47.002Z"
   },
   {
    "duration": 3,
    "start_time": "2022-12-15T08:55:47.886Z"
   },
   {
    "duration": 6,
    "start_time": "2022-12-15T08:55:52.906Z"
   },
   {
    "duration": 9,
    "start_time": "2022-12-15T08:55:54.349Z"
   },
   {
    "duration": 1843,
    "start_time": "2022-12-15T08:56:33.193Z"
   },
   {
    "duration": 6,
    "start_time": "2022-12-15T08:56:49.067Z"
   },
   {
    "duration": 2,
    "start_time": "2022-12-15T08:56:49.278Z"
   },
   {
    "duration": 7,
    "start_time": "2022-12-15T08:56:49.444Z"
   },
   {
    "duration": 10,
    "start_time": "2022-12-15T08:56:49.623Z"
   },
   {
    "duration": 288,
    "start_time": "2022-12-15T08:56:49.948Z"
   },
   {
    "duration": 104,
    "start_time": "2022-12-15T08:56:50.239Z"
   },
   {
    "duration": 0,
    "start_time": "2022-12-15T08:56:50.345Z"
   },
   {
    "duration": 1690,
    "start_time": "2022-12-15T08:56:50.447Z"
   },
   {
    "duration": 1542,
    "start_time": "2022-12-15T08:57:03.095Z"
   },
   {
    "duration": 4,
    "start_time": "2022-12-15T09:01:07.582Z"
   },
   {
    "duration": 16,
    "start_time": "2022-12-15T09:05:47.109Z"
   },
   {
    "duration": 15,
    "start_time": "2022-12-15T09:07:18.208Z"
   },
   {
    "duration": 2117,
    "start_time": "2022-12-15T09:28:50.006Z"
   },
   {
    "duration": 1439,
    "start_time": "2022-12-15T09:28:52.126Z"
   },
   {
    "duration": 4,
    "start_time": "2022-12-15T09:28:53.569Z"
   },
   {
    "duration": 1393,
    "start_time": "2022-12-15T09:28:53.574Z"
   },
   {
    "duration": 20,
    "start_time": "2022-12-15T09:28:54.968Z"
   },
   {
    "duration": 14,
    "start_time": "2022-12-15T09:28:54.990Z"
   },
   {
    "duration": 32739,
    "start_time": "2022-12-15T09:28:55.006Z"
   },
   {
    "duration": 3,
    "start_time": "2022-12-15T09:29:27.747Z"
   },
   {
    "duration": 21,
    "start_time": "2022-12-15T09:29:27.753Z"
   },
   {
    "duration": 11,
    "start_time": "2022-12-15T09:29:27.776Z"
   },
   {
    "duration": 336,
    "start_time": "2022-12-15T09:29:27.789Z"
   },
   {
    "duration": 16,
    "start_time": "2022-12-15T09:29:28.127Z"
   },
   {
    "duration": 172,
    "start_time": "2022-12-15T09:29:28.145Z"
   },
   {
    "duration": 24,
    "start_time": "2022-12-15T09:29:28.319Z"
   },
   {
    "duration": 8,
    "start_time": "2022-12-15T09:29:28.345Z"
   },
   {
    "duration": 21,
    "start_time": "2022-12-15T09:29:28.355Z"
   },
   {
    "duration": 144,
    "start_time": "2022-12-15T09:29:28.378Z"
   },
   {
    "duration": 24,
    "start_time": "2022-12-15T09:29:28.524Z"
   },
   {
    "duration": 6,
    "start_time": "2022-12-15T09:29:28.550Z"
   },
   {
    "duration": 14,
    "start_time": "2022-12-15T09:29:28.558Z"
   },
   {
    "duration": 4,
    "start_time": "2022-12-15T09:29:28.573Z"
   },
   {
    "duration": 10,
    "start_time": "2022-12-15T09:29:28.579Z"
   },
   {
    "duration": 8,
    "start_time": "2022-12-15T09:29:28.590Z"
   },
   {
    "duration": 6,
    "start_time": "2022-12-15T09:29:28.600Z"
   },
   {
    "duration": 30,
    "start_time": "2022-12-15T09:29:28.608Z"
   },
   {
    "duration": 42619,
    "start_time": "2022-12-15T09:29:28.640Z"
   },
   {
    "duration": 15,
    "start_time": "2022-12-15T09:30:11.263Z"
   },
   {
    "duration": 11,
    "start_time": "2022-12-15T09:30:11.280Z"
   },
   {
    "duration": 17,
    "start_time": "2022-12-15T09:30:11.293Z"
   },
   {
    "duration": 527,
    "start_time": "2022-12-15T09:30:11.311Z"
   },
   {
    "duration": 568,
    "start_time": "2022-12-15T09:30:11.840Z"
   },
   {
    "duration": 1034,
    "start_time": "2022-12-15T09:30:12.410Z"
   },
   {
    "duration": 190,
    "start_time": "2022-12-15T09:30:13.446Z"
   },
   {
    "duration": 160,
    "start_time": "2022-12-15T09:30:13.637Z"
   },
   {
    "duration": 5,
    "start_time": "2022-12-15T09:30:13.798Z"
   },
   {
    "duration": 9,
    "start_time": "2022-12-15T09:30:13.805Z"
   },
   {
    "duration": 27,
    "start_time": "2022-12-15T09:30:13.816Z"
   },
   {
    "duration": 16,
    "start_time": "2022-12-15T09:30:13.846Z"
   },
   {
    "duration": 16,
    "start_time": "2022-12-15T09:30:13.863Z"
   },
   {
    "duration": 21,
    "start_time": "2022-12-15T09:30:13.880Z"
   },
   {
    "duration": 14,
    "start_time": "2022-12-15T09:30:13.903Z"
   },
   {
    "duration": 16,
    "start_time": "2022-12-15T09:30:13.919Z"
   },
   {
    "duration": 17,
    "start_time": "2022-12-15T09:30:13.937Z"
   },
   {
    "duration": 581,
    "start_time": "2022-12-15T09:30:13.955Z"
   },
   {
    "duration": 10,
    "start_time": "2022-12-15T09:30:14.538Z"
   },
   {
    "duration": 206,
    "start_time": "2022-12-15T09:30:14.550Z"
   },
   {
    "duration": 0,
    "start_time": "2022-12-15T09:30:14.758Z"
   },
   {
    "duration": 0,
    "start_time": "2022-12-15T09:30:14.759Z"
   },
   {
    "duration": 0,
    "start_time": "2022-12-15T09:30:14.761Z"
   },
   {
    "duration": 0,
    "start_time": "2022-12-15T09:30:14.762Z"
   },
   {
    "duration": 0,
    "start_time": "2022-12-15T09:30:14.764Z"
   },
   {
    "duration": 1,
    "start_time": "2022-12-15T09:30:14.765Z"
   },
   {
    "duration": 0,
    "start_time": "2022-12-15T09:30:14.767Z"
   },
   {
    "duration": 0,
    "start_time": "2022-12-15T09:30:14.768Z"
   },
   {
    "duration": 25,
    "start_time": "2022-12-15T09:30:46.202Z"
   },
   {
    "duration": 6,
    "start_time": "2022-12-15T09:30:59.561Z"
   },
   {
    "duration": 6,
    "start_time": "2022-12-15T09:31:06.245Z"
   },
   {
    "duration": 3,
    "start_time": "2022-12-15T09:31:06.513Z"
   },
   {
    "duration": 4,
    "start_time": "2022-12-15T09:31:06.934Z"
   },
   {
    "duration": 566,
    "start_time": "2022-12-15T09:32:22.608Z"
   },
   {
    "duration": 3307,
    "start_time": "2022-12-16T07:30:34.811Z"
   },
   {
    "duration": 1769,
    "start_time": "2022-12-16T07:30:38.121Z"
   },
   {
    "duration": 4,
    "start_time": "2022-12-16T07:30:39.892Z"
   },
   {
    "duration": 1594,
    "start_time": "2022-12-16T07:30:39.898Z"
   },
   {
    "duration": 19,
    "start_time": "2022-12-16T07:30:41.494Z"
   },
   {
    "duration": 10,
    "start_time": "2022-12-16T07:30:41.515Z"
   },
   {
    "duration": 33699,
    "start_time": "2022-12-16T07:30:41.527Z"
   },
   {
    "duration": 4,
    "start_time": "2022-12-16T07:31:15.228Z"
   },
   {
    "duration": 24,
    "start_time": "2022-12-16T07:31:15.234Z"
   },
   {
    "duration": 18,
    "start_time": "2022-12-16T07:31:15.260Z"
   },
   {
    "duration": 324,
    "start_time": "2022-12-16T07:31:15.280Z"
   },
   {
    "duration": 16,
    "start_time": "2022-12-16T07:31:15.606Z"
   },
   {
    "duration": 171,
    "start_time": "2022-12-16T07:31:15.624Z"
   },
   {
    "duration": 17,
    "start_time": "2022-12-16T07:31:15.798Z"
   },
   {
    "duration": 12,
    "start_time": "2022-12-16T07:31:15.817Z"
   },
   {
    "duration": 31,
    "start_time": "2022-12-16T07:31:15.830Z"
   },
   {
    "duration": 139,
    "start_time": "2022-12-16T07:31:15.863Z"
   },
   {
    "duration": 14,
    "start_time": "2022-12-16T07:31:16.004Z"
   },
   {
    "duration": 7,
    "start_time": "2022-12-16T07:31:16.020Z"
   },
   {
    "duration": 31,
    "start_time": "2022-12-16T07:31:16.028Z"
   },
   {
    "duration": 5,
    "start_time": "2022-12-16T07:31:16.061Z"
   },
   {
    "duration": 8,
    "start_time": "2022-12-16T07:31:16.068Z"
   },
   {
    "duration": 13,
    "start_time": "2022-12-16T07:31:16.077Z"
   },
   {
    "duration": 36,
    "start_time": "2022-12-16T07:31:16.092Z"
   },
   {
    "duration": 13,
    "start_time": "2022-12-16T07:31:16.130Z"
   },
   {
    "duration": 59327,
    "start_time": "2022-12-16T07:31:16.145Z"
   },
   {
    "duration": 15,
    "start_time": "2022-12-16T07:32:15.474Z"
   },
   {
    "duration": 4,
    "start_time": "2022-12-16T07:32:15.491Z"
   },
   {
    "duration": 14,
    "start_time": "2022-12-16T07:32:15.497Z"
   },
   {
    "duration": 553,
    "start_time": "2022-12-16T07:32:15.513Z"
   },
   {
    "duration": 562,
    "start_time": "2022-12-16T07:32:16.068Z"
   },
   {
    "duration": 913,
    "start_time": "2022-12-16T07:32:16.631Z"
   },
   {
    "duration": 184,
    "start_time": "2022-12-16T07:32:17.550Z"
   },
   {
    "duration": 150,
    "start_time": "2022-12-16T07:32:17.736Z"
   },
   {
    "duration": 4,
    "start_time": "2022-12-16T07:32:17.888Z"
   },
   {
    "duration": 9,
    "start_time": "2022-12-16T07:32:17.895Z"
   },
   {
    "duration": 17,
    "start_time": "2022-12-16T07:32:17.906Z"
   },
   {
    "duration": 15,
    "start_time": "2022-12-16T07:32:17.925Z"
   },
   {
    "duration": 5,
    "start_time": "2022-12-16T07:32:17.951Z"
   },
   {
    "duration": 15,
    "start_time": "2022-12-16T07:32:17.958Z"
   },
   {
    "duration": 18,
    "start_time": "2022-12-16T07:32:17.977Z"
   },
   {
    "duration": 8,
    "start_time": "2022-12-16T07:32:17.997Z"
   },
   {
    "duration": 119,
    "start_time": "2022-12-16T07:32:18.007Z"
   },
   {
    "duration": 0,
    "start_time": "2022-12-16T07:32:18.128Z"
   },
   {
    "duration": 0,
    "start_time": "2022-12-16T07:32:18.129Z"
   },
   {
    "duration": 0,
    "start_time": "2022-12-16T07:32:18.130Z"
   },
   {
    "duration": 0,
    "start_time": "2022-12-16T07:32:18.131Z"
   },
   {
    "duration": 0,
    "start_time": "2022-12-16T07:32:18.133Z"
   },
   {
    "duration": 0,
    "start_time": "2022-12-16T07:32:18.133Z"
   },
   {
    "duration": 0,
    "start_time": "2022-12-16T07:32:18.134Z"
   },
   {
    "duration": 0,
    "start_time": "2022-12-16T07:32:18.136Z"
   },
   {
    "duration": 0,
    "start_time": "2022-12-16T07:32:18.137Z"
   },
   {
    "duration": 0,
    "start_time": "2022-12-16T07:32:18.138Z"
   },
   {
    "duration": 0,
    "start_time": "2022-12-16T07:32:18.150Z"
   },
   {
    "duration": 0,
    "start_time": "2022-12-16T07:32:18.152Z"
   },
   {
    "duration": 7,
    "start_time": "2022-12-16T07:35:17.920Z"
   },
   {
    "duration": 2906,
    "start_time": "2022-12-16T07:36:13.561Z"
   },
   {
    "duration": 1767,
    "start_time": "2022-12-16T07:36:56.783Z"
   },
   {
    "duration": 75,
    "start_time": "2022-12-16T07:37:35.348Z"
   },
   {
    "duration": 4,
    "start_time": "2022-12-16T07:37:47.906Z"
   },
   {
    "duration": 4,
    "start_time": "2022-12-16T07:37:50.405Z"
   },
   {
    "duration": 6,
    "start_time": "2022-12-16T07:37:52.711Z"
   },
   {
    "duration": 4,
    "start_time": "2022-12-16T07:38:18.889Z"
   },
   {
    "duration": 4,
    "start_time": "2022-12-16T07:38:21.323Z"
   },
   {
    "duration": 80,
    "start_time": "2022-12-16T07:38:59.926Z"
   },
   {
    "duration": 4,
    "start_time": "2022-12-16T07:39:34.245Z"
   },
   {
    "duration": 105,
    "start_time": "2022-12-16T07:40:23.731Z"
   },
   {
    "duration": 86,
    "start_time": "2022-12-16T07:40:24.062Z"
   },
   {
    "duration": 112,
    "start_time": "2022-12-16T07:40:34.947Z"
   },
   {
    "duration": 424,
    "start_time": "2022-12-16T07:40:58.228Z"
   },
   {
    "duration": 4,
    "start_time": "2022-12-16T07:42:13.887Z"
   },
   {
    "duration": 4,
    "start_time": "2022-12-16T07:42:14.297Z"
   },
   {
    "duration": 9,
    "start_time": "2022-12-16T07:42:14.951Z"
   },
   {
    "duration": 4632,
    "start_time": "2022-12-16T07:42:16.225Z"
   },
   {
    "duration": 4,
    "start_time": "2022-12-16T07:42:34.829Z"
   },
   {
    "duration": 4,
    "start_time": "2022-12-16T07:42:35.170Z"
   },
   {
    "duration": 4,
    "start_time": "2022-12-16T07:42:35.378Z"
   },
   {
    "duration": 8,
    "start_time": "2022-12-16T07:42:35.982Z"
   },
   {
    "duration": 2060,
    "start_time": "2022-12-16T07:42:36.501Z"
   },
   {
    "duration": 3975,
    "start_time": "2022-12-16T07:43:08.391Z"
   },
   {
    "duration": 3768,
    "start_time": "2022-12-16T07:43:22.287Z"
   },
   {
    "duration": 4992,
    "start_time": "2022-12-16T07:43:39.459Z"
   },
   {
    "duration": 5025,
    "start_time": "2022-12-16T07:43:53.744Z"
   },
   {
    "duration": 2399,
    "start_time": "2022-12-16T07:44:04.654Z"
   },
   {
    "duration": 11,
    "start_time": "2022-12-16T09:06:37.407Z"
   },
   {
    "duration": 10,
    "start_time": "2022-12-16T09:06:40.789Z"
   },
   {
    "duration": 4,
    "start_time": "2022-12-16T09:06:57.645Z"
   },
   {
    "duration": 3,
    "start_time": "2022-12-16T09:06:58.008Z"
   },
   {
    "duration": 4,
    "start_time": "2022-12-16T09:06:58.481Z"
   },
   {
    "duration": 9,
    "start_time": "2022-12-16T09:07:00.991Z"
   },
   {
    "duration": 2135,
    "start_time": "2022-12-16T09:07:01.336Z"
   },
   {
    "duration": 2174,
    "start_time": "2022-12-16T09:07:06.780Z"
   },
   {
    "duration": 164,
    "start_time": "2022-12-16T09:11:08.708Z"
   },
   {
    "duration": 2292,
    "start_time": "2022-12-16T09:19:12.300Z"
   },
   {
    "duration": 1488,
    "start_time": "2022-12-16T09:19:14.595Z"
   },
   {
    "duration": 4,
    "start_time": "2022-12-16T09:19:16.084Z"
   },
   {
    "duration": 1759,
    "start_time": "2022-12-16T09:19:16.089Z"
   },
   {
    "duration": 20,
    "start_time": "2022-12-16T09:19:17.851Z"
   },
   {
    "duration": 11,
    "start_time": "2022-12-16T09:19:17.872Z"
   },
   {
    "duration": 34027,
    "start_time": "2022-12-16T09:19:17.885Z"
   },
   {
    "duration": 4,
    "start_time": "2022-12-16T09:19:51.914Z"
   },
   {
    "duration": 21,
    "start_time": "2022-12-16T09:19:51.920Z"
   },
   {
    "duration": 16,
    "start_time": "2022-12-16T09:19:51.953Z"
   },
   {
    "duration": 357,
    "start_time": "2022-12-16T09:19:51.972Z"
   },
   {
    "duration": 18,
    "start_time": "2022-12-16T09:19:52.330Z"
   },
   {
    "duration": 184,
    "start_time": "2022-12-16T09:19:52.350Z"
   },
   {
    "duration": 23,
    "start_time": "2022-12-16T09:19:52.536Z"
   },
   {
    "duration": 11,
    "start_time": "2022-12-16T09:19:52.560Z"
   },
   {
    "duration": 24,
    "start_time": "2022-12-16T09:19:52.573Z"
   },
   {
    "duration": 152,
    "start_time": "2022-12-16T09:19:52.599Z"
   },
   {
    "duration": 15,
    "start_time": "2022-12-16T09:19:52.753Z"
   },
   {
    "duration": 22,
    "start_time": "2022-12-16T09:19:52.770Z"
   },
   {
    "duration": 27,
    "start_time": "2022-12-16T09:19:52.794Z"
   },
   {
    "duration": 20,
    "start_time": "2022-12-16T09:19:52.823Z"
   },
   {
    "duration": 17,
    "start_time": "2022-12-16T09:19:52.845Z"
   },
   {
    "duration": 15,
    "start_time": "2022-12-16T09:19:52.864Z"
   },
   {
    "duration": 23,
    "start_time": "2022-12-16T09:19:52.881Z"
   },
   {
    "duration": 15,
    "start_time": "2022-12-16T09:19:52.906Z"
   },
   {
    "duration": 63555,
    "start_time": "2022-12-16T09:19:52.924Z"
   },
   {
    "duration": 15,
    "start_time": "2022-12-16T09:20:56.481Z"
   },
   {
    "duration": 4,
    "start_time": "2022-12-16T09:20:56.500Z"
   },
   {
    "duration": 586,
    "start_time": "2022-12-16T09:20:56.506Z"
   },
   {
    "duration": 530,
    "start_time": "2022-12-16T09:31:43.806Z"
   },
   {
    "duration": 528,
    "start_time": "2022-12-16T09:31:52.496Z"
   },
   {
    "duration": 767,
    "start_time": "2022-12-16T09:32:50.844Z"
   },
   {
    "duration": 655,
    "start_time": "2022-12-16T09:33:14.402Z"
   },
   {
    "duration": 772,
    "start_time": "2022-12-16T09:35:10.445Z"
   },
   {
    "duration": 761,
    "start_time": "2022-12-16T09:35:19.301Z"
   },
   {
    "duration": 898,
    "start_time": "2022-12-16T09:35:53.070Z"
   },
   {
    "duration": 1022,
    "start_time": "2022-12-16T09:36:27.059Z"
   },
   {
    "duration": 1322,
    "start_time": "2022-12-16T09:36:38.638Z"
   },
   {
    "duration": 131,
    "start_time": "2022-12-16T09:43:54.970Z"
   },
   {
    "duration": 17,
    "start_time": "2022-12-16T09:43:59.821Z"
   },
   {
    "duration": 3,
    "start_time": "2022-12-16T09:44:02.700Z"
   },
   {
    "duration": 154,
    "start_time": "2022-12-16T09:44:03.139Z"
   },
   {
    "duration": 179,
    "start_time": "2022-12-16T09:44:57.960Z"
   },
   {
    "duration": 175,
    "start_time": "2022-12-16T09:45:17.272Z"
   },
   {
    "duration": 167,
    "start_time": "2022-12-16T09:45:48.902Z"
   },
   {
    "duration": 180,
    "start_time": "2022-12-16T09:45:58.523Z"
   },
   {
    "duration": 256,
    "start_time": "2022-12-16T09:46:04.974Z"
   },
   {
    "duration": 446,
    "start_time": "2022-12-16T09:47:41.078Z"
   },
   {
    "duration": 186,
    "start_time": "2022-12-16T09:47:57.993Z"
   },
   {
    "duration": 177,
    "start_time": "2022-12-16T09:48:17.233Z"
   },
   {
    "duration": 168,
    "start_time": "2022-12-16T09:48:21.514Z"
   },
   {
    "duration": 16,
    "start_time": "2022-12-16T09:48:31.719Z"
   },
   {
    "duration": 3,
    "start_time": "2022-12-16T09:48:44.808Z"
   },
   {
    "duration": 214,
    "start_time": "2022-12-16T09:48:45.110Z"
   },
   {
    "duration": 302,
    "start_time": "2022-12-16T09:51:05.768Z"
   },
   {
    "duration": 5,
    "start_time": "2022-12-16T09:53:13.477Z"
   },
   {
    "duration": 70,
    "start_time": "2022-12-16T09:53:24.028Z"
   },
   {
    "duration": 247,
    "start_time": "2022-12-16T09:53:29.798Z"
   },
   {
    "duration": 174,
    "start_time": "2022-12-16T09:53:33.931Z"
   },
   {
    "duration": 237,
    "start_time": "2022-12-16T09:55:14.653Z"
   },
   {
    "duration": 255,
    "start_time": "2022-12-16T09:55:49.906Z"
   },
   {
    "duration": 19,
    "start_time": "2022-12-16T09:55:53.162Z"
   },
   {
    "duration": 163,
    "start_time": "2022-12-16T09:55:58.842Z"
   },
   {
    "duration": 117,
    "start_time": "2022-12-16T09:56:28.717Z"
   },
   {
    "duration": 3,
    "start_time": "2022-12-16T09:58:03.224Z"
   },
   {
    "duration": 253,
    "start_time": "2022-12-16T09:58:03.611Z"
   },
   {
    "duration": 276,
    "start_time": "2022-12-16T09:58:12.392Z"
   },
   {
    "duration": 149,
    "start_time": "2022-12-16T09:58:41.361Z"
   },
   {
    "duration": 189,
    "start_time": "2022-12-16T09:58:47.014Z"
   },
   {
    "duration": 27,
    "start_time": "2022-12-16T09:59:16.111Z"
   },
   {
    "duration": 259,
    "start_time": "2022-12-16T09:59:30.320Z"
   },
   {
    "duration": 11,
    "start_time": "2022-12-16T09:59:57.042Z"
   },
   {
    "duration": 102,
    "start_time": "2022-12-16T10:00:01.402Z"
   },
   {
    "duration": 181,
    "start_time": "2022-12-16T10:00:37.476Z"
   },
   {
    "duration": 145,
    "start_time": "2022-12-16T10:00:54.605Z"
   },
   {
    "duration": 149,
    "start_time": "2022-12-16T10:01:45.135Z"
   },
   {
    "duration": 134,
    "start_time": "2022-12-16T10:01:57.708Z"
   },
   {
    "duration": 133,
    "start_time": "2022-12-16T10:02:07.641Z"
   },
   {
    "duration": 105,
    "start_time": "2022-12-16T10:02:32.094Z"
   },
   {
    "duration": 101,
    "start_time": "2022-12-16T10:02:44.558Z"
   },
   {
    "duration": 16,
    "start_time": "2022-12-16T10:02:48.192Z"
   },
   {
    "duration": 138,
    "start_time": "2022-12-16T10:02:59.630Z"
   },
   {
    "duration": 111,
    "start_time": "2022-12-16T10:03:25.360Z"
   },
   {
    "duration": 99,
    "start_time": "2022-12-16T10:03:31.324Z"
   },
   {
    "duration": 139,
    "start_time": "2022-12-16T10:04:06.858Z"
   },
   {
    "duration": 100,
    "start_time": "2022-12-16T10:04:18.452Z"
   },
   {
    "duration": 133,
    "start_time": "2022-12-16T10:04:27.030Z"
   },
   {
    "duration": 12,
    "start_time": "2022-12-16T10:05:06.832Z"
   },
   {
    "duration": 163,
    "start_time": "2022-12-16T10:05:57.694Z"
   },
   {
    "duration": 13,
    "start_time": "2022-12-16T10:06:04.801Z"
   },
   {
    "duration": 10,
    "start_time": "2022-12-16T10:06:16.416Z"
   },
   {
    "duration": 374,
    "start_time": "2022-12-16T10:07:39.436Z"
   },
   {
    "duration": 134,
    "start_time": "2022-12-16T10:07:56.093Z"
   },
   {
    "duration": 143,
    "start_time": "2022-12-16T10:08:36.947Z"
   },
   {
    "duration": 134,
    "start_time": "2022-12-16T10:08:40.890Z"
   },
   {
    "duration": 132,
    "start_time": "2022-12-16T10:08:49.433Z"
   },
   {
    "duration": 144,
    "start_time": "2022-12-16T10:09:08.272Z"
   },
   {
    "duration": 146,
    "start_time": "2022-12-16T10:09:18.105Z"
   },
   {
    "duration": 148,
    "start_time": "2022-12-16T10:10:42.252Z"
   },
   {
    "duration": 141,
    "start_time": "2022-12-16T10:10:47.310Z"
   },
   {
    "duration": 93,
    "start_time": "2022-12-16T10:10:53.166Z"
   },
   {
    "duration": 159,
    "start_time": "2022-12-16T10:11:24.042Z"
   },
   {
    "duration": 374,
    "start_time": "2022-12-16T10:11:34.679Z"
   },
   {
    "duration": 138,
    "start_time": "2022-12-16T10:11:51.642Z"
   },
   {
    "duration": 126,
    "start_time": "2022-12-16T10:13:27.373Z"
   },
   {
    "duration": 72,
    "start_time": "2022-12-16T10:13:39.159Z"
   },
   {
    "duration": 147,
    "start_time": "2022-12-16T10:14:03.857Z"
   },
   {
    "duration": 125,
    "start_time": "2022-12-16T10:14:22.248Z"
   },
   {
    "duration": 65,
    "start_time": "2022-12-16T10:15:54.692Z"
   },
   {
    "duration": 145,
    "start_time": "2022-12-16T10:16:03.707Z"
   },
   {
    "duration": 134,
    "start_time": "2022-12-16T10:16:55.207Z"
   },
   {
    "duration": 232,
    "start_time": "2022-12-16T10:17:10.456Z"
   },
   {
    "duration": 203,
    "start_time": "2022-12-16T10:18:19.179Z"
   },
   {
    "duration": 182,
    "start_time": "2022-12-16T10:18:32.510Z"
   },
   {
    "duration": 227,
    "start_time": "2022-12-16T10:18:39.785Z"
   },
   {
    "duration": 186,
    "start_time": "2022-12-16T10:18:43.889Z"
   },
   {
    "duration": 224,
    "start_time": "2022-12-16T10:19:15.410Z"
   },
   {
    "duration": 405,
    "start_time": "2022-12-16T10:20:20.696Z"
   },
   {
    "duration": 360,
    "start_time": "2022-12-16T10:20:27.746Z"
   },
   {
    "duration": 5,
    "start_time": "2022-12-16T10:21:24.277Z"
   },
   {
    "duration": 4,
    "start_time": "2022-12-16T10:21:38.352Z"
   },
   {
    "duration": 5,
    "start_time": "2022-12-16T10:22:01.449Z"
   },
   {
    "duration": 16,
    "start_time": "2022-12-16T10:22:29.172Z"
   },
   {
    "duration": 20,
    "start_time": "2022-12-16T10:22:59.554Z"
   },
   {
    "duration": 15,
    "start_time": "2022-12-16T10:23:15.299Z"
   },
   {
    "duration": 635,
    "start_time": "2022-12-16T10:23:21.795Z"
   },
   {
    "duration": 379,
    "start_time": "2022-12-16T10:23:25.920Z"
   },
   {
    "duration": 438,
    "start_time": "2022-12-16T10:23:43.397Z"
   },
   {
    "duration": 10,
    "start_time": "2022-12-16T10:23:57.022Z"
   },
   {
    "duration": 9,
    "start_time": "2022-12-16T10:24:00.539Z"
   },
   {
    "duration": 18,
    "start_time": "2022-12-16T10:24:03.909Z"
   },
   {
    "duration": 12,
    "start_time": "2022-12-16T10:24:06.910Z"
   },
   {
    "duration": 18,
    "start_time": "2022-12-16T10:24:11.565Z"
   },
   {
    "duration": 11,
    "start_time": "2022-12-16T10:24:16.454Z"
   },
   {
    "duration": 357,
    "start_time": "2022-12-16T10:24:34.039Z"
   },
   {
    "duration": 363,
    "start_time": "2022-12-16T10:24:41.620Z"
   },
   {
    "duration": 350,
    "start_time": "2022-12-16T10:25:17.105Z"
   },
   {
    "duration": 539,
    "start_time": "2022-12-16T10:25:27.336Z"
   },
   {
    "duration": 352,
    "start_time": "2022-12-16T10:25:38.771Z"
   },
   {
    "duration": 369,
    "start_time": "2022-12-16T10:26:09.031Z"
   },
   {
    "duration": 346,
    "start_time": "2022-12-16T10:26:12.899Z"
   },
   {
    "duration": 373,
    "start_time": "2022-12-16T10:26:19.889Z"
   },
   {
    "duration": 343,
    "start_time": "2022-12-16T10:26:27.095Z"
   },
   {
    "duration": 534,
    "start_time": "2022-12-16T10:26:34.964Z"
   },
   {
    "duration": 353,
    "start_time": "2022-12-16T10:27:01.964Z"
   },
   {
    "duration": 340,
    "start_time": "2022-12-16T10:27:08.242Z"
   },
   {
    "duration": 355,
    "start_time": "2022-12-16T10:27:12.727Z"
   },
   {
    "duration": 370,
    "start_time": "2022-12-16T10:27:20.461Z"
   },
   {
    "duration": 7,
    "start_time": "2022-12-16T10:28:21.081Z"
   },
   {
    "duration": 16,
    "start_time": "2022-12-16T10:29:32.605Z"
   },
   {
    "duration": 305,
    "start_time": "2022-12-16T10:29:39.421Z"
   },
   {
    "duration": 19,
    "start_time": "2022-12-16T10:30:24.455Z"
   },
   {
    "duration": 263,
    "start_time": "2022-12-16T10:30:35.830Z"
   },
   {
    "duration": 281,
    "start_time": "2022-12-16T10:31:12.244Z"
   },
   {
    "duration": 22,
    "start_time": "2022-12-16T10:31:57.947Z"
   },
   {
    "duration": 18,
    "start_time": "2022-12-16T10:32:14.723Z"
   },
   {
    "duration": 10,
    "start_time": "2022-12-16T10:32:29.454Z"
   },
   {
    "duration": 86,
    "start_time": "2022-12-16T10:32:38.656Z"
   },
   {
    "duration": 23,
    "start_time": "2022-12-16T10:33:30.863Z"
   },
   {
    "duration": 5,
    "start_time": "2022-12-16T10:46:20.641Z"
   },
   {
    "duration": 4,
    "start_time": "2022-12-16T10:46:30.629Z"
   },
   {
    "duration": 4,
    "start_time": "2022-12-16T10:46:36.671Z"
   },
   {
    "duration": 6,
    "start_time": "2022-12-16T10:47:05.085Z"
   },
   {
    "duration": 11,
    "start_time": "2022-12-16T10:47:12.024Z"
   },
   {
    "duration": 11,
    "start_time": "2022-12-16T10:47:23.693Z"
   },
   {
    "duration": 16,
    "start_time": "2022-12-16T10:47:32.322Z"
   },
   {
    "duration": 16,
    "start_time": "2022-12-16T10:47:58.389Z"
   },
   {
    "duration": 134,
    "start_time": "2022-12-16T10:48:10.309Z"
   },
   {
    "duration": 6,
    "start_time": "2022-12-16T10:48:27.988Z"
   },
   {
    "duration": 5,
    "start_time": "2022-12-16T10:48:35.847Z"
   },
   {
    "duration": 11,
    "start_time": "2022-12-16T10:48:41.385Z"
   },
   {
    "duration": 4,
    "start_time": "2022-12-16T10:48:45.292Z"
   },
   {
    "duration": 10,
    "start_time": "2022-12-16T10:49:01.737Z"
   },
   {
    "duration": 5,
    "start_time": "2022-12-16T10:49:06.381Z"
   },
   {
    "duration": 5,
    "start_time": "2022-12-16T10:51:21.869Z"
   },
   {
    "duration": 7,
    "start_time": "2022-12-16T10:51:37.587Z"
   },
   {
    "duration": 8,
    "start_time": "2022-12-16T10:52:02.900Z"
   },
   {
    "duration": 4,
    "start_time": "2022-12-16T11:11:02.540Z"
   },
   {
    "duration": 3473,
    "start_time": "2022-12-17T04:16:06.823Z"
   },
   {
    "duration": 1818,
    "start_time": "2022-12-17T04:16:10.300Z"
   },
   {
    "duration": 4,
    "start_time": "2022-12-17T04:16:12.121Z"
   },
   {
    "duration": 2807,
    "start_time": "2022-12-17T04:16:12.128Z"
   },
   {
    "duration": 29,
    "start_time": "2022-12-17T04:16:14.937Z"
   },
   {
    "duration": 15,
    "start_time": "2022-12-17T04:16:14.968Z"
   },
   {
    "duration": 35236,
    "start_time": "2022-12-17T04:16:14.985Z"
   },
   {
    "duration": 11,
    "start_time": "2022-12-17T04:16:50.224Z"
   },
   {
    "duration": 21,
    "start_time": "2022-12-17T04:16:50.237Z"
   },
   {
    "duration": 17,
    "start_time": "2022-12-17T04:16:50.262Z"
   },
   {
    "duration": 356,
    "start_time": "2022-12-17T04:16:50.282Z"
   },
   {
    "duration": 20,
    "start_time": "2022-12-17T04:16:50.640Z"
   },
   {
    "duration": 208,
    "start_time": "2022-12-17T04:16:50.662Z"
   },
   {
    "duration": 20,
    "start_time": "2022-12-17T04:16:50.872Z"
   },
   {
    "duration": 12,
    "start_time": "2022-12-17T04:16:50.894Z"
   },
   {
    "duration": 48,
    "start_time": "2022-12-17T04:16:50.908Z"
   },
   {
    "duration": 153,
    "start_time": "2022-12-17T04:16:50.958Z"
   },
   {
    "duration": 23,
    "start_time": "2022-12-17T04:16:51.113Z"
   },
   {
    "duration": 8,
    "start_time": "2022-12-17T04:16:51.138Z"
   },
   {
    "duration": 29,
    "start_time": "2022-12-17T04:16:51.147Z"
   },
   {
    "duration": 12,
    "start_time": "2022-12-17T04:16:51.178Z"
   },
   {
    "duration": 13,
    "start_time": "2022-12-17T04:16:51.192Z"
   },
   {
    "duration": 25,
    "start_time": "2022-12-17T04:16:51.207Z"
   },
   {
    "duration": 12,
    "start_time": "2022-12-17T04:16:51.234Z"
   },
   {
    "duration": 5,
    "start_time": "2022-12-17T04:16:51.249Z"
   },
   {
    "duration": 62304,
    "start_time": "2022-12-17T04:16:51.256Z"
   },
   {
    "duration": 18,
    "start_time": "2022-12-17T04:17:53.562Z"
   },
   {
    "duration": 4,
    "start_time": "2022-12-17T04:17:53.583Z"
   },
   {
    "duration": 516,
    "start_time": "2022-12-17T04:17:53.589Z"
   },
   {
    "duration": 1149,
    "start_time": "2022-12-17T04:17:54.108Z"
   },
   {
    "duration": 869,
    "start_time": "2022-12-17T04:17:55.259Z"
   },
   {
    "duration": 8,
    "start_time": "2022-12-17T04:17:56.130Z"
   },
   {
    "duration": 332,
    "start_time": "2022-12-17T04:17:56.140Z"
   },
   {
    "duration": 16,
    "start_time": "2022-12-17T04:17:56.474Z"
   },
   {
    "duration": 249,
    "start_time": "2022-12-17T04:17:56.492Z"
   },
   {
    "duration": 26,
    "start_time": "2022-12-17T04:17:56.743Z"
   },
   {
    "duration": 274,
    "start_time": "2022-12-17T04:17:56.771Z"
   },
   {
    "duration": 5,
    "start_time": "2022-12-17T04:17:57.047Z"
   },
   {
    "duration": 14,
    "start_time": "2022-12-17T04:17:57.054Z"
   },
   {
    "duration": 41,
    "start_time": "2022-12-17T04:17:57.070Z"
   },
   {
    "duration": 10,
    "start_time": "2022-12-17T04:17:57.114Z"
   },
   {
    "duration": 15,
    "start_time": "2022-12-17T04:17:57.126Z"
   },
   {
    "duration": 23,
    "start_time": "2022-12-17T04:17:57.144Z"
   },
   {
    "duration": 124,
    "start_time": "2022-12-17T04:17:57.170Z"
   },
   {
    "duration": 5,
    "start_time": "2022-12-17T04:24:34.401Z"
   },
   {
    "duration": 6,
    "start_time": "2022-12-17T04:24:46.900Z"
   },
   {
    "duration": 11,
    "start_time": "2022-12-17T04:25:00.760Z"
   },
   {
    "duration": 234,
    "start_time": "2022-12-17T04:25:12.265Z"
   },
   {
    "duration": 867,
    "start_time": "2022-12-17T04:25:32.224Z"
   },
   {
    "duration": 194,
    "start_time": "2022-12-17T04:25:43.596Z"
   },
   {
    "duration": 137,
    "start_time": "2022-12-17T04:25:57.330Z"
   },
   {
    "duration": 146,
    "start_time": "2022-12-17T04:26:10.210Z"
   },
   {
    "duration": 12,
    "start_time": "2022-12-17T04:26:47.523Z"
   },
   {
    "duration": 10,
    "start_time": "2022-12-17T04:27:02.155Z"
   },
   {
    "duration": 1600,
    "start_time": "2022-12-17T04:27:13.137Z"
   },
   {
    "duration": 51,
    "start_time": "2022-12-17T04:27:45.377Z"
   },
   {
    "duration": 58,
    "start_time": "2022-12-17T04:27:45.686Z"
   },
   {
    "duration": 7,
    "start_time": "2022-12-17T04:28:29.095Z"
   },
   {
    "duration": 54,
    "start_time": "2022-12-17T04:28:30.198Z"
   },
   {
    "duration": 6,
    "start_time": "2022-12-17T04:29:55.366Z"
   },
   {
    "duration": 59,
    "start_time": "2022-12-17T04:30:00.735Z"
   },
   {
    "duration": 15,
    "start_time": "2022-12-17T04:30:21.996Z"
   },
   {
    "duration": 14,
    "start_time": "2022-12-17T04:31:20.281Z"
   },
   {
    "duration": 5,
    "start_time": "2022-12-17T04:31:25.143Z"
   },
   {
    "duration": 16,
    "start_time": "2022-12-17T04:32:12.589Z"
   },
   {
    "duration": 6,
    "start_time": "2022-12-17T04:32:21.544Z"
   },
   {
    "duration": 7,
    "start_time": "2022-12-17T04:32:57.485Z"
   },
   {
    "duration": 5,
    "start_time": "2022-12-17T04:33:15.395Z"
   },
   {
    "duration": 5,
    "start_time": "2022-12-17T04:33:15.872Z"
   },
   {
    "duration": 46,
    "start_time": "2022-12-17T04:33:47.996Z"
   },
   {
    "duration": 35,
    "start_time": "2022-12-17T04:33:52.981Z"
   },
   {
    "duration": 6,
    "start_time": "2022-12-17T04:34:00.397Z"
   },
   {
    "duration": 6,
    "start_time": "2022-12-17T04:34:45.575Z"
   },
   {
    "duration": 6,
    "start_time": "2022-12-17T04:35:24.202Z"
   },
   {
    "duration": 5,
    "start_time": "2022-12-17T04:35:28.686Z"
   },
   {
    "duration": 6,
    "start_time": "2022-12-17T04:36:51.938Z"
   },
   {
    "duration": 3133,
    "start_time": "2022-12-17T04:38:05.322Z"
   },
   {
    "duration": 10063,
    "start_time": "2022-12-17T04:38:15.303Z"
   },
   {
    "duration": 5,
    "start_time": "2022-12-17T04:38:54.241Z"
   },
   {
    "duration": 10,
    "start_time": "2022-12-17T04:41:43.122Z"
   },
   {
    "duration": 8,
    "start_time": "2022-12-17T04:42:09.013Z"
   },
   {
    "duration": 5,
    "start_time": "2022-12-17T04:46:11.708Z"
   },
   {
    "duration": 6,
    "start_time": "2022-12-17T04:46:14.149Z"
   },
   {
    "duration": 5,
    "start_time": "2022-12-17T04:46:14.875Z"
   },
   {
    "duration": 10380,
    "start_time": "2022-12-17T04:46:15.377Z"
   },
   {
    "duration": 9875,
    "start_time": "2022-12-17T04:46:53.389Z"
   },
   {
    "duration": 76299,
    "start_time": "2022-12-17T04:47:35.874Z"
   },
   {
    "duration": 277,
    "start_time": "2022-12-17T04:48:52.176Z"
   },
   {
    "duration": 0,
    "start_time": "2022-12-17T04:48:52.456Z"
   },
   {
    "duration": 39011,
    "start_time": "2022-12-17T04:49:22.445Z"
   },
   {
    "duration": 20,
    "start_time": "2022-12-17T04:57:30.502Z"
   },
   {
    "duration": 32,
    "start_time": "2022-12-17T04:57:49.435Z"
   },
   {
    "duration": 10,
    "start_time": "2022-12-17T04:58:28.842Z"
   },
   {
    "duration": 9,
    "start_time": "2022-12-17T04:58:48.403Z"
   },
   {
    "duration": 15,
    "start_time": "2022-12-17T04:59:08.758Z"
   },
   {
    "duration": 7,
    "start_time": "2022-12-17T04:59:14.939Z"
   },
   {
    "duration": 6,
    "start_time": "2022-12-17T04:59:41.193Z"
   },
   {
    "duration": 1039306,
    "start_time": "2022-12-17T04:59:56.212Z"
   },
   {
    "duration": 4,
    "start_time": "2022-12-17T05:17:28.788Z"
   },
   {
    "duration": 5,
    "start_time": "2022-12-17T05:17:33.403Z"
   },
   {
    "duration": 6,
    "start_time": "2022-12-17T05:18:08.168Z"
   },
   {
    "duration": 7,
    "start_time": "2022-12-17T05:18:25.424Z"
   },
   {
    "duration": 6,
    "start_time": "2022-12-17T05:18:29.997Z"
   },
   {
    "duration": 5,
    "start_time": "2022-12-17T05:18:50.850Z"
   },
   {
    "duration": 220239,
    "start_time": "2022-12-17T05:18:53.086Z"
   },
   {
    "duration": 368041,
    "start_time": "2022-12-17T05:23:38.209Z"
   },
   {
    "duration": 5,
    "start_time": "2022-12-17T05:30:54.979Z"
   },
   {
    "duration": 3,
    "start_time": "2022-12-17T05:31:00.172Z"
   },
   {
    "duration": 6,
    "start_time": "2022-12-17T05:31:03.474Z"
   },
   {
    "duration": 6,
    "start_time": "2022-12-17T05:31:09.473Z"
   },
   {
    "duration": 50006,
    "start_time": "2022-12-17T05:31:22.752Z"
   },
   {
    "duration": 12,
    "start_time": "2022-12-17T05:32:12.761Z"
   },
   {
    "duration": 0,
    "start_time": "2022-12-17T05:32:12.775Z"
   },
   {
    "duration": 97235,
    "start_time": "2022-12-17T05:32:19.818Z"
   },
   {
    "duration": 10,
    "start_time": "2022-12-17T05:33:57.055Z"
   },
   {
    "duration": 0,
    "start_time": "2022-12-17T05:33:57.067Z"
   },
   {
    "duration": 7,
    "start_time": "2022-12-17T05:34:16.665Z"
   },
   {
    "duration": 6,
    "start_time": "2022-12-17T05:34:22.789Z"
   },
   {
    "duration": 6,
    "start_time": "2022-12-17T05:35:58.789Z"
   },
   {
    "duration": 6,
    "start_time": "2022-12-17T05:36:19.554Z"
   },
   {
    "duration": 30691,
    "start_time": "2022-12-17T05:36:20.327Z"
   },
   {
    "duration": 9,
    "start_time": "2022-12-17T05:36:51.021Z"
   },
   {
    "duration": 0,
    "start_time": "2022-12-17T05:36:51.031Z"
   },
   {
    "duration": 2876,
    "start_time": "2022-12-17T13:42:19.462Z"
   },
   {
    "duration": 1519,
    "start_time": "2022-12-17T13:42:22.340Z"
   },
   {
    "duration": 5,
    "start_time": "2022-12-17T13:42:23.861Z"
   },
   {
    "duration": 1551,
    "start_time": "2022-12-17T13:42:23.868Z"
   },
   {
    "duration": 21,
    "start_time": "2022-12-17T13:42:25.421Z"
   },
   {
    "duration": 10,
    "start_time": "2022-12-17T13:42:25.443Z"
   },
   {
    "duration": 2104,
    "start_time": "2022-12-17T13:42:44.522Z"
   },
   {
    "duration": 1369,
    "start_time": "2022-12-17T13:42:46.629Z"
   },
   {
    "duration": 4,
    "start_time": "2022-12-17T13:42:47.999Z"
   },
   {
    "duration": 1582,
    "start_time": "2022-12-17T13:42:48.005Z"
   },
   {
    "duration": 23,
    "start_time": "2022-12-17T13:42:49.589Z"
   },
   {
    "duration": 10,
    "start_time": "2022-12-17T13:42:49.614Z"
   },
   {
    "duration": 31069,
    "start_time": "2022-12-17T13:42:49.625Z"
   },
   {
    "duration": 3,
    "start_time": "2022-12-17T13:43:20.696Z"
   },
   {
    "duration": 19,
    "start_time": "2022-12-17T13:43:20.701Z"
   },
   {
    "duration": 17,
    "start_time": "2022-12-17T13:43:20.723Z"
   },
   {
    "duration": 320,
    "start_time": "2022-12-17T13:43:20.742Z"
   },
   {
    "duration": 17,
    "start_time": "2022-12-17T13:43:21.064Z"
   },
   {
    "duration": 168,
    "start_time": "2022-12-17T13:43:21.083Z"
   },
   {
    "duration": 17,
    "start_time": "2022-12-17T13:43:21.253Z"
   },
   {
    "duration": 24,
    "start_time": "2022-12-17T13:43:21.272Z"
   },
   {
    "duration": 13,
    "start_time": "2022-12-17T13:43:21.298Z"
   },
   {
    "duration": 140,
    "start_time": "2022-12-17T13:43:21.313Z"
   },
   {
    "duration": 13,
    "start_time": "2022-12-17T13:43:21.455Z"
   },
   {
    "duration": 14,
    "start_time": "2022-12-17T13:43:21.470Z"
   },
   {
    "duration": 26,
    "start_time": "2022-12-17T13:43:21.485Z"
   },
   {
    "duration": 7,
    "start_time": "2022-12-17T13:43:21.513Z"
   },
   {
    "duration": 7,
    "start_time": "2022-12-17T13:43:21.522Z"
   },
   {
    "duration": 18,
    "start_time": "2022-12-17T13:43:21.530Z"
   },
   {
    "duration": 10,
    "start_time": "2022-12-17T13:43:21.550Z"
   },
   {
    "duration": 7,
    "start_time": "2022-12-17T13:43:21.562Z"
   },
   {
    "duration": 35242,
    "start_time": "2022-12-17T13:43:21.571Z"
   },
   {
    "duration": 14,
    "start_time": "2022-12-17T13:43:56.815Z"
   },
   {
    "duration": 3,
    "start_time": "2022-12-17T13:43:56.832Z"
   },
   {
    "duration": 471,
    "start_time": "2022-12-17T13:43:56.837Z"
   },
   {
    "duration": 1066,
    "start_time": "2022-12-17T13:43:57.310Z"
   },
   {
    "duration": 809,
    "start_time": "2022-12-17T13:43:58.378Z"
   },
   {
    "duration": 3,
    "start_time": "2022-12-17T13:43:59.196Z"
   },
   {
    "duration": 241,
    "start_time": "2022-12-17T13:43:59.202Z"
   },
   {
    "duration": 236,
    "start_time": "2022-12-17T13:43:59.444Z"
   },
   {
    "duration": 26,
    "start_time": "2022-12-17T13:43:59.682Z"
   },
   {
    "duration": 287,
    "start_time": "2022-12-17T13:43:59.710Z"
   },
   {
    "duration": 3,
    "start_time": "2022-12-17T13:43:59.999Z"
   },
   {
    "duration": 18,
    "start_time": "2022-12-17T13:44:00.004Z"
   },
   {
    "duration": 17,
    "start_time": "2022-12-17T13:44:00.024Z"
   },
   {
    "duration": 14,
    "start_time": "2022-12-17T13:44:00.042Z"
   },
   {
    "duration": 17,
    "start_time": "2022-12-17T13:44:00.058Z"
   },
   {
    "duration": 28,
    "start_time": "2022-12-17T13:44:00.076Z"
   },
   {
    "duration": 1299,
    "start_time": "2022-12-17T13:44:00.106Z"
   },
   {
    "duration": 7,
    "start_time": "2022-12-17T13:44:01.406Z"
   },
   {
    "duration": 4,
    "start_time": "2022-12-17T13:44:24.634Z"
   },
   {
    "duration": 9103,
    "start_time": "2022-12-17T13:44:27.602Z"
   },
   {
    "duration": 4,
    "start_time": "2022-12-17T13:45:46.741Z"
   },
   {
    "duration": 47,
    "start_time": "2022-12-17T13:47:22.101Z"
   },
   {
    "duration": 3,
    "start_time": "2022-12-17T13:47:28.963Z"
   },
   {
    "duration": 1729901,
    "start_time": "2022-12-17T13:47:32.163Z"
   },
   {
    "duration": 27487,
    "start_time": "2022-12-17T14:24:09.035Z"
   },
   {
    "duration": 7,
    "start_time": "2022-12-19T04:31:46.764Z"
   },
   {
    "duration": 2720,
    "start_time": "2022-12-19T04:36:28.666Z"
   },
   {
    "duration": 1541,
    "start_time": "2022-12-19T04:36:31.388Z"
   },
   {
    "duration": 3,
    "start_time": "2022-12-19T04:36:32.931Z"
   },
   {
    "duration": 16,
    "start_time": "2022-12-19T04:36:32.935Z"
   },
   {
    "duration": 1645,
    "start_time": "2022-12-19T04:36:32.953Z"
   },
   {
    "duration": 27,
    "start_time": "2022-12-19T04:36:34.600Z"
   },
   {
    "duration": 9,
    "start_time": "2022-12-19T04:36:34.629Z"
   },
   {
    "duration": 29824,
    "start_time": "2022-12-19T04:36:34.639Z"
   },
   {
    "duration": 3,
    "start_time": "2022-12-19T04:37:04.464Z"
   },
   {
    "duration": 23,
    "start_time": "2022-12-19T04:37:04.469Z"
   },
   {
    "duration": 11,
    "start_time": "2022-12-19T04:37:04.493Z"
   },
   {
    "duration": 25,
    "start_time": "2022-12-19T04:37:04.505Z"
   },
   {
    "duration": 91,
    "start_time": "2022-12-19T04:37:04.532Z"
   },
   {
    "duration": 17,
    "start_time": "2022-12-19T04:37:04.626Z"
   },
   {
    "duration": 7,
    "start_time": "2022-12-19T04:37:04.645Z"
   },
   {
    "duration": 19,
    "start_time": "2022-12-19T04:37:04.653Z"
   },
   {
    "duration": 144,
    "start_time": "2022-12-19T04:37:04.673Z"
   },
   {
    "duration": 14,
    "start_time": "2022-12-19T04:37:04.819Z"
   },
   {
    "duration": 5,
    "start_time": "2022-12-19T04:37:04.835Z"
   },
   {
    "duration": 13,
    "start_time": "2022-12-19T04:37:04.842Z"
   },
   {
    "duration": 4,
    "start_time": "2022-12-19T04:37:04.856Z"
   },
   {
    "duration": 6,
    "start_time": "2022-12-19T04:37:04.862Z"
   },
   {
    "duration": 8,
    "start_time": "2022-12-19T04:37:04.869Z"
   },
   {
    "duration": 4,
    "start_time": "2022-12-19T04:37:04.879Z"
   },
   {
    "duration": 54798,
    "start_time": "2022-12-19T04:37:04.885Z"
   },
   {
    "duration": 13,
    "start_time": "2022-12-19T04:37:59.685Z"
   },
   {
    "duration": 3,
    "start_time": "2022-12-19T04:37:59.700Z"
   },
   {
    "duration": 542,
    "start_time": "2022-12-19T04:37:59.705Z"
   },
   {
    "duration": 977,
    "start_time": "2022-12-19T04:38:00.248Z"
   },
   {
    "duration": 747,
    "start_time": "2022-12-19T04:38:01.227Z"
   },
   {
    "duration": 4,
    "start_time": "2022-12-19T04:38:01.975Z"
   },
   {
    "duration": 232,
    "start_time": "2022-12-19T04:38:01.980Z"
   },
   {
    "duration": 215,
    "start_time": "2022-12-19T04:38:02.214Z"
   },
   {
    "duration": 243,
    "start_time": "2022-12-19T04:38:02.430Z"
   },
   {
    "duration": 175,
    "start_time": "2022-12-19T04:43:46.438Z"
   },
   {
    "duration": 211,
    "start_time": "2022-12-19T04:44:03.894Z"
   },
   {
    "duration": 311,
    "start_time": "2022-12-19T04:44:34.313Z"
   },
   {
    "duration": 208,
    "start_time": "2022-12-19T04:44:46.827Z"
   },
   {
    "duration": 193,
    "start_time": "2022-12-19T04:44:48.493Z"
   },
   {
    "duration": 226,
    "start_time": "2022-12-19T04:47:48.360Z"
   },
   {
    "duration": 229,
    "start_time": "2022-12-19T04:49:12.355Z"
   },
   {
    "duration": 326,
    "start_time": "2022-12-19T04:49:37.110Z"
   },
   {
    "duration": 231,
    "start_time": "2022-12-19T04:49:46.997Z"
   },
   {
    "duration": 9,
    "start_time": "2022-12-19T04:50:11.545Z"
   },
   {
    "duration": 1223,
    "start_time": "2022-12-19T04:50:34.364Z"
   },
   {
    "duration": 6,
    "start_time": "2022-12-19T04:50:44.848Z"
   },
   {
    "duration": 20,
    "start_time": "2022-12-19T04:51:35.274Z"
   },
   {
    "duration": 5,
    "start_time": "2022-12-19T04:52:04.190Z"
   },
   {
    "duration": 97,
    "start_time": "2022-12-19T04:53:48.374Z"
   },
   {
    "duration": 70,
    "start_time": "2022-12-19T04:53:58.087Z"
   },
   {
    "duration": 13,
    "start_time": "2022-12-19T04:54:28.377Z"
   },
   {
    "duration": 5,
    "start_time": "2022-12-19T04:54:36.942Z"
   },
   {
    "duration": 5,
    "start_time": "2022-12-19T04:58:12.338Z"
   },
   {
    "duration": 4,
    "start_time": "2022-12-19T05:24:19.894Z"
   },
   {
    "duration": 3,
    "start_time": "2022-12-19T06:08:50.842Z"
   },
   {
    "duration": 3,
    "start_time": "2022-12-19T06:08:51.347Z"
   },
   {
    "duration": 3,
    "start_time": "2022-12-19T06:08:53.152Z"
   },
   {
    "duration": 94,
    "start_time": "2022-12-19T06:09:48.615Z"
   },
   {
    "duration": 9,
    "start_time": "2022-12-19T06:11:02.626Z"
   },
   {
    "duration": 9,
    "start_time": "2022-12-19T06:12:23.483Z"
   },
   {
    "duration": 53,
    "start_time": "2022-12-19T06:12:45.704Z"
   },
   {
    "duration": 14,
    "start_time": "2022-12-19T06:13:26.716Z"
   },
   {
    "duration": 20127,
    "start_time": "2022-12-19T06:13:34.421Z"
   },
   {
    "duration": 249347,
    "start_time": "2022-12-19T06:14:09.944Z"
   },
   {
    "duration": 1974,
    "start_time": "2022-12-19T06:19:25.600Z"
   },
   {
    "duration": 1318,
    "start_time": "2022-12-19T06:19:27.576Z"
   },
   {
    "duration": 3,
    "start_time": "2022-12-19T06:19:28.895Z"
   },
   {
    "duration": 8,
    "start_time": "2022-12-19T06:19:28.900Z"
   },
   {
    "duration": 1569,
    "start_time": "2022-12-19T06:19:28.909Z"
   },
   {
    "duration": 17,
    "start_time": "2022-12-19T06:19:30.480Z"
   },
   {
    "duration": 23,
    "start_time": "2022-12-19T06:19:30.499Z"
   },
   {
    "duration": 9515,
    "start_time": "2022-12-19T06:19:30.524Z"
   },
   {
    "duration": 3,
    "start_time": "2022-12-19T06:19:40.041Z"
   },
   {
    "duration": 17,
    "start_time": "2022-12-19T06:19:40.046Z"
   },
   {
    "duration": 0,
    "start_time": "2022-12-19T06:19:40.065Z"
   },
   {
    "duration": 0,
    "start_time": "2022-12-19T06:19:40.066Z"
   },
   {
    "duration": 0,
    "start_time": "2022-12-19T06:19:40.067Z"
   },
   {
    "duration": 0,
    "start_time": "2022-12-19T06:19:40.069Z"
   },
   {
    "duration": 0,
    "start_time": "2022-12-19T06:19:40.070Z"
   },
   {
    "duration": 0,
    "start_time": "2022-12-19T06:19:40.071Z"
   },
   {
    "duration": 0,
    "start_time": "2022-12-19T06:19:40.072Z"
   },
   {
    "duration": 0,
    "start_time": "2022-12-19T06:19:40.073Z"
   },
   {
    "duration": 0,
    "start_time": "2022-12-19T06:19:40.074Z"
   },
   {
    "duration": 0,
    "start_time": "2022-12-19T06:19:40.075Z"
   },
   {
    "duration": 0,
    "start_time": "2022-12-19T06:19:40.076Z"
   },
   {
    "duration": 0,
    "start_time": "2022-12-19T06:19:40.077Z"
   },
   {
    "duration": 0,
    "start_time": "2022-12-19T06:19:40.078Z"
   },
   {
    "duration": 0,
    "start_time": "2022-12-19T06:19:40.079Z"
   },
   {
    "duration": 0,
    "start_time": "2022-12-19T06:19:40.080Z"
   },
   {
    "duration": 0,
    "start_time": "2022-12-19T06:19:40.081Z"
   },
   {
    "duration": 0,
    "start_time": "2022-12-19T06:19:40.082Z"
   },
   {
    "duration": 0,
    "start_time": "2022-12-19T06:19:40.083Z"
   },
   {
    "duration": 0,
    "start_time": "2022-12-19T06:19:40.084Z"
   },
   {
    "duration": 0,
    "start_time": "2022-12-19T06:19:40.085Z"
   },
   {
    "duration": 0,
    "start_time": "2022-12-19T06:19:40.123Z"
   },
   {
    "duration": 0,
    "start_time": "2022-12-19T06:19:40.123Z"
   },
   {
    "duration": 0,
    "start_time": "2022-12-19T06:19:40.124Z"
   },
   {
    "duration": 0,
    "start_time": "2022-12-19T06:19:40.125Z"
   },
   {
    "duration": 1,
    "start_time": "2022-12-19T06:19:40.126Z"
   },
   {
    "duration": 0,
    "start_time": "2022-12-19T06:19:40.127Z"
   },
   {
    "duration": 0,
    "start_time": "2022-12-19T06:19:40.129Z"
   },
   {
    "duration": 0,
    "start_time": "2022-12-19T06:19:40.130Z"
   },
   {
    "duration": 0,
    "start_time": "2022-12-19T06:19:40.131Z"
   },
   {
    "duration": 0,
    "start_time": "2022-12-19T06:19:40.132Z"
   },
   {
    "duration": 0,
    "start_time": "2022-12-19T06:19:40.133Z"
   },
   {
    "duration": 0,
    "start_time": "2022-12-19T06:19:40.134Z"
   },
   {
    "duration": 0,
    "start_time": "2022-12-19T06:19:40.135Z"
   },
   {
    "duration": 2023,
    "start_time": "2022-12-19T06:19:57.032Z"
   },
   {
    "duration": 1343,
    "start_time": "2022-12-19T06:19:59.057Z"
   },
   {
    "duration": 3,
    "start_time": "2022-12-19T06:20:00.402Z"
   },
   {
    "duration": 31,
    "start_time": "2022-12-19T06:20:00.407Z"
   },
   {
    "duration": 1655,
    "start_time": "2022-12-19T06:20:00.440Z"
   },
   {
    "duration": 25,
    "start_time": "2022-12-19T06:20:02.097Z"
   },
   {
    "duration": 21,
    "start_time": "2022-12-19T06:20:02.124Z"
   },
   {
    "duration": 30687,
    "start_time": "2022-12-19T06:20:02.146Z"
   },
   {
    "duration": 2,
    "start_time": "2022-12-19T06:20:32.835Z"
   },
   {
    "duration": 15,
    "start_time": "2022-12-19T06:20:32.839Z"
   },
   {
    "duration": 8,
    "start_time": "2022-12-19T06:20:32.856Z"
   },
   {
    "duration": 16,
    "start_time": "2022-12-19T06:20:32.865Z"
   },
   {
    "duration": 106,
    "start_time": "2022-12-19T06:20:32.882Z"
   },
   {
    "duration": 16,
    "start_time": "2022-12-19T06:20:32.990Z"
   },
   {
    "duration": 19,
    "start_time": "2022-12-19T06:20:33.008Z"
   },
   {
    "duration": 14,
    "start_time": "2022-12-19T06:20:33.028Z"
   },
   {
    "duration": 130,
    "start_time": "2022-12-19T06:20:33.043Z"
   },
   {
    "duration": 84,
    "start_time": "2022-12-19T06:20:33.174Z"
   },
   {
    "duration": 7,
    "start_time": "2022-12-19T06:20:33.259Z"
   },
   {
    "duration": 10,
    "start_time": "2022-12-19T06:20:33.267Z"
   },
   {
    "duration": 3,
    "start_time": "2022-12-19T06:20:33.279Z"
   },
   {
    "duration": 6,
    "start_time": "2022-12-19T06:20:33.284Z"
   },
   {
    "duration": 7,
    "start_time": "2022-12-19T06:20:33.291Z"
   },
   {
    "duration": 5,
    "start_time": "2022-12-19T06:20:33.322Z"
   },
   {
    "duration": 58733,
    "start_time": "2022-12-19T06:20:33.328Z"
   },
   {
    "duration": 12,
    "start_time": "2022-12-19T06:21:32.063Z"
   },
   {
    "duration": 4,
    "start_time": "2022-12-19T06:21:32.076Z"
   },
   {
    "duration": 536,
    "start_time": "2022-12-19T06:21:32.082Z"
   },
   {
    "duration": 997,
    "start_time": "2022-12-19T06:21:32.621Z"
   },
   {
    "duration": 846,
    "start_time": "2022-12-19T06:21:33.619Z"
   },
   {
    "duration": 3,
    "start_time": "2022-12-19T06:21:34.467Z"
   },
   {
    "duration": 253,
    "start_time": "2022-12-19T06:21:34.471Z"
   },
   {
    "duration": 214,
    "start_time": "2022-12-19T06:21:34.726Z"
   },
   {
    "duration": 250,
    "start_time": "2022-12-19T06:21:34.942Z"
   },
   {
    "duration": 8,
    "start_time": "2022-12-19T06:21:35.194Z"
   },
   {
    "duration": 18,
    "start_time": "2022-12-19T06:21:35.204Z"
   },
   {
    "duration": 6,
    "start_time": "2022-12-19T06:21:35.224Z"
   },
   {
    "duration": 6,
    "start_time": "2022-12-19T06:21:35.231Z"
   },
   {
    "duration": 7,
    "start_time": "2022-12-19T06:21:35.239Z"
   },
   {
    "duration": 15,
    "start_time": "2022-12-19T06:21:35.247Z"
   },
   {
    "duration": 3,
    "start_time": "2022-12-19T06:21:35.263Z"
   },
   {
    "duration": 1310880,
    "start_time": "2022-12-19T06:21:35.268Z"
   },
   {
    "duration": 6,
    "start_time": "2022-12-19T06:43:26.149Z"
   },
   {
    "duration": 6,
    "start_time": "2022-12-19T06:43:59.450Z"
   },
   {
    "duration": 33,
    "start_time": "2022-12-19T06:44:08.265Z"
   },
   {
    "duration": 133,
    "start_time": "2022-12-19T06:44:32.541Z"
   },
   {
    "duration": 247,
    "start_time": "2022-12-19T06:45:49.797Z"
   },
   {
    "duration": 213,
    "start_time": "2022-12-19T06:45:53.132Z"
   },
   {
    "duration": 230,
    "start_time": "2022-12-19T06:46:20.239Z"
   },
   {
    "duration": 227,
    "start_time": "2022-12-19T06:46:28.717Z"
   },
   {
    "duration": 839,
    "start_time": "2022-12-19T06:46:34.907Z"
   },
   {
    "duration": 242,
    "start_time": "2022-12-19T06:46:45.636Z"
   },
   {
    "duration": 480,
    "start_time": "2022-12-19T06:46:54.966Z"
   },
   {
    "duration": 245,
    "start_time": "2022-12-19T06:47:01.712Z"
   },
   {
    "duration": 219,
    "start_time": "2022-12-19T06:47:13.564Z"
   },
   {
    "duration": 322,
    "start_time": "2022-12-19T06:47:17.737Z"
   },
   {
    "duration": 232,
    "start_time": "2022-12-19T06:47:22.004Z"
   },
   {
    "duration": 229,
    "start_time": "2022-12-19T06:47:56.155Z"
   },
   {
    "duration": 255,
    "start_time": "2022-12-19T06:48:04.771Z"
   },
   {
    "duration": 222,
    "start_time": "2022-12-19T06:48:11.848Z"
   },
   {
    "duration": 65,
    "start_time": "2022-12-19T06:49:11.640Z"
   },
   {
    "duration": 69,
    "start_time": "2022-12-19T06:49:16.728Z"
   },
   {
    "duration": 277,
    "start_time": "2022-12-19T06:49:46.802Z"
   },
   {
    "duration": 244,
    "start_time": "2022-12-19T06:50:01.380Z"
   },
   {
    "duration": 6439,
    "start_time": "2022-12-19T06:55:19.892Z"
   },
   {
    "duration": 4,
    "start_time": "2022-12-19T06:55:31.984Z"
   },
   {
    "duration": 993014,
    "start_time": "2022-12-19T06:55:34.420Z"
   },
   {
    "duration": 8,
    "start_time": "2022-12-19T07:17:10.780Z"
   },
   {
    "duration": 271,
    "start_time": "2022-12-19T07:17:11.367Z"
   },
   {
    "duration": 16,
    "start_time": "2022-12-19T07:17:32.860Z"
   },
   {
    "duration": 32,
    "start_time": "2022-12-19T07:17:59.726Z"
   },
   {
    "duration": 5,
    "start_time": "2022-12-19T07:32:58.859Z"
   },
   {
    "duration": 4,
    "start_time": "2022-12-19T07:33:06.764Z"
   },
   {
    "duration": 5,
    "start_time": "2022-12-19T07:33:14.034Z"
   },
   {
    "duration": 4,
    "start_time": "2022-12-19T07:33:53.075Z"
   },
   {
    "duration": 5,
    "start_time": "2022-12-19T07:34:05.922Z"
   },
   {
    "duration": 11,
    "start_time": "2022-12-19T07:34:53.398Z"
   },
   {
    "duration": 15,
    "start_time": "2022-12-19T07:35:33.232Z"
   },
   {
    "duration": 10,
    "start_time": "2022-12-19T07:36:09.383Z"
   },
   {
    "duration": 25,
    "start_time": "2022-12-19T07:36:10.262Z"
   },
   {
    "duration": 26,
    "start_time": "2022-12-19T07:36:25.663Z"
   },
   {
    "duration": 9,
    "start_time": "2022-12-19T07:36:35.665Z"
   },
   {
    "duration": 26,
    "start_time": "2022-12-19T07:36:35.903Z"
   },
   {
    "duration": 11,
    "start_time": "2022-12-19T07:37:03.365Z"
   },
   {
    "duration": 100,
    "start_time": "2022-12-19T08:09:29.940Z"
   },
   {
    "duration": 5,
    "start_time": "2022-12-19T08:09:33.688Z"
   },
   {
    "duration": 4,
    "start_time": "2022-12-19T08:09:39.420Z"
   },
   {
    "duration": 5,
    "start_time": "2022-12-19T08:09:44.426Z"
   },
   {
    "duration": 9,
    "start_time": "2022-12-19T08:10:21.763Z"
   },
   {
    "duration": 6,
    "start_time": "2022-12-19T08:10:30.201Z"
   },
   {
    "duration": 1197,
    "start_time": "2022-12-19T08:10:43.799Z"
   },
   {
    "duration": 7,
    "start_time": "2022-12-19T08:10:50.620Z"
   },
   {
    "duration": 5,
    "start_time": "2022-12-19T08:11:00.027Z"
   },
   {
    "duration": 7,
    "start_time": "2022-12-19T08:11:48.627Z"
   },
   {
    "duration": 4,
    "start_time": "2022-12-19T08:12:01.372Z"
   },
   {
    "duration": 20,
    "start_time": "2022-12-19T08:12:09.721Z"
   },
   {
    "duration": 8,
    "start_time": "2022-12-19T08:12:26.410Z"
   },
   {
    "duration": 9,
    "start_time": "2022-12-19T08:13:15.330Z"
   },
   {
    "duration": 5,
    "start_time": "2022-12-19T08:13:18.099Z"
   },
   {
    "duration": 10,
    "start_time": "2022-12-19T08:13:18.455Z"
   },
   {
    "duration": 3,
    "start_time": "2022-12-19T08:16:40.776Z"
   },
   {
    "duration": 4,
    "start_time": "2022-12-19T08:16:47.881Z"
   },
   {
    "duration": 4,
    "start_time": "2022-12-19T08:16:51.816Z"
   },
   {
    "duration": 70,
    "start_time": "2022-12-19T08:19:24.615Z"
   },
   {
    "duration": 11,
    "start_time": "2022-12-19T08:26:36.000Z"
   },
   {
    "duration": 8,
    "start_time": "2022-12-19T08:26:46.031Z"
   },
   {
    "duration": 6,
    "start_time": "2022-12-19T08:26:56.809Z"
   },
   {
    "duration": 5,
    "start_time": "2022-12-19T08:27:08.183Z"
   },
   {
    "duration": 7,
    "start_time": "2022-12-19T09:07:35.216Z"
   },
   {
    "duration": 34,
    "start_time": "2022-12-19T09:07:35.596Z"
   },
   {
    "duration": 233,
    "start_time": "2022-12-19T09:07:36.899Z"
   },
   {
    "duration": 343,
    "start_time": "2022-12-19T09:09:56.855Z"
   },
   {
    "duration": 268,
    "start_time": "2022-12-19T09:10:28.282Z"
   },
   {
    "duration": 276,
    "start_time": "2022-12-19T09:12:27.075Z"
   },
   {
    "duration": 4,
    "start_time": "2022-12-19T09:22:47.742Z"
   },
   {
    "duration": 2009,
    "start_time": "2022-12-19T09:57:27.267Z"
   },
   {
    "duration": 1354,
    "start_time": "2022-12-19T09:57:29.278Z"
   },
   {
    "duration": 3,
    "start_time": "2022-12-19T09:57:30.634Z"
   },
   {
    "duration": 38,
    "start_time": "2022-12-19T09:57:30.639Z"
   },
   {
    "duration": 1356,
    "start_time": "2022-12-19T09:57:30.679Z"
   },
   {
    "duration": 20,
    "start_time": "2022-12-19T09:57:32.037Z"
   },
   {
    "duration": 9,
    "start_time": "2022-12-19T09:57:32.059Z"
   },
   {
    "duration": 31321,
    "start_time": "2022-12-19T09:57:32.070Z"
   },
   {
    "duration": 3,
    "start_time": "2022-12-19T09:58:03.392Z"
   },
   {
    "duration": 26,
    "start_time": "2022-12-19T09:58:03.397Z"
   },
   {
    "duration": 9,
    "start_time": "2022-12-19T09:58:03.425Z"
   },
   {
    "duration": 17,
    "start_time": "2022-12-19T09:58:03.436Z"
   },
   {
    "duration": 111,
    "start_time": "2022-12-19T09:58:03.455Z"
   },
   {
    "duration": 18,
    "start_time": "2022-12-19T09:58:03.568Z"
   },
   {
    "duration": 8,
    "start_time": "2022-12-19T09:58:03.588Z"
   },
   {
    "duration": 35,
    "start_time": "2022-12-19T09:58:03.598Z"
   },
   {
    "duration": 133,
    "start_time": "2022-12-19T09:58:03.635Z"
   },
   {
    "duration": 103,
    "start_time": "2022-12-19T09:58:03.770Z"
   },
   {
    "duration": 7,
    "start_time": "2022-12-19T09:58:03.875Z"
   },
   {
    "duration": 14,
    "start_time": "2022-12-19T09:58:03.884Z"
   },
   {
    "duration": 4,
    "start_time": "2022-12-19T09:58:03.899Z"
   },
   {
    "duration": 18,
    "start_time": "2022-12-19T09:58:03.905Z"
   },
   {
    "duration": 8,
    "start_time": "2022-12-19T09:58:03.925Z"
   },
   {
    "duration": 6,
    "start_time": "2022-12-19T09:58:03.935Z"
   },
   {
    "duration": 61682,
    "start_time": "2022-12-19T09:58:03.942Z"
   },
   {
    "duration": 13,
    "start_time": "2022-12-19T09:59:05.626Z"
   },
   {
    "duration": 28,
    "start_time": "2022-12-19T09:59:05.640Z"
   },
   {
    "duration": 496,
    "start_time": "2022-12-19T09:59:05.672Z"
   },
   {
    "duration": 1033,
    "start_time": "2022-12-19T09:59:06.170Z"
   },
   {
    "duration": 786,
    "start_time": "2022-12-19T09:59:07.205Z"
   },
   {
    "duration": 3,
    "start_time": "2022-12-19T09:59:07.993Z"
   },
   {
    "duration": 254,
    "start_time": "2022-12-19T09:59:07.997Z"
   },
   {
    "duration": 212,
    "start_time": "2022-12-19T09:59:08.253Z"
   },
   {
    "duration": 263,
    "start_time": "2022-12-19T09:59:08.467Z"
   },
   {
    "duration": 10,
    "start_time": "2022-12-19T09:59:08.732Z"
   },
   {
    "duration": 11,
    "start_time": "2022-12-19T09:59:08.743Z"
   },
   {
    "duration": 10,
    "start_time": "2022-12-19T09:59:08.755Z"
   },
   {
    "duration": 3,
    "start_time": "2022-12-19T09:59:08.767Z"
   },
   {
    "duration": 7,
    "start_time": "2022-12-19T09:59:08.772Z"
   },
   {
    "duration": 20,
    "start_time": "2022-12-19T09:59:08.780Z"
   },
   {
    "duration": 20,
    "start_time": "2022-12-19T09:59:08.802Z"
   },
   {
    "duration": 211,
    "start_time": "2022-12-19T09:59:08.824Z"
   },
   {
    "duration": 5,
    "start_time": "2022-12-19T09:59:09.037Z"
   },
   {
    "duration": 14,
    "start_time": "2022-12-19T09:59:09.044Z"
   },
   {
    "duration": 321,
    "start_time": "2022-12-19T09:59:09.059Z"
   },
   {
    "duration": 10,
    "start_time": "2022-12-19T09:59:09.382Z"
   },
   {
    "duration": 31,
    "start_time": "2022-12-19T09:59:09.393Z"
   },
   {
    "duration": 0,
    "start_time": "2022-12-19T09:59:09.425Z"
   },
   {
    "duration": 0,
    "start_time": "2022-12-19T09:59:09.427Z"
   },
   {
    "duration": 0,
    "start_time": "2022-12-19T09:59:09.428Z"
   },
   {
    "duration": 0,
    "start_time": "2022-12-19T09:59:09.429Z"
   },
   {
    "duration": 108,
    "start_time": "2022-12-19T10:02:03.506Z"
   },
   {
    "duration": 4,
    "start_time": "2022-12-19T10:02:29.101Z"
   },
   {
    "duration": 216,
    "start_time": "2022-12-19T10:02:30.559Z"
   },
   {
    "duration": 2095,
    "start_time": "2022-12-19T10:03:58.031Z"
   },
   {
    "duration": 1452,
    "start_time": "2022-12-19T10:04:00.128Z"
   },
   {
    "duration": 4,
    "start_time": "2022-12-19T10:04:01.582Z"
   },
   {
    "duration": 15,
    "start_time": "2022-12-19T10:04:01.588Z"
   },
   {
    "duration": 1543,
    "start_time": "2022-12-19T10:04:01.606Z"
   },
   {
    "duration": 21,
    "start_time": "2022-12-19T10:04:03.151Z"
   },
   {
    "duration": 11,
    "start_time": "2022-12-19T10:04:03.174Z"
   },
   {
    "duration": 31683,
    "start_time": "2022-12-19T10:04:03.187Z"
   },
   {
    "duration": 3,
    "start_time": "2022-12-19T10:04:34.871Z"
   },
   {
    "duration": 16,
    "start_time": "2022-12-19T10:04:34.877Z"
   },
   {
    "duration": 27,
    "start_time": "2022-12-19T10:04:34.895Z"
   },
   {
    "duration": 20,
    "start_time": "2022-12-19T10:04:34.924Z"
   },
   {
    "duration": 107,
    "start_time": "2022-12-19T10:04:34.946Z"
   },
   {
    "duration": 16,
    "start_time": "2022-12-19T10:04:35.055Z"
   },
   {
    "duration": 8,
    "start_time": "2022-12-19T10:04:35.073Z"
   },
   {
    "duration": 18,
    "start_time": "2022-12-19T10:04:35.082Z"
   },
   {
    "duration": 149,
    "start_time": "2022-12-19T10:04:35.101Z"
   },
   {
    "duration": 98,
    "start_time": "2022-12-19T10:04:35.252Z"
   },
   {
    "duration": 11,
    "start_time": "2022-12-19T10:04:35.352Z"
   },
   {
    "duration": 11,
    "start_time": "2022-12-19T10:04:35.364Z"
   },
   {
    "duration": 4,
    "start_time": "2022-12-19T10:04:35.377Z"
   },
   {
    "duration": 6,
    "start_time": "2022-12-19T10:04:35.382Z"
   },
   {
    "duration": 10,
    "start_time": "2022-12-19T10:04:35.389Z"
   },
   {
    "duration": 24,
    "start_time": "2022-12-19T10:04:35.400Z"
   },
   {
    "duration": 62373,
    "start_time": "2022-12-19T10:04:35.426Z"
   },
   {
    "duration": 22,
    "start_time": "2022-12-19T10:05:37.801Z"
   },
   {
    "duration": 4,
    "start_time": "2022-12-19T10:05:37.824Z"
   },
   {
    "duration": 504,
    "start_time": "2022-12-19T10:05:37.832Z"
   },
   {
    "duration": 1049,
    "start_time": "2022-12-19T10:05:38.338Z"
   },
   {
    "duration": 786,
    "start_time": "2022-12-19T10:05:39.388Z"
   },
   {
    "duration": 3,
    "start_time": "2022-12-19T10:05:40.176Z"
   },
   {
    "duration": 254,
    "start_time": "2022-12-19T10:05:40.181Z"
   },
   {
    "duration": 220,
    "start_time": "2022-12-19T10:05:40.436Z"
   },
   {
    "duration": 272,
    "start_time": "2022-12-19T10:05:40.657Z"
   },
   {
    "duration": 9,
    "start_time": "2022-12-19T10:05:40.931Z"
   },
   {
    "duration": 9,
    "start_time": "2022-12-19T10:05:40.942Z"
   },
   {
    "duration": 8,
    "start_time": "2022-12-19T10:05:40.953Z"
   },
   {
    "duration": 4,
    "start_time": "2022-12-19T10:05:40.963Z"
   },
   {
    "duration": 5,
    "start_time": "2022-12-19T10:05:40.968Z"
   },
   {
    "duration": 15,
    "start_time": "2022-12-19T10:05:40.975Z"
   },
   {
    "duration": 3,
    "start_time": "2022-12-19T10:05:40.992Z"
   },
   {
    "duration": 219,
    "start_time": "2022-12-19T10:05:45.073Z"
   },
   {
    "duration": 4,
    "start_time": "2022-12-19T10:06:19.507Z"
   },
   {
    "duration": 1051808,
    "start_time": "2022-12-19T10:06:20.437Z"
   },
   {
    "duration": 6,
    "start_time": "2022-12-19T10:29:06.796Z"
   },
   {
    "duration": 32,
    "start_time": "2022-12-19T10:29:07.228Z"
   },
   {
    "duration": 386,
    "start_time": "2022-12-19T10:29:09.878Z"
   },
   {
    "duration": 16,
    "start_time": "2022-12-19T10:29:18.677Z"
   },
   {
    "duration": 3,
    "start_time": "2022-12-19T10:29:22.438Z"
   },
   {
    "duration": 11,
    "start_time": "2022-12-19T10:30:55.735Z"
   },
   {
    "duration": 10,
    "start_time": "2022-12-19T10:30:56.095Z"
   },
   {
    "duration": 2,
    "start_time": "2022-12-19T10:31:10.313Z"
   },
   {
    "duration": 10,
    "start_time": "2022-12-19T10:31:11.100Z"
   },
   {
    "duration": 28,
    "start_time": "2022-12-19T10:31:11.470Z"
   },
   {
    "duration": 4,
    "start_time": "2022-12-19T10:31:12.643Z"
   },
   {
    "duration": 8,
    "start_time": "2022-12-19T10:31:13.415Z"
   },
   {
    "duration": 2099,
    "start_time": "2022-12-19T10:31:36.817Z"
   },
   {
    "duration": 1487,
    "start_time": "2022-12-19T10:31:38.919Z"
   },
   {
    "duration": 4,
    "start_time": "2022-12-19T10:31:40.408Z"
   },
   {
    "duration": 12,
    "start_time": "2022-12-19T10:31:40.413Z"
   },
   {
    "duration": 1100,
    "start_time": "2022-12-19T10:31:40.427Z"
   },
   {
    "duration": 19,
    "start_time": "2022-12-19T10:31:41.529Z"
   },
   {
    "duration": 9,
    "start_time": "2022-12-19T10:31:41.549Z"
   },
   {
    "duration": 34248,
    "start_time": "2022-12-19T10:31:41.560Z"
   },
   {
    "duration": 3,
    "start_time": "2022-12-19T10:32:15.811Z"
   },
   {
    "duration": 35,
    "start_time": "2022-12-19T10:32:15.822Z"
   },
   {
    "duration": 33,
    "start_time": "2022-12-19T10:32:15.859Z"
   },
   {
    "duration": 45,
    "start_time": "2022-12-19T10:32:15.894Z"
   },
   {
    "duration": 95,
    "start_time": "2022-12-19T10:32:15.941Z"
   },
   {
    "duration": 17,
    "start_time": "2022-12-19T10:32:16.040Z"
   },
   {
    "duration": 9,
    "start_time": "2022-12-19T10:32:16.059Z"
   },
   {
    "duration": 16,
    "start_time": "2022-12-19T10:32:16.069Z"
   },
   {
    "duration": 221,
    "start_time": "2022-12-19T10:32:16.087Z"
   },
   {
    "duration": 22,
    "start_time": "2022-12-19T10:32:16.310Z"
   },
   {
    "duration": 31,
    "start_time": "2022-12-19T10:32:16.334Z"
   },
   {
    "duration": 29,
    "start_time": "2022-12-19T10:32:16.367Z"
   },
   {
    "duration": 32,
    "start_time": "2022-12-19T10:32:16.397Z"
   },
   {
    "duration": 24,
    "start_time": "2022-12-19T10:32:16.431Z"
   },
   {
    "duration": 31,
    "start_time": "2022-12-19T10:32:16.457Z"
   },
   {
    "duration": 22,
    "start_time": "2022-12-19T10:32:16.489Z"
   },
   {
    "duration": 65720,
    "start_time": "2022-12-19T10:32:16.513Z"
   },
   {
    "duration": 14,
    "start_time": "2022-12-19T10:33:22.235Z"
   },
   {
    "duration": 6,
    "start_time": "2022-12-19T10:33:22.250Z"
   },
   {
    "duration": 488,
    "start_time": "2022-12-19T10:33:22.258Z"
   },
   {
    "duration": 1075,
    "start_time": "2022-12-19T10:33:22.748Z"
   },
   {
    "duration": 928,
    "start_time": "2022-12-19T10:33:23.826Z"
   },
   {
    "duration": 4,
    "start_time": "2022-12-19T10:33:24.756Z"
   },
   {
    "duration": 274,
    "start_time": "2022-12-19T10:33:24.762Z"
   },
   {
    "duration": 221,
    "start_time": "2022-12-19T10:33:25.037Z"
   },
   {
    "duration": 273,
    "start_time": "2022-12-19T10:33:25.260Z"
   },
   {
    "duration": 10,
    "start_time": "2022-12-19T10:33:25.535Z"
   },
   {
    "duration": 10,
    "start_time": "2022-12-19T10:33:25.547Z"
   },
   {
    "duration": 16,
    "start_time": "2022-12-19T10:33:25.558Z"
   },
   {
    "duration": 5,
    "start_time": "2022-12-19T10:33:25.576Z"
   },
   {
    "duration": 13,
    "start_time": "2022-12-19T10:33:25.582Z"
   },
   {
    "duration": 32,
    "start_time": "2022-12-19T10:33:25.597Z"
   },
   {
    "duration": 4,
    "start_time": "2022-12-19T10:33:25.633Z"
   },
   {
    "duration": 3408,
    "start_time": "2022-12-19T11:04:59.913Z"
   },
   {
    "duration": 1540,
    "start_time": "2022-12-19T11:05:03.323Z"
   },
   {
    "duration": 3,
    "start_time": "2022-12-19T11:05:04.865Z"
   },
   {
    "duration": 8,
    "start_time": "2022-12-19T11:05:04.871Z"
   },
   {
    "duration": 1470,
    "start_time": "2022-12-19T11:05:04.880Z"
   },
   {
    "duration": 17,
    "start_time": "2022-12-19T11:05:06.351Z"
   },
   {
    "duration": 8,
    "start_time": "2022-12-19T11:05:06.370Z"
   },
   {
    "duration": 27563,
    "start_time": "2022-12-19T11:05:06.380Z"
   },
   {
    "duration": 3,
    "start_time": "2022-12-19T11:05:33.945Z"
   },
   {
    "duration": 28,
    "start_time": "2022-12-19T11:05:33.950Z"
   },
   {
    "duration": 41,
    "start_time": "2022-12-19T11:05:33.980Z"
   },
   {
    "duration": 77,
    "start_time": "2022-12-19T11:05:34.022Z"
   },
   {
    "duration": 88,
    "start_time": "2022-12-19T11:05:34.101Z"
   },
   {
    "duration": 15,
    "start_time": "2022-12-19T11:05:34.191Z"
   },
   {
    "duration": 44,
    "start_time": "2022-12-19T11:05:34.208Z"
   },
   {
    "duration": 44,
    "start_time": "2022-12-19T11:05:34.254Z"
   },
   {
    "duration": 145,
    "start_time": "2022-12-19T11:05:34.299Z"
   },
   {
    "duration": 11,
    "start_time": "2022-12-19T11:05:34.446Z"
   },
   {
    "duration": 14,
    "start_time": "2022-12-19T11:05:34.459Z"
   },
   {
    "duration": 21,
    "start_time": "2022-12-19T11:05:34.475Z"
   },
   {
    "duration": 14,
    "start_time": "2022-12-19T11:05:34.498Z"
   },
   {
    "duration": 6,
    "start_time": "2022-12-19T11:05:34.514Z"
   },
   {
    "duration": 17,
    "start_time": "2022-12-19T11:05:34.521Z"
   },
   {
    "duration": 18,
    "start_time": "2022-12-19T11:05:34.540Z"
   },
   {
    "duration": 30867,
    "start_time": "2022-12-19T11:05:34.560Z"
   },
   {
    "duration": 15,
    "start_time": "2022-12-19T11:06:05.428Z"
   },
   {
    "duration": 10,
    "start_time": "2022-12-19T11:06:05.445Z"
   },
   {
    "duration": 476,
    "start_time": "2022-12-19T11:06:05.460Z"
   },
   {
    "duration": 896,
    "start_time": "2022-12-19T11:06:05.938Z"
   },
   {
    "duration": 700,
    "start_time": "2022-12-19T11:06:06.836Z"
   },
   {
    "duration": 3,
    "start_time": "2022-12-19T11:06:07.537Z"
   },
   {
    "duration": 228,
    "start_time": "2022-12-19T11:06:07.541Z"
   },
   {
    "duration": 191,
    "start_time": "2022-12-19T11:06:07.771Z"
   },
   {
    "duration": 233,
    "start_time": "2022-12-19T11:06:07.963Z"
   },
   {
    "duration": 8,
    "start_time": "2022-12-19T11:06:08.198Z"
   },
   {
    "duration": 24,
    "start_time": "2022-12-19T11:06:08.208Z"
   },
   {
    "duration": 13,
    "start_time": "2022-12-19T11:06:08.234Z"
   },
   {
    "duration": 7,
    "start_time": "2022-12-19T11:06:08.248Z"
   },
   {
    "duration": 11,
    "start_time": "2022-12-19T11:06:08.257Z"
   },
   {
    "duration": 22,
    "start_time": "2022-12-19T11:06:08.270Z"
   },
   {
    "duration": 5,
    "start_time": "2022-12-19T11:06:08.293Z"
   },
   {
    "duration": 995678,
    "start_time": "2022-12-19T11:06:08.300Z"
   },
   {
    "duration": 5,
    "start_time": "2022-12-19T11:22:43.979Z"
   },
   {
    "duration": 41,
    "start_time": "2022-12-19T11:22:43.986Z"
   },
   {
    "duration": 355,
    "start_time": "2022-12-19T11:22:44.029Z"
   },
   {
    "duration": 15,
    "start_time": "2022-12-19T11:22:44.385Z"
   },
   {
    "duration": 7,
    "start_time": "2022-12-19T11:22:44.402Z"
   },
   {
    "duration": 18,
    "start_time": "2022-12-19T11:22:44.410Z"
   },
   {
    "duration": 30,
    "start_time": "2022-12-19T11:22:44.430Z"
   },
   {
    "duration": 4,
    "start_time": "2022-12-19T11:22:44.461Z"
   },
   {
    "duration": 28,
    "start_time": "2022-12-19T11:22:44.467Z"
   },
   {
    "duration": 2066,
    "start_time": "2022-12-19T11:25:58.600Z"
   },
   {
    "duration": 1338,
    "start_time": "2022-12-19T11:26:00.668Z"
   },
   {
    "duration": 3,
    "start_time": "2022-12-19T11:26:02.008Z"
   },
   {
    "duration": 55,
    "start_time": "2022-12-19T11:26:02.013Z"
   },
   {
    "duration": 1398,
    "start_time": "2022-12-19T11:26:02.069Z"
   },
   {
    "duration": 17,
    "start_time": "2022-12-19T11:26:03.469Z"
   },
   {
    "duration": 32,
    "start_time": "2022-12-19T11:26:03.487Z"
   },
   {
    "duration": 27638,
    "start_time": "2022-12-19T11:26:03.521Z"
   },
   {
    "duration": 3,
    "start_time": "2022-12-19T11:26:31.161Z"
   },
   {
    "duration": 41,
    "start_time": "2022-12-19T11:26:31.166Z"
   },
   {
    "duration": 16,
    "start_time": "2022-12-19T11:26:31.208Z"
   },
   {
    "duration": 33,
    "start_time": "2022-12-19T11:26:31.226Z"
   },
   {
    "duration": 106,
    "start_time": "2022-12-19T11:26:31.261Z"
   },
   {
    "duration": 14,
    "start_time": "2022-12-19T11:26:31.369Z"
   },
   {
    "duration": 28,
    "start_time": "2022-12-19T11:26:31.384Z"
   },
   {
    "duration": 30,
    "start_time": "2022-12-19T11:26:31.414Z"
   },
   {
    "duration": 130,
    "start_time": "2022-12-19T11:26:31.446Z"
   },
   {
    "duration": 74,
    "start_time": "2022-12-19T11:26:31.577Z"
   },
   {
    "duration": 6,
    "start_time": "2022-12-19T11:26:31.653Z"
   },
   {
    "duration": 17,
    "start_time": "2022-12-19T11:26:31.660Z"
   },
   {
    "duration": 13,
    "start_time": "2022-12-19T11:26:31.678Z"
   },
   {
    "duration": 14,
    "start_time": "2022-12-19T11:26:31.692Z"
   },
   {
    "duration": 18,
    "start_time": "2022-12-19T11:26:31.707Z"
   },
   {
    "duration": 8,
    "start_time": "2022-12-19T11:26:31.727Z"
   },
   {
    "duration": 30343,
    "start_time": "2022-12-19T11:26:31.737Z"
   },
   {
    "duration": 12,
    "start_time": "2022-12-19T11:27:02.082Z"
   },
   {
    "duration": 21,
    "start_time": "2022-12-19T11:27:02.095Z"
   },
   {
    "duration": 478,
    "start_time": "2022-12-19T11:27:02.119Z"
   },
   {
    "duration": 939,
    "start_time": "2022-12-19T11:27:02.599Z"
   },
   {
    "duration": 689,
    "start_time": "2022-12-19T11:27:03.540Z"
   },
   {
    "duration": 2,
    "start_time": "2022-12-19T11:27:04.231Z"
   },
   {
    "duration": 251,
    "start_time": "2022-12-19T11:27:04.235Z"
   },
   {
    "duration": 196,
    "start_time": "2022-12-19T11:27:04.488Z"
   },
   {
    "duration": 241,
    "start_time": "2022-12-19T11:27:04.685Z"
   },
   {
    "duration": 8,
    "start_time": "2022-12-19T11:27:04.927Z"
   },
   {
    "duration": 14,
    "start_time": "2022-12-19T11:27:04.937Z"
   },
   {
    "duration": 9,
    "start_time": "2022-12-19T11:27:04.952Z"
   },
   {
    "duration": 30,
    "start_time": "2022-12-19T11:27:04.962Z"
   },
   {
    "duration": 12,
    "start_time": "2022-12-19T11:27:04.994Z"
   },
   {
    "duration": 16,
    "start_time": "2022-12-19T11:27:05.007Z"
   },
   {
    "duration": 3,
    "start_time": "2022-12-19T11:27:05.025Z"
   },
   {
    "duration": 994914,
    "start_time": "2022-12-19T11:27:05.029Z"
   },
   {
    "duration": 5,
    "start_time": "2022-12-19T11:43:39.946Z"
   },
   {
    "duration": 37,
    "start_time": "2022-12-19T11:43:39.953Z"
   },
   {
    "duration": 376,
    "start_time": "2022-12-19T11:43:39.992Z"
   },
   {
    "duration": 15,
    "start_time": "2022-12-19T11:43:40.369Z"
   },
   {
    "duration": 7,
    "start_time": "2022-12-19T11:43:40.385Z"
   },
   {
    "duration": 12,
    "start_time": "2022-12-19T11:43:40.393Z"
   },
   {
    "duration": 27,
    "start_time": "2022-12-19T11:43:40.406Z"
   },
   {
    "duration": 4,
    "start_time": "2022-12-19T11:43:40.435Z"
   },
   {
    "duration": 9,
    "start_time": "2022-12-19T11:43:40.440Z"
   },
   {
    "duration": 1978,
    "start_time": "2022-12-19T11:46:37.075Z"
   },
   {
    "duration": 1227,
    "start_time": "2022-12-19T11:46:39.055Z"
   },
   {
    "duration": 3,
    "start_time": "2022-12-19T11:46:40.284Z"
   },
   {
    "duration": 12,
    "start_time": "2022-12-19T11:46:40.289Z"
   },
   {
    "duration": 1387,
    "start_time": "2022-12-19T11:46:40.302Z"
   },
   {
    "duration": 17,
    "start_time": "2022-12-19T11:46:41.690Z"
   },
   {
    "duration": 18,
    "start_time": "2022-12-19T11:46:41.708Z"
   },
   {
    "duration": 27767,
    "start_time": "2022-12-19T11:46:41.728Z"
   },
   {
    "duration": 3,
    "start_time": "2022-12-19T11:47:09.496Z"
   },
   {
    "duration": 27,
    "start_time": "2022-12-19T11:47:09.501Z"
   },
   {
    "duration": 8,
    "start_time": "2022-12-19T11:47:09.529Z"
   },
   {
    "duration": 15,
    "start_time": "2022-12-19T11:47:09.539Z"
   },
   {
    "duration": 98,
    "start_time": "2022-12-19T11:47:09.556Z"
   },
   {
    "duration": 15,
    "start_time": "2022-12-19T11:47:09.656Z"
   },
   {
    "duration": 8,
    "start_time": "2022-12-19T11:47:09.672Z"
   },
   {
    "duration": 17,
    "start_time": "2022-12-19T11:47:09.681Z"
   },
   {
    "duration": 134,
    "start_time": "2022-12-19T11:47:09.700Z"
   },
   {
    "duration": 90,
    "start_time": "2022-12-19T11:47:09.835Z"
   },
   {
    "duration": 7,
    "start_time": "2022-12-19T11:47:09.927Z"
   },
   {
    "duration": 32,
    "start_time": "2022-12-19T11:47:09.936Z"
   },
   {
    "duration": 15,
    "start_time": "2022-12-19T11:47:09.969Z"
   },
   {
    "duration": 10,
    "start_time": "2022-12-19T11:47:09.985Z"
   },
   {
    "duration": 8,
    "start_time": "2022-12-19T11:47:09.996Z"
   },
   {
    "duration": 5,
    "start_time": "2022-12-19T11:47:10.005Z"
   },
   {
    "duration": 31225,
    "start_time": "2022-12-19T11:47:10.011Z"
   },
   {
    "duration": 13,
    "start_time": "2022-12-19T11:47:41.238Z"
   },
   {
    "duration": 6,
    "start_time": "2022-12-19T11:47:41.252Z"
   },
   {
    "duration": 460,
    "start_time": "2022-12-19T11:47:41.261Z"
   },
   {
    "duration": 952,
    "start_time": "2022-12-19T11:47:41.723Z"
   },
   {
    "duration": 707,
    "start_time": "2022-12-19T11:47:42.677Z"
   },
   {
    "duration": 2,
    "start_time": "2022-12-19T11:47:43.386Z"
   },
   {
    "duration": 219,
    "start_time": "2022-12-19T11:47:43.390Z"
   },
   {
    "duration": 191,
    "start_time": "2022-12-19T11:47:43.611Z"
   },
   {
    "duration": 238,
    "start_time": "2022-12-19T11:47:43.804Z"
   },
   {
    "duration": 7,
    "start_time": "2022-12-19T11:47:44.043Z"
   },
   {
    "duration": 8,
    "start_time": "2022-12-19T11:47:44.052Z"
   },
   {
    "duration": 15,
    "start_time": "2022-12-19T11:47:44.061Z"
   },
   {
    "duration": 5,
    "start_time": "2022-12-19T11:47:44.077Z"
   },
   {
    "duration": 8,
    "start_time": "2022-12-19T11:47:44.083Z"
   },
   {
    "duration": 16,
    "start_time": "2022-12-19T11:47:44.093Z"
   },
   {
    "duration": 3,
    "start_time": "2022-12-19T11:47:44.110Z"
   },
   {
    "duration": 3202,
    "start_time": "2022-12-19T12:08:44.861Z"
   },
   {
    "duration": 1630,
    "start_time": "2022-12-19T12:08:48.065Z"
   },
   {
    "duration": 4,
    "start_time": "2022-12-19T12:08:49.697Z"
   },
   {
    "duration": 15,
    "start_time": "2022-12-19T12:08:49.704Z"
   },
   {
    "duration": 1635,
    "start_time": "2022-12-19T12:08:49.721Z"
   },
   {
    "duration": 22,
    "start_time": "2022-12-19T12:08:51.358Z"
   },
   {
    "duration": 10,
    "start_time": "2022-12-19T12:08:51.382Z"
   },
   {
    "duration": 32272,
    "start_time": "2022-12-19T12:08:51.394Z"
   },
   {
    "duration": 4,
    "start_time": "2022-12-19T12:09:23.667Z"
   },
   {
    "duration": 13,
    "start_time": "2022-12-19T12:09:23.673Z"
   },
   {
    "duration": 14,
    "start_time": "2022-12-19T12:09:23.688Z"
   },
   {
    "duration": 40,
    "start_time": "2022-12-19T12:09:23.704Z"
   },
   {
    "duration": 105,
    "start_time": "2022-12-19T12:09:23.746Z"
   },
   {
    "duration": 15,
    "start_time": "2022-12-19T12:09:23.852Z"
   },
   {
    "duration": 7,
    "start_time": "2022-12-19T12:09:23.869Z"
   },
   {
    "duration": 17,
    "start_time": "2022-12-19T12:09:23.878Z"
   },
   {
    "duration": 142,
    "start_time": "2022-12-19T12:09:23.896Z"
   },
   {
    "duration": 13,
    "start_time": "2022-12-19T12:09:24.040Z"
   },
   {
    "duration": 6,
    "start_time": "2022-12-19T12:09:24.055Z"
   },
   {
    "duration": 11,
    "start_time": "2022-12-19T12:09:24.063Z"
   },
   {
    "duration": 4,
    "start_time": "2022-12-19T12:09:24.076Z"
   },
   {
    "duration": 5,
    "start_time": "2022-12-19T12:09:24.081Z"
   },
   {
    "duration": 6,
    "start_time": "2022-12-19T12:09:24.088Z"
   },
   {
    "duration": 6,
    "start_time": "2022-12-19T12:09:24.095Z"
   },
   {
    "duration": 58001,
    "start_time": "2022-12-19T12:09:24.103Z"
   },
   {
    "duration": 13,
    "start_time": "2022-12-19T12:10:22.106Z"
   },
   {
    "duration": 15,
    "start_time": "2022-12-19T12:10:22.121Z"
   },
   {
    "duration": 629,
    "start_time": "2022-12-19T12:10:22.141Z"
   },
   {
    "duration": 1015,
    "start_time": "2022-12-19T12:10:22.772Z"
   },
   {
    "duration": 817,
    "start_time": "2022-12-19T12:10:23.789Z"
   },
   {
    "duration": 3,
    "start_time": "2022-12-19T12:10:24.609Z"
   },
   {
    "duration": 250,
    "start_time": "2022-12-19T12:10:24.613Z"
   },
   {
    "duration": 227,
    "start_time": "2022-12-19T12:10:24.865Z"
   },
   {
    "duration": 248,
    "start_time": "2022-12-19T12:10:25.094Z"
   },
   {
    "duration": 9,
    "start_time": "2022-12-19T12:10:25.344Z"
   },
   {
    "duration": 14,
    "start_time": "2022-12-19T12:10:25.356Z"
   },
   {
    "duration": 26,
    "start_time": "2022-12-19T12:10:25.372Z"
   },
   {
    "duration": 9,
    "start_time": "2022-12-19T12:10:25.400Z"
   },
   {
    "duration": 12,
    "start_time": "2022-12-19T12:10:25.411Z"
   },
   {
    "duration": 22,
    "start_time": "2022-12-19T12:10:25.424Z"
   },
   {
    "duration": 4,
    "start_time": "2022-12-19T12:10:25.447Z"
   },
   {
    "duration": 1090147,
    "start_time": "2022-12-19T12:10:25.453Z"
   },
   {
    "duration": 6,
    "start_time": "2022-12-19T12:28:35.601Z"
   },
   {
    "duration": 47,
    "start_time": "2022-12-19T12:28:35.608Z"
   },
   {
    "duration": 400,
    "start_time": "2022-12-19T12:28:35.657Z"
   },
   {
    "duration": 17,
    "start_time": "2022-12-19T12:28:36.059Z"
   },
   {
    "duration": 17,
    "start_time": "2022-12-19T12:28:36.077Z"
   },
   {
    "duration": 17,
    "start_time": "2022-12-19T12:28:36.096Z"
   },
   {
    "duration": 36,
    "start_time": "2022-12-19T12:28:36.115Z"
   },
   {
    "duration": 4,
    "start_time": "2022-12-19T12:28:36.153Z"
   },
   {
    "duration": 10,
    "start_time": "2022-12-19T12:28:36.159Z"
   },
   {
    "duration": 81,
    "start_time": "2022-12-20T02:44:55.085Z"
   },
   {
    "duration": 3136,
    "start_time": "2022-12-20T06:48:45.192Z"
   },
   {
    "duration": 1607,
    "start_time": "2022-12-20T06:48:48.330Z"
   },
   {
    "duration": 3,
    "start_time": "2022-12-20T06:48:49.939Z"
   },
   {
    "duration": 9,
    "start_time": "2022-12-20T06:48:49.945Z"
   },
   {
    "duration": 1557,
    "start_time": "2022-12-20T06:48:49.956Z"
   },
   {
    "duration": 18,
    "start_time": "2022-12-20T06:48:51.515Z"
   },
   {
    "duration": 10,
    "start_time": "2022-12-20T06:48:51.534Z"
   },
   {
    "duration": 29155,
    "start_time": "2022-12-20T06:48:51.545Z"
   },
   {
    "duration": 2,
    "start_time": "2022-12-20T06:49:20.704Z"
   },
   {
    "duration": 19,
    "start_time": "2022-12-20T06:49:20.710Z"
   },
   {
    "duration": 9,
    "start_time": "2022-12-20T06:49:20.731Z"
   },
   {
    "duration": 16,
    "start_time": "2022-12-20T06:49:20.742Z"
   },
   {
    "duration": 115,
    "start_time": "2022-12-20T06:49:20.760Z"
   },
   {
    "duration": 14,
    "start_time": "2022-12-20T06:49:20.877Z"
   },
   {
    "duration": 16,
    "start_time": "2022-12-20T06:49:20.893Z"
   },
   {
    "duration": 20,
    "start_time": "2022-12-20T06:49:20.911Z"
   },
   {
    "duration": 139,
    "start_time": "2022-12-20T06:49:20.934Z"
   },
   {
    "duration": 13,
    "start_time": "2022-12-20T06:49:21.075Z"
   },
   {
    "duration": 17,
    "start_time": "2022-12-20T06:49:21.090Z"
   },
   {
    "duration": 11,
    "start_time": "2022-12-20T06:49:21.109Z"
   },
   {
    "duration": 5,
    "start_time": "2022-12-20T06:49:21.121Z"
   },
   {
    "duration": 4,
    "start_time": "2022-12-20T06:49:21.128Z"
   },
   {
    "duration": 8,
    "start_time": "2022-12-20T06:49:21.134Z"
   },
   {
    "duration": 5,
    "start_time": "2022-12-20T06:49:21.144Z"
   },
   {
    "duration": 50876,
    "start_time": "2022-12-20T06:49:21.151Z"
   },
   {
    "duration": 12,
    "start_time": "2022-12-20T06:50:12.029Z"
   },
   {
    "duration": 3,
    "start_time": "2022-12-20T06:50:12.042Z"
   },
   {
    "duration": 469,
    "start_time": "2022-12-20T06:50:12.048Z"
   },
   {
    "duration": 1053,
    "start_time": "2022-12-20T06:50:12.519Z"
   },
   {
    "duration": 880,
    "start_time": "2022-12-20T06:50:13.574Z"
   },
   {
    "duration": 100,
    "start_time": "2022-12-20T06:50:37.837Z"
   },
   {
    "duration": 5,
    "start_time": "2022-12-20T06:52:48.133Z"
   },
   {
    "duration": 112,
    "start_time": "2022-12-20T07:01:40.557Z"
   },
   {
    "duration": 12,
    "start_time": "2022-12-20T07:01:48.731Z"
   },
   {
    "duration": 7,
    "start_time": "2022-12-20T07:02:35.612Z"
   },
   {
    "duration": 10,
    "start_time": "2022-12-20T07:02:56.857Z"
   },
   {
    "duration": 15,
    "start_time": "2022-12-20T07:04:57.634Z"
   },
   {
    "duration": 3,
    "start_time": "2022-12-20T07:05:02.733Z"
   },
   {
    "duration": 16,
    "start_time": "2022-12-20T07:05:06.502Z"
   },
   {
    "duration": 219,
    "start_time": "2022-12-20T07:05:15.007Z"
   },
   {
    "duration": 304,
    "start_time": "2022-12-20T07:08:01.804Z"
   },
   {
    "duration": 205,
    "start_time": "2022-12-20T07:08:27.937Z"
   },
   {
    "duration": 308,
    "start_time": "2022-12-20T07:10:12.008Z"
   },
   {
    "duration": 9,
    "start_time": "2022-12-20T07:10:22.319Z"
   },
   {
    "duration": 6,
    "start_time": "2022-12-20T07:10:28.153Z"
   },
   {
    "duration": 327,
    "start_time": "2022-12-20T07:11:51.357Z"
   },
   {
    "duration": 11,
    "start_time": "2022-12-20T07:12:44.109Z"
   },
   {
    "duration": 11,
    "start_time": "2022-12-20T07:13:10.029Z"
   },
   {
    "duration": 6,
    "start_time": "2022-12-20T07:15:00.960Z"
   },
   {
    "duration": 50,
    "start_time": "2022-12-20T07:15:11.986Z"
   },
   {
    "duration": 4,
    "start_time": "2022-12-20T07:15:40.120Z"
   },
   {
    "duration": 4,
    "start_time": "2022-12-20T07:15:45.578Z"
   },
   {
    "duration": 3,
    "start_time": "2022-12-20T07:16:17.618Z"
   },
   {
    "duration": 24,
    "start_time": "2022-12-20T07:16:28.563Z"
   },
   {
    "duration": 10,
    "start_time": "2022-12-20T07:16:49.902Z"
   },
   {
    "duration": 8,
    "start_time": "2022-12-20T07:17:34.941Z"
   },
   {
    "duration": 10,
    "start_time": "2022-12-20T07:19:19.142Z"
   },
   {
    "duration": 11,
    "start_time": "2022-12-20T07:19:34.398Z"
   },
   {
    "duration": 100,
    "start_time": "2022-12-20T07:20:51.794Z"
   },
   {
    "duration": 8,
    "start_time": "2022-12-20T07:21:42.770Z"
   },
   {
    "duration": 2137,
    "start_time": "2022-12-20T07:27:34.511Z"
   },
   {
    "duration": 1371,
    "start_time": "2022-12-20T07:27:36.650Z"
   },
   {
    "duration": 3,
    "start_time": "2022-12-20T07:27:38.023Z"
   },
   {
    "duration": 8,
    "start_time": "2022-12-20T07:27:38.028Z"
   },
   {
    "duration": 2074,
    "start_time": "2022-12-20T07:27:38.038Z"
   },
   {
    "duration": 18,
    "start_time": "2022-12-20T07:27:40.113Z"
   },
   {
    "duration": 12,
    "start_time": "2022-12-20T07:27:40.133Z"
   },
   {
    "duration": 29515,
    "start_time": "2022-12-20T07:27:40.147Z"
   },
   {
    "duration": 3,
    "start_time": "2022-12-20T07:28:09.663Z"
   },
   {
    "duration": 17,
    "start_time": "2022-12-20T07:28:09.668Z"
   },
   {
    "duration": 20,
    "start_time": "2022-12-20T07:28:09.687Z"
   },
   {
    "duration": 25,
    "start_time": "2022-12-20T07:28:09.709Z"
   },
   {
    "duration": 88,
    "start_time": "2022-12-20T07:28:09.735Z"
   },
   {
    "duration": 15,
    "start_time": "2022-12-20T07:28:09.825Z"
   },
   {
    "duration": 10,
    "start_time": "2022-12-20T07:28:09.842Z"
   },
   {
    "duration": 22,
    "start_time": "2022-12-20T07:28:09.853Z"
   },
   {
    "duration": 126,
    "start_time": "2022-12-20T07:28:09.876Z"
   },
   {
    "duration": 82,
    "start_time": "2022-12-20T07:28:10.003Z"
   },
   {
    "duration": 19,
    "start_time": "2022-12-20T07:28:10.087Z"
   },
   {
    "duration": 20,
    "start_time": "2022-12-20T07:28:10.108Z"
   },
   {
    "duration": 23,
    "start_time": "2022-12-20T07:28:10.130Z"
   },
   {
    "duration": 10,
    "start_time": "2022-12-20T07:28:10.154Z"
   },
   {
    "duration": 11,
    "start_time": "2022-12-20T07:28:10.166Z"
   },
   {
    "duration": 18,
    "start_time": "2022-12-20T07:28:10.178Z"
   },
   {
    "duration": 45139,
    "start_time": "2022-12-20T07:28:10.198Z"
   },
   {
    "duration": 12,
    "start_time": "2022-12-20T07:28:55.339Z"
   },
   {
    "duration": 3,
    "start_time": "2022-12-20T07:28:55.352Z"
   },
   {
    "duration": 495,
    "start_time": "2022-12-20T07:28:55.358Z"
   },
   {
    "duration": 1004,
    "start_time": "2022-12-20T07:28:55.854Z"
   },
   {
    "duration": 867,
    "start_time": "2022-12-20T07:28:56.860Z"
   },
   {
    "duration": 3,
    "start_time": "2022-12-20T07:28:57.729Z"
   },
   {
    "duration": 10,
    "start_time": "2022-12-20T07:28:57.734Z"
   },
   {
    "duration": 251,
    "start_time": "2022-12-20T07:28:57.745Z"
   },
   {
    "duration": 233,
    "start_time": "2022-12-20T07:28:58.005Z"
   },
   {
    "duration": 388,
    "start_time": "2022-12-20T07:28:58.240Z"
   },
   {
    "duration": 7,
    "start_time": "2022-12-20T07:28:58.630Z"
   },
   {
    "duration": 7,
    "start_time": "2022-12-20T07:28:58.638Z"
   },
   {
    "duration": 9,
    "start_time": "2022-12-20T07:28:58.646Z"
   },
   {
    "duration": 20,
    "start_time": "2022-12-20T07:28:58.657Z"
   },
   {
    "duration": 4,
    "start_time": "2022-12-20T07:28:58.678Z"
   },
   {
    "duration": 1037659,
    "start_time": "2022-12-20T07:28:58.683Z"
   },
   {
    "duration": 6,
    "start_time": "2022-12-20T07:46:16.344Z"
   },
   {
    "duration": 32,
    "start_time": "2022-12-20T07:46:16.351Z"
   },
   {
    "duration": 370,
    "start_time": "2022-12-20T07:46:16.384Z"
   },
   {
    "duration": 15,
    "start_time": "2022-12-20T07:46:16.755Z"
   },
   {
    "duration": 5,
    "start_time": "2022-12-20T07:46:16.772Z"
   },
   {
    "duration": 11,
    "start_time": "2022-12-20T07:46:16.778Z"
   },
   {
    "duration": 24,
    "start_time": "2022-12-20T07:46:16.791Z"
   },
   {
    "duration": 4,
    "start_time": "2022-12-20T07:46:16.817Z"
   },
   {
    "duration": 10,
    "start_time": "2022-12-20T07:46:16.823Z"
   },
   {
    "duration": 111,
    "start_time": "2022-12-20T07:46:16.835Z"
   },
   {
    "duration": 2130,
    "start_time": "2022-12-20T07:55:02.939Z"
   },
   {
    "duration": 1384,
    "start_time": "2022-12-20T07:55:05.071Z"
   },
   {
    "duration": 4,
    "start_time": "2022-12-20T07:55:06.456Z"
   },
   {
    "duration": 10,
    "start_time": "2022-12-20T07:55:06.461Z"
   },
   {
    "duration": 1873,
    "start_time": "2022-12-20T07:55:06.472Z"
   },
   {
    "duration": 19,
    "start_time": "2022-12-20T07:55:08.346Z"
   },
   {
    "duration": 11,
    "start_time": "2022-12-20T07:55:08.367Z"
   },
   {
    "duration": 29905,
    "start_time": "2022-12-20T07:55:08.380Z"
   },
   {
    "duration": 2,
    "start_time": "2022-12-20T07:55:38.287Z"
   },
   {
    "duration": 19,
    "start_time": "2022-12-20T07:55:38.292Z"
   },
   {
    "duration": 8,
    "start_time": "2022-12-20T07:55:38.313Z"
   },
   {
    "duration": 17,
    "start_time": "2022-12-20T07:55:38.322Z"
   },
   {
    "duration": 113,
    "start_time": "2022-12-20T07:55:38.341Z"
   },
   {
    "duration": 20,
    "start_time": "2022-12-20T07:55:38.456Z"
   },
   {
    "duration": 10,
    "start_time": "2022-12-20T07:55:38.478Z"
   },
   {
    "duration": 14,
    "start_time": "2022-12-20T07:55:38.505Z"
   },
   {
    "duration": 136,
    "start_time": "2022-12-20T07:55:38.521Z"
   },
   {
    "duration": 95,
    "start_time": "2022-12-20T07:55:38.659Z"
   },
   {
    "duration": 7,
    "start_time": "2022-12-20T07:55:38.755Z"
   },
   {
    "duration": 11,
    "start_time": "2022-12-20T07:55:38.764Z"
   },
   {
    "duration": 4,
    "start_time": "2022-12-20T07:55:38.776Z"
   },
   {
    "duration": 6,
    "start_time": "2022-12-20T07:55:38.781Z"
   },
   {
    "duration": 6,
    "start_time": "2022-12-20T07:55:38.805Z"
   },
   {
    "duration": 7,
    "start_time": "2022-12-20T07:55:38.812Z"
   },
   {
    "duration": 49141,
    "start_time": "2022-12-20T07:55:38.821Z"
   },
   {
    "duration": 13,
    "start_time": "2022-12-20T07:56:27.964Z"
   },
   {
    "duration": 4,
    "start_time": "2022-12-20T07:56:27.978Z"
   },
   {
    "duration": 533,
    "start_time": "2022-12-20T07:56:27.986Z"
   },
   {
    "duration": 1000,
    "start_time": "2022-12-20T07:56:28.522Z"
   },
   {
    "duration": 773,
    "start_time": "2022-12-20T07:56:29.524Z"
   },
   {
    "duration": 4,
    "start_time": "2022-12-20T07:56:30.305Z"
   },
   {
    "duration": 28,
    "start_time": "2022-12-20T07:56:30.311Z"
   },
   {
    "duration": 269,
    "start_time": "2022-12-20T07:56:30.342Z"
   },
   {
    "duration": 210,
    "start_time": "2022-12-20T07:56:30.613Z"
   },
   {
    "duration": 330,
    "start_time": "2022-12-20T07:56:30.825Z"
   },
   {
    "duration": 7,
    "start_time": "2022-12-20T07:56:31.156Z"
   },
   {
    "duration": 25,
    "start_time": "2022-12-20T07:56:31.164Z"
   },
   {
    "duration": 7,
    "start_time": "2022-12-20T07:56:31.191Z"
   },
   {
    "duration": 27,
    "start_time": "2022-12-20T07:56:31.199Z"
   },
   {
    "duration": 5,
    "start_time": "2022-12-20T07:56:31.228Z"
   },
   {
    "duration": 1043791,
    "start_time": "2022-12-20T07:56:31.234Z"
   },
   {
    "duration": 6,
    "start_time": "2022-12-20T08:13:55.027Z"
   },
   {
    "duration": 36,
    "start_time": "2022-12-20T08:13:55.034Z"
   },
   {
    "duration": 378,
    "start_time": "2022-12-20T08:13:55.071Z"
   },
   {
    "duration": 16,
    "start_time": "2022-12-20T08:13:55.451Z"
   },
   {
    "duration": 7,
    "start_time": "2022-12-20T08:13:55.468Z"
   },
   {
    "duration": 17,
    "start_time": "2022-12-20T08:13:55.477Z"
   },
   {
    "duration": 26,
    "start_time": "2022-12-20T08:13:55.496Z"
   },
   {
    "duration": 5,
    "start_time": "2022-12-20T08:13:55.523Z"
   },
   {
    "duration": 10,
    "start_time": "2022-12-20T08:13:55.529Z"
   }
  ],
  "kernelspec": {
   "display_name": "Python 3 (ipykernel)",
   "language": "python",
   "name": "python3"
  },
  "language_info": {
   "codemirror_mode": {
    "name": "ipython",
    "version": 3
   },
   "file_extension": ".py",
   "mimetype": "text/x-python",
   "name": "python",
   "nbconvert_exporter": "python",
   "pygments_lexer": "ipython3",
   "version": "3.10.9"
  },
  "toc": {
   "base_numbering": 1,
   "nav_menu": {},
   "number_sections": true,
   "sideBar": true,
   "skip_h1_title": true,
   "title_cell": "Содержание",
   "title_sidebar": "Contents",
   "toc_cell": true,
   "toc_position": {
    "height": "calc(100% - 180px)",
    "left": "10px",
    "top": "150px",
    "width": "356.797px"
   },
   "toc_section_display": true,
   "toc_window_display": true
  }
 },
 "nbformat": 4,
 "nbformat_minor": 4
}
