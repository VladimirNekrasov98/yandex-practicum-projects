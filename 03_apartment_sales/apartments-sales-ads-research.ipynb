{
 "cells": [
  {
   "cell_type": "markdown",
   "metadata": {},
   "source": [
    "# Исследование объявлений о продаже квартир\n",
    "\n",
    "В вашем распоряжении данные сервиса Яндекс.Недвижимость — архив объявлений о продаже квартир в Санкт-Петербурге и соседних населённых пунктов за несколько лет. Нужно научиться определять рыночную стоимость объектов недвижимости. Ваша задача — установить параметры. Это позволит построить автоматизированную систему: она отследит аномалии и мошенническую деятельность.\n",
    "\n",
    "По каждой квартире на продажу доступны два вида данных. Первые вписаны пользователем, вторые — получены автоматически на основе картографических данных. Например, расстояние до центра, аэропорта, ближайшего парка и водоёма.\n"
   ]
  },
  {
   "cell_type": "markdown",
   "metadata": {},
   "source": [
    "**_Цель данной работы_** - изучить данные, предоставленные сервисом Яндекс Недвижимость, провести предобработку для удобства их анализа и дальнейшего использования, подтвердить или опровергнуть гипотезы о влиянии различных параметров объявлений на:\n",
    "\n",
    "- ценообразование квартир в СПБ и прилежащих областях;\n",
    "- скорость их продажи;\n",
    "- распределение цены по населённым пунктам.\n"
   ]
  },
  {
   "cell_type": "markdown",
   "metadata": {},
   "source": [
    "### Откройте файл с данными и изучите общую информацию.\n"
   ]
  },
  {
   "cell_type": "markdown",
   "metadata": {},
   "source": [
    "Импортируем библиотеку pandas и выгружаем данные из файла в переменную **data**:\n"
   ]
  },
  {
   "cell_type": "code",
   "execution_count": 1,
   "metadata": {},
   "outputs": [],
   "source": [
    "import pandas as pd\n",
    "import matplotlib.pyplot as plt"
   ]
  },
  {
   "cell_type": "code",
   "execution_count": 2,
   "metadata": {},
   "outputs": [
    {
     "data": {
      "text/html": [
       "<div>\n",
       "<style scoped>\n",
       "    .dataframe tbody tr th:only-of-type {\n",
       "        vertical-align: middle;\n",
       "    }\n",
       "\n",
       "    .dataframe tbody tr th {\n",
       "        vertical-align: top;\n",
       "    }\n",
       "\n",
       "    .dataframe thead th {\n",
       "        text-align: right;\n",
       "    }\n",
       "</style>\n",
       "<table border=\"1\" class=\"dataframe\">\n",
       "  <thead>\n",
       "    <tr style=\"text-align: right;\">\n",
       "      <th></th>\n",
       "      <th>0</th>\n",
       "      <th>1</th>\n",
       "      <th>2</th>\n",
       "      <th>3</th>\n",
       "      <th>4</th>\n",
       "    </tr>\n",
       "  </thead>\n",
       "  <tbody>\n",
       "    <tr>\n",
       "      <th>total_images</th>\n",
       "      <td>20</td>\n",
       "      <td>7</td>\n",
       "      <td>10</td>\n",
       "      <td>0</td>\n",
       "      <td>2</td>\n",
       "    </tr>\n",
       "    <tr>\n",
       "      <th>last_price</th>\n",
       "      <td>13000000.0</td>\n",
       "      <td>3350000.0</td>\n",
       "      <td>5196000.0</td>\n",
       "      <td>64900000.0</td>\n",
       "      <td>10000000.0</td>\n",
       "    </tr>\n",
       "    <tr>\n",
       "      <th>total_area</th>\n",
       "      <td>108.0</td>\n",
       "      <td>40.4</td>\n",
       "      <td>56.0</td>\n",
       "      <td>159.0</td>\n",
       "      <td>100.0</td>\n",
       "    </tr>\n",
       "    <tr>\n",
       "      <th>first_day_exposition</th>\n",
       "      <td>2019-03-07T00:00:00</td>\n",
       "      <td>2018-12-04T00:00:00</td>\n",
       "      <td>2015-08-20T00:00:00</td>\n",
       "      <td>2015-07-24T00:00:00</td>\n",
       "      <td>2018-06-19T00:00:00</td>\n",
       "    </tr>\n",
       "    <tr>\n",
       "      <th>rooms</th>\n",
       "      <td>3</td>\n",
       "      <td>1</td>\n",
       "      <td>2</td>\n",
       "      <td>3</td>\n",
       "      <td>2</td>\n",
       "    </tr>\n",
       "    <tr>\n",
       "      <th>ceiling_height</th>\n",
       "      <td>2.7</td>\n",
       "      <td>NaN</td>\n",
       "      <td>NaN</td>\n",
       "      <td>NaN</td>\n",
       "      <td>3.03</td>\n",
       "    </tr>\n",
       "    <tr>\n",
       "      <th>floors_total</th>\n",
       "      <td>16.0</td>\n",
       "      <td>11.0</td>\n",
       "      <td>5.0</td>\n",
       "      <td>14.0</td>\n",
       "      <td>14.0</td>\n",
       "    </tr>\n",
       "    <tr>\n",
       "      <th>living_area</th>\n",
       "      <td>51.0</td>\n",
       "      <td>18.6</td>\n",
       "      <td>34.3</td>\n",
       "      <td>NaN</td>\n",
       "      <td>32.0</td>\n",
       "    </tr>\n",
       "    <tr>\n",
       "      <th>floor</th>\n",
       "      <td>8</td>\n",
       "      <td>1</td>\n",
       "      <td>4</td>\n",
       "      <td>9</td>\n",
       "      <td>13</td>\n",
       "    </tr>\n",
       "    <tr>\n",
       "      <th>is_apartment</th>\n",
       "      <td>NaN</td>\n",
       "      <td>NaN</td>\n",
       "      <td>NaN</td>\n",
       "      <td>NaN</td>\n",
       "      <td>NaN</td>\n",
       "    </tr>\n",
       "    <tr>\n",
       "      <th>studio</th>\n",
       "      <td>False</td>\n",
       "      <td>False</td>\n",
       "      <td>False</td>\n",
       "      <td>False</td>\n",
       "      <td>False</td>\n",
       "    </tr>\n",
       "    <tr>\n",
       "      <th>open_plan</th>\n",
       "      <td>False</td>\n",
       "      <td>False</td>\n",
       "      <td>False</td>\n",
       "      <td>False</td>\n",
       "      <td>False</td>\n",
       "    </tr>\n",
       "    <tr>\n",
       "      <th>kitchen_area</th>\n",
       "      <td>25.0</td>\n",
       "      <td>11.0</td>\n",
       "      <td>8.3</td>\n",
       "      <td>NaN</td>\n",
       "      <td>41.0</td>\n",
       "    </tr>\n",
       "    <tr>\n",
       "      <th>balcony</th>\n",
       "      <td>NaN</td>\n",
       "      <td>2.0</td>\n",
       "      <td>0.0</td>\n",
       "      <td>0.0</td>\n",
       "      <td>NaN</td>\n",
       "    </tr>\n",
       "    <tr>\n",
       "      <th>locality_name</th>\n",
       "      <td>Санкт-Петербург</td>\n",
       "      <td>посёлок Шушары</td>\n",
       "      <td>Санкт-Петербург</td>\n",
       "      <td>Санкт-Петербург</td>\n",
       "      <td>Санкт-Петербург</td>\n",
       "    </tr>\n",
       "    <tr>\n",
       "      <th>airports_nearest</th>\n",
       "      <td>18863.0</td>\n",
       "      <td>12817.0</td>\n",
       "      <td>21741.0</td>\n",
       "      <td>28098.0</td>\n",
       "      <td>31856.0</td>\n",
       "    </tr>\n",
       "    <tr>\n",
       "      <th>cityCenters_nearest</th>\n",
       "      <td>16028.0</td>\n",
       "      <td>18603.0</td>\n",
       "      <td>13933.0</td>\n",
       "      <td>6800.0</td>\n",
       "      <td>8098.0</td>\n",
       "    </tr>\n",
       "    <tr>\n",
       "      <th>parks_around3000</th>\n",
       "      <td>1.0</td>\n",
       "      <td>0.0</td>\n",
       "      <td>1.0</td>\n",
       "      <td>2.0</td>\n",
       "      <td>2.0</td>\n",
       "    </tr>\n",
       "    <tr>\n",
       "      <th>parks_nearest</th>\n",
       "      <td>482.0</td>\n",
       "      <td>NaN</td>\n",
       "      <td>90.0</td>\n",
       "      <td>84.0</td>\n",
       "      <td>112.0</td>\n",
       "    </tr>\n",
       "    <tr>\n",
       "      <th>ponds_around3000</th>\n",
       "      <td>2.0</td>\n",
       "      <td>0.0</td>\n",
       "      <td>2.0</td>\n",
       "      <td>3.0</td>\n",
       "      <td>1.0</td>\n",
       "    </tr>\n",
       "    <tr>\n",
       "      <th>ponds_nearest</th>\n",
       "      <td>755.0</td>\n",
       "      <td>NaN</td>\n",
       "      <td>574.0</td>\n",
       "      <td>234.0</td>\n",
       "      <td>48.0</td>\n",
       "    </tr>\n",
       "    <tr>\n",
       "      <th>days_exposition</th>\n",
       "      <td>NaN</td>\n",
       "      <td>81.0</td>\n",
       "      <td>558.0</td>\n",
       "      <td>424.0</td>\n",
       "      <td>121.0</td>\n",
       "    </tr>\n",
       "  </tbody>\n",
       "</table>\n",
       "</div>"
      ],
      "text/plain": [
       "                                        0                    1  \\\n",
       "total_images                           20                    7   \n",
       "last_price                     13000000.0            3350000.0   \n",
       "total_area                          108.0                 40.4   \n",
       "first_day_exposition  2019-03-07T00:00:00  2018-12-04T00:00:00   \n",
       "rooms                                   3                    1   \n",
       "ceiling_height                        2.7                  NaN   \n",
       "floors_total                         16.0                 11.0   \n",
       "living_area                          51.0                 18.6   \n",
       "floor                                   8                    1   \n",
       "is_apartment                          NaN                  NaN   \n",
       "studio                              False                False   \n",
       "open_plan                           False                False   \n",
       "kitchen_area                         25.0                 11.0   \n",
       "balcony                               NaN                  2.0   \n",
       "locality_name             Санкт-Петербург       посёлок Шушары   \n",
       "airports_nearest                  18863.0              12817.0   \n",
       "cityCenters_nearest               16028.0              18603.0   \n",
       "parks_around3000                      1.0                  0.0   \n",
       "parks_nearest                       482.0                  NaN   \n",
       "ponds_around3000                      2.0                  0.0   \n",
       "ponds_nearest                       755.0                  NaN   \n",
       "days_exposition                       NaN                 81.0   \n",
       "\n",
       "                                        2                    3  \\\n",
       "total_images                           10                    0   \n",
       "last_price                      5196000.0           64900000.0   \n",
       "total_area                           56.0                159.0   \n",
       "first_day_exposition  2015-08-20T00:00:00  2015-07-24T00:00:00   \n",
       "rooms                                   2                    3   \n",
       "ceiling_height                        NaN                  NaN   \n",
       "floors_total                          5.0                 14.0   \n",
       "living_area                          34.3                  NaN   \n",
       "floor                                   4                    9   \n",
       "is_apartment                          NaN                  NaN   \n",
       "studio                              False                False   \n",
       "open_plan                           False                False   \n",
       "kitchen_area                          8.3                  NaN   \n",
       "balcony                               0.0                  0.0   \n",
       "locality_name             Санкт-Петербург      Санкт-Петербург   \n",
       "airports_nearest                  21741.0              28098.0   \n",
       "cityCenters_nearest               13933.0               6800.0   \n",
       "parks_around3000                      1.0                  2.0   \n",
       "parks_nearest                        90.0                 84.0   \n",
       "ponds_around3000                      2.0                  3.0   \n",
       "ponds_nearest                       574.0                234.0   \n",
       "days_exposition                     558.0                424.0   \n",
       "\n",
       "                                        4  \n",
       "total_images                            2  \n",
       "last_price                     10000000.0  \n",
       "total_area                          100.0  \n",
       "first_day_exposition  2018-06-19T00:00:00  \n",
       "rooms                                   2  \n",
       "ceiling_height                       3.03  \n",
       "floors_total                         14.0  \n",
       "living_area                          32.0  \n",
       "floor                                  13  \n",
       "is_apartment                          NaN  \n",
       "studio                              False  \n",
       "open_plan                           False  \n",
       "kitchen_area                         41.0  \n",
       "balcony                               NaN  \n",
       "locality_name             Санкт-Петербург  \n",
       "airports_nearest                  31856.0  \n",
       "cityCenters_nearest                8098.0  \n",
       "parks_around3000                      2.0  \n",
       "parks_nearest                       112.0  \n",
       "ponds_around3000                      1.0  \n",
       "ponds_nearest                        48.0  \n",
       "days_exposition                     121.0  "
      ]
     },
     "execution_count": 2,
     "metadata": {},
     "output_type": "execute_result"
    }
   ],
   "source": [
    "data = pd.read_csv(\"https://code.s3.yandex.net/datasets/real_estate_data.csv\", sep=\"\\t\")\n",
    "data.head().T"
   ]
  },
  {
   "cell_type": "markdown",
   "metadata": {},
   "source": [
    "Общая информация о датафрейме:\n"
   ]
  },
  {
   "cell_type": "code",
   "execution_count": 3,
   "metadata": {},
   "outputs": [
    {
     "name": "stdout",
     "output_type": "stream",
     "text": [
      "<class 'pandas.core.frame.DataFrame'>\n",
      "RangeIndex: 23699 entries, 0 to 23698\n",
      "Data columns (total 22 columns):\n",
      " #   Column                Non-Null Count  Dtype  \n",
      "---  ------                --------------  -----  \n",
      " 0   total_images          23699 non-null  int64  \n",
      " 1   last_price            23699 non-null  float64\n",
      " 2   total_area            23699 non-null  float64\n",
      " 3   first_day_exposition  23699 non-null  object \n",
      " 4   rooms                 23699 non-null  int64  \n",
      " 5   ceiling_height        14504 non-null  float64\n",
      " 6   floors_total          23613 non-null  float64\n",
      " 7   living_area           21796 non-null  float64\n",
      " 8   floor                 23699 non-null  int64  \n",
      " 9   is_apartment          2775 non-null   object \n",
      " 10  studio                23699 non-null  bool   \n",
      " 11  open_plan             23699 non-null  bool   \n",
      " 12  kitchen_area          21421 non-null  float64\n",
      " 13  balcony               12180 non-null  float64\n",
      " 14  locality_name         23650 non-null  object \n",
      " 15  airports_nearest      18157 non-null  float64\n",
      " 16  cityCenters_nearest   18180 non-null  float64\n",
      " 17  parks_around3000      18181 non-null  float64\n",
      " 18  parks_nearest         8079 non-null   float64\n",
      " 19  ponds_around3000      18181 non-null  float64\n",
      " 20  ponds_nearest         9110 non-null   float64\n",
      " 21  days_exposition       20518 non-null  float64\n",
      "dtypes: bool(2), float64(14), int64(3), object(3)\n",
      "memory usage: 3.7+ MB\n"
     ]
    }
   ],
   "source": [
    "data.info()"
   ]
  },
  {
   "cell_type": "code",
   "execution_count": 4,
   "metadata": {},
   "outputs": [
    {
     "data": {
      "text/html": [
       "<div>\n",
       "<style scoped>\n",
       "    .dataframe tbody tr th:only-of-type {\n",
       "        vertical-align: middle;\n",
       "    }\n",
       "\n",
       "    .dataframe tbody tr th {\n",
       "        vertical-align: top;\n",
       "    }\n",
       "\n",
       "    .dataframe thead th {\n",
       "        text-align: right;\n",
       "    }\n",
       "</style>\n",
       "<table border=\"1\" class=\"dataframe\">\n",
       "  <thead>\n",
       "    <tr style=\"text-align: right;\">\n",
       "      <th></th>\n",
       "      <th>count</th>\n",
       "      <th>mean</th>\n",
       "      <th>std</th>\n",
       "      <th>min</th>\n",
       "      <th>25%</th>\n",
       "      <th>50%</th>\n",
       "      <th>75%</th>\n",
       "      <th>max</th>\n",
       "    </tr>\n",
       "  </thead>\n",
       "  <tbody>\n",
       "    <tr>\n",
       "      <th>total_images</th>\n",
       "      <td>23699.0</td>\n",
       "      <td>9.858475e+00</td>\n",
       "      <td>5.682529e+00</td>\n",
       "      <td>0.0</td>\n",
       "      <td>6.00</td>\n",
       "      <td>9.00</td>\n",
       "      <td>14.0</td>\n",
       "      <td>50.0</td>\n",
       "    </tr>\n",
       "    <tr>\n",
       "      <th>last_price</th>\n",
       "      <td>23699.0</td>\n",
       "      <td>6.541549e+06</td>\n",
       "      <td>1.088701e+07</td>\n",
       "      <td>12190.0</td>\n",
       "      <td>3400000.00</td>\n",
       "      <td>4650000.00</td>\n",
       "      <td>6800000.0</td>\n",
       "      <td>763000000.0</td>\n",
       "    </tr>\n",
       "    <tr>\n",
       "      <th>total_area</th>\n",
       "      <td>23699.0</td>\n",
       "      <td>6.034865e+01</td>\n",
       "      <td>3.565408e+01</td>\n",
       "      <td>12.0</td>\n",
       "      <td>40.00</td>\n",
       "      <td>52.00</td>\n",
       "      <td>69.9</td>\n",
       "      <td>900.0</td>\n",
       "    </tr>\n",
       "    <tr>\n",
       "      <th>rooms</th>\n",
       "      <td>23699.0</td>\n",
       "      <td>2.070636e+00</td>\n",
       "      <td>1.078405e+00</td>\n",
       "      <td>0.0</td>\n",
       "      <td>1.00</td>\n",
       "      <td>2.00</td>\n",
       "      <td>3.0</td>\n",
       "      <td>19.0</td>\n",
       "    </tr>\n",
       "    <tr>\n",
       "      <th>ceiling_height</th>\n",
       "      <td>14504.0</td>\n",
       "      <td>2.771499e+00</td>\n",
       "      <td>1.261056e+00</td>\n",
       "      <td>1.0</td>\n",
       "      <td>2.52</td>\n",
       "      <td>2.65</td>\n",
       "      <td>2.8</td>\n",
       "      <td>100.0</td>\n",
       "    </tr>\n",
       "    <tr>\n",
       "      <th>floors_total</th>\n",
       "      <td>23613.0</td>\n",
       "      <td>1.067382e+01</td>\n",
       "      <td>6.597173e+00</td>\n",
       "      <td>1.0</td>\n",
       "      <td>5.00</td>\n",
       "      <td>9.00</td>\n",
       "      <td>16.0</td>\n",
       "      <td>60.0</td>\n",
       "    </tr>\n",
       "    <tr>\n",
       "      <th>living_area</th>\n",
       "      <td>21796.0</td>\n",
       "      <td>3.445785e+01</td>\n",
       "      <td>2.203045e+01</td>\n",
       "      <td>2.0</td>\n",
       "      <td>18.60</td>\n",
       "      <td>30.00</td>\n",
       "      <td>42.3</td>\n",
       "      <td>409.7</td>\n",
       "    </tr>\n",
       "    <tr>\n",
       "      <th>floor</th>\n",
       "      <td>23699.0</td>\n",
       "      <td>5.892358e+00</td>\n",
       "      <td>4.885249e+00</td>\n",
       "      <td>1.0</td>\n",
       "      <td>2.00</td>\n",
       "      <td>4.00</td>\n",
       "      <td>8.0</td>\n",
       "      <td>33.0</td>\n",
       "    </tr>\n",
       "    <tr>\n",
       "      <th>kitchen_area</th>\n",
       "      <td>21421.0</td>\n",
       "      <td>1.056981e+01</td>\n",
       "      <td>5.905438e+00</td>\n",
       "      <td>1.3</td>\n",
       "      <td>7.00</td>\n",
       "      <td>9.10</td>\n",
       "      <td>12.0</td>\n",
       "      <td>112.0</td>\n",
       "    </tr>\n",
       "    <tr>\n",
       "      <th>balcony</th>\n",
       "      <td>12180.0</td>\n",
       "      <td>1.150082e+00</td>\n",
       "      <td>1.071300e+00</td>\n",
       "      <td>0.0</td>\n",
       "      <td>0.00</td>\n",
       "      <td>1.00</td>\n",
       "      <td>2.0</td>\n",
       "      <td>5.0</td>\n",
       "    </tr>\n",
       "    <tr>\n",
       "      <th>airports_nearest</th>\n",
       "      <td>18157.0</td>\n",
       "      <td>2.879367e+04</td>\n",
       "      <td>1.263088e+04</td>\n",
       "      <td>0.0</td>\n",
       "      <td>18585.00</td>\n",
       "      <td>26726.00</td>\n",
       "      <td>37273.0</td>\n",
       "      <td>84869.0</td>\n",
       "    </tr>\n",
       "    <tr>\n",
       "      <th>cityCenters_nearest</th>\n",
       "      <td>18180.0</td>\n",
       "      <td>1.419128e+04</td>\n",
       "      <td>8.608386e+03</td>\n",
       "      <td>181.0</td>\n",
       "      <td>9238.00</td>\n",
       "      <td>13098.50</td>\n",
       "      <td>16293.0</td>\n",
       "      <td>65968.0</td>\n",
       "    </tr>\n",
       "    <tr>\n",
       "      <th>parks_around3000</th>\n",
       "      <td>18181.0</td>\n",
       "      <td>6.114075e-01</td>\n",
       "      <td>8.020736e-01</td>\n",
       "      <td>0.0</td>\n",
       "      <td>0.00</td>\n",
       "      <td>0.00</td>\n",
       "      <td>1.0</td>\n",
       "      <td>3.0</td>\n",
       "    </tr>\n",
       "    <tr>\n",
       "      <th>parks_nearest</th>\n",
       "      <td>8079.0</td>\n",
       "      <td>4.908046e+02</td>\n",
       "      <td>3.423180e+02</td>\n",
       "      <td>1.0</td>\n",
       "      <td>288.00</td>\n",
       "      <td>455.00</td>\n",
       "      <td>612.0</td>\n",
       "      <td>3190.0</td>\n",
       "    </tr>\n",
       "    <tr>\n",
       "      <th>ponds_around3000</th>\n",
       "      <td>18181.0</td>\n",
       "      <td>7.702547e-01</td>\n",
       "      <td>9.383456e-01</td>\n",
       "      <td>0.0</td>\n",
       "      <td>0.00</td>\n",
       "      <td>1.00</td>\n",
       "      <td>1.0</td>\n",
       "      <td>3.0</td>\n",
       "    </tr>\n",
       "    <tr>\n",
       "      <th>ponds_nearest</th>\n",
       "      <td>9110.0</td>\n",
       "      <td>5.179809e+02</td>\n",
       "      <td>2.777206e+02</td>\n",
       "      <td>13.0</td>\n",
       "      <td>294.00</td>\n",
       "      <td>502.00</td>\n",
       "      <td>729.0</td>\n",
       "      <td>1344.0</td>\n",
       "    </tr>\n",
       "    <tr>\n",
       "      <th>days_exposition</th>\n",
       "      <td>20518.0</td>\n",
       "      <td>1.808886e+02</td>\n",
       "      <td>2.197280e+02</td>\n",
       "      <td>1.0</td>\n",
       "      <td>45.00</td>\n",
       "      <td>95.00</td>\n",
       "      <td>232.0</td>\n",
       "      <td>1580.0</td>\n",
       "    </tr>\n",
       "  </tbody>\n",
       "</table>\n",
       "</div>"
      ],
      "text/plain": [
       "                       count          mean           std      min         25%  \\\n",
       "total_images         23699.0  9.858475e+00  5.682529e+00      0.0        6.00   \n",
       "last_price           23699.0  6.541549e+06  1.088701e+07  12190.0  3400000.00   \n",
       "total_area           23699.0  6.034865e+01  3.565408e+01     12.0       40.00   \n",
       "rooms                23699.0  2.070636e+00  1.078405e+00      0.0        1.00   \n",
       "ceiling_height       14504.0  2.771499e+00  1.261056e+00      1.0        2.52   \n",
       "floors_total         23613.0  1.067382e+01  6.597173e+00      1.0        5.00   \n",
       "living_area          21796.0  3.445785e+01  2.203045e+01      2.0       18.60   \n",
       "floor                23699.0  5.892358e+00  4.885249e+00      1.0        2.00   \n",
       "kitchen_area         21421.0  1.056981e+01  5.905438e+00      1.3        7.00   \n",
       "balcony              12180.0  1.150082e+00  1.071300e+00      0.0        0.00   \n",
       "airports_nearest     18157.0  2.879367e+04  1.263088e+04      0.0    18585.00   \n",
       "cityCenters_nearest  18180.0  1.419128e+04  8.608386e+03    181.0     9238.00   \n",
       "parks_around3000     18181.0  6.114075e-01  8.020736e-01      0.0        0.00   \n",
       "parks_nearest         8079.0  4.908046e+02  3.423180e+02      1.0      288.00   \n",
       "ponds_around3000     18181.0  7.702547e-01  9.383456e-01      0.0        0.00   \n",
       "ponds_nearest         9110.0  5.179809e+02  2.777206e+02     13.0      294.00   \n",
       "days_exposition      20518.0  1.808886e+02  2.197280e+02      1.0       45.00   \n",
       "\n",
       "                            50%        75%          max  \n",
       "total_images               9.00       14.0         50.0  \n",
       "last_price           4650000.00  6800000.0  763000000.0  \n",
       "total_area                52.00       69.9        900.0  \n",
       "rooms                      2.00        3.0         19.0  \n",
       "ceiling_height             2.65        2.8        100.0  \n",
       "floors_total               9.00       16.0         60.0  \n",
       "living_area               30.00       42.3        409.7  \n",
       "floor                      4.00        8.0         33.0  \n",
       "kitchen_area               9.10       12.0        112.0  \n",
       "balcony                    1.00        2.0          5.0  \n",
       "airports_nearest       26726.00    37273.0      84869.0  \n",
       "cityCenters_nearest    13098.50    16293.0      65968.0  \n",
       "parks_around3000           0.00        1.0          3.0  \n",
       "parks_nearest            455.00      612.0       3190.0  \n",
       "ponds_around3000           1.00        1.0          3.0  \n",
       "ponds_nearest            502.00      729.0       1344.0  \n",
       "days_exposition           95.00      232.0       1580.0  "
      ]
     },
     "execution_count": 4,
     "metadata": {},
     "output_type": "execute_result"
    }
   ],
   "source": [
    "data.describe().T"
   ]
  },
  {
   "cell_type": "code",
   "execution_count": 5,
   "metadata": {},
   "outputs": [
    {
     "data": {
      "image/png": "[encoded data removed]",
      "text/plain": [
       "<Figure size 1080x1080 with 20 Axes>"
      ]
     },
     "metadata": {
      "needs_background": "light"
     },
     "output_type": "display_data"
    }
   ],
   "source": [
    "data.hist(figsize=(15, 15))\n",
    "plt.show()"
   ]
  },
  {
   "cell_type": "markdown",
   "metadata": {},
   "source": [
    "### Предобработка данных\n"
   ]
  },
  {
   "cell_type": "markdown",
   "metadata": {},
   "source": [
    "#### Удаление пропусков\n"
   ]
  },
  {
   "cell_type": "markdown",
   "metadata": {},
   "source": [
    "Выведем количество пропущенных в данных значений и отсортируем их в порядке убывания:\n"
   ]
  },
  {
   "cell_type": "code",
   "execution_count": 6,
   "metadata": {
    "scrolled": true
   },
   "outputs": [
    {
     "data": {
      "text/plain": [
       "is_apartment            20924\n",
       "parks_nearest           15620\n",
       "ponds_nearest           14589\n",
       "balcony                 11519\n",
       "ceiling_height           9195\n",
       "airports_nearest         5542\n",
       "cityCenters_nearest      5519\n",
       "ponds_around3000         5518\n",
       "parks_around3000         5518\n",
       "days_exposition          3181\n",
       "kitchen_area             2278\n",
       "living_area              1903\n",
       "floors_total               86\n",
       "locality_name              49\n",
       "total_images                0\n",
       "last_price                  0\n",
       "studio                      0\n",
       "floor                       0\n",
       "rooms                       0\n",
       "first_day_exposition        0\n",
       "total_area                  0\n",
       "open_plan                   0\n",
       "dtype: int64"
      ]
     },
     "execution_count": 6,
     "metadata": {},
     "output_type": "execute_result"
    }
   ],
   "source": [
    "data.isna().sum().sort_values(ascending=False)"
   ]
  },
  {
   "cell_type": "markdown",
   "metadata": {},
   "source": [
    "Среди этих колонок наименьшим количеством пропусков обладает **locality_name**, однако отсутствующие в нём строки заполнить значениями не представляется возможным, поэтому их можно исключить из расчёта. Пропуски в **floors_total** заполнить проблематично, так как в таблице отсутсвуют разбитые на категории параметры, поэтому эти данные на текущем этапе оставим без изменений.\n"
   ]
  },
  {
   "cell_type": "code",
   "execution_count": 7,
   "metadata": {},
   "outputs": [],
   "source": [
    "data = data.dropna(subset=[\"locality_name\"]).reset_index(drop=True)"
   ]
  },
  {
   "cell_type": "markdown",
   "metadata": {},
   "source": [
    "Наибольшим количеством пропусков обладают следующие колонки:\n",
    "\n",
    "- **is_apartment** - апартаменты, эту колонку с булевыми значениями можно заполнить параметром False, поскольку большинство квартир не являются апартаментами;\n",
    "- **balcony** - количество балконов, пропущенные значения можно интерпретировать как отсутствие в доме балкона и заполнить их нулями;\n",
    "- **parks_nearest** - расстояние до ближайшего парка, заполнить проблематично, м;\n",
    "- **ponds_nearest** - расстояние до ближайшего пруда, заполнить проблематично, м.\n"
   ]
  },
  {
   "cell_type": "code",
   "execution_count": 8,
   "metadata": {},
   "outputs": [],
   "source": [
    "data[\"is_apartment\"].fillna(False, inplace=True)"
   ]
  },
  {
   "cell_type": "code",
   "execution_count": 9,
   "metadata": {},
   "outputs": [],
   "source": [
    "data[\"balcony\"].fillna(0, inplace=True)"
   ]
  },
  {
   "cell_type": "markdown",
   "metadata": {},
   "source": [
    "Проверим изменённые параметры датафрейма\n"
   ]
  },
  {
   "cell_type": "code",
   "execution_count": 10,
   "metadata": {},
   "outputs": [
    {
     "data": {
      "text/plain": [
       "parks_nearest           15586\n",
       "ponds_nearest           14565\n",
       "ceiling_height           9160\n",
       "airports_nearest         5534\n",
       "cityCenters_nearest      5511\n",
       "ponds_around3000         5510\n",
       "parks_around3000         5510\n",
       "days_exposition          3180\n",
       "kitchen_area             2269\n",
       "living_area              1898\n",
       "floors_total               85\n",
       "balcony                     0\n",
       "locality_name               0\n",
       "total_images                0\n",
       "last_price                  0\n",
       "studio                      0\n",
       "is_apartment                0\n",
       "floor                       0\n",
       "rooms                       0\n",
       "first_day_exposition        0\n",
       "total_area                  0\n",
       "open_plan                   0\n",
       "dtype: int64"
      ]
     },
     "execution_count": 10,
     "metadata": {},
     "output_type": "execute_result"
    }
   ],
   "source": [
    "data.isna().sum().sort_values(ascending=False)"
   ]
  },
  {
   "cell_type": "markdown",
   "metadata": {},
   "source": [
    "#### Обработка аномальных значений\n"
   ]
  },
  {
   "cell_type": "markdown",
   "metadata": {},
   "source": [
    "Среди представленных значений особое внимание следует уделить колонке с высотой потолков, поскольку значение квантиля Q3 составляет 2.8 м, а максимальное значение - 100 м. Объективно говоря, здание в эксплуатации с потолками выше 10 м сложно представить, поэтому имеет место предположение об ошибках в исходных данных. Отследим такие значения, используя **value_counts**.\n"
   ]
  },
  {
   "cell_type": "code",
   "execution_count": 11,
   "metadata": {},
   "outputs": [
    {
     "data": {
      "text/plain": [
       "5.0      1\n",
       "5.2      1\n",
       "5.3      2\n",
       "5.5      1\n",
       "5.6      1\n",
       "5.8      1\n",
       "6.0      1\n",
       "8.0      3\n",
       "8.3      1\n",
       "10.3     1\n",
       "14.0     1\n",
       "20.0     1\n",
       "22.6     1\n",
       "24.0     1\n",
       "25.0     7\n",
       "26.0     1\n",
       "27.0     8\n",
       "27.5     1\n",
       "32.0     2\n",
       "100.0    1\n",
       "Name: ceiling_height, dtype: int64"
      ]
     },
     "execution_count": 11,
     "metadata": {},
     "output_type": "execute_result"
    }
   ],
   "source": [
    "data.ceiling_height.value_counts().sort_index().tail(20)"
   ]
  },
  {
   "cell_type": "markdown",
   "metadata": {},
   "source": [
    "Последние 10 значений достаточно сильно отличаются от реальных, поэтому уменьшим их на один порядок:\n"
   ]
  },
  {
   "cell_type": "code",
   "execution_count": 12,
   "metadata": {},
   "outputs": [
    {
     "data": {
      "text/plain": [
       "1.00      1\n",
       "1.20      1\n",
       "1.40      1\n",
       "1.75      1\n",
       "2.00     12\n",
       "         ..\n",
       "6.00      1\n",
       "8.00      3\n",
       "8.30      1\n",
       "10.00     1\n",
       "10.30     1\n",
       "Name: ceiling_height, Length: 176, dtype: int64"
      ]
     },
     "execution_count": 12,
     "metadata": {},
     "output_type": "execute_result"
    }
   ],
   "source": [
    "data[\"ceiling_height\"] = data[\"ceiling_height\"].apply(lambda x: x / 10 if x > 11 else x)\n",
    "data.ceiling_height.value_counts().sort_index()"
   ]
  },
  {
   "cell_type": "markdown",
   "metadata": {},
   "source": [
    "#### Изменение типов данных\n"
   ]
  },
  {
   "cell_type": "markdown",
   "metadata": {},
   "source": [
    "Рассмотрим представленные в таблице типы данных:\n"
   ]
  },
  {
   "cell_type": "code",
   "execution_count": 13,
   "metadata": {},
   "outputs": [
    {
     "data": {
      "text/plain": [
       "total_images              int64\n",
       "last_price              float64\n",
       "total_area              float64\n",
       "first_day_exposition     object\n",
       "rooms                     int64\n",
       "ceiling_height          float64\n",
       "floors_total            float64\n",
       "living_area             float64\n",
       "floor                     int64\n",
       "is_apartment               bool\n",
       "studio                     bool\n",
       "open_plan                  bool\n",
       "kitchen_area            float64\n",
       "balcony                 float64\n",
       "locality_name            object\n",
       "airports_nearest        float64\n",
       "cityCenters_nearest     float64\n",
       "parks_around3000        float64\n",
       "parks_nearest           float64\n",
       "ponds_around3000        float64\n",
       "ponds_nearest           float64\n",
       "days_exposition         float64\n",
       "dtype: object"
      ]
     },
     "execution_count": 13,
     "metadata": {},
     "output_type": "execute_result"
    }
   ],
   "source": [
    "data.dtypes"
   ]
  },
  {
   "cell_type": "markdown",
   "metadata": {},
   "source": [
    "Среди этих категорий колонки **floors_total**, **balcony**, **parks_around3000**, **ponds_around3000**, **days_exposition** желательно привести к целочисленному типу в соответствии с логикой и удобством отображения, однако, поскольку в этих столбцах есть пропущенные значения, то из-за наличия NaN они имеют тип float. Также стоит отметить, что столбец **first_day_exposition** предполагает формат даты, но имеет строковый/строковый+числовой тип. Приведём его в соответствие с помощью функции **to_datetime**.\n"
   ]
  },
  {
   "cell_type": "code",
   "execution_count": 14,
   "metadata": {
    "scrolled": true
   },
   "outputs": [
    {
     "data": {
      "text/plain": [
       "0       2019-03-07\n",
       "1       2018-12-04\n",
       "2       2015-08-20\n",
       "3       2015-07-24\n",
       "4       2018-06-19\n",
       "           ...    \n",
       "23645   2017-03-21\n",
       "23646   2018-01-15\n",
       "23647   2018-02-11\n",
       "23648   2017-03-28\n",
       "23649   2017-07-21\n",
       "Name: first_day_exposition, Length: 23650, dtype: datetime64[ns]"
      ]
     },
     "execution_count": 14,
     "metadata": {},
     "output_type": "execute_result"
    }
   ],
   "source": [
    "data[\"first_day_exposition\"] = pd.to_datetime(\n",
    "    data[\"first_day_exposition\"], format=\"%Y-%m-%dT%H:%M:%S\"\n",
    ")\n",
    "data[\"first_day_exposition\"]"
   ]
  },
  {
   "cell_type": "markdown",
   "metadata": {},
   "source": [
    "Как видим, тип данных был успешно изменён на datetime64[ns].Теперь приведём в соответствие остальные типы данных.\n"
   ]
  },
  {
   "cell_type": "code",
   "execution_count": 15,
   "metadata": {},
   "outputs": [],
   "source": [
    "data = data.astype(\n",
    "    {\n",
    "        \"balcony\": \"Int64\",\n",
    "        \"ponds_nearest\": \"Int64\",\n",
    "        \"parks_nearest\": \"Int64\",\n",
    "        \"airports_nearest\": \"Int64\",\n",
    "        \"cityCenters_nearest\": \"Int64\",\n",
    "    },\n",
    "    errors=\"ignore\",\n",
    ")"
   ]
  },
  {
   "cell_type": "code",
   "execution_count": 16,
   "metadata": {},
   "outputs": [
    {
     "name": "stdout",
     "output_type": "stream",
     "text": [
      "<class 'pandas.core.frame.DataFrame'>\n",
      "RangeIndex: 23650 entries, 0 to 23649\n",
      "Data columns (total 22 columns):\n",
      " #   Column                Non-Null Count  Dtype         \n",
      "---  ------                --------------  -----         \n",
      " 0   total_images          23650 non-null  int64         \n",
      " 1   last_price            23650 non-null  float64       \n",
      " 2   total_area            23650 non-null  float64       \n",
      " 3   first_day_exposition  23650 non-null  datetime64[ns]\n",
      " 4   rooms                 23650 non-null  int64         \n",
      " 5   ceiling_height        14490 non-null  float64       \n",
      " 6   floors_total          23565 non-null  float64       \n",
      " 7   living_area           21752 non-null  float64       \n",
      " 8   floor                 23650 non-null  int64         \n",
      " 9   is_apartment          23650 non-null  bool          \n",
      " 10  studio                23650 non-null  bool          \n",
      " 11  open_plan             23650 non-null  bool          \n",
      " 12  kitchen_area          21381 non-null  float64       \n",
      " 13  balcony               23650 non-null  Int64         \n",
      " 14  locality_name         23650 non-null  object        \n",
      " 15  airports_nearest      18116 non-null  Int64         \n",
      " 16  cityCenters_nearest   18139 non-null  Int64         \n",
      " 17  parks_around3000      18140 non-null  float64       \n",
      " 18  parks_nearest         8064 non-null   Int64         \n",
      " 19  ponds_around3000      18140 non-null  float64       \n",
      " 20  ponds_nearest         9085 non-null   Int64         \n",
      " 21  days_exposition       20470 non-null  float64       \n",
      "dtypes: Int64(5), bool(3), datetime64[ns](1), float64(9), int64(3), object(1)\n",
      "memory usage: 3.6+ MB\n"
     ]
    }
   ],
   "source": [
    "data.info()"
   ]
  },
  {
   "cell_type": "markdown",
   "metadata": {},
   "source": [
    "#### Обработка дубликатов\n"
   ]
  },
  {
   "cell_type": "code",
   "execution_count": 17,
   "metadata": {},
   "outputs": [
    {
     "data": {
      "text/plain": [
       "0"
      ]
     },
     "execution_count": 17,
     "metadata": {},
     "output_type": "execute_result"
    }
   ],
   "source": [
    "data.duplicated().sum()"
   ]
  },
  {
   "cell_type": "markdown",
   "metadata": {},
   "source": [
    "Явных дубликатов в датафрейме не обнаружено. Единственным оставшимся в нём столбцом со строковым типом данных остаётся **locality_name**, поэтому неявные дубликаты следует искать здесь. Предварительно перед отсевом дубликатов следует привести строки к нижнему регистру и заменить в словах букву _ё_.\n"
   ]
  },
  {
   "cell_type": "code",
   "execution_count": 18,
   "metadata": {},
   "outputs": [
    {
     "data": {
      "text/plain": [
       "364"
      ]
     },
     "execution_count": 18,
     "metadata": {},
     "output_type": "execute_result"
    }
   ],
   "source": [
    "len(data.locality_name.unique())"
   ]
  },
  {
   "cell_type": "code",
   "execution_count": 19,
   "metadata": {},
   "outputs": [
    {
     "data": {
      "text/plain": [
       "array(['санкт-петербург', 'поселок шушары', 'городской поселок янино-1',\n",
       "       'поселок парголово', 'поселок мурино', 'ломоносов', 'сертолово',\n",
       "       'петергоф', 'пушкин', 'деревня кудрово', 'коммунар', 'колпино',\n",
       "       'поселок городского типа красный бор', 'гатчина',\n",
       "       'деревня федоровское', 'выборг', 'кронштадт', 'кировск',\n",
       "       'деревня новое девяткино', 'поселок металлострой',\n",
       "       'поселок городского типа лебяжье',\n",
       "       'поселок городского типа сиверский', 'поселок молодцово',\n",
       "       'поселок городского типа кузьмоловский',\n",
       "       'садовое товарищество новая ропша', 'павловск',\n",
       "       'деревня пикколово', 'всеволожск', 'волхов', 'кингисепп',\n",
       "       'приозерск', 'сестрорецк', 'деревня куттузи', 'поселок аннино',\n",
       "       'поселок городского типа ефимовский', 'поселок плодовое',\n",
       "       'деревня заклинье', 'поселок торковичи', 'поселок первомайское',\n",
       "       'красное село', 'поселок понтонный', 'сясьстрой', 'деревня старая',\n",
       "       'деревня лесколово', 'поселок новый свет', 'сланцы',\n",
       "       'село путилово', 'ивангород', 'мурино', 'шлиссельбург',\n",
       "       'никольское', 'зеленогорск', 'сосновый бор', 'деревня оржицы',\n",
       "       'деревня кальтино', 'кудрово', 'поселок романовка',\n",
       "       'поселок бугры', 'поселок городского типа рощино', 'кириши',\n",
       "       'луга', 'волосово', 'отрадное', 'село павлово', 'поселок оредеж',\n",
       "       'село копорье', 'поселок молодежное', 'тихвин', 'поселок победа',\n",
       "       'деревня нурма', 'поселок городского типа синявино', 'тосно',\n",
       "       'поселок стрельна', 'бокситогорск', 'поселок александровская',\n",
       "       'деревня лопухинка', 'пикалево', 'поселок терволово',\n",
       "       'поселок городского типа советский', 'подпорожье',\n",
       "       'поселок петровское', 'поселок городского типа токсово',\n",
       "       'поселок сельцо', 'поселок городского типа вырица',\n",
       "       'деревня кипень', 'деревня келози', 'деревня вартемяги',\n",
       "       'поселок тельмана', 'поселок севастьяново',\n",
       "       'городской поселок большая ижора', 'городской поселок павлово',\n",
       "       'деревня агалатово', 'поселок новогорелово',\n",
       "       'городской поселок лесогорский', 'деревня лаголово',\n",
       "       'поселок цвелодубово', 'поселок городского типа рахья',\n",
       "       'деревня белогорка', 'поселок заводской',\n",
       "       'городской поселок новоселье', 'деревня большие колпаны',\n",
       "       'деревня горбунки', 'деревня батово', 'деревня заневка',\n",
       "       'деревня иссад', 'приморск', 'городской поселок федоровское',\n",
       "       'деревня мистолово', 'новая ладога', 'поселок зимитицы',\n",
       "       'поселок барышево', 'деревня разметелево',\n",
       "       'поселок городского типа имени свердлова', 'деревня пеники',\n",
       "       'поселок рябово', 'деревня пудомяги', 'поселок станции корнево',\n",
       "       'деревня низино', 'деревня бегуницы', 'поселок поляны',\n",
       "       'городской поселок мга', 'поселок елизаветино',\n",
       "       'поселок городского типа кузнечное', 'деревня колтуши',\n",
       "       'поселок запорожское', 'деревня гостилицы',\n",
       "       'деревня малое карлино', 'поселок мичуринское',\n",
       "       'поселок городского типа имени морозова', 'поселок песочный',\n",
       "       'поселок сосново', 'деревня аро', 'поселок ильичево',\n",
       "       'поселок городского типа тайцы', 'деревня малое верево',\n",
       "       'деревня извара', 'поселок станции вещево', 'село паша',\n",
       "       'деревня калитино', 'поселок городского типа ульяновка',\n",
       "       'деревня чудской бор', 'поселок городского типа дубровка',\n",
       "       'деревня мины', 'поселок войсковицы', 'деревня коркино',\n",
       "       'поселок ропша', 'поселок городского типа приладожский',\n",
       "       'поселок щеглово', 'поселок гаврилово', 'лодейное поле',\n",
       "       'деревня рабитицы', 'поселок городского типа никольский',\n",
       "       'деревня кузьмолово', 'деревня малые колпаны',\n",
       "       'поселок петро-славянка', 'городской поселок назия',\n",
       "       'поселок репино', 'поселок углово', 'поселок старая малукса',\n",
       "       'садовое товарищество рахья', 'деревня меньково',\n",
       "       'деревня старые бегуницы', 'поселок саперный', 'поселок семрино',\n",
       "       'поселок глажево', 'поселок кобринское', 'деревня гарболово',\n",
       "       'деревня юкки', 'поселок станции приветнинское',\n",
       "       'деревня мануйлово', 'деревня пчева', 'поселок цвылево',\n",
       "       'поселок мельниково', 'поселок пудость', 'поселок усть-луга',\n",
       "       'светогорск', 'любань', 'поселок селезнево',\n",
       "       'поселок городского типа рябово', 'каменногорск', 'деревня кривко',\n",
       "       'поселок глебычево', 'деревня парицы', 'поселок жилпоселок',\n",
       "       'поселок городского типа мга', 'поселок войскорово',\n",
       "       'село никольское', 'поселок стеклянный',\n",
       "       'поселок городского типа важины', 'поселок мыза-ивановка',\n",
       "       'село русско-высоцкое', 'поселок городского типа форносово',\n",
       "       'село старая ладога', 'поселок житково',\n",
       "       'городской поселок виллози', 'деревня лампово',\n",
       "       'деревня шпаньково', 'деревня лаврики', 'поселок сумино',\n",
       "       'поселок возрождение', 'деревня старосиверская',\n",
       "       'поселок кикерино', 'деревня старое хинколово',\n",
       "       'поселок пригородный', 'поселок торфяное',\n",
       "       'городской поселок будогощь', 'поселок суходолье',\n",
       "       'поселок красная долина', 'деревня хапо-ое',\n",
       "       'поселок городского типа дружная горка', 'поселок лисий нос',\n",
       "       'деревня яльгелево', 'село рождествено', 'деревня старополье',\n",
       "       'поселок левашово', 'деревня сяськелево', 'деревня камышовка',\n",
       "       'садоводческое некоммерческое товарищество лесная поляна',\n",
       "       'деревня хязельки', 'поселок жилгородок',\n",
       "       'поселок городского типа павлово', 'деревня ялгино',\n",
       "       'поселок новый учхоз', 'городской поселок рощино',\n",
       "       'поселок гончарово', 'поселок почап', 'поселок саперное',\n",
       "       'поселок платформа 69-й километр', 'поселок каложицы',\n",
       "       'деревня фалилеево', 'деревня пельгора',\n",
       "       'поселок городского типа лесогорский', 'деревня торошковичи',\n",
       "       'поселок белоостров', 'поселок алексеевка', 'поселок серебрянский',\n",
       "       'поселок лукаши', 'деревня щеглово', 'деревня тарасово',\n",
       "       'поселок кингисеппский',\n",
       "       'поселок при железнодорожной станции вещево', 'поселок ушаки',\n",
       "       'деревня котлы', 'деревня сижно', 'деревня торосово',\n",
       "       'поселок форт красная горка', 'деревня новолисино',\n",
       "       'поселок станции громово', 'деревня глинка',\n",
       "       'поселок городского типа назия', 'деревня старая пустошь',\n",
       "       'поселок коммунары', 'поселок починок',\n",
       "       'поселок городского типа вознесенье', 'деревня разбегаево',\n",
       "       'поселок гладкое',\n",
       "       'поселок при железнодорожной станции приветнинское',\n",
       "       'поселок тесово-4', 'деревня бор', 'поселок коробицыно',\n",
       "       'деревня большая вруда', 'деревня курковицы',\n",
       "       'городской поселок советский', 'поселок кобралово',\n",
       "       'деревня суоранда', 'поселок городского типа кондратьево',\n",
       "       'коттеджный поселок счастье', 'поселок любань', 'деревня реброво',\n",
       "       'деревня зимитицы', 'деревня тойворово', 'поселок семиозерье',\n",
       "       'поселок лесное', 'поселок совхозный', 'поселок ленинское',\n",
       "       'поселок суйда', 'деревня нижние осельки', 'поселок станции свирь',\n",
       "       'поселок перово', 'высоцк', 'поселок гарболово', 'село шум',\n",
       "       'поселок котельский', 'поселок станции лужайка',\n",
       "       'деревня большая пустомержа', 'поселок красносельское',\n",
       "       'деревня вахнова кара', 'деревня пижма',\n",
       "       'коттеджный поселок кивеннапа север', 'поселок ромашки',\n",
       "       'деревня каськово', 'деревня куровицы', 'поселок плоское',\n",
       "       'поселок городского типа большая ижора', 'поселок кирпичное',\n",
       "       'деревня ям-тесово', 'деревня раздолье', 'деревня терпилицы',\n",
       "       'поселок шугозеро', 'деревня ваганово', 'поселок пушное',\n",
       "       'садовое товарищество садко', 'поселок усть-ижора',\n",
       "       'деревня выскатка', 'городской поселок свирьстрой',\n",
       "       'поселок громово', 'деревня кисельня', 'деревня трубников бор',\n",
       "       'поселок калитино', 'поселок высокоключевой',\n",
       "       'садовое товарищество приладожский',\n",
       "       'поселок пансионат зеленый бор', 'деревня ненимяки',\n",
       "       'деревня снегиревка', 'деревня рапполово', 'деревня пустынка',\n",
       "       'поселок рабитицы', 'деревня большой сабск', 'деревня русско',\n",
       "       'деревня лупполово', 'деревня большое рейзино',\n",
       "       'деревня малая романовка', 'поселок дружноселье', 'поселок пчевжа',\n",
       "       'поселок володарское', 'деревня нижняя',\n",
       "       'коттеджный поселок лесное', 'деревня тихковицы',\n",
       "       'деревня борисова грива', 'поселок дзержинского'], dtype=object)"
      ]
     },
     "execution_count": 19,
     "metadata": {},
     "output_type": "execute_result"
    }
   ],
   "source": [
    "data[\"locality_name\"] = data[\"locality_name\"].str.lower().str.replace(\"ё\", \"е\")\n",
    "data[\"locality_name\"].unique()"
   ]
  },
  {
   "cell_type": "code",
   "execution_count": 20,
   "metadata": {
    "scrolled": true
   },
   "outputs": [
    {
     "data": {
      "text/plain": [
       "330"
      ]
     },
     "execution_count": 20,
     "metadata": {},
     "output_type": "execute_result"
    }
   ],
   "source": [
    "len(data.locality_name.unique())"
   ]
  },
  {
   "cell_type": "markdown",
   "metadata": {},
   "source": [
    "Отсеив часть дубликатов, переходим к анализу остальных названий. Среди них можно выделить 10 различных типов населённых пунктов, они перечислены в **locality_name_type**.\n"
   ]
  },
  {
   "cell_type": "code",
   "execution_count": 21,
   "metadata": {},
   "outputs": [],
   "source": [
    "locality_name_type = [\n",
    "    \"садоводческое некоммерческое товарищество\",\n",
    "    \"поселок при железнодорожной станции\",\n",
    "    \"поселок городского типа\",\n",
    "    \"садовое товарищество\",\n",
    "    \"коттеджный поселок\",\n",
    "    \"городской поселок\",\n",
    "    \"поселок станции\",\n",
    "    \"поселок\",\n",
    "    \"деревня\",\n",
    "    \"село\",\n",
    "]"
   ]
  },
  {
   "cell_type": "markdown",
   "metadata": {},
   "source": [
    "Убрать все дубликаты возможно, если удалить все эти типы из названий, а также удалить лишние пробелы, если они будут.\n"
   ]
  },
  {
   "cell_type": "code",
   "execution_count": 22,
   "metadata": {},
   "outputs": [],
   "source": [
    "for i in locality_name_type:\n",
    "    data[\"locality_name\"] = data[\"locality_name\"].str.replace(i, \"\").str.strip()"
   ]
  },
  {
   "cell_type": "code",
   "execution_count": 23,
   "metadata": {},
   "outputs": [
    {
     "name": "stdout",
     "output_type": "stream",
     "text": [
      "санкт-петербург\n",
      "шушары\n",
      "янино-1\n",
      "парголово\n",
      "мурино\n",
      "ломоносов\n",
      "сертолово\n",
      "петергоф\n",
      "пушкин\n",
      "кудрово\n",
      "коммунар\n",
      "колпино\n",
      "красный бор\n",
      "гатчина\n",
      "федоровское\n",
      "выборг\n",
      "кронштадт\n",
      "кировск\n",
      "новое девяткино\n",
      "металлострой\n",
      "лебяжье\n",
      "сиверский\n",
      "молодцово\n",
      "кузьмоловский\n",
      "новая ропша\n",
      "павловск\n",
      "пикколово\n",
      "всеволожск\n",
      "волхов\n",
      "кингисепп\n",
      "приозерск\n",
      "сестрорецк\n",
      "куттузи\n",
      "аннино\n",
      "ефимовский\n",
      "плодовое\n",
      "заклинье\n",
      "торковичи\n",
      "первомайское\n",
      "красное\n",
      "понтонный\n",
      "сясьстрой\n",
      "старая\n",
      "лесколово\n",
      "новый свет\n",
      "сланцы\n",
      "путилово\n",
      "ивангород\n",
      "шлиссельбург\n",
      "никольское\n",
      "зеленогорск\n",
      "сосновый бор\n",
      "оржицы\n",
      "кальтино\n",
      "романовка\n",
      "бугры\n",
      "рощино\n",
      "кириши\n",
      "луга\n",
      "волосово\n",
      "отрадное\n",
      "павлово\n",
      "оредеж\n",
      "копорье\n",
      "молодежное\n",
      "тихвин\n",
      "победа\n",
      "нурма\n",
      "синявино\n",
      "тосно\n",
      "стрельна\n",
      "бокситогорск\n",
      "александровская\n",
      "лопухинка\n",
      "пикалево\n",
      "терволово\n",
      "советский\n",
      "подпорожье\n",
      "петровское\n",
      "токсово\n",
      "сельцо\n",
      "вырица\n",
      "кипень\n",
      "келози\n",
      "вартемяги\n",
      "тельмана\n",
      "севастьяново\n",
      "большая ижора\n",
      "агалатово\n",
      "новогорелово\n",
      "лесогорский\n",
      "лаголово\n",
      "цвелодубово\n",
      "рахья\n",
      "белогорка\n",
      "заводской\n",
      "новоселье\n",
      "большие колпаны\n",
      "горбунки\n",
      "батово\n",
      "заневка\n",
      "иссад\n",
      "приморск\n",
      "мистолово\n",
      "новая ладога\n",
      "зимитицы\n",
      "барышево\n",
      "разметелево\n",
      "имени свердлова\n",
      "пеники\n",
      "рябово\n",
      "пудомяги\n",
      "корнево\n",
      "низино\n",
      "бегуницы\n",
      "поляны\n",
      "мга\n",
      "елизаветино\n",
      "кузнечное\n",
      "колтуши\n",
      "запорожское\n",
      "гостилицы\n",
      "малое карлино\n",
      "мичуринское\n",
      "имени морозова\n",
      "песочный\n",
      "сосново\n",
      "аро\n",
      "ильичево\n",
      "тайцы\n",
      "малое верево\n",
      "извара\n",
      "вещево\n",
      "паша\n",
      "калитино\n",
      "ульяновка\n",
      "чудской бор\n",
      "дубровка\n",
      "мины\n",
      "войсковицы\n",
      "коркино\n",
      "ропша\n",
      "приладожский\n",
      "щеглово\n",
      "гаврилово\n",
      "лодейное поле\n",
      "рабитицы\n",
      "никольский\n",
      "кузьмолово\n",
      "малые колпаны\n",
      "петро-славянка\n",
      "назия\n",
      "репино\n",
      "углово\n",
      "старая малукса\n",
      "меньково\n",
      "старые бегуницы\n",
      "саперный\n",
      "семрино\n",
      "глажево\n",
      "кобринское\n",
      "гарболово\n",
      "юкки\n",
      "приветнинское\n",
      "мануйлово\n",
      "пчева\n",
      "цвылево\n",
      "мельниково\n",
      "пудость\n",
      "усть-луга\n",
      "светогорск\n",
      "любань\n",
      "селезнево\n",
      "каменногорск\n",
      "кривко\n",
      "глебычево\n",
      "парицы\n",
      "жил\n",
      "войскорово\n",
      "стеклянный\n",
      "важины\n",
      "мыза-ивановка\n",
      "русско-высоцкое\n",
      "форносово\n",
      "старая ладога\n",
      "житково\n",
      "виллози\n",
      "лампово\n",
      "шпаньково\n",
      "лаврики\n",
      "сумино\n",
      "возрождение\n",
      "старосиверская\n",
      "кикерино\n",
      "старое хинколово\n",
      "пригородный\n",
      "торфяное\n",
      "будогощь\n",
      "суходолье\n",
      "красная долина\n",
      "хапо-ое\n",
      "дружная горка\n",
      "лисий нос\n",
      "яльгелево\n",
      "рождествено\n",
      "старополье\n",
      "левашово\n",
      "сяськелево\n",
      "камышовка\n",
      "лесная поляна\n",
      "хязельки\n",
      "жилгородок\n",
      "ялгино\n",
      "новый учхоз\n",
      "гончарово\n",
      "почап\n",
      "саперное\n",
      "платформа 69-й километр\n",
      "каложицы\n",
      "фалилеево\n",
      "пельгора\n",
      "торошковичи\n",
      "белоостров\n",
      "алексеевка\n",
      "серебрянский\n",
      "лукаши\n",
      "тарасово\n",
      "кингисеппский\n",
      "ушаки\n",
      "котлы\n",
      "сижно\n",
      "торосово\n",
      "форт красная горка\n",
      "новолисино\n",
      "громово\n",
      "глинка\n",
      "старая пустошь\n",
      "коммунары\n",
      "починок\n",
      "вознесенье\n",
      "разбегаево\n",
      "гладкое\n",
      "тесово-4\n",
      "бор\n",
      "коробицыно\n",
      "большая вруда\n",
      "курковицы\n",
      "кобралово\n",
      "суоранда\n",
      "кондратьево\n",
      "счастье\n",
      "реброво\n",
      "тойворово\n",
      "семиозерье\n",
      "лесное\n",
      "совхозный\n",
      "ленинское\n",
      "суйда\n",
      "нижние осельки\n",
      "свирь\n",
      "перово\n",
      "высоцк\n",
      "шум\n",
      "котельский\n",
      "лужайка\n",
      "большая пустомержа\n",
      "красносельское\n",
      "вахнова кара\n",
      "пижма\n",
      "кивеннапа север\n",
      "ромашки\n",
      "каськово\n",
      "куровицы\n",
      "плоское\n",
      "кирпичное\n",
      "ям-тесово\n",
      "раздолье\n",
      "терпилицы\n",
      "шугозеро\n",
      "ваганово\n",
      "пушное\n",
      "садко\n",
      "усть-ижора\n",
      "выскатка\n",
      "свирьстрой\n",
      "кисельня\n",
      "трубников бор\n",
      "высокоключевой\n",
      "пансионат зеленый бор\n",
      "ненимяки\n",
      "снегиревка\n",
      "рапполово\n",
      "пустынка\n",
      "большой сабск\n",
      "русско\n",
      "лупполово\n",
      "большое рейзино\n",
      "малая романовка\n",
      "дружноселье\n",
      "пчевжа\n",
      "володарское\n",
      "нижняя\n",
      "тихковицы\n",
      "борисова грива\n",
      "дзержинского\n"
     ]
    }
   ],
   "source": [
    "for i in data.locality_name.unique():\n",
    "    print(i)"
   ]
  },
  {
   "cell_type": "code",
   "execution_count": 24,
   "metadata": {},
   "outputs": [
    {
     "data": {
      "text/plain": [
       "305"
      ]
     },
     "execution_count": 24,
     "metadata": {},
     "output_type": "execute_result"
    }
   ],
   "source": [
    "len(data.locality_name.unique())"
   ]
  },
  {
   "cell_type": "markdown",
   "metadata": {},
   "source": [
    "В процессе корректировки названия двух населённых пунктов(Красное Село и Жилпосёлок) были искажены, поэтому приведём их названия в порядок\n"
   ]
  },
  {
   "cell_type": "code",
   "execution_count": 25,
   "metadata": {},
   "outputs": [],
   "source": [
    "data.loc[data[\"locality_name\"] == \"жил\", \"locality_name\"] = \"жилпоселок\"\n",
    "data.loc[data[\"locality_name\"] == \"красное\", \"locality_name\"] = \"красное село\""
   ]
  },
  {
   "cell_type": "markdown",
   "metadata": {},
   "source": [
    "#### Выводы:\n",
    "\n",
    "Проведена предобработка исходных данных, в столбце **locality_name** удалены 49 незаполняемых пропуска и обработаны\n",
    "неявные дубликаты (364 -> 305), тип столбца **first_day_exposition** изменён на datetime, заполнены пропуски в столбцах **balcony** и **is_apartment**, скорректирована высота потолков в **ceiling_height**.\n"
   ]
  },
  {
   "cell_type": "markdown",
   "metadata": {},
   "source": [
    "### Посчитайте и добавьте в таблицу новые столбцы\n"
   ]
  },
  {
   "cell_type": "markdown",
   "metadata": {},
   "source": [
    "Добавим в датафрейм новые колонки с необходимыми данными:\n"
   ]
  },
  {
   "cell_type": "markdown",
   "metadata": {},
   "source": [
    "Цена за один квадратный метр:\n"
   ]
  },
  {
   "cell_type": "code",
   "execution_count": 26,
   "metadata": {},
   "outputs": [
    {
     "data": {
      "text/plain": [
       "0        120370.0\n",
       "1         82921.0\n",
       "2         92786.0\n",
       "3        408176.0\n",
       "4        100000.0\n",
       "           ...   \n",
       "23645     72491.0\n",
       "23646     52542.0\n",
       "23647     44092.0\n",
       "23648    149511.0\n",
       "23649     41796.0\n",
       "Name: one_square_meter_cost, Length: 23650, dtype: float64"
      ]
     },
     "execution_count": 26,
     "metadata": {},
     "output_type": "execute_result"
    }
   ],
   "source": [
    "data[\"one_square_meter_cost\"] = (data[\"last_price\"] / data[\"total_area\"]).round()\n",
    "data[\"one_square_meter_cost\"]"
   ]
  },
  {
   "cell_type": "markdown",
   "metadata": {},
   "source": [
    "Поскольку **first_day_exposition** уже приведён к типу datetime, то день, месяц и год публикации объявления в установленной форме можно (0 - понедельник, 1 - вторник и т.д.) можно определить с помощью методов DatetimeIndex.\n"
   ]
  },
  {
   "cell_type": "code",
   "execution_count": 27,
   "metadata": {},
   "outputs": [
    {
     "data": {
      "text/plain": [
       "3    4286\n",
       "1    4175\n",
       "4    3992\n",
       "2    3966\n",
       "0    3606\n",
       "5    1933\n",
       "6    1692\n",
       "Name: publication_day, dtype: int64"
      ]
     },
     "execution_count": 27,
     "metadata": {},
     "output_type": "execute_result"
    }
   ],
   "source": [
    "data[\"publication_day\"] = pd.DatetimeIndex(data[\"first_day_exposition\"]).weekday\n",
    "data[\"publication_day\"].value_counts()"
   ]
  },
  {
   "cell_type": "code",
   "execution_count": 28,
   "metadata": {},
   "outputs": [
    {
     "data": {
      "text/plain": [
       "2     2639\n",
       "3     2582\n",
       "4     2373\n",
       "11    2367\n",
       "10    2124\n",
       "9     1979\n",
       "6     1755\n",
       "8     1742\n",
       "7     1690\n",
       "12    1638\n",
       "1     1491\n",
       "5     1270\n",
       "Name: publication_month, dtype: int64"
      ]
     },
     "execution_count": 28,
     "metadata": {},
     "output_type": "execute_result"
    }
   ],
   "source": [
    "data[\"publication_month\"] = pd.DatetimeIndex(data[\"first_day_exposition\"]).month\n",
    "data[\"publication_month\"].value_counts()"
   ]
  },
  {
   "cell_type": "code",
   "execution_count": 29,
   "metadata": {},
   "outputs": [
    {
     "data": {
      "text/plain": [
       "2018    8512\n",
       "2017    8185\n",
       "2019    2879\n",
       "2016    2765\n",
       "2015    1173\n",
       "2014     136\n",
       "Name: publication_year, dtype: int64"
      ]
     },
     "execution_count": 29,
     "metadata": {},
     "output_type": "execute_result"
    }
   ],
   "source": [
    "data[\"publication_year\"] = pd.DatetimeIndex(data[\"first_day_exposition\"]).year\n",
    "data[\"publication_year\"].value_counts()"
   ]
  },
  {
   "cell_type": "markdown",
   "metadata": {},
   "source": [
    "Квартиры по категориям будем определять с помощью функции _floor_type_, которая будет использовать строки **floor** и **floors_total**\n"
   ]
  },
  {
   "cell_type": "code",
   "execution_count": 30,
   "metadata": {},
   "outputs": [],
   "source": [
    "def floor_type(x):\n",
    "    if x.floor == 1:\n",
    "        return \"первый\"\n",
    "    elif x.floor == x.floors_total:\n",
    "        return \"последний\"\n",
    "    return \"другой\""
   ]
  },
  {
   "cell_type": "code",
   "execution_count": 31,
   "metadata": {},
   "outputs": [
    {
     "data": {
      "text/plain": [
       "другой       17408\n",
       "последний     3330\n",
       "первый        2912\n",
       "Name: apartment_floor_type, dtype: int64"
      ]
     },
     "execution_count": 31,
     "metadata": {},
     "output_type": "execute_result"
    }
   ],
   "source": [
    "data[\"apartment_floor_type\"] = data.apply(floor_type, axis=1)\n",
    "data[\"apartment_floor_type\"].value_counts()"
   ]
  },
  {
   "cell_type": "markdown",
   "metadata": {},
   "source": [
    "Расстояние до центра города в км рассчитывается из столбца **cityCenters_nearest**\n"
   ]
  },
  {
   "cell_type": "code",
   "execution_count": 32,
   "metadata": {
    "scrolled": true
   },
   "outputs": [
    {
     "data": {
      "text/plain": [
       "8.460     61\n",
       "20.802    32\n",
       "10.720    30\n",
       "20.444    27\n",
       "8.434     27\n",
       "          ..\n",
       "12.173     1\n",
       "14.368     1\n",
       "2.345      1\n",
       "27.141     1\n",
       "2.877      1\n",
       "Name: cityCenter_distance, Length: 7627, dtype: Int64"
      ]
     },
     "execution_count": 32,
     "metadata": {},
     "output_type": "execute_result"
    }
   ],
   "source": [
    "data[\"cityCenter_distance\"] = (data[\"cityCenters_nearest\"] / 1000).astype(\n",
    "    \"int\", errors=\"ignore\"\n",
    ")\n",
    "data[\"cityCenter_distance\"].value_counts()"
   ]
  },
  {
   "cell_type": "markdown",
   "metadata": {},
   "source": [
    "#### Вывод:\n",
    "\n",
    "В таблицу было добавлено 5 новых колонок с данными:\n",
    "\n",
    "- **one_square_meter_cost** - простое деление столбцов, пропусков не имеет;\n",
    "- **publication_day** - метод DatetimeIndex, пропусков не имеет;\n",
    "- **publication_month** - метод DatetimeIndex, пропусков не имеет;\n",
    "- **publication_year** - метод DatetimeIndex, пропусков не имеет;\n",
    "- **cityCenter_distance** - деление столбца на константу, пропуски обусловлены наличием незаменяемых NaN в исходном столбце.\n"
   ]
  },
  {
   "cell_type": "markdown",
   "metadata": {},
   "source": [
    "### Проведите исследовательский анализ данных\n"
   ]
  },
  {
   "cell_type": "markdown",
   "metadata": {},
   "source": [
    "Изучены и описаны следующие параметры:\n",
    "\n",
    "- общая площадь;\n",
    "- жилая площадь;\n",
    "- площадь кухни;\n",
    "- цена объекта;\n",
    "- количество комнат;\n",
    "- высота потолков;\n",
    "- этаж квартиры;\n",
    "- тип этажа квартиры («первый», «последний», «другой»);\n",
    "- общее количество этажей в доме;\n",
    "- расстояние до центра города в метрах;\n",
    "- расстояние до ближайшего аэропорта;\n",
    "- расстояние до ближайшего парка;\n",
    "- день и месяц публикации объявления\n"
   ]
  },
  {
   "cell_type": "code",
   "execution_count": 33,
   "metadata": {},
   "outputs": [
    {
     "data": {
      "text/plain": [
       "count    23650.000000\n",
       "mean        60.329069\n",
       "std         35.661808\n",
       "min         12.000000\n",
       "25%         40.000000\n",
       "50%         52.000000\n",
       "75%         69.700000\n",
       "max        900.000000\n",
       "Name: total_area, dtype: float64"
      ]
     },
     "execution_count": 33,
     "metadata": {},
     "output_type": "execute_result"
    }
   ],
   "source": [
    "data[\"total_area\"].describe()"
   ]
  },
  {
   "cell_type": "code",
   "execution_count": 34,
   "metadata": {},
   "outputs": [
    {
     "data": {
      "text/plain": [
       "<AxesSubplot:>"
      ]
     },
     "execution_count": 34,
     "metadata": {},
     "output_type": "execute_result"
    },
    {
     "data": {
      "image/png": "[encoded data removed]",
      "text/plain": [
       "<Figure size 432x288 with 1 Axes>"
      ]
     },
     "metadata": {
      "needs_background": "light"
     },
     "output_type": "display_data"
    }
   ],
   "source": [
    "data[\"total_area\"].hist(bins=range(0, 900, 10))"
   ]
  },
  {
   "cell_type": "markdown",
   "metadata": {},
   "source": [
    "**Вывод**: Большая часть представленных квартир имеет площадь не более 70 м2, чаще всего встречаются значения в районе 40-50 м2. После 100 м2 количество квартир существенно падает.\n"
   ]
  },
  {
   "cell_type": "code",
   "execution_count": 35,
   "metadata": {},
   "outputs": [
    {
     "data": {
      "text/plain": [
       "count    21752.000000\n",
       "mean        34.448356\n",
       "std         22.037664\n",
       "min          2.000000\n",
       "25%         18.600000\n",
       "50%         30.000000\n",
       "75%         42.300000\n",
       "max        409.700000\n",
       "Name: living_area, dtype: float64"
      ]
     },
     "execution_count": 35,
     "metadata": {},
     "output_type": "execute_result"
    }
   ],
   "source": [
    "data[\"living_area\"].describe()"
   ]
  },
  {
   "cell_type": "code",
   "execution_count": 36,
   "metadata": {},
   "outputs": [
    {
     "data": {
      "text/plain": [
       "<AxesSubplot:>"
      ]
     },
     "execution_count": 36,
     "metadata": {},
     "output_type": "execute_result"
    },
    {
     "data": {
      "image/png": "[encoded data removed]",
      "text/plain": [
       "<Figure size 432x288 with 1 Axes>"
      ]
     },
     "metadata": {
      "needs_background": "light"
     },
     "output_type": "display_data"
    }
   ],
   "source": [
    "data[\"living_area\"].hist(bins=range(0, round(data[\"living_area\"].max()), 10))"
   ]
  },
  {
   "cell_type": "markdown",
   "metadata": {},
   "source": [
    "**Вывод**: Не смотря на то, что медианное значение жилой площади квартиры составляет 30 м2, чаще встречаются квартиры с площадями 10-20 м2 и 30-40 м2, что представляет собой варианты, предназначенные для жизни 1 и 2 человек соответственно.\n"
   ]
  },
  {
   "cell_type": "code",
   "execution_count": 37,
   "metadata": {},
   "outputs": [
    {
     "data": {
      "text/plain": [
       "count    21381.000000\n",
       "mean        10.566403\n",
       "std          5.901753\n",
       "min          1.300000\n",
       "25%          7.000000\n",
       "50%          9.100000\n",
       "75%         12.000000\n",
       "max        112.000000\n",
       "Name: kitchen_area, dtype: float64"
      ]
     },
     "execution_count": 37,
     "metadata": {},
     "output_type": "execute_result"
    }
   ],
   "source": [
    "data[\"kitchen_area\"].describe()"
   ]
  },
  {
   "cell_type": "code",
   "execution_count": 38,
   "metadata": {},
   "outputs": [
    {
     "data": {
      "text/plain": [
       "<AxesSubplot:>"
      ]
     },
     "execution_count": 38,
     "metadata": {},
     "output_type": "execute_result"
    },
    {
     "data": {
      "image/png": "[encoded data removed]",
      "text/plain": [
       "<Figure size 432x288 with 1 Axes>"
      ]
     },
     "metadata": {
      "needs_background": "light"
     },
     "output_type": "display_data"
    }
   ],
   "source": [
    "data[\"kitchen_area\"].hist(bins=range(0, round(data[\"kitchen_area\"].max()), 10))"
   ]
  },
  {
   "cell_type": "markdown",
   "metadata": {},
   "source": [
    "**Вывод**: У большинства квартир кухня занимает места меньше, чем жилая зона, примерно в 2-6 раза и также зависит напрямую от общей площади квартиры.\n"
   ]
  },
  {
   "cell_type": "code",
   "execution_count": 39,
   "metadata": {},
   "outputs": [
    {
     "data": {
      "text/plain": [
       "count    2.365000e+04\n",
       "mean     6.541127e+06\n",
       "std      1.089640e+07\n",
       "min      1.219000e+04\n",
       "25%      3.400000e+06\n",
       "50%      4.650000e+06\n",
       "75%      6.799000e+06\n",
       "max      7.630000e+08\n",
       "Name: last_price, dtype: float64"
      ]
     },
     "execution_count": 39,
     "metadata": {},
     "output_type": "execute_result"
    }
   ],
   "source": [
    "data[\"last_price\"].describe()"
   ]
  },
  {
   "cell_type": "code",
   "execution_count": 40,
   "metadata": {},
   "outputs": [
    {
     "data": {
      "text/plain": [
       "4500000.0    342\n",
       "3500000.0    289\n",
       "4000000.0    260\n",
       "4300000.0    260\n",
       "4200000.0    258\n",
       "3600000.0    257\n",
       "3300000.0    244\n",
       "3800000.0    240\n",
       "3200000.0    238\n",
       "4100000.0    233\n",
       "Name: last_price, dtype: int64"
      ]
     },
     "execution_count": 40,
     "metadata": {},
     "output_type": "execute_result"
    },
    {
     "data": {
      "image/png": "[encoded data removed]",
      "text/plain": [
       "<Figure size 432x288 with 1 Axes>"
      ]
     },
     "metadata": {
      "needs_background": "light"
     },
     "output_type": "display_data"
    }
   ],
   "source": [
    "data[\"last_price\"].hist(bins=100)\n",
    "data[\"last_price\"].value_counts().head(10)"
   ]
  },
  {
   "cell_type": "markdown",
   "metadata": {},
   "source": [
    "**Вывод**: Большая часть цен колеблется в районе 3.5-4.5 млн. рублей, а более высокие значения характерны для больших по площади квартир с большим количеством комнат, соответственно такие варианты будут малочисленны.\n"
   ]
  },
  {
   "cell_type": "code",
   "execution_count": 41,
   "metadata": {},
   "outputs": [
    {
     "data": {
      "text/plain": [
       "count    23650.000000\n",
       "mean         2.070106\n",
       "std          1.078620\n",
       "min          0.000000\n",
       "25%          1.000000\n",
       "50%          2.000000\n",
       "75%          3.000000\n",
       "max         19.000000\n",
       "Name: rooms, dtype: float64"
      ]
     },
     "execution_count": 41,
     "metadata": {},
     "output_type": "execute_result"
    }
   ],
   "source": [
    "data[\"rooms\"].describe()"
   ]
  },
  {
   "cell_type": "code",
   "execution_count": 42,
   "metadata": {},
   "outputs": [
    {
     "data": {
      "text/plain": [
       "<AxesSubplot:>"
      ]
     },
     "execution_count": 42,
     "metadata": {},
     "output_type": "execute_result"
    },
    {
     "data": {
      "image/png": "[encoded data removed]",
      "text/plain": [
       "<Figure size 432x288 with 1 Axes>"
      ]
     },
     "metadata": {
      "needs_background": "light"
     },
     "output_type": "display_data"
    }
   ],
   "source": [
    "data[\"rooms\"].hist(bins=range(0, 20))"
   ]
  },
  {
   "cell_type": "markdown",
   "metadata": {},
   "source": [
    "**Вывод**: Чаще всего распространены 1-3 комнатные квартиры, и после этого количество квартир с большим числом комнат падает.\n"
   ]
  },
  {
   "cell_type": "code",
   "execution_count": 43,
   "metadata": {},
   "outputs": [
    {
     "data": {
      "text/plain": [
       "count    14490.000000\n",
       "mean         2.728486\n",
       "std          0.305870\n",
       "min          1.000000\n",
       "25%          2.510000\n",
       "50%          2.650000\n",
       "75%          2.800000\n",
       "max         10.300000\n",
       "Name: ceiling_height, dtype: float64"
      ]
     },
     "execution_count": 43,
     "metadata": {},
     "output_type": "execute_result"
    }
   ],
   "source": [
    "data[\"ceiling_height\"].describe()"
   ]
  },
  {
   "cell_type": "code",
   "execution_count": 44,
   "metadata": {},
   "outputs": [
    {
     "data": {
      "text/plain": [
       "<AxesSubplot:>"
      ]
     },
     "execution_count": 44,
     "metadata": {},
     "output_type": "execute_result"
    },
    {
     "data": {
      "image/png": "[encoded data removed]",
      "text/plain": [
       "<Figure size 432x288 with 1 Axes>"
      ]
     },
     "metadata": {
      "needs_background": "light"
     },
     "output_type": "display_data"
    }
   ],
   "source": [
    "data[\"ceiling_height\"].hist(bins=range(1, 11))"
   ]
  },
  {
   "cell_type": "markdown",
   "metadata": {},
   "source": [
    "**Вывод**: Результаты на график в большей мере соответствуют действительности, ведь большинство потолков находятся в диапазоне от 2.65 до 3.2, как и положено по нормативным документам.\n"
   ]
  },
  {
   "cell_type": "code",
   "execution_count": 45,
   "metadata": {},
   "outputs": [
    {
     "data": {
      "text/plain": [
       "count    23650.000000\n",
       "mean         5.893277\n",
       "std          4.883317\n",
       "min          1.000000\n",
       "25%          2.000000\n",
       "50%          4.000000\n",
       "75%          8.000000\n",
       "max         33.000000\n",
       "Name: floor, dtype: float64"
      ]
     },
     "execution_count": 45,
     "metadata": {},
     "output_type": "execute_result"
    }
   ],
   "source": [
    "data[\"floor\"].describe()"
   ]
  },
  {
   "cell_type": "code",
   "execution_count": 46,
   "metadata": {},
   "outputs": [
    {
     "data": {
      "text/plain": [
       "<AxesSubplot:>"
      ]
     },
     "execution_count": 46,
     "metadata": {},
     "output_type": "execute_result"
    },
    {
     "data": {
      "image/png": "[encoded data removed]",
      "text/plain": [
       "<Figure size 432x288 with 1 Axes>"
      ]
     },
     "metadata": {
      "needs_background": "light"
     },
     "output_type": "display_data"
    }
   ],
   "source": [
    "data[\"floor\"].hist(bins=range(0, round(data[\"floor\"].max() + 1)))"
   ]
  },
  {
   "cell_type": "markdown",
   "metadata": {},
   "source": [
    "**Вывод**: Существенное количество квартир находятся на этаже, не превышающем 5. Вероятно это обусловлено тем, что для Санкт-Петербурга, где выставлено максимальное количество объявлений, характерно большое количество пятиэтажек.\n"
   ]
  },
  {
   "cell_type": "code",
   "execution_count": 47,
   "metadata": {},
   "outputs": [
    {
     "data": {
      "text/plain": [
       "count      23650\n",
       "unique         3\n",
       "top       другой\n",
       "freq       17408\n",
       "Name: apartment_floor_type, dtype: object"
      ]
     },
     "execution_count": 47,
     "metadata": {},
     "output_type": "execute_result"
    }
   ],
   "source": [
    "data[\"apartment_floor_type\"].describe()"
   ]
  },
  {
   "cell_type": "code",
   "execution_count": 48,
   "metadata": {},
   "outputs": [
    {
     "data": {
      "text/plain": [
       "<AxesSubplot:>"
      ]
     },
     "execution_count": 48,
     "metadata": {},
     "output_type": "execute_result"
    },
    {
     "data": {
      "image/png": "[encoded data removed]",
      "text/plain": [
       "<Figure size 432x288 with 1 Axes>"
      ]
     },
     "metadata": {
      "needs_background": "light"
     },
     "output_type": "display_data"
    }
   ],
   "source": [
    "data[\"apartment_floor_type\"].hist()"
   ]
  },
  {
   "cell_type": "markdown",
   "metadata": {},
   "source": [
    "**Вывод**: Этот график позволяет дополнить предыдущий вывод тем, что на первом этаже представлено меньше всего квартир, затем по порядку возрастания идут квартиры на последних этажах, а затем все остальные.\n"
   ]
  },
  {
   "cell_type": "code",
   "execution_count": 49,
   "metadata": {},
   "outputs": [
    {
     "data": {
      "text/plain": [
       "count    23565.000000\n",
       "mean        10.675875\n",
       "std          6.594823\n",
       "min          1.000000\n",
       "25%          5.000000\n",
       "50%          9.000000\n",
       "75%         16.000000\n",
       "max         60.000000\n",
       "Name: floors_total, dtype: float64"
      ]
     },
     "execution_count": 49,
     "metadata": {},
     "output_type": "execute_result"
    }
   ],
   "source": [
    "data[\"floors_total\"].describe()"
   ]
  },
  {
   "cell_type": "code",
   "execution_count": 50,
   "metadata": {},
   "outputs": [
    {
     "data": {
      "text/plain": [
       "<AxesSubplot:>"
      ]
     },
     "execution_count": 50,
     "metadata": {},
     "output_type": "execute_result"
    },
    {
     "data": {
      "image/png": "[encoded data removed]",
      "text/plain": [
       "<Figure size 432x288 with 1 Axes>"
      ]
     },
     "metadata": {
      "needs_background": "light"
     },
     "output_type": "display_data"
    }
   ],
   "source": [
    "data[\"floors_total\"].hist(bins=range(1, 61, 1), rwidth=0.9)"
   ]
  },
  {
   "cell_type": "markdown",
   "metadata": {},
   "source": [
    "**Вывод**: Как и ожидалось, количество домов со стандартным количеством квартир (5 и 9) превалирует над всеми остальными значениями, в меньшинстве остаются квартиры, где этажей больше 30.\n"
   ]
  },
  {
   "cell_type": "code",
   "execution_count": 51,
   "metadata": {},
   "outputs": [
    {
     "data": {
      "text/plain": [
       "count    18139.000000\n",
       "mean     14197.860742\n",
       "std       8606.830295\n",
       "min        181.000000\n",
       "25%       9241.000000\n",
       "50%      13105.000000\n",
       "75%      16293.000000\n",
       "max      65968.000000\n",
       "Name: cityCenters_nearest, dtype: float64"
      ]
     },
     "execution_count": 51,
     "metadata": {},
     "output_type": "execute_result"
    }
   ],
   "source": [
    "data[\"cityCenters_nearest\"].describe()"
   ]
  },
  {
   "cell_type": "code",
   "execution_count": 52,
   "metadata": {},
   "outputs": [
    {
     "data": {
      "text/plain": [
       "8460     61\n",
       "20802    32\n",
       "10720    30\n",
       "8434     27\n",
       "20444    27\n",
       "10364    26\n",
       "8370     26\n",
       "4836     25\n",
       "13056    23\n",
       "13845    23\n",
       "Name: cityCenters_nearest, dtype: Int64"
      ]
     },
     "execution_count": 52,
     "metadata": {},
     "output_type": "execute_result"
    },
    {
     "data": {
      "image/png": "[encoded data removed]",
      "text/plain": [
       "<Figure size 432x288 with 1 Axes>"
      ]
     },
     "metadata": {
      "needs_background": "light"
     },
     "output_type": "display_data"
    }
   ],
   "source": [
    "data[\"cityCenters_nearest\"].hist(bins=100)\n",
    "data[\"cityCenters_nearest\"].value_counts().head(10)"
   ]
  },
  {
   "cell_type": "markdown",
   "metadata": {},
   "source": [
    "**Вывод**: большая часть квартир находится на удалении от центра на 8-10, 13 и 20 км, что плохо прослеживается на гистограмме, поскольку её форма сильно зависит от числа разбиений, в данном случае результат не объективен. Данные выводы опираются на результаты применения value_counts().\n"
   ]
  },
  {
   "cell_type": "code",
   "execution_count": 53,
   "metadata": {},
   "outputs": [
    {
     "data": {
      "text/plain": [
       "count    18116.000000\n",
       "mean     28803.225878\n",
       "std      12637.314144\n",
       "min          0.000000\n",
       "25%      18575.750000\n",
       "50%      26756.500000\n",
       "75%      37294.000000\n",
       "max      84869.000000\n",
       "Name: airports_nearest, dtype: float64"
      ]
     },
     "execution_count": 53,
     "metadata": {},
     "output_type": "execute_result"
    }
   ],
   "source": [
    "data[\"airports_nearest\"].describe()"
   ]
  },
  {
   "cell_type": "code",
   "execution_count": 54,
   "metadata": {},
   "outputs": [
    {
     "data": {
      "text/plain": [
       "37434    61\n",
       "21928    32\n",
       "39946    30\n",
       "44870    30\n",
       "37407    27\n",
       "18732    27\n",
       "39140    26\n",
       "31744    25\n",
       "37412    24\n",
       "47303    23\n",
       "Name: airports_nearest, dtype: Int64"
      ]
     },
     "execution_count": 54,
     "metadata": {},
     "output_type": "execute_result"
    },
    {
     "data": {
      "image/png": "[encoded data removed]",
      "text/plain": [
       "<Figure size 432x288 with 1 Axes>"
      ]
     },
     "metadata": {
      "needs_background": "light"
     },
     "output_type": "display_data"
    }
   ],
   "source": [
    "data[\"airports_nearest\"].hist(bins=range(0, 100000, 5000))\n",
    "data[\"airports_nearest\"].value_counts().head(10)"
   ]
  },
  {
   "cell_type": "markdown",
   "metadata": {},
   "source": [
    "**Вывод**: Большинство квартир находятся на достаточном удалении от аэропорта(от 10 км и выше), максимум в районе 20 и 35-40 км, что сложно проследить на гистограмме, поскольку её форма сильно зависит от числа разбиения.\n"
   ]
  },
  {
   "cell_type": "code",
   "execution_count": 55,
   "metadata": {},
   "outputs": [
    {
     "data": {
      "text/plain": [
       "count    8064.000000\n",
       "mean      490.830729\n",
       "std       342.554386\n",
       "min         1.000000\n",
       "25%       288.000000\n",
       "50%       454.500000\n",
       "75%       612.000000\n",
       "max      3190.000000\n",
       "Name: parks_nearest, dtype: float64"
      ]
     },
     "execution_count": 55,
     "metadata": {},
     "output_type": "execute_result"
    }
   ],
   "source": [
    "data[\"parks_nearest\"].describe()"
   ]
  },
  {
   "cell_type": "code",
   "execution_count": 56,
   "metadata": {},
   "outputs": [
    {
     "data": {
      "text/plain": [
       "441     67\n",
       "392     41\n",
       "173     41\n",
       "456     40\n",
       "471     32\n",
       "2102    30\n",
       "541     29\n",
       "458     29\n",
       "447     28\n",
       "288     28\n",
       "Name: parks_nearest, dtype: Int64"
      ]
     },
     "execution_count": 56,
     "metadata": {},
     "output_type": "execute_result"
    },
    {
     "data": {
      "image/png": "[encoded data removed]",
      "text/plain": [
       "<Figure size 432x288 with 1 Axes>"
      ]
     },
     "metadata": {
      "needs_background": "light"
     },
     "output_type": "display_data"
    }
   ],
   "source": [
    "data[\"parks_nearest\"].hist(bins=100)\n",
    "data[\"parks_nearest\"].value_counts().head(10)"
   ]
  },
  {
   "cell_type": "markdown",
   "metadata": {},
   "source": [
    "**Вывод**: Большинство квартир имеют недалеко от себя парки(в районе 300-600 м, что относительно недалеко, в пределах нескольких улиц)\n"
   ]
  },
  {
   "cell_type": "code",
   "execution_count": 57,
   "metadata": {},
   "outputs": [
    {
     "data": {
      "text/plain": [
       "count    23650.000000\n",
       "mean         2.568710\n",
       "std          1.788808\n",
       "min          0.000000\n",
       "25%          1.000000\n",
       "50%          3.000000\n",
       "75%          4.000000\n",
       "max          6.000000\n",
       "Name: publication_day, dtype: float64"
      ]
     },
     "execution_count": 57,
     "metadata": {},
     "output_type": "execute_result"
    }
   ],
   "source": [
    "data[\"publication_day\"].describe()"
   ]
  },
  {
   "cell_type": "code",
   "execution_count": 58,
   "metadata": {},
   "outputs": [
    {
     "data": {
      "text/plain": [
       "<AxesSubplot:>"
      ]
     },
     "execution_count": 58,
     "metadata": {},
     "output_type": "execute_result"
    },
    {
     "data": {
      "image/png": "[encoded data removed]",
      "text/plain": [
       "<Figure size 432x288 with 1 Axes>"
      ]
     },
     "metadata": {
      "needs_background": "light"
     },
     "output_type": "display_data"
    }
   ],
   "source": [
    "data[\"publication_day\"].hist(bins=7, rwidth=0.9)"
   ]
  },
  {
   "cell_type": "markdown",
   "metadata": {},
   "source": [
    "**Вывод**: В будние дни поступает больше всего объявлений, особенно в четверг и вторник, на выходных - меньше всего.\n"
   ]
  },
  {
   "cell_type": "code",
   "execution_count": 59,
   "metadata": {},
   "outputs": [
    {
     "data": {
      "text/plain": [
       "count    23650.000000\n",
       "mean         6.401564\n",
       "std          3.491418\n",
       "min          1.000000\n",
       "25%          3.000000\n",
       "50%          6.000000\n",
       "75%         10.000000\n",
       "max         12.000000\n",
       "Name: publication_month, dtype: float64"
      ]
     },
     "execution_count": 59,
     "metadata": {},
     "output_type": "execute_result"
    }
   ],
   "source": [
    "data[\"publication_month\"].describe()"
   ]
  },
  {
   "cell_type": "code",
   "execution_count": 60,
   "metadata": {},
   "outputs": [
    {
     "data": {
      "text/plain": [
       "<AxesSubplot:>"
      ]
     },
     "execution_count": 60,
     "metadata": {},
     "output_type": "execute_result"
    },
    {
     "data": {
      "image/png": "[encoded data removed]",
      "text/plain": [
       "<Figure size 432x288 with 1 Axes>"
      ]
     },
     "metadata": {
      "needs_background": "light"
     },
     "output_type": "display_data"
    }
   ],
   "source": [
    "data[\"publication_month\"].hist(bins=12, rwidth=0.9)"
   ]
  },
  {
   "cell_type": "markdown",
   "metadata": {},
   "source": [
    "**Вывод**: Меньше всего объявлений в январе, феврале и марте, больше всего - с февраля по апрель.\n"
   ]
  },
  {
   "cell_type": "markdown",
   "metadata": {},
   "source": [
    "**Задание**: \"Изучите, как быстро продавались квартиры (столбец days_exposition). Этот параметр показывает, сколько дней «висело» каждое объявление.\n",
    "\n",
    "- Постройте гистограмму.\n",
    "- Посчитайте среднее и медиану.\n"
   ]
  },
  {
   "cell_type": "code",
   "execution_count": 61,
   "metadata": {},
   "outputs": [
    {
     "name": "stdout",
     "output_type": "stream",
     "text": [
      "Медианное значение составляет 95.0 дней.\n",
      "Среднее значение составляет  180.75 дней\n"
     ]
    }
   ],
   "source": [
    "print(f\"Медианное значение составляет {data.days_exposition.median()} дней.\")\n",
    "print(f\"Среднее значение составляет {data.days_exposition.mean(): .2f} дней\")"
   ]
  },
  {
   "cell_type": "code",
   "execution_count": 62,
   "metadata": {},
   "outputs": [
    {
     "data": {
      "text/plain": [
       "<AxesSubplot:>"
      ]
     },
     "execution_count": 62,
     "metadata": {},
     "output_type": "execute_result"
    },
    {
     "data": {
      "image/png": "[encoded data removed]",
      "text/plain": [
       "<Figure size 432x288 with 1 Axes>"
      ]
     },
     "metadata": {
      "needs_background": "light"
     },
     "output_type": "display_data"
    }
   ],
   "source": [
    "data.days_exposition.hist(bins=100, range=(0, 720))"
   ]
  },
  {
   "cell_type": "code",
   "execution_count": 63,
   "metadata": {
    "scrolled": true
   },
   "outputs": [
    {
     "data": {
      "text/plain": [
       "45.0      879\n",
       "60.0      538\n",
       "7.0       234\n",
       "30.0      208\n",
       "90.0      203\n",
       "         ... \n",
       "969.0       1\n",
       "1.0         1\n",
       "1147.0      1\n",
       "1148.0      1\n",
       "1174.0      1\n",
       "Name: days_exposition, Length: 1141, dtype: int64"
      ]
     },
     "execution_count": 63,
     "metadata": {},
     "output_type": "execute_result"
    }
   ],
   "source": [
    "data.days_exposition.value_counts()"
   ]
  },
  {
   "cell_type": "markdown",
   "metadata": {},
   "source": [
    "**Вывод**:\n",
    "Медианное значение отличается от среднего практически в 2 раза, что обусловлено наличием выбросов и завышенных значений продаж в определённые дни. Квартиры чаще всего продают за первые 90 дней, причём наиболее часто это происходит примерно за 1.5, 2 месяца и за одну неделю(в этих точках наблюдается резкое увеличение продаж, возможно в эти дни оно сбрасывается или его необходимо продлять). Быстрыми можно считать продажи до 60 дней, а долгими - больше 200 дней.\n"
   ]
  },
  {
   "cell_type": "markdown",
   "metadata": {},
   "source": [
    "**Задание**: \"Какие факторы больше всего влияют на общую (полную) стоимость объекта? Постройте графики, которые покажут зависимость цены от указанных ниже параметров. Для подготовки данных перед визуализацией вы можете использовать сводные таблицы.\"\n",
    "\n",
    "- общей площади;\n",
    "- жилой площади;\n",
    "- площади кухни;\n",
    "- количество комнат;\n",
    "- типа этажа, на котором расположена квартира (первый, последний, другой);\n",
    "- даты размещения (день недели, месяц, год);\n"
   ]
  },
  {
   "cell_type": "markdown",
   "metadata": {},
   "source": [
    "Для подготовки к анализу взаимосвязей между данными выделим необходимые стоблцы с данными в отдельный список и исследуем матрицу корелляции:\n"
   ]
  },
  {
   "cell_type": "code",
   "execution_count": 64,
   "metadata": {},
   "outputs": [
    {
     "data": {
      "text/html": [
       "<div>\n",
       "<style scoped>\n",
       "    .dataframe tbody tr th:only-of-type {\n",
       "        vertical-align: middle;\n",
       "    }\n",
       "\n",
       "    .dataframe tbody tr th {\n",
       "        vertical-align: top;\n",
       "    }\n",
       "\n",
       "    .dataframe thead th {\n",
       "        text-align: right;\n",
       "    }\n",
       "</style>\n",
       "<table border=\"1\" class=\"dataframe\">\n",
       "  <thead>\n",
       "    <tr style=\"text-align: right;\">\n",
       "      <th></th>\n",
       "      <th>last_price</th>\n",
       "      <th>total_area</th>\n",
       "      <th>living_area</th>\n",
       "      <th>kitchen_area</th>\n",
       "      <th>rooms</th>\n",
       "    </tr>\n",
       "  </thead>\n",
       "  <tbody>\n",
       "    <tr>\n",
       "      <th>last_price</th>\n",
       "      <td>1.000000</td>\n",
       "      <td>0.653743</td>\n",
       "      <td>0.566517</td>\n",
       "      <td>0.520233</td>\n",
       "      <td>0.363421</td>\n",
       "    </tr>\n",
       "    <tr>\n",
       "      <th>total_area</th>\n",
       "      <td>0.653743</td>\n",
       "      <td>1.000000</td>\n",
       "      <td>0.939534</td>\n",
       "      <td>0.608879</td>\n",
       "      <td>0.758745</td>\n",
       "    </tr>\n",
       "    <tr>\n",
       "      <th>living_area</th>\n",
       "      <td>0.566517</td>\n",
       "      <td>0.939534</td>\n",
       "      <td>1.000000</td>\n",
       "      <td>0.428773</td>\n",
       "      <td>0.846088</td>\n",
       "    </tr>\n",
       "    <tr>\n",
       "      <th>kitchen_area</th>\n",
       "      <td>0.520233</td>\n",
       "      <td>0.608879</td>\n",
       "      <td>0.428773</td>\n",
       "      <td>1.000000</td>\n",
       "      <td>0.270585</td>\n",
       "    </tr>\n",
       "    <tr>\n",
       "      <th>rooms</th>\n",
       "      <td>0.363421</td>\n",
       "      <td>0.758745</td>\n",
       "      <td>0.846088</td>\n",
       "      <td>0.270585</td>\n",
       "      <td>1.000000</td>\n",
       "    </tr>\n",
       "  </tbody>\n",
       "</table>\n",
       "</div>"
      ],
      "text/plain": [
       "              last_price  total_area  living_area  kitchen_area     rooms\n",
       "last_price      1.000000    0.653743     0.566517      0.520233  0.363421\n",
       "total_area      0.653743    1.000000     0.939534      0.608879  0.758745\n",
       "living_area     0.566517    0.939534     1.000000      0.428773  0.846088\n",
       "kitchen_area    0.520233    0.608879     0.428773      1.000000  0.270585\n",
       "rooms           0.363421    0.758745     0.846088      0.270585  1.000000"
      ]
     },
     "execution_count": 64,
     "metadata": {},
     "output_type": "execute_result"
    }
   ],
   "source": [
    "corr_column = [\n",
    "    \"last_price\",\n",
    "    \"total_area\",\n",
    "    \"living_area\",\n",
    "    \"kitchen_area\",\n",
    "    \"rooms\",\n",
    "    \"apartment_floor_type\",\n",
    "    \"publication_day\",\n",
    "    \"publication_month\",\n",
    "    \"publication_year\",\n",
    "]\n",
    "data[corr_column[:5]].corr()"
   ]
  },
  {
   "cell_type": "markdown",
   "metadata": {},
   "source": [
    "Для оптимизации времени на построение и исследование графиков используем цикл, названия графиков же запишем в отдельный список:\n"
   ]
  },
  {
   "cell_type": "code",
   "execution_count": 65,
   "metadata": {},
   "outputs": [
    {
     "data": {
      "image/png": "[encoded data removed]",
      "text/plain": [
       "<Figure size 432x288 with 1 Axes>"
      ]
     },
     "metadata": {
      "needs_background": "light"
     },
     "output_type": "display_data"
    },
    {
     "data": {
      "image/png": "[encoded data removed]",
      "text/plain": [
       "<Figure size 432x288 with 1 Axes>"
      ]
     },
     "metadata": {
      "needs_background": "light"
     },
     "output_type": "display_data"
    },
    {
     "data": {
      "image/png": "[encoded data removed]",
      "text/plain": [
       "<Figure size 432x288 with 1 Axes>"
      ]
     },
     "metadata": {
      "needs_background": "light"
     },
     "output_type": "display_data"
    },
    {
     "data": {
      "image/png": "[encoded data removed]",
      "text/plain": [
       "<Figure size 432x288 with 1 Axes>"
      ]
     },
     "metadata": {
      "needs_background": "light"
     },
     "output_type": "display_data"
    }
   ],
   "source": [
    "title_names = [\n",
    "    \"Зависимость цены квартиры от общей площади\",\n",
    "    \"Зависимость цены квартиры от жилой площади\",\n",
    "    \"Зависимость цены квартиры от площади кухни\",\n",
    "    \"Зависимость цены квартиры от количества комнат\",\n",
    "    \"Зависимость цены квартиры от типа этажа\",\n",
    "    \"Зависимость цены квартиры от дня недели публикации объявления\",\n",
    "    \"Зависимость цены квартиры от месяца публикации объявления\",\n",
    "    \"Зависимость цены квартиры от года публикации объявления\",\n",
    "]\n",
    "for col, name in zip(corr_column[1:], title_names[:4]):\n",
    "    data.sort_values(by=col).plot(\n",
    "        x=col,\n",
    "        y=\"last_price\",\n",
    "        grid=True,\n",
    "        kind=\"scatter\",\n",
    "        title=name,\n",
    "        logy=True,\n",
    "        alpha=0.1,\n",
    "    )"
   ]
  },
  {
   "cell_type": "markdown",
   "metadata": {},
   "source": [
    "Для категориальных переменных такой график не корректен, поэтому применим столбчатые диаграммы:\n"
   ]
  },
  {
   "cell_type": "code",
   "execution_count": 66,
   "metadata": {},
   "outputs": [
    {
     "data": {
      "image/png": "[encoded data removed]",
      "text/plain": [
       "<Figure size 432x288 with 1 Axes>"
      ]
     },
     "metadata": {
      "needs_background": "light"
     },
     "output_type": "display_data"
    },
    {
     "data": {
      "image/png": "[encoded data removed]",
      "text/plain": [
       "<Figure size 432x288 with 1 Axes>"
      ]
     },
     "metadata": {
      "needs_background": "light"
     },
     "output_type": "display_data"
    },
    {
     "data": {
      "image/png": "[encoded data removed]",
      "text/plain": [
       "<Figure size 432x288 with 1 Axes>"
      ]
     },
     "metadata": {
      "needs_background": "light"
     },
     "output_type": "display_data"
    },
    {
     "data": {
      "image/png": "[encoded data removed]",
      "text/plain": [
       "<Figure size 432x288 with 1 Axes>"
      ]
     },
     "metadata": {
      "needs_background": "light"
     },
     "output_type": "display_data"
    }
   ],
   "source": [
    "for col, name in zip(corr_column[5:], title_names[4:]):\n",
    "    data.pivot_table(index=col, values=\"last_price\", aggfunc=\"median\").plot(\n",
    "        kind=\"bar\", title=name, logy=True\n",
    "    )"
   ]
  },
  {
   "cell_type": "markdown",
   "metadata": {},
   "source": [
    "**Вывод**:\n",
    "На первых трёх графиках, где отражена зависимость между ценой квартиры и площадями частей помещения наблюдается прямая корелляция, слабая корелляция также наблюдается и в графике с числом комнат. Остальные графики были просчитаны по медианному значению цены для каждой из категорий.\n"
   ]
  },
  {
   "cell_type": "markdown",
   "metadata": {},
   "source": [
    "Проведём подробный аналих одной из категориальных переменных, например **apartment_floor_type**, отвечающую за тип этажа:\n"
   ]
  },
  {
   "cell_type": "code",
   "execution_count": 67,
   "metadata": {},
   "outputs": [
    {
     "data": {
      "text/html": [
       "<div>\n",
       "<style scoped>\n",
       "    .dataframe tbody tr th:only-of-type {\n",
       "        vertical-align: middle;\n",
       "    }\n",
       "\n",
       "    .dataframe tbody tr th {\n",
       "        vertical-align: top;\n",
       "    }\n",
       "\n",
       "    .dataframe thead tr th {\n",
       "        text-align: left;\n",
       "    }\n",
       "\n",
       "    .dataframe thead tr:last-of-type th {\n",
       "        text-align: right;\n",
       "    }\n",
       "</style>\n",
       "<table border=\"1\" class=\"dataframe\">\n",
       "  <thead>\n",
       "    <tr>\n",
       "      <th></th>\n",
       "      <th>count</th>\n",
       "      <th>mean</th>\n",
       "      <th>median</th>\n",
       "    </tr>\n",
       "    <tr>\n",
       "      <th></th>\n",
       "      <th>last_price</th>\n",
       "      <th>last_price</th>\n",
       "      <th>last_price</th>\n",
       "    </tr>\n",
       "    <tr>\n",
       "      <th>apartment_floor_type</th>\n",
       "      <th></th>\n",
       "      <th></th>\n",
       "      <th></th>\n",
       "    </tr>\n",
       "  </thead>\n",
       "  <tbody>\n",
       "    <tr>\n",
       "      <th>другой</th>\n",
       "      <td>17408</td>\n",
       "      <td>6.675825e+06</td>\n",
       "      <td>4850000.0</td>\n",
       "    </tr>\n",
       "    <tr>\n",
       "      <th>первый</th>\n",
       "      <td>2912</td>\n",
       "      <td>4.800465e+06</td>\n",
       "      <td>3900000.0</td>\n",
       "    </tr>\n",
       "    <tr>\n",
       "      <th>последний</th>\n",
       "      <td>3330</td>\n",
       "      <td>7.359138e+06</td>\n",
       "      <td>4300000.0</td>\n",
       "    </tr>\n",
       "  </tbody>\n",
       "</table>\n",
       "</div>"
      ],
      "text/plain": [
       "                          count          mean     median\n",
       "                     last_price    last_price last_price\n",
       "apartment_floor_type                                    \n",
       "другой                    17408  6.675825e+06  4850000.0\n",
       "первый                     2912  4.800465e+06  3900000.0\n",
       "последний                  3330  7.359138e+06  4300000.0"
      ]
     },
     "execution_count": 67,
     "metadata": {},
     "output_type": "execute_result"
    }
   ],
   "source": [
    "data.pivot_table(\n",
    "    index=\"apartment_floor_type\",\n",
    "    values=\"last_price\",\n",
    "    aggfunc=[\"count\", \"mean\", \"median\"],\n",
    ")"
   ]
  },
  {
   "cell_type": "markdown",
   "metadata": {},
   "source": [
    "По столбцу _count_ видно, что крайних этажей меньше, чем остальных, поэтому также следует проверить результаты для объединённых категорий:\n"
   ]
  },
  {
   "cell_type": "code",
   "execution_count": 68,
   "metadata": {},
   "outputs": [
    {
     "name": "stdout",
     "output_type": "stream",
     "text": [
      "Средняя цена крайних этажей 6.1655e+06\n",
      "Медианная цена крайних этажей 4.1e+06\n"
     ]
    }
   ],
   "source": [
    "print(\n",
    "    f'Средняя цена крайних этажей {data.loc[data[\"apartment_floor_type\"] != \"другой\", \"last_price\"].mean():.5g}'\n",
    ")\n",
    "print(\n",
    "    f'Медианная цена крайних этажей {data.loc[data[\"apartment_floor_type\"] != \"другой\", \"last_price\"].median():.5g}'\n",
    ")"
   ]
  },
  {
   "cell_type": "markdown",
   "metadata": {},
   "source": [
    "Отсюда следует, что квартиры на первых и последних этажах обычно дешевле, чем на остальных, причём среди них самыми дешёвыми можно назвать квартиры, расположенные на первом этаже.\n"
   ]
  },
  {
   "cell_type": "markdown",
   "metadata": {},
   "source": [
    "**Вывод**:\n",
    "Согласно матрице корреляции и графикам, больше всего стоимость квартиры зависит от следующих показателей:\n",
    "\n",
    "- **_total_area_**: кореляция составляет 0.653743;\n",
    "- **_living_area_**: кореляция составляет 0.566517;\n",
    "- **_kitchen_area_**: кореляция составляет 0.520233;\n",
    "- **_rooms_**: кореляция составляет 0.363421.\n",
    "\n",
    "Указанные параметры напрямую зависят друг от друга, общая площадь в большей мере, количество комнат - в меньшей мере. Остальные параметры либо не оказывают никакого влияния на цену, либо связаны с ней нелинейной зависимостью, которую на текущем этапе установить не представляется возможным.\n",
    "Из оставшихся графиков получены следующие результаты:\n",
    "\n",
    "- **_apartment_floor_type_**: на крайних этажах цены ниже, чем на других, причём сэкономить можно до 0.9 млн.\n",
    "- **_publication day_**: самые высокие цены приходятся на будние дни, в то время как самые низкие приходятся на выходные и предвыходные дни недели.\n",
    "- **_publication month_**: апрель, сентябрь, ноябрь и декабрь - самые невыгодные для покупки квартиры месяцы, в отличие от мая и июля, ведь в таком случае можно сэкономить до 0.3-0.4 млн. рублей.\n",
    "- **_publication year_**: самая высокая цена на квартиры наблюдалась в 2014, причём она выше на 2-2.5 млн, чем в остальное время, самые дешёвые же квартиры прослеживаются в 2017 году.\n"
   ]
  },
  {
   "cell_type": "markdown",
   "metadata": {},
   "source": [
    "**Задание**: \"Посчитайте среднюю цену одного квадратного метра в 10 населённых пунктах с наибольшим числом объявлений. Выделите населённые пункты с самой высокой и низкой стоимостью квадратного метра. Эти данные можно найти по имени в столбце locality_name.\"\n"
   ]
  },
  {
   "cell_type": "code",
   "execution_count": 69,
   "metadata": {},
   "outputs": [
    {
     "data": {
      "text/html": [
       "<div>\n",
       "<style scoped>\n",
       "    .dataframe tbody tr th:only-of-type {\n",
       "        vertical-align: middle;\n",
       "    }\n",
       "\n",
       "    .dataframe tbody tr th {\n",
       "        vertical-align: top;\n",
       "    }\n",
       "\n",
       "    .dataframe thead th {\n",
       "        text-align: right;\n",
       "    }\n",
       "</style>\n",
       "<table border=\"1\" class=\"dataframe\">\n",
       "  <thead>\n",
       "    <tr style=\"text-align: right;\">\n",
       "      <th></th>\n",
       "      <th>Число объявлений, ед</th>\n",
       "      <th>Цена за 1 м.кв., руб.</th>\n",
       "    </tr>\n",
       "    <tr>\n",
       "      <th>locality_name</th>\n",
       "      <th></th>\n",
       "      <th></th>\n",
       "    </tr>\n",
       "  </thead>\n",
       "  <tbody>\n",
       "    <tr>\n",
       "      <th>санкт-петербург</th>\n",
       "      <td>15721</td>\n",
       "      <td>114849.005788</td>\n",
       "    </tr>\n",
       "    <tr>\n",
       "      <th>мурино</th>\n",
       "      <td>590</td>\n",
       "      <td>86087.508475</td>\n",
       "    </tr>\n",
       "    <tr>\n",
       "      <th>кудрово</th>\n",
       "      <td>472</td>\n",
       "      <td>95324.957627</td>\n",
       "    </tr>\n",
       "    <tr>\n",
       "      <th>шушары</th>\n",
       "      <td>440</td>\n",
       "      <td>78677.379545</td>\n",
       "    </tr>\n",
       "    <tr>\n",
       "      <th>всеволожск</th>\n",
       "      <td>398</td>\n",
       "      <td>68654.474874</td>\n",
       "    </tr>\n",
       "    <tr>\n",
       "      <th>пушкин</th>\n",
       "      <td>369</td>\n",
       "      <td>103125.818428</td>\n",
       "    </tr>\n",
       "    <tr>\n",
       "      <th>колпино</th>\n",
       "      <td>338</td>\n",
       "      <td>75424.571006</td>\n",
       "    </tr>\n",
       "    <tr>\n",
       "      <th>парголово</th>\n",
       "      <td>327</td>\n",
       "      <td>90175.886850</td>\n",
       "    </tr>\n",
       "    <tr>\n",
       "      <th>гатчина</th>\n",
       "      <td>307</td>\n",
       "      <td>68746.110749</td>\n",
       "    </tr>\n",
       "    <tr>\n",
       "      <th>выборг</th>\n",
       "      <td>237</td>\n",
       "      <td>58141.919831</td>\n",
       "    </tr>\n",
       "  </tbody>\n",
       "</table>\n",
       "</div>"
      ],
      "text/plain": [
       "                 Число объявлений, ед  Цена за 1 м.кв., руб.\n",
       "locality_name                                               \n",
       "санкт-петербург                 15721          114849.005788\n",
       "мурино                            590           86087.508475\n",
       "кудрово                           472           95324.957627\n",
       "шушары                            440           78677.379545\n",
       "всеволожск                        398           68654.474874\n",
       "пушкин                            369          103125.818428\n",
       "колпино                           338           75424.571006\n",
       "парголово                         327           90175.886850\n",
       "гатчина                           307           68746.110749\n",
       "выборг                            237           58141.919831"
      ]
     },
     "execution_count": 69,
     "metadata": {},
     "output_type": "execute_result"
    }
   ],
   "source": [
    "all_osmc = data.pivot_table(\n",
    "    index=\"locality_name\", values=\"one_square_meter_cost\", aggfunc=[\"count\", \"mean\"]\n",
    ")\n",
    "top_10_osmc = all_osmc.sort_values(\n",
    "    by=[(\"count\", \"one_square_meter_cost\")], ascending=False\n",
    ").head(10)\n",
    "top_10_osmc.columns = [\"Число объявлений, ед\", \"Цена за 1 м.кв., руб.\"]\n",
    "top_10_osmc"
   ]
  },
  {
   "cell_type": "code",
   "execution_count": 70,
   "metadata": {},
   "outputs": [
    {
     "data": {
      "image/png": "[encoded data removed]",
      "text/plain": [
       "<Figure size 720x360 with 1 Axes>"
      ]
     },
     "metadata": {
      "needs_background": "light"
     },
     "output_type": "display_data"
    }
   ],
   "source": [
    "top_10_osmc.plot(\n",
    "    kind=\"bar\",\n",
    "    logy=True,\n",
    "    xlabel=\"Название населённого пункта\",\n",
    "    ylabel=\"Метрики\",\n",
    "    rot=45,\n",
    "    figsize=(10, 5),\n",
    ")\n",
    "plt.legend(loc=\"center left\", bbox_to_anchor=(1, 0.5))\n",
    "plt.show()"
   ]
  },
  {
   "cell_type": "code",
   "execution_count": 71,
   "metadata": {},
   "outputs": [
    {
     "data": {
      "text/plain": [
       "(0.0, 200000.0)"
      ]
     },
     "execution_count": 71,
     "metadata": {},
     "output_type": "execute_result"
    },
    {
     "data": {
      "image/png": "[encoded data removed]",
      "text/plain": [
       "<Figure size 1440x720 with 1 Axes>"
      ]
     },
     "metadata": {
      "needs_background": "light"
     },
     "output_type": "display_data"
    }
   ],
   "source": [
    "# Код ревьюера\n",
    "\n",
    "ax = data.query(\"locality_name in @top_10_osmc.index\").boxplot(\n",
    "    \"one_square_meter_cost\", by=\"locality_name\", figsize=(20, 10)\n",
    ")\n",
    "ax.set_ylim(0, 200000)"
   ]
  },
  {
   "cell_type": "markdown",
   "metadata": {},
   "source": [
    "Населённые пункты с наименьшей и наибольшей стоимостью квадратного метра(среди всех значений):\n"
   ]
  },
  {
   "cell_type": "code",
   "execution_count": 72,
   "metadata": {},
   "outputs": [
    {
     "data": {
      "text/html": [
       "<div>\n",
       "<style scoped>\n",
       "    .dataframe tbody tr th:only-of-type {\n",
       "        vertical-align: middle;\n",
       "    }\n",
       "\n",
       "    .dataframe tbody tr th {\n",
       "        vertical-align: top;\n",
       "    }\n",
       "\n",
       "    .dataframe thead th {\n",
       "        text-align: right;\n",
       "    }\n",
       "</style>\n",
       "<table border=\"1\" class=\"dataframe\">\n",
       "  <thead>\n",
       "    <tr style=\"text-align: right;\">\n",
       "      <th></th>\n",
       "      <th>one_square_meter_cost</th>\n",
       "    </tr>\n",
       "    <tr>\n",
       "      <th>locality_name</th>\n",
       "      <th></th>\n",
       "    </tr>\n",
       "  </thead>\n",
       "  <tbody>\n",
       "    <tr>\n",
       "      <th>зеленогорск</th>\n",
       "      <td>115122.750000</td>\n",
       "    </tr>\n",
       "    <tr>\n",
       "      <th>старополье</th>\n",
       "      <td>11206.333333</td>\n",
       "    </tr>\n",
       "  </tbody>\n",
       "</table>\n",
       "</div>"
      ],
      "text/plain": [
       "               one_square_meter_cost\n",
       "locality_name                       \n",
       "зеленогорск            115122.750000\n",
       "старополье              11206.333333"
      ]
     },
     "execution_count": 72,
     "metadata": {},
     "output_type": "execute_result"
    }
   ],
   "source": [
    "all_osmc.loc[\n",
    "    (\n",
    "        all_osmc[\"mean\"][\"one_square_meter_cost\"]\n",
    "        == all_osmc[\"mean\"][\"one_square_meter_cost\"].max()\n",
    "    )\n",
    "    | (\n",
    "        all_osmc[\"mean\"][\"one_square_meter_cost\"]\n",
    "        == all_osmc[\"mean\"][\"one_square_meter_cost\"].min()\n",
    "    ),\n",
    "    \"mean\",\n",
    "]"
   ]
  },
  {
   "cell_type": "markdown",
   "metadata": {},
   "source": [
    "**Вывод**:\n",
    "Наибольшее количество объявлений наблюдается в _Санкт-Петербурге_. Самая большая удельная цена квадратного метра одной квартиры наблюдается в _Зеленогорске_, наименьшая - в _Старополье_.\n"
   ]
  },
  {
   "cell_type": "markdown",
   "metadata": {},
   "source": [
    "**Задание**: \"Ранее вы посчитали расстояние до центра в километрах. Теперь выделите квартиры в Санкт-Петербурге с помощью столбца locality_name и вычислите среднюю цену каждого километра. Опишите, как стоимость объектов зависит от расстояния до центра города.\"\n"
   ]
  },
  {
   "cell_type": "code",
   "execution_count": 73,
   "metadata": {},
   "outputs": [
    {
     "data": {
      "image/png": "[encoded data removed]",
      "text/plain": [
       "<Figure size 432x288 with 1 Axes>"
      ]
     },
     "metadata": {
      "needs_background": "light"
     },
     "output_type": "display_data"
    }
   ],
   "source": [
    "spb_data = data.loc[data[\"locality_name\"] == \"санкт-петербург\"]\n",
    "spb_data.pivot_table(index=\"cityCenter_distance\", values=\"last_price\").plot(\n",
    "    grid=True, xlabel=\"Расстояние от центра, км\", ylabel=\"Цена квартиры, руб\"\n",
    ")\n",
    "plt.show()"
   ]
  },
  {
   "cell_type": "markdown",
   "metadata": {},
   "source": [
    "**Вывод**:\n",
    "Чем дальше квартира от центра города, тем меньше её стоимость, однако в диапазоне 6 км наблюдается небольшой всплеск цены.\n"
   ]
  },
  {
   "cell_type": "markdown",
   "metadata": {},
   "source": [
    "### Общий вывод\n",
    "\n",
    "Изучены данные объявлений о продаже недвижимости в Санкт-Петербурге и прилегающих районах, обработаны данные: исключены пропуски столбца **locality_name**, заполнены пропуски в **balcony** и **is_apartment**, исправлены аномалии в **ceiling_height**, там где требуется, изменён тип данных, обработаны явные и неявные дубликаты в столбце **locality_name**.\n",
    "По результатам исследовательского анализа данных можно заключить следующее:\n",
    "\n",
    "- Самая часто встречаемая жилая площадь порядка 17-18 и 30 м2, а кухни порядка 6-10 м2. Общая площадь чаще находится около 42 +- 3 м2, а также часто попадается 60 м2.\n",
    "- В объявлениях больше всего 1-3 комнатных квартир стоимостью порядка 3.5-4.5 млн. руб., чаще продаются квартиры до 5 этажа включительно.\n",
    "- Достаточно много квартир в пяти и девятиэтажках, расположенных на достаточном удалении как от центра города, так и от аэропортов. Тем не менее, зачастую в пешей доступности находится парк.\n",
    "- В будние дни публикуется больше объявлений, чем в выходные. Больше всего объявлений публикуется с февраля по апрель, меньше всего объявлений в январе, декабре и мае.\n",
    "- Чаще всего квартиры продаются за 45 или 60 дней, при этом более половины квартир продаются в первые 100 дней после появления объявления. Менее удачными можно считать объявления, которые продавались более 200 дней.\n",
    "- Прямое влияние на стоимость квартиры больше всего оказывают следующие параметры(у в порядке убывания влияния): общая площадь, жилая площадь, площадь кухни, количество комнат. Остальные переменные влияния не оказывают или оно нелинейно.\n",
    "- Наибольшей выгодой обладают объявления о продаже квартиры на первом или последнем этаже за 2017 год. Также лучше рассматривать предложения, опубликованные с пятницы по воскресенье в мае или июле.\n",
    "- Максимальная удельная стоимость квадратного метра в Зеленогорске, минимальная - в Старополье.\n",
    "- Чем дальше квартира находится от центра Санкт-Петербурга, тем меньше она будет стоить.\n",
    "\n",
    "Стоит отметить, что большое количество пропусков оставлены незаполненными, поскольку они должны опираться на картографические данные, заменить которые проблематично, в то время как часть значений, определяемых продавцом можно заполнить медианными значениями, если есть возможность распределить их по каким либо категориям.\n"
   ]
  },
  {
   "cell_type": "markdown",
   "metadata": {},
   "source": [
    "**Чек-лист готовности проекта**\n",
    "\n",
    "Поставьте 'x' в выполненных пунктах. Далее нажмите Shift+Enter.\n"
   ]
  },
  {
   "cell_type": "markdown",
   "metadata": {},
   "source": [
    "- [x] открыт файл\n",
    "- [x] файлы изучены (выведены первые строки, метод `info()`, гистограммы и т.д.)\n",
    "- [x] определены пропущенные значения\n",
    "- [x] заполнены пропущенные значения там, где это возможно\n",
    "- [x] есть пояснение, какие пропущенные значения обнаружены\n",
    "- [x] изменены типы данных\n",
    "- [x] есть пояснение, в каких столбцах изменены типы и почему\n",
    "- [x] устранены неявные дубликаты в названиях населённых пунктов\n",
    "- [x] устранены редкие и выбивающиеся значения (аномалии) во всех столбцах\n",
    "- [x] посчитано и добавлено в таблицу: цена одного квадратного метра\n",
    "- [x] посчитано и добавлено в таблицу: день публикации объявления (0 - понедельник, 1 - вторник и т.д.)\n",
    "- [x] посчитано и добавлено в таблицу: месяц публикации объявления\n",
    "- [x] посчитано и добавлено в таблицу: год публикации объявления\n",
    "- [x] посчитано и добавлено в таблицу: тип этажа квартиры (значения — «первый», «последний», «другой»)\n",
    "- [x] посчитано и добавлено в таблицу: расстояние в км до центра города\n",
    "- [x] изучены и описаны следующие параметры: - общая площадь; - жилая площадь; - площадь кухни; - цена объекта; - количество комнат; - высота потолков; - этаж квартиры; - тип этажа квартиры («первый», «последний», «другой»); - общее количество этажей в доме; - расстояние до центра города в метрах; - расстояние до ближайшего аэропорта; - расстояние до ближайшего парка; - день и месяц публикации объявления\n",
    "- [x] построены гистограммы для каждого параметра\n",
    "- [x] выполнено задание: \"Изучите, как быстро продавались квартиры (столбец days_exposition). Этот параметр показывает, сколько дней «висело» каждое объявление.\n",
    "  - Постройте гистограмму.\n",
    "  - Посчитайте среднее и медиану.\n",
    "  - В ячейке типа markdown опишите, сколько обычно занимает продажа. Какие продажи можно считать быстрыми, а какие — необычно долгими?\"\n",
    "- [x] выполнено задание: \"Какие факторы больше всего влияют на общую (полную) стоимость объекта? Постройте графики, которые покажут зависимость цены от указанных ниже параметров. Для подготовки данных перед визуализацией вы можете использовать сводные таблицы.\" - общей площади; - жилой площади; - площади кухни; - количество комнат; - типа этажа, на котором расположена квартира (первый, последний, другой); - даты размещения (день недели, месяц, год);\n",
    "- [x] выполнено задание: \"Посчитайте среднюю цену одного квадратного метра в 10 населённых пунктах с наибольшим числом объявлений. Выделите населённые пункты с самой высокой и низкой стоимостью квадратного метра. Эти данные можно найти по имени в столбце `locality_name`.\"\n",
    "- [x] выполнено задание: \"Ранее вы посчитали расстояние до центра в километрах. Теперь выделите квартиры в Санкт-Петербурге с помощью столбца `locality_name` и вычислите среднюю цену каждого километра. Опишите, как стоимость объектов зависит от расстояния до центра города.\"\n",
    "- [x] в каждом этапе есть промежуточные выводы\n",
    "- [x] есть общий вывод\n"
   ]
  }
 ],
 "metadata": {
  "ExecuteTimeLog": [
   {
    "duration": 643,
    "start_time": "2022-10-08T18:01:38.551Z"
   },
   {
    "duration": 272,
    "start_time": "2022-10-08T18:01:39.196Z"
   },
   {
    "duration": 13,
    "start_time": "2022-10-08T18:01:39.469Z"
   },
   {
    "duration": 71,
    "start_time": "2022-10-08T18:01:39.484Z"
   },
   {
    "duration": 1629,
    "start_time": "2022-10-08T18:01:39.557Z"
   },
   {
    "duration": 9,
    "start_time": "2022-10-08T18:01:41.187Z"
   },
   {
    "duration": 20,
    "start_time": "2022-10-08T18:01:41.197Z"
   },
   {
    "duration": 5,
    "start_time": "2022-10-08T18:01:41.219Z"
   },
   {
    "duration": 9,
    "start_time": "2022-10-08T18:01:41.225Z"
   },
   {
    "duration": 8,
    "start_time": "2022-10-08T18:01:41.236Z"
   },
   {
    "duration": 6,
    "start_time": "2022-10-08T18:01:41.246Z"
   },
   {
    "duration": 12,
    "start_time": "2022-10-08T18:01:41.253Z"
   },
   {
    "duration": 5,
    "start_time": "2022-10-08T18:01:41.266Z"
   },
   {
    "duration": 41,
    "start_time": "2022-10-08T18:01:41.272Z"
   },
   {
    "duration": 10,
    "start_time": "2022-10-08T18:01:41.314Z"
   },
   {
    "duration": 13,
    "start_time": "2022-10-08T18:01:41.326Z"
   },
   {
    "duration": 19,
    "start_time": "2022-10-08T18:01:41.341Z"
   },
   {
    "duration": 5,
    "start_time": "2022-10-08T18:01:41.362Z"
   },
   {
    "duration": 63,
    "start_time": "2022-10-08T18:01:41.369Z"
   },
   {
    "duration": 5,
    "start_time": "2022-10-08T18:01:41.434Z"
   },
   {
    "duration": 6,
    "start_time": "2022-10-08T18:01:41.441Z"
   },
   {
    "duration": 233,
    "start_time": "2022-10-08T18:01:41.448Z"
   },
   {
    "duration": 29,
    "start_time": "2022-10-08T18:01:41.683Z"
   },
   {
    "duration": 6,
    "start_time": "2022-10-08T18:01:41.722Z"
   },
   {
    "duration": 8,
    "start_time": "2022-10-08T18:01:41.729Z"
   },
   {
    "duration": 7,
    "start_time": "2022-10-08T18:01:41.739Z"
   },
   {
    "duration": 7,
    "start_time": "2022-10-08T18:01:41.747Z"
   },
   {
    "duration": 6,
    "start_time": "2022-10-08T18:01:41.758Z"
   },
   {
    "duration": 48,
    "start_time": "2022-10-08T18:01:41.766Z"
   },
   {
    "duration": 2,
    "start_time": "2022-10-08T18:01:41.816Z"
   },
   {
    "duration": 518,
    "start_time": "2022-10-08T18:01:41.820Z"
   },
   {
    "duration": 82,
    "start_time": "2022-10-08T18:01:42.339Z"
   },
   {
    "duration": 0,
    "start_time": "2022-10-08T18:01:42.423Z"
   },
   {
    "duration": 0,
    "start_time": "2022-10-08T18:01:42.424Z"
   },
   {
    "duration": 0,
    "start_time": "2022-10-08T18:01:42.425Z"
   },
   {
    "duration": 0,
    "start_time": "2022-10-08T18:01:42.427Z"
   },
   {
    "duration": 0,
    "start_time": "2022-10-08T18:01:42.428Z"
   },
   {
    "duration": 0,
    "start_time": "2022-10-08T18:01:42.430Z"
   },
   {
    "duration": 0,
    "start_time": "2022-10-08T18:01:42.431Z"
   },
   {
    "duration": 0,
    "start_time": "2022-10-08T18:01:42.432Z"
   },
   {
    "duration": 0,
    "start_time": "2022-10-08T18:01:42.434Z"
   },
   {
    "duration": 0,
    "start_time": "2022-10-08T18:01:42.435Z"
   },
   {
    "duration": 0,
    "start_time": "2022-10-08T18:01:42.436Z"
   },
   {
    "duration": 0,
    "start_time": "2022-10-08T18:01:42.437Z"
   },
   {
    "duration": 0,
    "start_time": "2022-10-08T18:01:42.440Z"
   },
   {
    "duration": 0,
    "start_time": "2022-10-08T18:01:42.441Z"
   },
   {
    "duration": 0,
    "start_time": "2022-10-08T18:01:42.442Z"
   },
   {
    "duration": 0,
    "start_time": "2022-10-08T18:01:42.443Z"
   },
   {
    "duration": 0,
    "start_time": "2022-10-08T18:01:42.445Z"
   },
   {
    "duration": 0,
    "start_time": "2022-10-08T18:01:42.446Z"
   },
   {
    "duration": 0,
    "start_time": "2022-10-08T18:01:42.447Z"
   },
   {
    "duration": 0,
    "start_time": "2022-10-08T18:01:42.448Z"
   },
   {
    "duration": 0,
    "start_time": "2022-10-08T18:01:42.450Z"
   },
   {
    "duration": 0,
    "start_time": "2022-10-08T18:01:42.451Z"
   },
   {
    "duration": 0,
    "start_time": "2022-10-08T18:01:42.452Z"
   },
   {
    "duration": 0,
    "start_time": "2022-10-08T18:01:42.454Z"
   },
   {
    "duration": 0,
    "start_time": "2022-10-08T18:01:42.456Z"
   },
   {
    "duration": 0,
    "start_time": "2022-10-08T18:01:42.457Z"
   },
   {
    "duration": 0,
    "start_time": "2022-10-08T18:01:42.458Z"
   },
   {
    "duration": 0,
    "start_time": "2022-10-08T18:01:42.458Z"
   },
   {
    "duration": 0,
    "start_time": "2022-10-08T18:01:42.509Z"
   },
   {
    "duration": 0,
    "start_time": "2022-10-08T18:01:42.510Z"
   },
   {
    "duration": 0,
    "start_time": "2022-10-08T18:01:42.510Z"
   },
   {
    "duration": 0,
    "start_time": "2022-10-08T18:01:42.511Z"
   },
   {
    "duration": 0,
    "start_time": "2022-10-08T18:01:42.512Z"
   },
   {
    "duration": 0,
    "start_time": "2022-10-08T18:01:42.513Z"
   },
   {
    "duration": 0,
    "start_time": "2022-10-08T18:01:42.514Z"
   },
   {
    "duration": 0,
    "start_time": "2022-10-08T18:01:42.515Z"
   },
   {
    "duration": 0,
    "start_time": "2022-10-08T18:01:42.516Z"
   },
   {
    "duration": 0,
    "start_time": "2022-10-08T18:01:42.519Z"
   },
   {
    "duration": 44,
    "start_time": "2022-10-09T15:51:04.246Z"
   },
   {
    "duration": 567,
    "start_time": "2022-10-09T15:51:14.576Z"
   },
   {
    "duration": 246,
    "start_time": "2022-10-09T15:51:15.144Z"
   },
   {
    "duration": 14,
    "start_time": "2022-10-09T15:51:15.392Z"
   },
   {
    "duration": 81,
    "start_time": "2022-10-09T15:51:15.409Z"
   },
   {
    "duration": 1781,
    "start_time": "2022-10-09T15:51:15.491Z"
   },
   {
    "duration": 12,
    "start_time": "2022-10-09T15:51:17.274Z"
   },
   {
    "duration": 17,
    "start_time": "2022-10-09T15:51:17.288Z"
   },
   {
    "duration": 9,
    "start_time": "2022-10-09T15:51:17.308Z"
   },
   {
    "duration": 14,
    "start_time": "2022-10-09T15:51:17.319Z"
   },
   {
    "duration": 23,
    "start_time": "2022-10-09T15:51:17.336Z"
   },
   {
    "duration": 10,
    "start_time": "2022-10-09T15:51:17.360Z"
   },
   {
    "duration": 19,
    "start_time": "2022-10-09T15:51:17.372Z"
   },
   {
    "duration": 6,
    "start_time": "2022-10-09T15:51:17.393Z"
   },
   {
    "duration": 15,
    "start_time": "2022-10-09T15:51:17.401Z"
   },
   {
    "duration": 30,
    "start_time": "2022-10-09T15:51:17.418Z"
   },
   {
    "duration": 16,
    "start_time": "2022-10-09T15:51:17.450Z"
   },
   {
    "duration": 23,
    "start_time": "2022-10-09T15:51:17.468Z"
   },
   {
    "duration": 5,
    "start_time": "2022-10-09T15:51:17.493Z"
   },
   {
    "duration": 69,
    "start_time": "2022-10-09T15:51:17.499Z"
   },
   {
    "duration": 7,
    "start_time": "2022-10-09T15:51:17.569Z"
   },
   {
    "duration": 15,
    "start_time": "2022-10-09T15:51:17.577Z"
   },
   {
    "duration": 191,
    "start_time": "2022-10-09T15:51:17.595Z"
   },
   {
    "duration": 30,
    "start_time": "2022-10-09T15:51:17.788Z"
   },
   {
    "duration": 5,
    "start_time": "2022-10-09T15:51:17.838Z"
   },
   {
    "duration": 10,
    "start_time": "2022-10-09T15:51:17.845Z"
   },
   {
    "duration": 7,
    "start_time": "2022-10-09T15:51:17.856Z"
   },
   {
    "duration": 8,
    "start_time": "2022-10-09T15:51:17.865Z"
   },
   {
    "duration": 7,
    "start_time": "2022-10-09T15:51:17.876Z"
   },
   {
    "duration": 7,
    "start_time": "2022-10-09T15:51:17.884Z"
   },
   {
    "duration": 3,
    "start_time": "2022-10-09T15:51:17.892Z"
   },
   {
    "duration": 503,
    "start_time": "2022-10-09T15:51:17.897Z"
   },
   {
    "duration": 69,
    "start_time": "2022-10-09T15:51:18.401Z"
   },
   {
    "duration": 0,
    "start_time": "2022-10-09T15:51:18.471Z"
   },
   {
    "duration": 0,
    "start_time": "2022-10-09T15:51:18.473Z"
   },
   {
    "duration": 0,
    "start_time": "2022-10-09T15:51:18.474Z"
   },
   {
    "duration": 0,
    "start_time": "2022-10-09T15:51:18.475Z"
   },
   {
    "duration": 0,
    "start_time": "2022-10-09T15:51:18.476Z"
   },
   {
    "duration": 0,
    "start_time": "2022-10-09T15:51:18.477Z"
   },
   {
    "duration": 0,
    "start_time": "2022-10-09T15:51:18.478Z"
   },
   {
    "duration": 0,
    "start_time": "2022-10-09T15:51:18.479Z"
   },
   {
    "duration": 0,
    "start_time": "2022-10-09T15:51:18.480Z"
   },
   {
    "duration": 0,
    "start_time": "2022-10-09T15:51:18.481Z"
   },
   {
    "duration": 0,
    "start_time": "2022-10-09T15:51:18.482Z"
   },
   {
    "duration": 0,
    "start_time": "2022-10-09T15:51:18.483Z"
   },
   {
    "duration": 0,
    "start_time": "2022-10-09T15:51:18.484Z"
   },
   {
    "duration": 0,
    "start_time": "2022-10-09T15:51:18.484Z"
   },
   {
    "duration": 0,
    "start_time": "2022-10-09T15:51:18.485Z"
   },
   {
    "duration": 0,
    "start_time": "2022-10-09T15:51:18.486Z"
   },
   {
    "duration": 0,
    "start_time": "2022-10-09T15:51:18.487Z"
   },
   {
    "duration": 0,
    "start_time": "2022-10-09T15:51:18.488Z"
   },
   {
    "duration": 0,
    "start_time": "2022-10-09T15:51:18.489Z"
   },
   {
    "duration": 0,
    "start_time": "2022-10-09T15:51:18.490Z"
   },
   {
    "duration": 0,
    "start_time": "2022-10-09T15:51:18.491Z"
   },
   {
    "duration": 0,
    "start_time": "2022-10-09T15:51:18.492Z"
   },
   {
    "duration": 0,
    "start_time": "2022-10-09T15:51:18.492Z"
   },
   {
    "duration": 0,
    "start_time": "2022-10-09T15:51:18.493Z"
   },
   {
    "duration": 0,
    "start_time": "2022-10-09T15:51:18.494Z"
   },
   {
    "duration": 0,
    "start_time": "2022-10-09T15:51:18.495Z"
   },
   {
    "duration": 0,
    "start_time": "2022-10-09T15:51:18.496Z"
   },
   {
    "duration": 0,
    "start_time": "2022-10-09T15:51:18.497Z"
   },
   {
    "duration": 0,
    "start_time": "2022-10-09T15:51:18.498Z"
   },
   {
    "duration": 0,
    "start_time": "2022-10-09T15:51:18.539Z"
   },
   {
    "duration": 0,
    "start_time": "2022-10-09T15:51:18.541Z"
   },
   {
    "duration": 0,
    "start_time": "2022-10-09T15:51:18.542Z"
   },
   {
    "duration": 0,
    "start_time": "2022-10-09T15:51:18.543Z"
   },
   {
    "duration": 0,
    "start_time": "2022-10-09T15:51:18.545Z"
   },
   {
    "duration": 0,
    "start_time": "2022-10-09T15:51:18.546Z"
   },
   {
    "duration": 0,
    "start_time": "2022-10-09T15:51:18.548Z"
   },
   {
    "duration": 0,
    "start_time": "2022-10-09T15:51:18.549Z"
   },
   {
    "duration": 0,
    "start_time": "2022-10-09T15:51:18.550Z"
   },
   {
    "duration": 0,
    "start_time": "2022-10-09T15:51:18.551Z"
   },
   {
    "duration": 0,
    "start_time": "2022-10-09T15:51:18.552Z"
   },
   {
    "duration": 0,
    "start_time": "2022-10-09T15:51:18.553Z"
   },
   {
    "duration": 10,
    "start_time": "2022-10-09T15:51:45.856Z"
   },
   {
    "duration": 9,
    "start_time": "2022-10-09T15:52:08.924Z"
   },
   {
    "duration": 780,
    "start_time": "2022-10-09T15:52:22.239Z"
   },
   {
    "duration": 11,
    "start_time": "2022-10-09T15:52:43.346Z"
   },
   {
    "duration": 9,
    "start_time": "2022-10-09T15:52:56.598Z"
   },
   {
    "duration": 6,
    "start_time": "2022-10-09T15:53:41.610Z"
   },
   {
    "duration": 10,
    "start_time": "2022-10-09T15:54:29.114Z"
   },
   {
    "duration": 13,
    "start_time": "2022-10-09T15:54:45.450Z"
   },
   {
    "duration": 8,
    "start_time": "2022-10-09T15:55:11.442Z"
   },
   {
    "duration": 7,
    "start_time": "2022-10-09T15:55:15.589Z"
   },
   {
    "duration": 10,
    "start_time": "2022-10-09T15:55:28.554Z"
   },
   {
    "duration": 618,
    "start_time": "2022-10-09T15:55:43.668Z"
   },
   {
    "duration": 195,
    "start_time": "2022-10-09T15:55:44.288Z"
   },
   {
    "duration": 14,
    "start_time": "2022-10-09T15:55:44.484Z"
   },
   {
    "duration": 73,
    "start_time": "2022-10-09T15:55:44.500Z"
   },
   {
    "duration": 1632,
    "start_time": "2022-10-09T15:55:44.575Z"
   },
   {
    "duration": 9,
    "start_time": "2022-10-09T15:55:46.209Z"
   },
   {
    "duration": 11,
    "start_time": "2022-10-09T15:55:46.219Z"
   },
   {
    "duration": 4,
    "start_time": "2022-10-09T15:55:46.232Z"
   },
   {
    "duration": 5,
    "start_time": "2022-10-09T15:55:46.238Z"
   },
   {
    "duration": 10,
    "start_time": "2022-10-09T15:55:46.246Z"
   },
   {
    "duration": 6,
    "start_time": "2022-10-09T15:55:46.257Z"
   },
   {
    "duration": 12,
    "start_time": "2022-10-09T15:55:46.264Z"
   },
   {
    "duration": 5,
    "start_time": "2022-10-09T15:55:46.277Z"
   },
   {
    "duration": 11,
    "start_time": "2022-10-09T15:55:46.283Z"
   },
   {
    "duration": 11,
    "start_time": "2022-10-09T15:55:46.295Z"
   },
   {
    "duration": 16,
    "start_time": "2022-10-09T15:55:46.343Z"
   },
   {
    "duration": 25,
    "start_time": "2022-10-09T15:55:46.360Z"
   },
   {
    "duration": 6,
    "start_time": "2022-10-09T15:55:46.386Z"
   },
   {
    "duration": 55,
    "start_time": "2022-10-09T15:55:46.394Z"
   },
   {
    "duration": 4,
    "start_time": "2022-10-09T15:55:46.451Z"
   },
   {
    "duration": 3,
    "start_time": "2022-10-09T15:55:46.457Z"
   },
   {
    "duration": 181,
    "start_time": "2022-10-09T15:55:46.461Z"
   },
   {
    "duration": 29,
    "start_time": "2022-10-09T15:55:46.644Z"
   },
   {
    "duration": 5,
    "start_time": "2022-10-09T15:55:46.674Z"
   },
   {
    "duration": 8,
    "start_time": "2022-10-09T15:55:46.681Z"
   },
   {
    "duration": 10,
    "start_time": "2022-10-09T15:55:46.691Z"
   },
   {
    "duration": 8,
    "start_time": "2022-10-09T15:55:46.703Z"
   },
   {
    "duration": 28,
    "start_time": "2022-10-09T15:55:46.714Z"
   },
   {
    "duration": 7,
    "start_time": "2022-10-09T15:55:46.743Z"
   },
   {
    "duration": 3,
    "start_time": "2022-10-09T15:55:46.751Z"
   },
   {
    "duration": 589,
    "start_time": "2022-10-09T15:55:46.755Z"
   },
   {
    "duration": 13,
    "start_time": "2022-10-09T15:55:47.345Z"
   },
   {
    "duration": 11,
    "start_time": "2022-10-09T15:55:47.360Z"
   },
   {
    "duration": 223,
    "start_time": "2022-10-09T15:55:47.373Z"
   },
   {
    "duration": 9,
    "start_time": "2022-10-09T15:55:47.597Z"
   },
   {
    "duration": 169,
    "start_time": "2022-10-09T15:55:47.607Z"
   },
   {
    "duration": 9,
    "start_time": "2022-10-09T15:55:47.777Z"
   },
   {
    "duration": 217,
    "start_time": "2022-10-09T15:55:47.787Z"
   },
   {
    "duration": 9,
    "start_time": "2022-10-09T15:55:48.005Z"
   },
   {
    "duration": 242,
    "start_time": "2022-10-09T15:55:48.015Z"
   },
   {
    "duration": 8,
    "start_time": "2022-10-09T15:55:48.258Z"
   },
   {
    "duration": 171,
    "start_time": "2022-10-09T15:55:48.267Z"
   },
   {
    "duration": 8,
    "start_time": "2022-10-09T15:55:48.440Z"
   },
   {
    "duration": 137,
    "start_time": "2022-10-09T15:55:48.450Z"
   },
   {
    "duration": 9,
    "start_time": "2022-10-09T15:55:48.589Z"
   },
   {
    "duration": 177,
    "start_time": "2022-10-09T15:55:48.600Z"
   },
   {
    "duration": 9,
    "start_time": "2022-10-09T15:55:48.779Z"
   },
   {
    "duration": 117,
    "start_time": "2022-10-09T15:55:48.789Z"
   },
   {
    "duration": 8,
    "start_time": "2022-10-09T15:55:48.908Z"
   },
   {
    "duration": 183,
    "start_time": "2022-10-09T15:55:48.917Z"
   },
   {
    "duration": 17,
    "start_time": "2022-10-09T15:55:49.101Z"
   },
   {
    "duration": 228,
    "start_time": "2022-10-09T15:55:49.119Z"
   },
   {
    "duration": 18,
    "start_time": "2022-10-09T15:55:49.349Z"
   },
   {
    "duration": 229,
    "start_time": "2022-10-09T15:55:49.369Z"
   },
   {
    "duration": 13,
    "start_time": "2022-10-09T15:55:49.600Z"
   },
   {
    "duration": 238,
    "start_time": "2022-10-09T15:55:49.615Z"
   },
   {
    "duration": 8,
    "start_time": "2022-10-09T15:55:49.855Z"
   },
   {
    "duration": 134,
    "start_time": "2022-10-09T15:55:49.865Z"
   },
   {
    "duration": 8,
    "start_time": "2022-10-09T15:55:50.001Z"
   },
   {
    "duration": 135,
    "start_time": "2022-10-09T15:55:50.011Z"
   },
   {
    "duration": 6,
    "start_time": "2022-10-09T15:55:50.148Z"
   },
   {
    "duration": 257,
    "start_time": "2022-10-09T15:55:50.156Z"
   },
   {
    "duration": 6,
    "start_time": "2022-10-09T15:55:50.415Z"
   },
   {
    "duration": 28,
    "start_time": "2022-10-09T15:55:50.422Z"
   },
   {
    "duration": 1888,
    "start_time": "2022-10-09T15:55:50.452Z"
   },
   {
    "duration": 1265,
    "start_time": "2022-10-09T15:55:52.341Z"
   },
   {
    "duration": 34,
    "start_time": "2022-10-09T15:55:53.608Z"
   },
   {
    "duration": 8,
    "start_time": "2022-10-09T15:55:53.644Z"
   },
   {
    "duration": 23,
    "start_time": "2022-10-09T15:55:53.653Z"
   },
   {
    "duration": 380,
    "start_time": "2022-10-09T15:55:53.678Z"
   },
   {
    "duration": 343,
    "start_time": "2022-10-09T15:55:54.060Z"
   },
   {
    "duration": 16,
    "start_time": "2022-10-09T15:55:54.405Z"
   },
   {
    "duration": 160,
    "start_time": "2022-10-09T15:55:54.423Z"
   }
  ],
  "kernelspec": {
   "display_name": "Python 3 (ipykernel)",
   "language": "python",
   "name": "python3"
  },
  "language_info": {
   "codemirror_mode": {
    "name": "ipython",
    "version": 3
   },
   "file_extension": ".py",
   "mimetype": "text/x-python",
   "name": "python",
   "nbconvert_exporter": "python",
   "pygments_lexer": "ipython3",
   "version": "3.10.9"
  },
  "toc": {
   "base_numbering": 1,
   "nav_menu": {},
   "number_sections": true,
   "sideBar": true,
   "skip_h1_title": true,
   "title_cell": "Table of Contents",
   "title_sidebar": "Contents",
   "toc_cell": false,
   "toc_position": {
    "height": "calc(100% - 180px)",
    "left": "10px",
    "top": "150px",
    "width": "353.391px"
   },
   "toc_section_display": true,
   "toc_window_display": true
  }
 },
 "nbformat": 4,
 "nbformat_minor": 4
}
