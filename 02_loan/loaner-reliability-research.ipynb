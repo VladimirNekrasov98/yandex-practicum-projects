{
 "cells": [
  {
   "cell_type": "markdown",
   "id": "d76bcf33",
   "metadata": {
    "deletable": false,
    "editable": false,
    "id": "c81daeeb"
   },
   "source": [
    "# Исследование надежности заемщиков\n"
   ]
  },
  {
   "cell_type": "markdown",
   "id": "4d696e7c",
   "metadata": {
    "deletable": false,
    "editable": false,
    "id": "827c20bf"
   },
   "source": [
    "Во второй части проекта вы выполните шаги 3 и 4. Их вручную проверит ревьюер.\n",
    "Чтобы вам не пришлось писать код заново для шагов 1 и 2, мы добавили авторские решения в ячейки с кодом. \n",
    "\n"
   ]
  },
  {
   "cell_type": "markdown",
   "id": "a99594cb",
   "metadata": {
    "deletable": false,
    "editable": false,
    "id": "744d7639"
   },
   "source": [
    "## Откройте таблицу и изучите общую информацию о данных"
   ]
  },
  {
   "cell_type": "markdown",
   "id": "986ca6e8",
   "metadata": {
    "deletable": false,
    "editable": false,
    "id": "e7a14c31"
   },
   "source": [
    "**Задание 1. Импортируйте библиотеку pandas. Считайте данные из csv-файла в датафрейм и сохраните в переменную `data`. Путь к файлу:**\n",
    "\n",
    "`/datasets/data.csv`"
   ]
  },
  {
   "cell_type": "code",
   "execution_count": 1,
   "id": "1ac56da0",
   "metadata": {
    "deletable": false,
    "id": "7bcf75c9"
   },
   "outputs": [],
   "source": [
    "import pandas as pd\n",
    "\n",
    "try:\n",
    "    data = pd.read_csv('/datasets/data.csv')\n",
    "except:\n",
    "    data = pd.read_csv('https://code.s3.yandex.net/datasets/data.csv')"
   ]
  },
  {
   "cell_type": "markdown",
   "id": "5bc8b18a",
   "metadata": {
    "deletable": false,
    "editable": false,
    "id": "b8038fe3"
   },
   "source": [
    "**Задание 2. Выведите первые 20 строчек датафрейма `data` на экран.**"
   ]
  },
  {
   "cell_type": "code",
   "execution_count": 2,
   "id": "483b1f08",
   "metadata": {
    "deletable": false,
    "id": "2a7cab99",
    "outputId": "1a8f3ef2-d323-4ec2-ddf7-89670b5944c4"
   },
   "outputs": [
    {
     "data": {
      "text/html": [
       "<div>\n",
       "<style scoped>\n",
       "    .dataframe tbody tr th:only-of-type {\n",
       "        vertical-align: middle;\n",
       "    }\n",
       "\n",
       "    .dataframe tbody tr th {\n",
       "        vertical-align: top;\n",
       "    }\n",
       "\n",
       "    .dataframe thead th {\n",
       "        text-align: right;\n",
       "    }\n",
       "</style>\n",
       "<table border=\"1\" class=\"dataframe\">\n",
       "  <thead>\n",
       "    <tr style=\"text-align: right;\">\n",
       "      <th></th>\n",
       "      <th>children</th>\n",
       "      <th>days_employed</th>\n",
       "      <th>dob_years</th>\n",
       "      <th>education</th>\n",
       "      <th>education_id</th>\n",
       "      <th>family_status</th>\n",
       "      <th>family_status_id</th>\n",
       "      <th>gender</th>\n",
       "      <th>income_type</th>\n",
       "      <th>debt</th>\n",
       "      <th>total_income</th>\n",
       "      <th>purpose</th>\n",
       "    </tr>\n",
       "  </thead>\n",
       "  <tbody>\n",
       "    <tr>\n",
       "      <th>0</th>\n",
       "      <td>1</td>\n",
       "      <td>-8437.673028</td>\n",
       "      <td>42</td>\n",
       "      <td>высшее</td>\n",
       "      <td>0</td>\n",
       "      <td>женат / замужем</td>\n",
       "      <td>0</td>\n",
       "      <td>F</td>\n",
       "      <td>сотрудник</td>\n",
       "      <td>0</td>\n",
       "      <td>253875.639453</td>\n",
       "      <td>покупка жилья</td>\n",
       "    </tr>\n",
       "    <tr>\n",
       "      <th>1</th>\n",
       "      <td>1</td>\n",
       "      <td>-4024.803754</td>\n",
       "      <td>36</td>\n",
       "      <td>среднее</td>\n",
       "      <td>1</td>\n",
       "      <td>женат / замужем</td>\n",
       "      <td>0</td>\n",
       "      <td>F</td>\n",
       "      <td>сотрудник</td>\n",
       "      <td>0</td>\n",
       "      <td>112080.014102</td>\n",
       "      <td>приобретение автомобиля</td>\n",
       "    </tr>\n",
       "    <tr>\n",
       "      <th>2</th>\n",
       "      <td>0</td>\n",
       "      <td>-5623.422610</td>\n",
       "      <td>33</td>\n",
       "      <td>Среднее</td>\n",
       "      <td>1</td>\n",
       "      <td>женат / замужем</td>\n",
       "      <td>0</td>\n",
       "      <td>M</td>\n",
       "      <td>сотрудник</td>\n",
       "      <td>0</td>\n",
       "      <td>145885.952297</td>\n",
       "      <td>покупка жилья</td>\n",
       "    </tr>\n",
       "    <tr>\n",
       "      <th>3</th>\n",
       "      <td>3</td>\n",
       "      <td>-4124.747207</td>\n",
       "      <td>32</td>\n",
       "      <td>среднее</td>\n",
       "      <td>1</td>\n",
       "      <td>женат / замужем</td>\n",
       "      <td>0</td>\n",
       "      <td>M</td>\n",
       "      <td>сотрудник</td>\n",
       "      <td>0</td>\n",
       "      <td>267628.550329</td>\n",
       "      <td>дополнительное образование</td>\n",
       "    </tr>\n",
       "    <tr>\n",
       "      <th>4</th>\n",
       "      <td>0</td>\n",
       "      <td>340266.072047</td>\n",
       "      <td>53</td>\n",
       "      <td>среднее</td>\n",
       "      <td>1</td>\n",
       "      <td>гражданский брак</td>\n",
       "      <td>1</td>\n",
       "      <td>F</td>\n",
       "      <td>пенсионер</td>\n",
       "      <td>0</td>\n",
       "      <td>158616.077870</td>\n",
       "      <td>сыграть свадьбу</td>\n",
       "    </tr>\n",
       "    <tr>\n",
       "      <th>5</th>\n",
       "      <td>0</td>\n",
       "      <td>-926.185831</td>\n",
       "      <td>27</td>\n",
       "      <td>высшее</td>\n",
       "      <td>0</td>\n",
       "      <td>гражданский брак</td>\n",
       "      <td>1</td>\n",
       "      <td>M</td>\n",
       "      <td>компаньон</td>\n",
       "      <td>0</td>\n",
       "      <td>255763.565419</td>\n",
       "      <td>покупка жилья</td>\n",
       "    </tr>\n",
       "    <tr>\n",
       "      <th>6</th>\n",
       "      <td>0</td>\n",
       "      <td>-2879.202052</td>\n",
       "      <td>43</td>\n",
       "      <td>высшее</td>\n",
       "      <td>0</td>\n",
       "      <td>женат / замужем</td>\n",
       "      <td>0</td>\n",
       "      <td>F</td>\n",
       "      <td>компаньон</td>\n",
       "      <td>0</td>\n",
       "      <td>240525.971920</td>\n",
       "      <td>операции с жильем</td>\n",
       "    </tr>\n",
       "    <tr>\n",
       "      <th>7</th>\n",
       "      <td>0</td>\n",
       "      <td>-152.779569</td>\n",
       "      <td>50</td>\n",
       "      <td>СРЕДНЕЕ</td>\n",
       "      <td>1</td>\n",
       "      <td>женат / замужем</td>\n",
       "      <td>0</td>\n",
       "      <td>M</td>\n",
       "      <td>сотрудник</td>\n",
       "      <td>0</td>\n",
       "      <td>135823.934197</td>\n",
       "      <td>образование</td>\n",
       "    </tr>\n",
       "    <tr>\n",
       "      <th>8</th>\n",
       "      <td>2</td>\n",
       "      <td>-6929.865299</td>\n",
       "      <td>35</td>\n",
       "      <td>ВЫСШЕЕ</td>\n",
       "      <td>0</td>\n",
       "      <td>гражданский брак</td>\n",
       "      <td>1</td>\n",
       "      <td>F</td>\n",
       "      <td>сотрудник</td>\n",
       "      <td>0</td>\n",
       "      <td>95856.832424</td>\n",
       "      <td>на проведение свадьбы</td>\n",
       "    </tr>\n",
       "    <tr>\n",
       "      <th>9</th>\n",
       "      <td>0</td>\n",
       "      <td>-2188.756445</td>\n",
       "      <td>41</td>\n",
       "      <td>среднее</td>\n",
       "      <td>1</td>\n",
       "      <td>женат / замужем</td>\n",
       "      <td>0</td>\n",
       "      <td>M</td>\n",
       "      <td>сотрудник</td>\n",
       "      <td>0</td>\n",
       "      <td>144425.938277</td>\n",
       "      <td>покупка жилья для семьи</td>\n",
       "    </tr>\n",
       "    <tr>\n",
       "      <th>10</th>\n",
       "      <td>2</td>\n",
       "      <td>-4171.483647</td>\n",
       "      <td>36</td>\n",
       "      <td>высшее</td>\n",
       "      <td>0</td>\n",
       "      <td>женат / замужем</td>\n",
       "      <td>0</td>\n",
       "      <td>M</td>\n",
       "      <td>компаньон</td>\n",
       "      <td>0</td>\n",
       "      <td>113943.491460</td>\n",
       "      <td>покупка недвижимости</td>\n",
       "    </tr>\n",
       "    <tr>\n",
       "      <th>11</th>\n",
       "      <td>0</td>\n",
       "      <td>-792.701887</td>\n",
       "      <td>40</td>\n",
       "      <td>среднее</td>\n",
       "      <td>1</td>\n",
       "      <td>женат / замужем</td>\n",
       "      <td>0</td>\n",
       "      <td>F</td>\n",
       "      <td>сотрудник</td>\n",
       "      <td>0</td>\n",
       "      <td>77069.234271</td>\n",
       "      <td>покупка коммерческой недвижимости</td>\n",
       "    </tr>\n",
       "    <tr>\n",
       "      <th>12</th>\n",
       "      <td>0</td>\n",
       "      <td>NaN</td>\n",
       "      <td>65</td>\n",
       "      <td>среднее</td>\n",
       "      <td>1</td>\n",
       "      <td>гражданский брак</td>\n",
       "      <td>1</td>\n",
       "      <td>M</td>\n",
       "      <td>пенсионер</td>\n",
       "      <td>0</td>\n",
       "      <td>NaN</td>\n",
       "      <td>сыграть свадьбу</td>\n",
       "    </tr>\n",
       "    <tr>\n",
       "      <th>13</th>\n",
       "      <td>0</td>\n",
       "      <td>-1846.641941</td>\n",
       "      <td>54</td>\n",
       "      <td>неоконченное высшее</td>\n",
       "      <td>2</td>\n",
       "      <td>женат / замужем</td>\n",
       "      <td>0</td>\n",
       "      <td>F</td>\n",
       "      <td>сотрудник</td>\n",
       "      <td>0</td>\n",
       "      <td>130458.228857</td>\n",
       "      <td>приобретение автомобиля</td>\n",
       "    </tr>\n",
       "    <tr>\n",
       "      <th>14</th>\n",
       "      <td>0</td>\n",
       "      <td>-1844.956182</td>\n",
       "      <td>56</td>\n",
       "      <td>высшее</td>\n",
       "      <td>0</td>\n",
       "      <td>гражданский брак</td>\n",
       "      <td>1</td>\n",
       "      <td>F</td>\n",
       "      <td>компаньон</td>\n",
       "      <td>1</td>\n",
       "      <td>165127.911772</td>\n",
       "      <td>покупка жилой недвижимости</td>\n",
       "    </tr>\n",
       "    <tr>\n",
       "      <th>15</th>\n",
       "      <td>1</td>\n",
       "      <td>-972.364419</td>\n",
       "      <td>26</td>\n",
       "      <td>среднее</td>\n",
       "      <td>1</td>\n",
       "      <td>женат / замужем</td>\n",
       "      <td>0</td>\n",
       "      <td>F</td>\n",
       "      <td>сотрудник</td>\n",
       "      <td>0</td>\n",
       "      <td>116820.904450</td>\n",
       "      <td>строительство собственной недвижимости</td>\n",
       "    </tr>\n",
       "    <tr>\n",
       "      <th>16</th>\n",
       "      <td>0</td>\n",
       "      <td>-1719.934226</td>\n",
       "      <td>35</td>\n",
       "      <td>среднее</td>\n",
       "      <td>1</td>\n",
       "      <td>женат / замужем</td>\n",
       "      <td>0</td>\n",
       "      <td>F</td>\n",
       "      <td>сотрудник</td>\n",
       "      <td>0</td>\n",
       "      <td>289202.704229</td>\n",
       "      <td>недвижимость</td>\n",
       "    </tr>\n",
       "    <tr>\n",
       "      <th>17</th>\n",
       "      <td>0</td>\n",
       "      <td>-2369.999720</td>\n",
       "      <td>33</td>\n",
       "      <td>высшее</td>\n",
       "      <td>0</td>\n",
       "      <td>гражданский брак</td>\n",
       "      <td>1</td>\n",
       "      <td>M</td>\n",
       "      <td>сотрудник</td>\n",
       "      <td>0</td>\n",
       "      <td>90410.586745</td>\n",
       "      <td>строительство недвижимости</td>\n",
       "    </tr>\n",
       "    <tr>\n",
       "      <th>18</th>\n",
       "      <td>0</td>\n",
       "      <td>400281.136913</td>\n",
       "      <td>53</td>\n",
       "      <td>среднее</td>\n",
       "      <td>1</td>\n",
       "      <td>вдовец / вдова</td>\n",
       "      <td>2</td>\n",
       "      <td>F</td>\n",
       "      <td>пенсионер</td>\n",
       "      <td>0</td>\n",
       "      <td>56823.777243</td>\n",
       "      <td>на покупку подержанного автомобиля</td>\n",
       "    </tr>\n",
       "    <tr>\n",
       "      <th>19</th>\n",
       "      <td>0</td>\n",
       "      <td>-10038.818549</td>\n",
       "      <td>48</td>\n",
       "      <td>СРЕДНЕЕ</td>\n",
       "      <td>1</td>\n",
       "      <td>в разводе</td>\n",
       "      <td>3</td>\n",
       "      <td>F</td>\n",
       "      <td>сотрудник</td>\n",
       "      <td>0</td>\n",
       "      <td>242831.107982</td>\n",
       "      <td>на покупку своего автомобиля</td>\n",
       "    </tr>\n",
       "  </tbody>\n",
       "</table>\n",
       "</div>"
      ],
      "text/plain": [
       "    children  days_employed  dob_years            education  education_id  \\\n",
       "0          1   -8437.673028         42               высшее             0   \n",
       "1          1   -4024.803754         36              среднее             1   \n",
       "2          0   -5623.422610         33              Среднее             1   \n",
       "3          3   -4124.747207         32              среднее             1   \n",
       "4          0  340266.072047         53              среднее             1   \n",
       "5          0    -926.185831         27               высшее             0   \n",
       "6          0   -2879.202052         43               высшее             0   \n",
       "7          0    -152.779569         50              СРЕДНЕЕ             1   \n",
       "8          2   -6929.865299         35               ВЫСШЕЕ             0   \n",
       "9          0   -2188.756445         41              среднее             1   \n",
       "10         2   -4171.483647         36               высшее             0   \n",
       "11         0    -792.701887         40              среднее             1   \n",
       "12         0            NaN         65              среднее             1   \n",
       "13         0   -1846.641941         54  неоконченное высшее             2   \n",
       "14         0   -1844.956182         56               высшее             0   \n",
       "15         1    -972.364419         26              среднее             1   \n",
       "16         0   -1719.934226         35              среднее             1   \n",
       "17         0   -2369.999720         33               высшее             0   \n",
       "18         0  400281.136913         53              среднее             1   \n",
       "19         0  -10038.818549         48              СРЕДНЕЕ             1   \n",
       "\n",
       "       family_status  family_status_id gender income_type  debt  \\\n",
       "0    женат / замужем                 0      F   сотрудник     0   \n",
       "1    женат / замужем                 0      F   сотрудник     0   \n",
       "2    женат / замужем                 0      M   сотрудник     0   \n",
       "3    женат / замужем                 0      M   сотрудник     0   \n",
       "4   гражданский брак                 1      F   пенсионер     0   \n",
       "5   гражданский брак                 1      M   компаньон     0   \n",
       "6    женат / замужем                 0      F   компаньон     0   \n",
       "7    женат / замужем                 0      M   сотрудник     0   \n",
       "8   гражданский брак                 1      F   сотрудник     0   \n",
       "9    женат / замужем                 0      M   сотрудник     0   \n",
       "10   женат / замужем                 0      M   компаньон     0   \n",
       "11   женат / замужем                 0      F   сотрудник     0   \n",
       "12  гражданский брак                 1      M   пенсионер     0   \n",
       "13   женат / замужем                 0      F   сотрудник     0   \n",
       "14  гражданский брак                 1      F   компаньон     1   \n",
       "15   женат / замужем                 0      F   сотрудник     0   \n",
       "16   женат / замужем                 0      F   сотрудник     0   \n",
       "17  гражданский брак                 1      M   сотрудник     0   \n",
       "18    вдовец / вдова                 2      F   пенсионер     0   \n",
       "19         в разводе                 3      F   сотрудник     0   \n",
       "\n",
       "     total_income                                 purpose  \n",
       "0   253875.639453                           покупка жилья  \n",
       "1   112080.014102                 приобретение автомобиля  \n",
       "2   145885.952297                           покупка жилья  \n",
       "3   267628.550329              дополнительное образование  \n",
       "4   158616.077870                         сыграть свадьбу  \n",
       "5   255763.565419                           покупка жилья  \n",
       "6   240525.971920                       операции с жильем  \n",
       "7   135823.934197                             образование  \n",
       "8    95856.832424                   на проведение свадьбы  \n",
       "9   144425.938277                 покупка жилья для семьи  \n",
       "10  113943.491460                    покупка недвижимости  \n",
       "11   77069.234271       покупка коммерческой недвижимости  \n",
       "12            NaN                         сыграть свадьбу  \n",
       "13  130458.228857                 приобретение автомобиля  \n",
       "14  165127.911772              покупка жилой недвижимости  \n",
       "15  116820.904450  строительство собственной недвижимости  \n",
       "16  289202.704229                            недвижимость  \n",
       "17   90410.586745              строительство недвижимости  \n",
       "18   56823.777243      на покупку подержанного автомобиля  \n",
       "19  242831.107982            на покупку своего автомобиля  "
      ]
     },
     "execution_count": 2,
     "metadata": {},
     "output_type": "execute_result"
    }
   ],
   "source": [
    "data.head(20)"
   ]
  },
  {
   "cell_type": "markdown",
   "id": "66f4b4a1",
   "metadata": {
    "deletable": false,
    "editable": false,
    "id": "1c12e233"
   },
   "source": [
    "**Задание 3. Выведите основную информацию о датафрейме с помощью метода `info()`.**"
   ]
  },
  {
   "cell_type": "code",
   "execution_count": 3,
   "id": "f7843447",
   "metadata": {
    "deletable": false,
    "id": "2b757bca",
    "outputId": "15376089-8dad-46c9-b520-c05248d43158"
   },
   "outputs": [
    {
     "name": "stdout",
     "output_type": "stream",
     "text": [
      "<class 'pandas.core.frame.DataFrame'>\n",
      "RangeIndex: 21525 entries, 0 to 21524\n",
      "Data columns (total 12 columns):\n",
      " #   Column            Non-Null Count  Dtype  \n",
      "---  ------            --------------  -----  \n",
      " 0   children          21525 non-null  int64  \n",
      " 1   days_employed     19351 non-null  float64\n",
      " 2   dob_years         21525 non-null  int64  \n",
      " 3   education         21525 non-null  object \n",
      " 4   education_id      21525 non-null  int64  \n",
      " 5   family_status     21525 non-null  object \n",
      " 6   family_status_id  21525 non-null  int64  \n",
      " 7   gender            21525 non-null  object \n",
      " 8   income_type       21525 non-null  object \n",
      " 9   debt              21525 non-null  int64  \n",
      " 10  total_income      19351 non-null  float64\n",
      " 11  purpose           21525 non-null  object \n",
      "dtypes: float64(2), int64(5), object(5)\n",
      "memory usage: 2.0+ MB\n"
     ]
    }
   ],
   "source": [
    "data.info()"
   ]
  },
  {
   "cell_type": "markdown",
   "id": "b4b9a43d",
   "metadata": {
    "deletable": false,
    "editable": false,
    "id": "333ec665"
   },
   "source": [
    "## Предобработка данных"
   ]
  },
  {
   "cell_type": "markdown",
   "id": "7609e36b",
   "metadata": {
    "deletable": false,
    "editable": false,
    "id": "02d92d53"
   },
   "source": [
    "### Удаление пропусков"
   ]
  },
  {
   "cell_type": "markdown",
   "id": "6472f9cd",
   "metadata": {
    "deletable": false,
    "editable": false,
    "id": "cd84967c"
   },
   "source": [
    "**Задание 4. Выведите количество пропущенных значений для каждого столбца. Используйте комбинацию двух методов.**"
   ]
  },
  {
   "cell_type": "code",
   "execution_count": 4,
   "id": "e4da1bf9",
   "metadata": {
    "deletable": false,
    "id": "7f9b2309",
    "outputId": "81f4d817-781c-465c-ed15-91ce4446810d"
   },
   "outputs": [
    {
     "data": {
      "text/plain": [
       "children               0\n",
       "days_employed       2174\n",
       "dob_years              0\n",
       "education              0\n",
       "education_id           0\n",
       "family_status          0\n",
       "family_status_id       0\n",
       "gender                 0\n",
       "income_type            0\n",
       "debt                   0\n",
       "total_income        2174\n",
       "purpose                0\n",
       "dtype: int64"
      ]
     },
     "execution_count": 4,
     "metadata": {},
     "output_type": "execute_result"
    }
   ],
   "source": [
    "data.isna().sum()"
   ]
  },
  {
   "cell_type": "markdown",
   "id": "0ff2c684",
   "metadata": {
    "deletable": false,
    "editable": false,
    "id": "db86e27b"
   },
   "source": [
    "**Задание 5. В двух столбцах есть пропущенные значения. Один из них — `days_employed`. Пропуски в этом столбце вы обработаете на следующем этапе. Другой столбец с пропущенными значениями — `total_income` — хранит данные о доходах. На сумму дохода сильнее всего влияет тип занятости, поэтому заполнить пропуски в этом столбце нужно медианным значением по каждому типу из столбца `income_type`. Например, у человека с типом занятости `сотрудник` пропуск в столбце `total_income` должен быть заполнен медианным доходом среди всех записей с тем же типом.**"
   ]
  },
  {
   "cell_type": "code",
   "execution_count": 5,
   "id": "5c62283b",
   "metadata": {
    "deletable": false,
    "id": "42006a93"
   },
   "outputs": [],
   "source": [
    "for t in data['income_type'].unique():\n",
    "    data.loc[(data['income_type'] == t) & (data['total_income'].isna()), 'total_income'] = \\\n",
    "    data.loc[(data['income_type'] == t), 'total_income'].median()"
   ]
  },
  {
   "cell_type": "markdown",
   "id": "21af332a",
   "metadata": {
    "deletable": false,
    "editable": false,
    "id": "89da5ece"
   },
   "source": [
    "### Обработка аномальных значений"
   ]
  },
  {
   "cell_type": "markdown",
   "id": "83b0ba9f",
   "metadata": {
    "deletable": false,
    "editable": false,
    "id": "57964554"
   },
   "source": [
    "**Задание 6. В данных могут встречаться артефакты (аномалии) — значения, которые не отражают действительность и появились по какой-то ошибке. таким артефактом будет отрицательное количество дней трудового стажа в столбце `days_employed`. Для реальных данных это нормально. Обработайте значения в этом столбце: замените все отрицательные значения положительными с помощью метода `abs()`.**"
   ]
  },
  {
   "cell_type": "code",
   "execution_count": 6,
   "id": "cf291b27",
   "metadata": {
    "deletable": false,
    "id": "f6f055bf"
   },
   "outputs": [],
   "source": [
    "data['days_employed'] = data['days_employed'].abs()"
   ]
  },
  {
   "cell_type": "markdown",
   "id": "92067a27",
   "metadata": {
    "deletable": false,
    "editable": false,
    "id": "6107dd2f"
   },
   "source": [
    "**Задание 7. Для каждого типа занятости выведите медианное значение трудового стажа `days_employed` в днях.**"
   ]
  },
  {
   "cell_type": "code",
   "execution_count": 7,
   "id": "4cad833f",
   "metadata": {
    "deletable": false,
    "id": "85a5faf6",
    "outputId": "801ef80e-522b-4668-f34e-565af7432bcf"
   },
   "outputs": [
    {
     "data": {
      "text/plain": [
       "income_type\n",
       "безработный        366413.652744\n",
       "в декрете            3296.759962\n",
       "госслужащий          2689.368353\n",
       "компаньон            1547.382223\n",
       "пенсионер          365213.306266\n",
       "предприниматель       520.848083\n",
       "сотрудник            1574.202821\n",
       "студент               578.751554\n",
       "Name: days_employed, dtype: float64"
      ]
     },
     "execution_count": 7,
     "metadata": {},
     "output_type": "execute_result"
    }
   ],
   "source": [
    "data.groupby('income_type')['days_employed'].agg('median')"
   ]
  },
  {
   "cell_type": "markdown",
   "id": "97331b00",
   "metadata": {
    "deletable": false,
    "editable": false,
    "id": "38d1a030"
   },
   "source": [
    "У двух типов (безработные и пенсионеры) получатся аномально большие значения. Исправить такие значения сложно, поэтому оставьте их как есть. Тем более этот столбец не понадобится вам для исследования."
   ]
  },
  {
   "cell_type": "markdown",
   "id": "2ae877b7",
   "metadata": {
    "deletable": false,
    "editable": false,
    "id": "d8a9f147"
   },
   "source": [
    "**Задание 8. Выведите перечень уникальных значений столбца `children`.**"
   ]
  },
  {
   "cell_type": "code",
   "execution_count": 8,
   "id": "bd4561c1",
   "metadata": {
    "deletable": false,
    "id": "ef5056eb",
    "outputId": "6975b15c-7f95-4697-d16d-a0c79b657b03"
   },
   "outputs": [
    {
     "data": {
      "text/plain": [
       "array([ 1,  0,  3,  2, -1,  4, 20,  5], dtype=int64)"
      ]
     },
     "execution_count": 8,
     "metadata": {},
     "output_type": "execute_result"
    }
   ],
   "source": [
    "data['children'].unique()"
   ]
  },
  {
   "cell_type": "markdown",
   "id": "ac483338",
   "metadata": {
    "deletable": false,
    "editable": false,
    "id": "40b9ebf2"
   },
   "source": [
    "**Задание 9. В столбце `children` есть два аномальных значения. Удалите строки, в которых встречаются такие аномальные значения из датафрейма `data`.**"
   ]
  },
  {
   "cell_type": "code",
   "execution_count": 9,
   "id": "6e4b0d7d",
   "metadata": {
    "deletable": false,
    "id": "3ff9801d"
   },
   "outputs": [],
   "source": [
    "data = data[(data['children'] != -1) & (data['children'] != 20)]"
   ]
  },
  {
   "cell_type": "markdown",
   "id": "e373e758",
   "metadata": {
    "deletable": false,
    "editable": false,
    "id": "bbc4d0ce"
   },
   "source": [
    "**Задание 10. Ещё раз выведите перечень уникальных значений столбца `children`, чтобы убедиться, что артефакты удалены.**"
   ]
  },
  {
   "cell_type": "code",
   "execution_count": 10,
   "id": "77e574a5",
   "metadata": {
    "deletable": false,
    "id": "ad4fa8b7",
    "outputId": "b2097101-d49d-44d9-901b-32a65c9463d1"
   },
   "outputs": [
    {
     "data": {
      "text/plain": [
       "array([1, 0, 3, 2, 4, 5], dtype=int64)"
      ]
     },
     "execution_count": 10,
     "metadata": {},
     "output_type": "execute_result"
    }
   ],
   "source": [
    "data['children'].unique()"
   ]
  },
  {
   "cell_type": "markdown",
   "id": "53bea4bc",
   "metadata": {
    "deletable": false,
    "editable": false,
    "id": "75440b63"
   },
   "source": [
    "### Удаление пропусков (продолжение)"
   ]
  },
  {
   "cell_type": "markdown",
   "id": "3b9d40e7",
   "metadata": {
    "deletable": false,
    "editable": false,
    "id": "f4ea573f"
   },
   "source": [
    "**Задание 11. Заполните пропуски в столбце `days_employed` медианными значениями по каждого типа занятости `income_type`.**"
   ]
  },
  {
   "cell_type": "code",
   "execution_count": 11,
   "id": "d29aa574",
   "metadata": {
    "deletable": false,
    "id": "af6b1a7e"
   },
   "outputs": [],
   "source": [
    "for t in data['income_type'].unique():\n",
    "    data.loc[(data['income_type'] == t) & (data['days_employed'].isna()), 'days_employed'] = \\\n",
    "    data.loc[(data['income_type'] == t), 'days_employed'].median()"
   ]
  },
  {
   "cell_type": "markdown",
   "id": "25dcad77",
   "metadata": {
    "deletable": false,
    "editable": false,
    "id": "2753f40d"
   },
   "source": [
    "**Задание 12. Убедитесь, что все пропуски заполнены. Проверьте себя и ещё раз выведите количество пропущенных значений для каждого столбца с помощью двух методов.**"
   ]
  },
  {
   "cell_type": "code",
   "execution_count": 12,
   "id": "b69300e2",
   "metadata": {
    "deletable": false,
    "id": "55f78bc2",
    "outputId": "8da1e4e1-358e-4e87-98c9-f261bce0a7b2"
   },
   "outputs": [
    {
     "data": {
      "text/plain": [
       "children            0\n",
       "days_employed       0\n",
       "dob_years           0\n",
       "education           0\n",
       "education_id        0\n",
       "family_status       0\n",
       "family_status_id    0\n",
       "gender              0\n",
       "income_type         0\n",
       "debt                0\n",
       "total_income        0\n",
       "purpose             0\n",
       "dtype: int64"
      ]
     },
     "execution_count": 12,
     "metadata": {},
     "output_type": "execute_result"
    }
   ],
   "source": [
    "data.isna().sum()"
   ]
  },
  {
   "cell_type": "markdown",
   "id": "ee716d49",
   "metadata": {
    "deletable": false,
    "editable": false,
    "id": "ddc81e43"
   },
   "source": [
    "### Изменение типов данных"
   ]
  },
  {
   "cell_type": "markdown",
   "id": "7e0fa828",
   "metadata": {
    "deletable": false,
    "editable": false,
    "id": "42d19d24"
   },
   "source": [
    "**Задание 13. Замените вещественный тип данных в столбце `total_income` на целочисленный с помощью метода `astype()`.**"
   ]
  },
  {
   "cell_type": "code",
   "execution_count": 13,
   "id": "c0e64c5f",
   "metadata": {
    "deletable": false,
    "id": "920b65ad"
   },
   "outputs": [],
   "source": [
    "data['total_income'] = data['total_income'].astype(int)"
   ]
  },
  {
   "cell_type": "markdown",
   "id": "eb5e0edd",
   "metadata": {
    "deletable": false,
    "editable": false,
    "id": "80c420ba"
   },
   "source": [
    "### Обработка дубликатов"
   ]
  },
  {
   "cell_type": "markdown",
   "id": "2b53a65f",
   "metadata": {
    "deletable": false,
    "editable": false
   },
   "source": [
    "**Задание 14. Обработайте неявные дубликаты в столбце `education`. В этом столбце есть одни и те же значения, но записанные по-разному: с использованием заглавных и строчных букв. Приведите их к нижнему регистру. Проверьте остальные столбцы.**"
   ]
  },
  {
   "cell_type": "code",
   "execution_count": 14,
   "id": "2ee11c6a",
   "metadata": {
    "deletable": false
   },
   "outputs": [],
   "source": [
    "data['education'] = data['education'].str.lower()"
   ]
  },
  {
   "cell_type": "markdown",
   "id": "bd67be93",
   "metadata": {
    "deletable": false,
    "editable": false,
    "id": "dc587695"
   },
   "source": [
    "**Задание 15. Выведите на экран количество строк-дубликатов в данных. Если такие строки присутствуют, удалите их.**"
   ]
  },
  {
   "cell_type": "code",
   "execution_count": 15,
   "id": "0ac97978",
   "metadata": {
    "deletable": false,
    "id": "3ee445e4",
    "outputId": "9684deba-1934-42d1-99e1-cda61740f822"
   },
   "outputs": [
    {
     "data": {
      "text/plain": [
       "71"
      ]
     },
     "execution_count": 15,
     "metadata": {},
     "output_type": "execute_result"
    }
   ],
   "source": [
    "data.duplicated().sum()"
   ]
  },
  {
   "cell_type": "code",
   "execution_count": 16,
   "id": "e2579f79",
   "metadata": {
    "deletable": false,
    "id": "8575fe05"
   },
   "outputs": [],
   "source": [
    "data = data.drop_duplicates()"
   ]
  },
  {
   "cell_type": "markdown",
   "id": "9dacde27",
   "metadata": {
    "deletable": false,
    "editable": false,
    "id": "9904cf55"
   },
   "source": [
    "### Категоризация данных"
   ]
  },
  {
   "cell_type": "markdown",
   "id": "b349477a",
   "metadata": {
    "deletable": false,
    "editable": false,
    "id": "72fcc8a2"
   },
   "source": [
    "**Задание 16. На основании диапазонов, указанных ниже, создайте в датафрейме `data` столбец `total_income_category` с категориями:**\n",
    "\n",
    "- 0–30000 — `'E'`;\n",
    "- 30001–50000 — `'D'`;\n",
    "- 50001–200000 — `'C'`;\n",
    "- 200001–1000000 — `'B'`;\n",
    "- 1000001 и выше — `'A'`.\n",
    "\n",
    "\n",
    "**Например, кредитополучателю с доходом 25000 нужно назначить категорию `'E'`, а клиенту, получающему 235000, — `'B'`. Используйте собственную функцию с именем `categorize_income()` и метод `apply()`.**"
   ]
  },
  {
   "cell_type": "code",
   "execution_count": 17,
   "id": "f5e1678b",
   "metadata": {
    "deletable": false,
    "id": "e1771346"
   },
   "outputs": [],
   "source": [
    "def categorize_income(income):\n",
    "    try:\n",
    "        if 0 <= income <= 30000:\n",
    "            return 'E'\n",
    "        elif 30001 <= income <= 50000:\n",
    "            return 'D'\n",
    "        elif 50001 <= income <= 200000:\n",
    "            return 'C'\n",
    "        elif 200001 <= income <= 1000000:\n",
    "            return 'B'\n",
    "        elif income >= 1000001:\n",
    "            return 'A'\n",
    "    except:\n",
    "        pass"
   ]
  },
  {
   "cell_type": "code",
   "execution_count": 18,
   "id": "a29d4e1d",
   "metadata": {
    "deletable": false,
    "id": "d5f3586d"
   },
   "outputs": [],
   "source": [
    "data['total_income_category'] = data['total_income'].apply(categorize_income)"
   ]
  },
  {
   "cell_type": "markdown",
   "id": "58eda6bf",
   "metadata": {
    "deletable": false,
    "editable": false,
    "id": "dde49b5c"
   },
   "source": [
    "**Задание 17. Выведите на экран перечень уникальных целей взятия кредита из столбца `purpose`.**"
   ]
  },
  {
   "cell_type": "code",
   "execution_count": 19,
   "id": "d34a9f9a",
   "metadata": {
    "deletable": false,
    "id": "f67ce9b3",
    "outputId": "673c12d9-7d7e-4ae0-9812-c622c89dd244"
   },
   "outputs": [
    {
     "data": {
      "text/plain": [
       "array(['покупка жилья', 'приобретение автомобиля',\n",
       "       'дополнительное образование', 'сыграть свадьбу',\n",
       "       'операции с жильем', 'образование', 'на проведение свадьбы',\n",
       "       'покупка жилья для семьи', 'покупка недвижимости',\n",
       "       'покупка коммерческой недвижимости', 'покупка жилой недвижимости',\n",
       "       'строительство собственной недвижимости', 'недвижимость',\n",
       "       'строительство недвижимости', 'на покупку подержанного автомобиля',\n",
       "       'на покупку своего автомобиля',\n",
       "       'операции с коммерческой недвижимостью',\n",
       "       'строительство жилой недвижимости', 'жилье',\n",
       "       'операции со своей недвижимостью', 'автомобили',\n",
       "       'заняться образованием', 'сделка с подержанным автомобилем',\n",
       "       'получение образования', 'автомобиль', 'свадьба',\n",
       "       'получение дополнительного образования', 'покупка своего жилья',\n",
       "       'операции с недвижимостью', 'получение высшего образования',\n",
       "       'свой автомобиль', 'сделка с автомобилем',\n",
       "       'профильное образование', 'высшее образование',\n",
       "       'покупка жилья для сдачи', 'на покупку автомобиля', 'ремонт жилью',\n",
       "       'заняться высшим образованием'], dtype=object)"
      ]
     },
     "execution_count": 19,
     "metadata": {},
     "output_type": "execute_result"
    }
   ],
   "source": [
    "data['purpose'].unique()"
   ]
  },
  {
   "cell_type": "markdown",
   "id": "c5787462",
   "metadata": {
    "deletable": false,
    "editable": false,
    "id": "85d0aef0"
   },
   "source": [
    "**Задание 18. Создайте функцию, которая на основании данных из столбца `purpose` сформирует новый столбец `purpose_category`, в который войдут следующие категории:**\n",
    "\n",
    "- `'операции с автомобилем'`,\n",
    "- `'операции с недвижимостью'`,\n",
    "- `'проведение свадьбы'`,\n",
    "- `'получение образования'`.\n",
    "\n",
    "**Например, если в столбце `purpose` находится подстрока `'на покупку автомобиля'`, то в столбце `purpose_category` должна появиться строка `'операции с автомобилем'`.**\n",
    "\n",
    "**Используйте собственную функцию с именем `categorize_purpose()` и метод `apply()`. Изучите данные в столбце `purpose` и определите, какие подстроки помогут вам правильно определить категорию.**"
   ]
  },
  {
   "cell_type": "code",
   "execution_count": 20,
   "id": "4dba5dd4",
   "metadata": {
    "deletable": false,
    "id": "e149fab4"
   },
   "outputs": [],
   "source": [
    "def categorize_purpose(row):\n",
    "    try:\n",
    "        if 'автом' in row:\n",
    "            return 'операции с автомобилем'\n",
    "        elif 'жил' in row or 'недвиж' in row:\n",
    "            return 'операции с недвижимостью'\n",
    "        elif 'свад' in row:\n",
    "            return 'проведение свадьбы'\n",
    "        elif 'образов' in row:\n",
    "            return 'получение образования'\n",
    "    except:\n",
    "        return 'нет категории'"
   ]
  },
  {
   "cell_type": "code",
   "execution_count": 21,
   "id": "e14cebcb",
   "metadata": {
    "deletable": false,
    "id": "bf36e69b"
   },
   "outputs": [],
   "source": [
    "data['purpose_category'] = data['purpose'].apply(categorize_purpose)"
   ]
  },
  {
   "cell_type": "markdown",
   "id": "d0b675bf",
   "metadata": {
    "deletable": false,
    "editable": false,
    "id": "09b242bf"
   },
   "source": [
    "### Шаг 3. Исследуйте данные и ответьте на вопросы"
   ]
  },
  {
   "cell_type": "markdown",
   "id": "83802503",
   "metadata": {
    "deletable": false,
    "editable": false,
    "id": "c5d66278"
   },
   "source": [
    "#### 3.1 Есть ли зависимость между количеством детей и возвратом кредита в срок?"
   ]
  },
  {
   "cell_type": "markdown",
   "id": "11b8fcee",
   "metadata": {},
   "source": [
    "Чтобы проверить данную зависимость, построим сводную таблицу, которая будет содержать данные о заёмщиках, разбитые по различным категориям - количестве детей(**строки**) и наличию задолженности по возврату кредита(**столбцы**):"
   ]
  },
  {
   "cell_type": "code",
   "execution_count": 22,
   "id": "cb646467",
   "metadata": {
    "deletable": false,
    "id": "2cacfc4a"
   },
   "outputs": [
    {
     "data": {
      "text/html": [
       "<div>\n",
       "<style scoped>\n",
       "    .dataframe tbody tr th:only-of-type {\n",
       "        vertical-align: middle;\n",
       "    }\n",
       "\n",
       "    .dataframe tbody tr th {\n",
       "        vertical-align: top;\n",
       "    }\n",
       "\n",
       "    .dataframe thead th {\n",
       "        text-align: right;\n",
       "    }\n",
       "</style>\n",
       "<table border=\"1\" class=\"dataframe\">\n",
       "  <thead>\n",
       "    <tr style=\"text-align: right;\">\n",
       "      <th>debt</th>\n",
       "      <th>0</th>\n",
       "      <th>1</th>\n",
       "    </tr>\n",
       "    <tr>\n",
       "      <th>children</th>\n",
       "      <th></th>\n",
       "      <th></th>\n",
       "    </tr>\n",
       "  </thead>\n",
       "  <tbody>\n",
       "    <tr>\n",
       "      <th>0</th>\n",
       "      <td>13028</td>\n",
       "      <td>1063</td>\n",
       "    </tr>\n",
       "    <tr>\n",
       "      <th>1</th>\n",
       "      <td>4364</td>\n",
       "      <td>444</td>\n",
       "    </tr>\n",
       "    <tr>\n",
       "      <th>2</th>\n",
       "      <td>1858</td>\n",
       "      <td>194</td>\n",
       "    </tr>\n",
       "    <tr>\n",
       "      <th>3</th>\n",
       "      <td>303</td>\n",
       "      <td>27</td>\n",
       "    </tr>\n",
       "    <tr>\n",
       "      <th>4</th>\n",
       "      <td>37</td>\n",
       "      <td>4</td>\n",
       "    </tr>\n",
       "    <tr>\n",
       "      <th>5</th>\n",
       "      <td>9</td>\n",
       "      <td>0</td>\n",
       "    </tr>\n",
       "  </tbody>\n",
       "</table>\n",
       "</div>"
      ],
      "text/plain": [
       "debt          0     1\n",
       "children             \n",
       "0         13028  1063\n",
       "1          4364   444\n",
       "2          1858   194\n",
       "3           303    27\n",
       "4            37     4\n",
       "5             9     0"
      ]
     },
     "execution_count": 22,
     "metadata": {},
     "output_type": "execute_result"
    }
   ],
   "source": [
    "# Ваш код будет здесь. Вы можете создавать новые ячейки.\n",
    "children_impact = data.pivot_table(index='children',columns='debt',values='total_income',fill_value=0,aggfunc='count')\n",
    "children_impact"
   ]
  },
  {
   "cell_type": "markdown",
   "id": "44add2c0",
   "metadata": {},
   "source": [
    "Поскольку данных по заёмщикам, имеющих от трёх до пяти детей, в несколько раз меньше, чем по другим категориям, то результаты их статистической обработки будет некорректны. Для того, чтобы исправить это, приведём количественные данные к одному порядку, объединив информацию по заёмщикам, имеющих в семье более 1 ребёнка."
   ]
  },
  {
   "cell_type": "code",
   "execution_count": 23,
   "id": "fe760334",
   "metadata": {},
   "outputs": [],
   "source": [
    "data['children'] = data['children'].replace([2, 3, 4, 5], '2+')"
   ]
  },
  {
   "cell_type": "markdown",
   "id": "c6487873",
   "metadata": {},
   "source": [
    "Полученные данные соберём в сводную таблицу, дополнив их следующими значениями:\n",
    "* total - общее количество человек в данной категории;\n",
    "* no_debt_ratio - доля человек в категории без задолженности;\n",
    "* with_debt_ratio - доля заёмщиков просрочивших выплату задолженности.\n",
    "\n",
    "Итоговые результаты отсортируем в порядке убывания."
   ]
  },
  {
   "cell_type": "code",
   "execution_count": 24,
   "id": "56565b17",
   "metadata": {},
   "outputs": [
    {
     "data": {
      "text/html": [
       "<div>\n",
       "<style scoped>\n",
       "    .dataframe tbody tr th:only-of-type {\n",
       "        vertical-align: middle;\n",
       "    }\n",
       "\n",
       "    .dataframe tbody tr th {\n",
       "        vertical-align: top;\n",
       "    }\n",
       "\n",
       "    .dataframe thead th {\n",
       "        text-align: right;\n",
       "    }\n",
       "</style>\n",
       "<table border=\"1\" class=\"dataframe\">\n",
       "  <thead>\n",
       "    <tr style=\"text-align: right;\">\n",
       "      <th>debt</th>\n",
       "      <th>0</th>\n",
       "      <th>1</th>\n",
       "      <th>total</th>\n",
       "      <th>no_debt_ratio</th>\n",
       "      <th>with_debt_ratio</th>\n",
       "    </tr>\n",
       "    <tr>\n",
       "      <th>children</th>\n",
       "      <th></th>\n",
       "      <th></th>\n",
       "      <th></th>\n",
       "      <th></th>\n",
       "      <th></th>\n",
       "    </tr>\n",
       "  </thead>\n",
       "  <tbody>\n",
       "    <tr>\n",
       "      <th>2+</th>\n",
       "      <td>2207</td>\n",
       "      <td>225</td>\n",
       "      <td>2432</td>\n",
       "      <td>0.907484</td>\n",
       "      <td>0.092516</td>\n",
       "    </tr>\n",
       "    <tr>\n",
       "      <th>1</th>\n",
       "      <td>4364</td>\n",
       "      <td>444</td>\n",
       "      <td>4808</td>\n",
       "      <td>0.907654</td>\n",
       "      <td>0.092346</td>\n",
       "    </tr>\n",
       "    <tr>\n",
       "      <th>0</th>\n",
       "      <td>13028</td>\n",
       "      <td>1063</td>\n",
       "      <td>14091</td>\n",
       "      <td>0.924562</td>\n",
       "      <td>0.075438</td>\n",
       "    </tr>\n",
       "  </tbody>\n",
       "</table>\n",
       "</div>"
      ],
      "text/plain": [
       "debt          0     1  total  no_debt_ratio  with_debt_ratio\n",
       "children                                                    \n",
       "2+         2207   225   2432       0.907484         0.092516\n",
       "1          4364   444   4808       0.907654         0.092346\n",
       "0         13028  1063  14091       0.924562         0.075438"
      ]
     },
     "execution_count": 24,
     "metadata": {},
     "output_type": "execute_result"
    }
   ],
   "source": [
    "children_impact = data.pivot_table(index='children',columns='debt',values='total_income',aggfunc='count')\n",
    "children_impact['total'] = children_impact[0] + children_impact[1]\n",
    "children_impact['no_debt_ratio'] = children_impact[0] / children_impact['total']\n",
    "children_impact['with_debt_ratio'] = children_impact[1] / children_impact['total']\n",
    "children_impact.sort_values(by='with_debt_ratio', ascending=False)"
   ]
  },
  {
   "cell_type": "markdown",
   "id": "f7fe1e36",
   "metadata": {
    "deletable": false,
    "id": "3a6b99ec"
   },
   "source": [
    "**Вывод:** Согласно полученным данным, доля заёмщиков, имевших задолженности по кредиту не зависит от количества детей при их наличии и примерно на 1,7 % выше, чем у заёмщиков без детей. Отсюда следует, что должники без детей возвращают кредиты  в срок чаще."
   ]
  },
  {
   "cell_type": "markdown",
   "id": "795271c4",
   "metadata": {
    "deletable": false,
    "editable": false,
    "id": "97be82ca"
   },
   "source": [
    "#### 3.2 Есть ли зависимость между семейным положением и возвратом кредита в срок?"
   ]
  },
  {
   "cell_type": "markdown",
   "id": "949fb684",
   "metadata": {},
   "source": [
    "Устанавливать связь между переменными будем как и в прошлом пункте, используя в качестве строк таблицы данные о семейном положении заёмщиков **family_status**: "
   ]
  },
  {
   "cell_type": "code",
   "execution_count": 25,
   "id": "e1c5d714",
   "metadata": {
    "deletable": false,
    "id": "dc3f7ee8"
   },
   "outputs": [
    {
     "data": {
      "text/html": [
       "<div>\n",
       "<style scoped>\n",
       "    .dataframe tbody tr th:only-of-type {\n",
       "        vertical-align: middle;\n",
       "    }\n",
       "\n",
       "    .dataframe tbody tr th {\n",
       "        vertical-align: top;\n",
       "    }\n",
       "\n",
       "    .dataframe thead th {\n",
       "        text-align: right;\n",
       "    }\n",
       "</style>\n",
       "<table border=\"1\" class=\"dataframe\">\n",
       "  <thead>\n",
       "    <tr style=\"text-align: right;\">\n",
       "      <th>debt</th>\n",
       "      <th>0</th>\n",
       "      <th>1</th>\n",
       "    </tr>\n",
       "    <tr>\n",
       "      <th>family_status</th>\n",
       "      <th></th>\n",
       "      <th></th>\n",
       "    </tr>\n",
       "  </thead>\n",
       "  <tbody>\n",
       "    <tr>\n",
       "      <th>Не женат / не замужем</th>\n",
       "      <td>2523</td>\n",
       "      <td>273</td>\n",
       "    </tr>\n",
       "    <tr>\n",
       "      <th>в разводе</th>\n",
       "      <td>1105</td>\n",
       "      <td>84</td>\n",
       "    </tr>\n",
       "    <tr>\n",
       "      <th>вдовец / вдова</th>\n",
       "      <td>888</td>\n",
       "      <td>63</td>\n",
       "    </tr>\n",
       "    <tr>\n",
       "      <th>гражданский брак</th>\n",
       "      <td>3749</td>\n",
       "      <td>385</td>\n",
       "    </tr>\n",
       "    <tr>\n",
       "      <th>женат / замужем</th>\n",
       "      <td>11334</td>\n",
       "      <td>927</td>\n",
       "    </tr>\n",
       "  </tbody>\n",
       "</table>\n",
       "</div>"
      ],
      "text/plain": [
       "debt                       0    1\n",
       "family_status                    \n",
       "Не женат / не замужем   2523  273\n",
       "в разводе               1105   84\n",
       "вдовец / вдова           888   63\n",
       "гражданский брак        3749  385\n",
       "женат / замужем        11334  927"
      ]
     },
     "execution_count": 25,
     "metadata": {},
     "output_type": "execute_result"
    }
   ],
   "source": [
    "# Ваш код будет здесь. Вы можете создавать новые ячейки.\n",
    "family_status_impact = data.pivot_table(index='family_status',columns='debt',values='total_income',aggfunc='count')\n",
    "family_status_impact"
   ]
  },
  {
   "cell_type": "markdown",
   "id": "402331b7",
   "metadata": {},
   "source": [
    "В данном случае наименьшее количество опрошенных представлено в категориях 'в разводе' и 'вдовец / вдова', поэтому чтобы скорректировать итоговый результат и привести ответы к одному порядку, объединим эти категории в одну и обозначим её как\n",
    "'в разводе / лишились партнёра':"
   ]
  },
  {
   "cell_type": "code",
   "execution_count": 26,
   "id": "e78cab63",
   "metadata": {},
   "outputs": [
    {
     "data": {
      "text/html": [
       "<div>\n",
       "<style scoped>\n",
       "    .dataframe tbody tr th:only-of-type {\n",
       "        vertical-align: middle;\n",
       "    }\n",
       "\n",
       "    .dataframe tbody tr th {\n",
       "        vertical-align: top;\n",
       "    }\n",
       "\n",
       "    .dataframe thead th {\n",
       "        text-align: right;\n",
       "    }\n",
       "</style>\n",
       "<table border=\"1\" class=\"dataframe\">\n",
       "  <thead>\n",
       "    <tr style=\"text-align: right;\">\n",
       "      <th>debt</th>\n",
       "      <th>0</th>\n",
       "      <th>1</th>\n",
       "      <th>total</th>\n",
       "      <th>no_debt_ratio</th>\n",
       "      <th>with_debt_ratio</th>\n",
       "    </tr>\n",
       "    <tr>\n",
       "      <th>family_status</th>\n",
       "      <th></th>\n",
       "      <th></th>\n",
       "      <th></th>\n",
       "      <th></th>\n",
       "      <th></th>\n",
       "    </tr>\n",
       "  </thead>\n",
       "  <tbody>\n",
       "    <tr>\n",
       "      <th>Не женат / не замужем</th>\n",
       "      <td>2523</td>\n",
       "      <td>273</td>\n",
       "      <td>2796</td>\n",
       "      <td>0.902361</td>\n",
       "      <td>0.097639</td>\n",
       "    </tr>\n",
       "    <tr>\n",
       "      <th>гражданский брак</th>\n",
       "      <td>3749</td>\n",
       "      <td>385</td>\n",
       "      <td>4134</td>\n",
       "      <td>0.906870</td>\n",
       "      <td>0.093130</td>\n",
       "    </tr>\n",
       "    <tr>\n",
       "      <th>женат / замужем</th>\n",
       "      <td>11334</td>\n",
       "      <td>927</td>\n",
       "      <td>12261</td>\n",
       "      <td>0.924394</td>\n",
       "      <td>0.075606</td>\n",
       "    </tr>\n",
       "    <tr>\n",
       "      <th>в разводе / лишились партнёра</th>\n",
       "      <td>1993</td>\n",
       "      <td>147</td>\n",
       "      <td>2140</td>\n",
       "      <td>0.931308</td>\n",
       "      <td>0.068692</td>\n",
       "    </tr>\n",
       "  </tbody>\n",
       "</table>\n",
       "</div>"
      ],
      "text/plain": [
       "debt                               0    1  total  no_debt_ratio  \\\n",
       "family_status                                                     \n",
       "Не женат / не замужем           2523  273   2796       0.902361   \n",
       "гражданский брак                3749  385   4134       0.906870   \n",
       "женат / замужем                11334  927  12261       0.924394   \n",
       "в разводе / лишились партнёра   1993  147   2140       0.931308   \n",
       "\n",
       "debt                           with_debt_ratio  \n",
       "family_status                                   \n",
       "Не женат / не замужем                 0.097639  \n",
       "гражданский брак                      0.093130  \n",
       "женат / замужем                       0.075606  \n",
       "в разводе / лишились партнёра         0.068692  "
      ]
     },
     "execution_count": 26,
     "metadata": {},
     "output_type": "execute_result"
    }
   ],
   "source": [
    "data['family_status'] = data['family_status'].replace(['в разводе', 'вдовец / вдова'], 'в разводе / лишились партнёра')\n",
    "family_status_impact = data.pivot_table(index='family_status',columns='debt',values='total_income',aggfunc='count')\n",
    "family_status_impact['total'] = family_status_impact[0] + family_status_impact[1]\n",
    "family_status_impact['no_debt_ratio'] = family_status_impact[0] / family_status_impact['total']\n",
    "family_status_impact['with_debt_ratio'] = family_status_impact[1] / family_status_impact['total']\n",
    "family_status_impact.sort_values(by='with_debt_ratio', ascending=False)"
   ]
  },
  {
   "cell_type": "markdown",
   "id": "a77c9e44",
   "metadata": {
    "deletable": false,
    "id": "1cef7837"
   },
   "source": [
    "**Вывод:** Задержки выплат по кредитам чаще наблюдаются у людей, которые находятся в гражданском браке или не имеют зарегистрированных отношений, доля таких должников составляет больше 9 % от общего числа в своих категориях. В то же время, большая доля своевременных выплат наблюдается у заёмщиков, находящихся в разводе или лишившихся на данных момент партнёра."
   ]
  },
  {
   "cell_type": "markdown",
   "id": "e8a56bbd",
   "metadata": {
    "deletable": false,
    "editable": false,
    "id": "1e8b2fca"
   },
   "source": [
    "#### 3.3 Есть ли зависимость между уровнем дохода и возвратом кредита в срок?"
   ]
  },
  {
   "cell_type": "markdown",
   "id": "023a9b9d",
   "metadata": {},
   "source": [
    "Аналогично предыдущим пунктам, предварительно оценим объём выборки, проведём при необходимости преобразования и определим требуемое влияние уровня дохода на возврат кредита в срок."
   ]
  },
  {
   "cell_type": "code",
   "execution_count": 27,
   "id": "49bf2b86",
   "metadata": {
    "deletable": false,
    "id": "cd7e3720",
    "scrolled": true
   },
   "outputs": [
    {
     "data": {
      "text/html": [
       "<div>\n",
       "<style scoped>\n",
       "    .dataframe tbody tr th:only-of-type {\n",
       "        vertical-align: middle;\n",
       "    }\n",
       "\n",
       "    .dataframe tbody tr th {\n",
       "        vertical-align: top;\n",
       "    }\n",
       "\n",
       "    .dataframe thead th {\n",
       "        text-align: right;\n",
       "    }\n",
       "</style>\n",
       "<table border=\"1\" class=\"dataframe\">\n",
       "  <thead>\n",
       "    <tr style=\"text-align: right;\">\n",
       "      <th>debt</th>\n",
       "      <th>0</th>\n",
       "      <th>1</th>\n",
       "    </tr>\n",
       "    <tr>\n",
       "      <th>total_income_category</th>\n",
       "      <th></th>\n",
       "      <th></th>\n",
       "    </tr>\n",
       "  </thead>\n",
       "  <tbody>\n",
       "    <tr>\n",
       "      <th>A</th>\n",
       "      <td>23</td>\n",
       "      <td>2</td>\n",
       "    </tr>\n",
       "    <tr>\n",
       "      <th>B</th>\n",
       "      <td>4660</td>\n",
       "      <td>354</td>\n",
       "    </tr>\n",
       "    <tr>\n",
       "      <th>C</th>\n",
       "      <td>14568</td>\n",
       "      <td>1353</td>\n",
       "    </tr>\n",
       "    <tr>\n",
       "      <th>D</th>\n",
       "      <td>328</td>\n",
       "      <td>21</td>\n",
       "    </tr>\n",
       "    <tr>\n",
       "      <th>E</th>\n",
       "      <td>20</td>\n",
       "      <td>2</td>\n",
       "    </tr>\n",
       "  </tbody>\n",
       "</table>\n",
       "</div>"
      ],
      "text/plain": [
       "debt                       0     1\n",
       "total_income_category             \n",
       "A                         23     2\n",
       "B                       4660   354\n",
       "C                      14568  1353\n",
       "D                        328    21\n",
       "E                         20     2"
      ]
     },
     "execution_count": 27,
     "metadata": {},
     "output_type": "execute_result"
    }
   ],
   "source": [
    "# Ваш код будет здесь. Вы можете создавать новые ячейки.\n",
    "income_level = data.pivot_table(index='total_income_category',columns='debt',values='total_income',aggfunc='count')\n",
    "income_level"
   ]
  },
  {
   "cell_type": "markdown",
   "id": "79b47a03",
   "metadata": {},
   "source": [
    "Как видно из полученной таблицы, по сравнению с остальными категориями группы **A, D** и **E** обладают недостаточным числом данных, поэтому в данном случае сгруппируем только **A** и **B**, а **D** и **E** на недостатком данных рассматривать не будем:"
   ]
  },
  {
   "cell_type": "code",
   "execution_count": 28,
   "id": "92bbeab8",
   "metadata": {},
   "outputs": [],
   "source": [
    "data['total_income_category'] = data['total_income_category'].replace({'A': 'A-B', 'B':'A-B','D': 'D-E','E': 'D-E'})\n",
    "data_for_level = data[data['total_income_category'] != 'D-E']"
   ]
  },
  {
   "cell_type": "markdown",
   "id": "5842acd9",
   "metadata": {},
   "source": [
    "Исключив из расчёта эти категории, можно приступать к оформлению результатов:"
   ]
  },
  {
   "cell_type": "code",
   "execution_count": 29,
   "id": "7a14557e",
   "metadata": {},
   "outputs": [
    {
     "data": {
      "text/html": [
       "<div>\n",
       "<style scoped>\n",
       "    .dataframe tbody tr th:only-of-type {\n",
       "        vertical-align: middle;\n",
       "    }\n",
       "\n",
       "    .dataframe tbody tr th {\n",
       "        vertical-align: top;\n",
       "    }\n",
       "\n",
       "    .dataframe thead th {\n",
       "        text-align: right;\n",
       "    }\n",
       "</style>\n",
       "<table border=\"1\" class=\"dataframe\">\n",
       "  <thead>\n",
       "    <tr style=\"text-align: right;\">\n",
       "      <th>debt</th>\n",
       "      <th>0</th>\n",
       "      <th>1</th>\n",
       "      <th>total</th>\n",
       "      <th>no_debt_ratio</th>\n",
       "      <th>with_debt_ratio</th>\n",
       "    </tr>\n",
       "    <tr>\n",
       "      <th>total_income_category</th>\n",
       "      <th></th>\n",
       "      <th></th>\n",
       "      <th></th>\n",
       "      <th></th>\n",
       "      <th></th>\n",
       "    </tr>\n",
       "  </thead>\n",
       "  <tbody>\n",
       "    <tr>\n",
       "      <th>C</th>\n",
       "      <td>14568</td>\n",
       "      <td>1353</td>\n",
       "      <td>15921</td>\n",
       "      <td>0.915018</td>\n",
       "      <td>0.084982</td>\n",
       "    </tr>\n",
       "    <tr>\n",
       "      <th>A-B</th>\n",
       "      <td>4683</td>\n",
       "      <td>356</td>\n",
       "      <td>5039</td>\n",
       "      <td>0.929351</td>\n",
       "      <td>0.070649</td>\n",
       "    </tr>\n",
       "  </tbody>\n",
       "</table>\n",
       "</div>"
      ],
      "text/plain": [
       "debt                       0     1  total  no_debt_ratio  with_debt_ratio\n",
       "total_income_category                                                    \n",
       "C                      14568  1353  15921       0.915018         0.084982\n",
       "A-B                     4683   356   5039       0.929351         0.070649"
      ]
     },
     "execution_count": 29,
     "metadata": {},
     "output_type": "execute_result"
    }
   ],
   "source": [
    "income_level = data_for_level.pivot_table(index='total_income_category',columns='debt',\n",
    "                                          values='total_income',aggfunc='count')\n",
    "income_level['total'] = income_level[0] + income_level[1]\n",
    "income_level['no_debt_ratio'] = income_level[0] / income_level['total']\n",
    "income_level['with_debt_ratio'] = income_level[1] / income_level['total']\n",
    "income_level.sort_values(by='with_debt_ratio', ascending=False)"
   ]
  },
  {
   "cell_type": "markdown",
   "id": "1f8eb14d",
   "metadata": {
    "deletable": false,
    "id": "e8593def"
   },
   "source": [
    "**Вывод(V2):** Высокая тенденция к просрочке долгов наблюдается в категории **С** c доходом от 50 до 200 тыс.рублей ~ 8.5 %, далее идут должники с доходами более 200 тыс.рублей из категории **A-B** ~ 7 %. По результатам можно отметить, что категории с доходом меньше 50000 - **D-E**, составляют наименьшую часть от всех данных и отличаются от остальных на 1-2 порядка, поэтому их обработка совместно с остальными категориями приведёт к статистически некорректным результатам. Чтобы это исправить, необходимо собрать больше данных в рамках этих категорий. "
   ]
  },
  {
   "cell_type": "markdown",
   "id": "04674f6b",
   "metadata": {
    "deletable": false,
    "editable": false,
    "id": "99ecbd1f"
   },
   "source": [
    "#### 3.4 Как разные цели кредита влияют на его возврат в срок?"
   ]
  },
  {
   "cell_type": "markdown",
   "id": "fa48ed67",
   "metadata": {},
   "source": [
    "Аналогичным способом проведём расчёты для данного случая."
   ]
  },
  {
   "cell_type": "code",
   "execution_count": 30,
   "id": "b428be3c",
   "metadata": {
    "deletable": false,
    "id": "2b687290",
    "scrolled": true
   },
   "outputs": [
    {
     "data": {
      "text/html": [
       "<div>\n",
       "<style scoped>\n",
       "    .dataframe tbody tr th:only-of-type {\n",
       "        vertical-align: middle;\n",
       "    }\n",
       "\n",
       "    .dataframe tbody tr th {\n",
       "        vertical-align: top;\n",
       "    }\n",
       "\n",
       "    .dataframe thead th {\n",
       "        text-align: right;\n",
       "    }\n",
       "</style>\n",
       "<table border=\"1\" class=\"dataframe\">\n",
       "  <thead>\n",
       "    <tr style=\"text-align: right;\">\n",
       "      <th>debt</th>\n",
       "      <th>0</th>\n",
       "      <th>1</th>\n",
       "    </tr>\n",
       "    <tr>\n",
       "      <th>purpose_category</th>\n",
       "      <th></th>\n",
       "      <th></th>\n",
       "    </tr>\n",
       "  </thead>\n",
       "  <tbody>\n",
       "    <tr>\n",
       "      <th>операции с автомобилем</th>\n",
       "      <td>3879</td>\n",
       "      <td>400</td>\n",
       "    </tr>\n",
       "    <tr>\n",
       "      <th>операции с недвижимостью</th>\n",
       "      <td>9971</td>\n",
       "      <td>780</td>\n",
       "    </tr>\n",
       "    <tr>\n",
       "      <th>получение образования</th>\n",
       "      <td>3619</td>\n",
       "      <td>369</td>\n",
       "    </tr>\n",
       "    <tr>\n",
       "      <th>проведение свадьбы</th>\n",
       "      <td>2130</td>\n",
       "      <td>183</td>\n",
       "    </tr>\n",
       "  </tbody>\n",
       "</table>\n",
       "</div>"
      ],
      "text/plain": [
       "debt                         0    1\n",
       "purpose_category                   \n",
       "операции с автомобилем    3879  400\n",
       "операции с недвижимостью  9971  780\n",
       "получение образования     3619  369\n",
       "проведение свадьбы        2130  183"
      ]
     },
     "execution_count": 30,
     "metadata": {},
     "output_type": "execute_result"
    }
   ],
   "source": [
    "# Ваш код будет здесь. Вы можете создавать новые ячейки.\n",
    "credit_purpose = data.pivot_table(index='purpose_category',columns='debt',values='total_income',aggfunc='count')\n",
    "credit_purpose"
   ]
  },
  {
   "cell_type": "markdown",
   "id": "174274f3",
   "metadata": {},
   "source": [
    "Поскольку в данном случае количество данных во всех категориях сопоставимо между собой, то проводить расчёты можно без их видоизменений."
   ]
  },
  {
   "cell_type": "code",
   "execution_count": 31,
   "id": "70ce12a2",
   "metadata": {},
   "outputs": [
    {
     "data": {
      "text/html": [
       "<div>\n",
       "<style scoped>\n",
       "    .dataframe tbody tr th:only-of-type {\n",
       "        vertical-align: middle;\n",
       "    }\n",
       "\n",
       "    .dataframe tbody tr th {\n",
       "        vertical-align: top;\n",
       "    }\n",
       "\n",
       "    .dataframe thead th {\n",
       "        text-align: right;\n",
       "    }\n",
       "</style>\n",
       "<table border=\"1\" class=\"dataframe\">\n",
       "  <thead>\n",
       "    <tr style=\"text-align: right;\">\n",
       "      <th>debt</th>\n",
       "      <th>0</th>\n",
       "      <th>1</th>\n",
       "      <th>total</th>\n",
       "      <th>no_debt_ratio</th>\n",
       "      <th>with_debt_ratio</th>\n",
       "    </tr>\n",
       "    <tr>\n",
       "      <th>purpose_category</th>\n",
       "      <th></th>\n",
       "      <th></th>\n",
       "      <th></th>\n",
       "      <th></th>\n",
       "      <th></th>\n",
       "    </tr>\n",
       "  </thead>\n",
       "  <tbody>\n",
       "    <tr>\n",
       "      <th>операции с автомобилем</th>\n",
       "      <td>3879</td>\n",
       "      <td>400</td>\n",
       "      <td>4279</td>\n",
       "      <td>0.906520</td>\n",
       "      <td>0.093480</td>\n",
       "    </tr>\n",
       "    <tr>\n",
       "      <th>получение образования</th>\n",
       "      <td>3619</td>\n",
       "      <td>369</td>\n",
       "      <td>3988</td>\n",
       "      <td>0.907472</td>\n",
       "      <td>0.092528</td>\n",
       "    </tr>\n",
       "    <tr>\n",
       "      <th>проведение свадьбы</th>\n",
       "      <td>2130</td>\n",
       "      <td>183</td>\n",
       "      <td>2313</td>\n",
       "      <td>0.920882</td>\n",
       "      <td>0.079118</td>\n",
       "    </tr>\n",
       "    <tr>\n",
       "      <th>операции с недвижимостью</th>\n",
       "      <td>9971</td>\n",
       "      <td>780</td>\n",
       "      <td>10751</td>\n",
       "      <td>0.927449</td>\n",
       "      <td>0.072551</td>\n",
       "    </tr>\n",
       "  </tbody>\n",
       "</table>\n",
       "</div>"
      ],
      "text/plain": [
       "debt                         0    1  total  no_debt_ratio  with_debt_ratio\n",
       "purpose_category                                                          \n",
       "операции с автомобилем    3879  400   4279       0.906520         0.093480\n",
       "получение образования     3619  369   3988       0.907472         0.092528\n",
       "проведение свадьбы        2130  183   2313       0.920882         0.079118\n",
       "операции с недвижимостью  9971  780  10751       0.927449         0.072551"
      ]
     },
     "execution_count": 31,
     "metadata": {},
     "output_type": "execute_result"
    }
   ],
   "source": [
    "credit_purpose['total'] = credit_purpose[0] + credit_purpose[1]\n",
    "credit_purpose['no_debt_ratio'] = credit_purpose[0] / credit_purpose['total']\n",
    "credit_purpose['with_debt_ratio'] = credit_purpose[1] / credit_purpose['total']\n",
    "credit_purpose.sort_values(by='with_debt_ratio', ascending=False)"
   ]
  },
  {
   "cell_type": "markdown",
   "id": "51d5233e",
   "metadata": {
    "deletable": false,
    "id": "b4bb2ce6"
   },
   "source": [
    "**Вывод:** Выплату кредита в срок чаще всего обеспечивают клиенты, оформляющие его для проведения операций с **недвижимостью** или **свадьбы**, в то время как большая часть должников тратятся на **автомобиль** или **получение образования**. Доля таких клиентов примерно одинакова и составляет чуть больше 9 % в рамках своей категории. "
   ]
  },
  {
   "cell_type": "markdown",
   "id": "e9ce76ad",
   "metadata": {
    "deletable": false,
    "editable": false,
    "id": "09c3ac4c"
   },
   "source": [
    "#### 3.5 Приведите возможные причины появления пропусков в исходных данных."
   ]
  },
  {
   "cell_type": "markdown",
   "id": "177b7680",
   "metadata": {
    "deletable": false,
    "id": "9da2ceda"
   },
   "source": [
    "*Ответ:* Пропуски в данных наблюдались в столбцах **total_income** и **days_employed**, причинами их наличия могут быть следующие:\n",
    "1. *Человеческий фактор* - данные забыли внести при заполнении случайно или намеренно.\n",
    "2. *Технические проблемы* - ошибки при выгрузке данных с сервера или из файла, а также сбои при его заполнении.\n",
    "3. Поскольку данные затрагивают доходы и трудовой стаж клиентов, то они могли намеренно о них не распространяться."
   ]
  },
  {
   "cell_type": "markdown",
   "id": "f896de63",
   "metadata": {
    "deletable": false,
    "editable": false,
    "id": "7b0487d6"
   },
   "source": [
    "#### 3.6 Объясните, почему заполнить пропуски медианным значением — лучшее решение для количественных переменных."
   ]
  },
  {
   "cell_type": "markdown",
   "id": "1318d6a1",
   "metadata": {
    "deletable": false,
    "id": "7ecf2b8e"
   },
   "source": [
    "*Ответ:* Медианные значения лучше всего подходят для расчёта метрик количественных переменных, поскольку они в отличии от среднего значения позволяют избежать некорректных результатов в данных, среди которых наблюдаются аномальные значения."
   ]
  },
  {
   "cell_type": "markdown",
   "id": "004be8e7",
   "metadata": {
    "deletable": false,
    "editable": false,
    "id": "6db5255a"
   },
   "source": [
    "### Шаг 4: общий вывод."
   ]
  },
  {
   "cell_type": "markdown",
   "id": "0eceedb7",
   "metadata": {
    "deletable": false,
    "id": "bad65432"
   },
   "source": [
    "В рамках данного исследования был проведён обзор данных о надёжности заёмщиков, проведена предобработка значений с целью исключения пропусков и устранения некорректных данных, и приведению их к виду, позволяющему рассчитать требуемые метрики. Также была установлена степень влияния различных факторов на возврат кредита в срок:\n",
    "1. ***Количество детей:*** Анализ показал, что люди, не имеющие детей возвращают кредит в срок чаще, чем те, у кого они есть. Также было установлено, что доля должников, имеющих от 1 до 5 детей примерно одинакова, следовательно существенно не количество детей клиентов, а их наличие.\n",
    "2. ***Семейное положение:*** Своевременно возвращают кредиты люди, находящиеся в браке или овдовевшие/разведённые на данный момент, в то время как клиенты, состоящие в гражданском браке или без парнёра делают это реже.\n",
    "3. ***Уровень дохода:*** Клиенты с высоким/очень высоким уровнем дохода возвращают кредит в срок чаще, чем люди со средним доходом. При этом группа клиентов с уровнем дохода ниже среднего и низким была исключена из расчёта, ввиду малого количества информации по сравнению с остальными категориями.\n",
    "4. ***Цель получения кредита:*** Кредиты на операции с недвижимостью и проведение свадьбы чаще сопровождаются своевременным его погашением, чем те, которые были оформлены для получения образования и проведения операций с авто.\n",
    "\n",
    "    Несмотря на большое количество предоставленных данных, их качество трудно назвать хорошим, поскольку имеют место пропуски, ошибки, аномальные значения, однако существенней всего оказалось неравномерное распределенние данных по всем категориям, кроме целей получения кредита."
   ]
  },
  {
   "cell_type": "code",
   "execution_count": null,
   "id": "334d7313",
   "metadata": {},
   "outputs": [],
   "source": []
  }
 ],
 "metadata": {
  "ExecuteTimeLog": [
   {
    "duration": 53,
    "start_time": "2022-09-16T14:36:28.966Z"
   },
   {
    "duration": 717,
    "start_time": "2022-09-16T14:36:46.377Z"
   },
   {
    "duration": 21,
    "start_time": "2022-09-16T14:36:47.096Z"
   },
   {
    "duration": 16,
    "start_time": "2022-09-16T14:36:47.118Z"
   },
   {
    "duration": 9,
    "start_time": "2022-09-16T14:36:47.136Z"
   },
   {
    "duration": 46,
    "start_time": "2022-09-16T14:36:47.147Z"
   },
   {
    "duration": 2,
    "start_time": "2022-09-16T14:36:47.195Z"
   },
   {
    "duration": 16,
    "start_time": "2022-09-16T14:36:47.199Z"
   },
   {
    "duration": 9,
    "start_time": "2022-09-16T14:36:47.217Z"
   },
   {
    "duration": 8,
    "start_time": "2022-09-16T14:36:47.229Z"
   },
   {
    "duration": 13,
    "start_time": "2022-09-16T14:36:47.240Z"
   },
   {
    "duration": 40,
    "start_time": "2022-09-16T14:36:47.255Z"
   },
   {
    "duration": 9,
    "start_time": "2022-09-16T14:36:47.297Z"
   },
   {
    "duration": 12,
    "start_time": "2022-09-16T14:36:47.308Z"
   },
   {
    "duration": 15,
    "start_time": "2022-09-16T14:36:47.321Z"
   },
   {
    "duration": 39,
    "start_time": "2022-09-16T14:36:47.337Z"
   },
   {
    "duration": 23,
    "start_time": "2022-09-16T14:36:47.379Z"
   },
   {
    "duration": 5,
    "start_time": "2022-09-16T14:36:47.403Z"
   },
   {
    "duration": 29,
    "start_time": "2022-09-16T14:36:47.410Z"
   },
   {
    "duration": 21,
    "start_time": "2022-09-16T14:36:47.441Z"
   },
   {
    "duration": 5,
    "start_time": "2022-09-16T14:36:47.464Z"
   },
   {
    "duration": 29,
    "start_time": "2022-09-16T14:36:47.471Z"
   },
   {
    "duration": 9,
    "start_time": "2022-09-16T14:36:47.502Z"
   },
   {
    "duration": 4,
    "start_time": "2022-09-16T14:36:47.513Z"
   },
   {
    "duration": 19,
    "start_time": "2022-09-16T14:36:47.518Z"
   },
   {
    "duration": 11,
    "start_time": "2022-09-16T14:36:47.539Z"
   },
   {
    "duration": 5,
    "start_time": "2022-09-16T14:37:38.922Z"
   },
   {
    "duration": 5,
    "start_time": "2022-09-16T14:39:28.393Z"
   },
   {
    "duration": 7,
    "start_time": "2022-09-16T14:40:08.799Z"
   },
   {
    "duration": 8,
    "start_time": "2022-09-16T14:45:36.752Z"
   },
   {
    "duration": 22,
    "start_time": "2022-09-16T14:45:47.865Z"
   },
   {
    "duration": 6,
    "start_time": "2022-09-16T14:46:46.527Z"
   },
   {
    "duration": 7,
    "start_time": "2022-09-16T14:46:51.150Z"
   },
   {
    "duration": 7,
    "start_time": "2022-09-16T14:46:59.902Z"
   },
   {
    "duration": 4,
    "start_time": "2022-09-16T14:49:04.501Z"
   },
   {
    "duration": 12,
    "start_time": "2022-09-16T14:50:53.156Z"
   },
   {
    "duration": 11,
    "start_time": "2022-09-16T14:51:46.801Z"
   },
   {
    "duration": 70,
    "start_time": "2022-09-16T14:52:40.188Z"
   },
   {
    "duration": 10,
    "start_time": "2022-09-16T14:52:48.268Z"
   },
   {
    "duration": 9,
    "start_time": "2022-09-16T14:52:53.940Z"
   },
   {
    "duration": 16,
    "start_time": "2022-09-16T14:53:16.414Z"
   },
   {
    "duration": 21,
    "start_time": "2022-09-16T14:54:01.991Z"
   },
   {
    "duration": 12,
    "start_time": "2022-09-16T14:54:12.972Z"
   },
   {
    "duration": 6,
    "start_time": "2022-09-16T14:56:04.844Z"
   },
   {
    "duration": 6,
    "start_time": "2022-09-16T14:56:14.218Z"
   },
   {
    "duration": 7,
    "start_time": "2022-09-16T14:56:22.724Z"
   },
   {
    "duration": 8,
    "start_time": "2022-09-16T14:56:35.794Z"
   },
   {
    "duration": 11,
    "start_time": "2022-09-16T15:00:36.170Z"
   },
   {
    "duration": 11,
    "start_time": "2022-09-16T15:00:47.122Z"
   },
   {
    "duration": 13,
    "start_time": "2022-09-16T15:00:51.754Z"
   },
   {
    "duration": 11,
    "start_time": "2022-09-16T15:01:59.851Z"
   },
   {
    "duration": 10,
    "start_time": "2022-09-16T15:02:06.409Z"
   },
   {
    "duration": 8,
    "start_time": "2022-09-16T15:02:24.538Z"
   },
   {
    "duration": 14,
    "start_time": "2022-09-16T15:03:38.649Z"
   },
   {
    "duration": 6,
    "start_time": "2022-09-16T15:04:00.617Z"
   },
   {
    "duration": 7,
    "start_time": "2022-09-16T15:04:08.639Z"
   },
   {
    "duration": 7,
    "start_time": "2022-09-16T15:04:19.512Z"
   },
   {
    "duration": 8,
    "start_time": "2022-09-16T15:04:24.024Z"
   },
   {
    "duration": 78,
    "start_time": "2022-09-16T15:04:32.800Z"
   },
   {
    "duration": 7,
    "start_time": "2022-09-16T15:04:45.224Z"
   },
   {
    "duration": 20,
    "start_time": "2022-09-16T15:05:47.217Z"
   },
   {
    "duration": 12,
    "start_time": "2022-09-16T15:06:09.688Z"
   },
   {
    "duration": 13,
    "start_time": "2022-09-16T15:06:27.582Z"
   },
   {
    "duration": 10,
    "start_time": "2022-09-16T15:06:36.807Z"
   },
   {
    "duration": 11,
    "start_time": "2022-09-16T15:06:42.695Z"
   },
   {
    "duration": 6,
    "start_time": "2022-09-16T15:13:23.559Z"
   },
   {
    "duration": 10,
    "start_time": "2022-09-16T15:13:56.570Z"
   },
   {
    "duration": 12,
    "start_time": "2022-09-16T15:14:04.237Z"
   },
   {
    "duration": 11,
    "start_time": "2022-09-16T15:25:26.031Z"
   },
   {
    "duration": 19,
    "start_time": "2022-09-16T15:25:36.450Z"
   },
   {
    "duration": 13,
    "start_time": "2022-09-16T15:36:42.450Z"
   },
   {
    "duration": 11,
    "start_time": "2022-09-16T15:37:34.492Z"
   },
   {
    "duration": 1020,
    "start_time": "2022-09-16T15:38:59.699Z"
   },
   {
    "duration": 8,
    "start_time": "2022-09-16T15:39:25.759Z"
   },
   {
    "duration": 11,
    "start_time": "2022-09-16T15:39:35.602Z"
   },
   {
    "duration": 13,
    "start_time": "2022-09-16T15:40:09.964Z"
   },
   {
    "duration": 6,
    "start_time": "2022-09-16T15:40:32.779Z"
   },
   {
    "duration": 83,
    "start_time": "2022-09-16T15:40:39.923Z"
   },
   {
    "duration": 21,
    "start_time": "2022-09-16T15:40:49.369Z"
   },
   {
    "duration": 10,
    "start_time": "2022-09-16T15:41:00.915Z"
   },
   {
    "duration": 16,
    "start_time": "2022-09-16T15:41:18.395Z"
   },
   {
    "duration": 12,
    "start_time": "2022-09-16T15:41:23.930Z"
   },
   {
    "duration": 15,
    "start_time": "2022-09-16T15:41:47.883Z"
   },
   {
    "duration": 15,
    "start_time": "2022-09-16T15:41:55.979Z"
   },
   {
    "duration": 19,
    "start_time": "2022-09-16T15:45:21.154Z"
   },
   {
    "duration": 11,
    "start_time": "2022-09-16T15:45:37.489Z"
   },
   {
    "duration": 14,
    "start_time": "2022-09-16T15:45:45.017Z"
   },
   {
    "duration": 11,
    "start_time": "2022-09-16T15:45:50.201Z"
   },
   {
    "duration": 18,
    "start_time": "2022-09-16T15:46:05.585Z"
   },
   {
    "duration": 12,
    "start_time": "2022-09-16T15:46:33.978Z"
   },
   {
    "duration": 12,
    "start_time": "2022-09-16T15:49:14.592Z"
   },
   {
    "duration": 11,
    "start_time": "2022-09-16T15:49:20.183Z"
   },
   {
    "duration": 13,
    "start_time": "2022-09-16T15:49:25.591Z"
   },
   {
    "duration": 12,
    "start_time": "2022-09-16T15:49:30.833Z"
   },
   {
    "duration": 14,
    "start_time": "2022-09-16T15:50:07.360Z"
   },
   {
    "duration": 24,
    "start_time": "2022-09-16T15:55:36.409Z"
   },
   {
    "duration": 15,
    "start_time": "2022-09-16T15:56:41.940Z"
   },
   {
    "duration": 14,
    "start_time": "2022-09-16T15:58:56.989Z"
   },
   {
    "duration": 24,
    "start_time": "2022-09-16T15:59:58.163Z"
   },
   {
    "duration": 17,
    "start_time": "2022-09-16T16:00:50.808Z"
   },
   {
    "duration": 17,
    "start_time": "2022-09-16T16:02:01.730Z"
   },
   {
    "duration": 16,
    "start_time": "2022-09-16T16:02:08.419Z"
   },
   {
    "duration": 26,
    "start_time": "2022-09-16T16:03:43.282Z"
   },
   {
    "duration": 9,
    "start_time": "2022-09-16T16:04:52.266Z"
   },
   {
    "duration": 17,
    "start_time": "2022-09-16T16:05:50.674Z"
   },
   {
    "duration": 16,
    "start_time": "2022-09-16T16:07:00.370Z"
   },
   {
    "duration": 2341,
    "start_time": "2022-09-16T16:09:23.702Z"
   },
   {
    "duration": 1718,
    "start_time": "2022-09-16T16:09:31.720Z"
   },
   {
    "duration": 16,
    "start_time": "2022-09-16T16:09:37.321Z"
   },
   {
    "duration": 17,
    "start_time": "2022-09-16T16:13:19.854Z"
   },
   {
    "duration": 17,
    "start_time": "2022-09-16T16:13:28.167Z"
   },
   {
    "duration": 811,
    "start_time": "2022-09-16T16:13:37.206Z"
   },
   {
    "duration": 1868,
    "start_time": "2022-09-16T16:13:44.847Z"
   },
   {
    "duration": 17,
    "start_time": "2022-09-16T16:13:54.811Z"
   },
   {
    "duration": 14,
    "start_time": "2022-09-16T16:14:07.382Z"
   },
   {
    "duration": 20,
    "start_time": "2022-09-16T16:15:13.700Z"
   },
   {
    "duration": 19,
    "start_time": "2022-09-16T16:24:17.033Z"
   },
   {
    "duration": 9,
    "start_time": "2022-09-16T16:48:43.841Z"
   },
   {
    "duration": 12,
    "start_time": "2022-09-16T16:50:26.671Z"
   },
   {
    "duration": 10,
    "start_time": "2022-09-16T16:50:30.680Z"
   },
   {
    "duration": 16,
    "start_time": "2022-09-16T16:50:37.265Z"
   },
   {
    "duration": 14,
    "start_time": "2022-09-16T17:11:36.903Z"
   },
   {
    "duration": 13,
    "start_time": "2022-09-16T17:11:43.487Z"
   },
   {
    "duration": 1965,
    "start_time": "2022-09-16T17:11:47.638Z"
   },
   {
    "duration": 14,
    "start_time": "2022-09-16T17:11:53.783Z"
   },
   {
    "duration": 15,
    "start_time": "2022-09-16T17:12:26.280Z"
   },
   {
    "duration": 18,
    "start_time": "2022-09-16T17:12:37.815Z"
   },
   {
    "duration": 30,
    "start_time": "2022-09-16T17:13:04.056Z"
   },
   {
    "duration": 18,
    "start_time": "2022-09-16T17:13:32.639Z"
   },
   {
    "duration": 19,
    "start_time": "2022-09-16T17:13:58.229Z"
   },
   {
    "duration": 18,
    "start_time": "2022-09-16T17:14:12.271Z"
   },
   {
    "duration": 16,
    "start_time": "2022-09-16T17:15:12.704Z"
   },
   {
    "duration": 14,
    "start_time": "2022-09-16T17:15:23.445Z"
   },
   {
    "duration": 16,
    "start_time": "2022-09-16T17:15:28.397Z"
   },
   {
    "duration": 998,
    "start_time": "2022-09-16T17:20:10.634Z"
   },
   {
    "duration": 913,
    "start_time": "2022-09-16T17:21:22.204Z"
   },
   {
    "duration": 863,
    "start_time": "2022-09-16T17:21:33.677Z"
   },
   {
    "duration": 22,
    "start_time": "2022-09-16T17:21:39.637Z"
   },
   {
    "duration": 22,
    "start_time": "2022-09-16T17:21:51.395Z"
   },
   {
    "duration": 167,
    "start_time": "2022-09-18T15:39:45.315Z"
   }
  ],
  "colab": {
   "name": "dpp_template_part2.ipynb",
   "provenance": []
  },
  "kernelspec": {
   "display_name": "Python 3 (ipykernel)",
   "language": "python",
   "name": "python3"
  },
  "language_info": {
   "codemirror_mode": {
    "name": "ipython",
    "version": 3
   },
   "file_extension": ".py",
   "mimetype": "text/x-python",
   "name": "python",
   "nbconvert_exporter": "python",
   "pygments_lexer": "ipython3",
   "version": "3.10.9"
  },
  "toc": {
   "base_numbering": 1,
   "nav_menu": {},
   "number_sections": true,
   "sideBar": true,
   "skip_h1_title": true,
   "title_cell": "Table of Contents",
   "title_sidebar": "Contents",
   "toc_cell": false,
   "toc_position": {},
   "toc_section_display": true,
   "toc_window_display": false
  }
 },
 "nbformat": 4,
 "nbformat_minor": 5
}
